{
 "cells": [
  {
   "cell_type": "code",
   "execution_count": 1,
   "id": "35ccd132",
   "metadata": {},
   "outputs": [],
   "source": [
    "import pandas as pd\n",
    "import numpy as np\n",
    "import smogn\n",
    "from sklearn.metrics import confusion_matrix,accuracy_score,r2_score,roc_auc_score,precision_score,recall_score,f1_score"
   ]
  },
  {
   "cell_type": "code",
   "execution_count": 2,
   "id": "3fe7502a",
   "metadata": {},
   "outputs": [
    {
     "name": "stderr",
     "output_type": "stream",
     "text": [
      "C:\\ProgramData\\Anaconda3\\lib\\site-packages\\dask\\dataframe\\utils.py:369: FutureWarning: pandas.Int64Index is deprecated and will be removed from pandas in a future version. Use pandas.Index with the appropriate dtype instead.\n",
      "  _numeric_index_types = (pd.Int64Index, pd.Float64Index, pd.UInt64Index)\n",
      "C:\\ProgramData\\Anaconda3\\lib\\site-packages\\dask\\dataframe\\utils.py:369: FutureWarning: pandas.Float64Index is deprecated and will be removed from pandas in a future version. Use pandas.Index with the appropriate dtype instead.\n",
      "  _numeric_index_types = (pd.Int64Index, pd.Float64Index, pd.UInt64Index)\n",
      "C:\\ProgramData\\Anaconda3\\lib\\site-packages\\dask\\dataframe\\utils.py:369: FutureWarning: pandas.UInt64Index is deprecated and will be removed from pandas in a future version. Use pandas.Index with the appropriate dtype instead.\n",
      "  _numeric_index_types = (pd.Int64Index, pd.Float64Index, pd.UInt64Index)\n"
     ]
    }
   ],
   "source": [
    "import lightgbm as lgb\n",
    "import matplotlib.pyplot as plt"
   ]
  },
  {
   "cell_type": "code",
   "execution_count": 3,
   "id": "98ee9d9f",
   "metadata": {},
   "outputs": [],
   "source": [
    "from sklearn.preprocessing import StandardScaler\n",
    "\n",
    "\n",
    "X_train = np.load('x_train.npy')\n",
    "y_train = np.load('y_train.npy')\n",
    "X_test = np.load('x_test.npy')\n",
    "y_test = np.load('y_test.npy')"
   ]
  },
  {
   "cell_type": "code",
   "execution_count": 4,
   "id": "3953ed3e",
   "metadata": {},
   "outputs": [],
   "source": [
    "y_2_train = np.load('y_2_train.npy')\n",
    "y_2_test = np.load('y_2_test.npy')\n",
    "y_3_train = np.load('y_3_train.npy')\n",
    "y_3_test = np.load('y_3_test.npy')\n",
    "\n",
    "X_train_class = np.copy(X_train)\n",
    "y_train_class = np.copy(y_train)\n",
    "X_test_class = np.copy(X_test)\n",
    "y_test_class = np.copy(y_test)\n",
    "\n",
    "scaler = StandardScaler().fit(X_train_class)\n",
    "X_train_class = scaler.transform(X_train_class)\n",
    "X_test_class = scaler.transform(X_test_class)\n"
   ]
  },
  {
   "cell_type": "code",
   "execution_count": 5,
   "id": "536b2da0",
   "metadata": {},
   "outputs": [],
   "source": [
    "volume_train = np.load('y_4_train.npy') #np.load('volume_train.npy')\n",
    "volume_test = np.load('y_4_test.npy') #np.load('volume_test.npy')\n",
    "intensity_train = np.load('y_5_train.npy') #np.load('intensity_train.npy')\n",
    "intensity_test = np.load('y_5_test.npy') #np.load('intensity_test.npy')"
   ]
  },
  {
   "cell_type": "code",
   "execution_count": 6,
   "id": "1d4d047e",
   "metadata": {},
   "outputs": [],
   "source": [
    "# RRegression Values modeifications\n",
    "#y_2_train[y_2_train > 10] = 10.0\n",
    "#y_2_test[y_2_test > 10] = 10.0\n",
    "\n"
   ]
  },
  {
   "cell_type": "code",
   "execution_count": 7,
   "id": "cfcab482",
   "metadata": {},
   "outputs": [],
   "source": [
    "#X_train = np.concatenate((X_train, volume_train.reshape(-1, 1), intensity_train.reshape(-1, 1)), axis=1)\n",
    "#X_test = np.concatenate((X_test,  volume_test.reshape(-1, 1), intensity_test.reshape(-1, 1)), axis=1)"
   ]
  },
  {
   "cell_type": "code",
   "execution_count": 8,
   "id": "92581670",
   "metadata": {},
   "outputs": [
    {
     "name": "stdout",
     "output_type": "stream",
     "text": [
      "(2552, 20) (639, 20)\n"
     ]
    }
   ],
   "source": [
    "print(X_train.shape, X_test.shape)"
   ]
  },
  {
   "cell_type": "code",
   "execution_count": 9,
   "id": "9859f078",
   "metadata": {},
   "outputs": [],
   "source": [
    "scaler = StandardScaler().fit(X_train)\n",
    "X_train = scaler.transform(X_train)\n",
    "X_test = scaler.transform(X_test)"
   ]
  },
  {
   "cell_type": "code",
   "execution_count": 10,
   "id": "27a2f352",
   "metadata": {},
   "outputs": [],
   "source": [
    "#lgb_train = lgb.Dataset(X_train, y_2_train)\n"
   ]
  },
  {
   "cell_type": "code",
   "execution_count": 11,
   "id": "cb7ba8eb",
   "metadata": {},
   "outputs": [
    {
     "name": "stdout",
     "output_type": "stream",
     "text": [
      "[[-0.45880693 -0.16513392 -0.03903187 ... -0.05575163 -0.42107293\n",
      "  -0.39361402]\n",
      " [ 1.24676524  1.33336874  1.42359704 ... -0.40154262 -0.78809567\n",
      "  -0.62218796]\n",
      " [ 1.63051898  1.41899747  1.46661554 ... -0.32250468 -0.49050966\n",
      "  -0.49299399]\n",
      " ...\n",
      " [ 0.69245428  0.64833895  0.69228259 ...  0.14184321  0.12450142\n",
      "  -0.00603212]\n",
      " [-0.92783928 -0.97860679 -1.07147581 ...  1.88067789  1.44379938\n",
      "   2.40890126]\n",
      " [-1.48215024 -1.83489403 -2.23297523 ...  0.53703291  0.29313349\n",
      "   0.04365787]]\n"
     ]
    }
   ],
   "source": [
    "print(X_train)"
   ]
  },
  {
   "cell_type": "code",
   "execution_count": 12,
   "id": "c5c4e443",
   "metadata": {},
   "outputs": [
    {
     "data": {
      "text/plain": [
       "'\\npolynom_fit_SMOTE_bus,\\npolynom_fit_SMOTE_star,\\nROSE,\\nGazzah,\\nSPY,\\nMSMOTE,\\nAHC,\\nRWO_sampling,\\npolynom_fit_SMOTE_mesh,\\npolynom_fit_SMOTE_poly\\n'"
      ]
     },
     "execution_count": 12,
     "metadata": {},
     "output_type": "execute_result"
    }
   ],
   "source": [
    "'''\n",
    "polynom_fit_SMOTE_bus,\n",
    "polynom_fit_SMOTE_star,\n",
    "ROSE,\n",
    "Gazzah,\n",
    "SPY,\n",
    "MSMOTE,\n",
    "AHC,\n",
    "RWO_sampling,\n",
    "polynom_fit_SMOTE_mesh,\n",
    "polynom_fit_SMOTE_poly\n",
    "'''"
   ]
  },
  {
   "cell_type": "code",
   "execution_count": 13,
   "id": "a231316f",
   "metadata": {},
   "outputs": [
    {
     "name": "stderr",
     "output_type": "stream",
     "text": [
      "2023-03-22 16:46:57,976:INFO:polynom_fit_SMOTE_bus: Running sampling via ('polynom_fit_SMOTE_bus', \"{'proportion': 1.0, 'topology': 'bus', 'random_state': None, 'class_name': 'polynom_fit_SMOTE_bus'}\")\n",
      "2023-03-22 16:46:57,978:INFO:polynom_fit_SMOTE: Running sampling via ('polynom_fit_SMOTE', \"{'proportion': 1.0, 'topology': 'bus', 'random_state': None, 'class_name': 'polynom_fit_SMOTE'}\")\n"
     ]
    },
    {
     "name": "stdout",
     "output_type": "stream",
     "text": [
      "[LightGBM] [Warning] feature_fraction is set=0.5, colsample_bytree=1.0 will be ignored. Current value: feature_fraction=0.5\n",
      "[LightGBM] [Warning] bagging_fraction is set=0.8, subsample=1.0 will be ignored. Current value: bagging_fraction=0.8\n",
      "[LightGBM] [Warning] bagging_freq is set=15, subsample_freq=0 will be ignored. Current value: bagging_freq=15\n",
      "[[ 0.22342193  0.04893789 -0.12506886 ... -0.96468794 -0.98648634\n",
      "  -1.03958385]\n",
      " [-1.1410358  -1.10704988 -1.2005313  ... -0.46082107 -0.68890033\n",
      "  -0.82094791]\n",
      " [-0.84256067 -1.06423552 -1.1575128  ... -0.4904603  -0.29211899\n",
      "  -0.10541209]\n",
      " ...\n",
      " [ 0.05286472  0.22019534  0.26209761 ...  0.31967858  1.81082212\n",
      "   0.98776763]\n",
      " [-0.0750532  -0.16513392 -0.16808736 ... -0.14466932 -0.43099246\n",
      "  -0.30417204]\n",
      " [ 0.60717567 -0.03669083 -0.85638332 ... -0.73745386  0.52128276\n",
      "   1.1169616 ]]\n",
      "Acc Score:  0.5758998435054773\n",
      "Roc Auc Score:  0.5089625049634126\n",
      "Precision Score:  0.09923664122137404\n",
      "Recall Score:  0.4262295081967213\n",
      "f1 score:  0.1609907120743034\n"
     ]
    }
   ],
   "source": [
    "from sklearn.neighbors import KNeighborsClassifier\n",
    "from sklearn.tree import DecisionTreeClassifier\n",
    "import lightgbm as lgb\n",
    "import smote_variants as sv\n",
    "from sklearn.ensemble import RandomForestRegressor,RandomForestClassifier,GradientBoostingRegressor,GradientBoostingClassifier\n",
    "from sklearn.svm import SVC\n",
    "from lightgbm import LGBMClassifier\n",
    "import sklearn.datasets as datasets\n",
    "from sklearn.neural_network import MLPClassifier\n",
    "\n",
    "dataset= {'data': X_train,\n",
    "          'target': y_train,\n",
    "          'name': 'Andromeda'}\n",
    "\n",
    "classifier = LGBMClassifier(boosting_type=\"gbdt\",is_unbalance=True, random_state=5, \n",
    "                  n_estimators=300,num_leaves=30, max_depth=2,feature_fraction=0.5, \n",
    "                  bagging_fraction=0.8, bagging_freq=15, learning_rate=0.01)\n",
    "\n",
    "\n",
    "\n",
    "\n",
    "# Classifier Testing\n",
    "\n",
    "# training the best techniques using the entire dataset\n",
    "X_samp, y_samp= sv.polynom_fit_SMOTE_bus(proportion=1.0).sample(X_train, y_train)\n",
    "classifier.fit(X_samp, y_samp)\n",
    "preds2 = classifier.predict(X_test)\n",
    "print(X_test)\n",
    "print('Acc Score: ',accuracy_score(y_test, preds2))\n",
    "print('Roc Auc Score: ',roc_auc_score(y_test, preds2))\n",
    "print('Precision Score: ',precision_score(y_test, preds2))\n",
    "print('Recall Score: ',recall_score(y_test, preds2))\n",
    "print('f1 score: ',f1_score(y_test, preds2))\n",
    "preds_train = classifier.predict(X_train)\n",
    "\n"
   ]
  },
  {
   "cell_type": "code",
   "execution_count": 14,
   "id": "c7e8f131",
   "metadata": {},
   "outputs": [
    {
     "data": {
      "text/plain": [
       "array([[342, 236],\n",
       "       [ 35,  26]], dtype=int64)"
      ]
     },
     "execution_count": 14,
     "metadata": {},
     "output_type": "execute_result"
    }
   ],
   "source": [
    "from sklearn.metrics import confusion_matrix\n",
    "\n",
    "confusion_matrix(y_test, preds2)"
   ]
  },
  {
   "cell_type": "code",
   "execution_count": 15,
   "id": "3c81d455",
   "metadata": {},
   "outputs": [],
   "source": [
    "# Preparing prediction out\n",
    "#X_test = np.concatenate((X_test, preds2.reshape(-1, 1)), axis=1)\n",
    "#X_train = np.concatenate((X_train, preds_train.reshape(-1, 1)), axis=1)\n",
    "#scaler = StandardScaler().fit(X_train)\n",
    "#X_train = scaler.transform(X_train)\n",
    "#X_test = scaler.transform(X_test)\n",
    "\n",
    "lgb_eval = lgb.Dataset(X_test, y_2_test)\n",
    "\n",
    "lgb_train = lgb.Dataset(X_train, y_2_train)\n",
    "\n"
   ]
  },
  {
   "cell_type": "code",
   "execution_count": 16,
   "id": "3baa3c3c",
   "metadata": {},
   "outputs": [
    {
     "name": "stdout",
     "output_type": "stream",
     "text": [
      "(2552, 20)\n"
     ]
    }
   ],
   "source": [
    "print(X_train.shape)"
   ]
  },
  {
   "cell_type": "code",
   "execution_count": 17,
   "id": "c38dd09c",
   "metadata": {},
   "outputs": [
    {
     "name": "stdout",
     "output_type": "stream",
     "text": [
      "[1]\tvalid_0's l1: 0.799365\tvalid_0's l2: 4.07411\n",
      "Training until validation scores don't improve for 200 rounds\n",
      "[2]\tvalid_0's l1: 0.799557\tvalid_0's l2: 4.08063\n",
      "[3]\tvalid_0's l1: 0.798939\tvalid_0's l2: 4.08517\n",
      "[4]\tvalid_0's l1: 0.798164\tvalid_0's l2: 4.09052\n",
      "[5]\tvalid_0's l1: 0.796584\tvalid_0's l2: 4.10254\n",
      "[6]\tvalid_0's l1: 0.794859\tvalid_0's l2: 4.09793\n",
      "[7]\tvalid_0's l1: 0.795881\tvalid_0's l2: 4.10069\n",
      "[8]\tvalid_0's l1: 0.797475\tvalid_0's l2: 4.10732\n",
      "[9]\tvalid_0's l1: 0.797357\tvalid_0's l2: 4.10825\n",
      "[10]\tvalid_0's l1: 0.797035\tvalid_0's l2: 4.09973\n",
      "[11]\tvalid_0's l1: 0.796403\tvalid_0's l2: 4.09233\n",
      "[12]\tvalid_0's l1: 0.796735\tvalid_0's l2: 4.09115\n",
      "[13]\tvalid_0's l1: 0.796964\tvalid_0's l2: 4.08774\n",
      "[14]\tvalid_0's l1: 0.801087\tvalid_0's l2: 4.08821\n",
      "[15]\tvalid_0's l1: 0.799284\tvalid_0's l2: 4.07947\n",
      "[16]\tvalid_0's l1: 0.796633\tvalid_0's l2: 4.07742\n",
      "[17]\tvalid_0's l1: 0.79844\tvalid_0's l2: 4.09196\n",
      "[18]\tvalid_0's l1: 0.801558\tvalid_0's l2: 4.10312\n",
      "[19]\tvalid_0's l1: 0.800494\tvalid_0's l2: 4.10874\n",
      "[20]\tvalid_0's l1: 0.800906\tvalid_0's l2: 4.11462\n",
      "[21]\tvalid_0's l1: 0.80209\tvalid_0's l2: 4.12752\n",
      "[22]\tvalid_0's l1: 0.803405\tvalid_0's l2: 4.14105\n",
      "[23]\tvalid_0's l1: 0.803287\tvalid_0's l2: 4.15228\n",
      "[24]\tvalid_0's l1: 0.804488\tvalid_0's l2: 4.16523\n",
      "[25]\tvalid_0's l1: 0.806066\tvalid_0's l2: 4.17881\n",
      "[26]\tvalid_0's l1: 0.802309\tvalid_0's l2: 4.17775\n",
      "[27]\tvalid_0's l1: 0.80456\tvalid_0's l2: 4.19252\n",
      "[28]\tvalid_0's l1: 0.806944\tvalid_0's l2: 4.19531\n",
      "[29]\tvalid_0's l1: 0.808396\tvalid_0's l2: 4.20681\n",
      "[30]\tvalid_0's l1: 0.808596\tvalid_0's l2: 4.21687\n",
      "[31]\tvalid_0's l1: 0.808009\tvalid_0's l2: 4.21778\n",
      "[32]\tvalid_0's l1: 0.809664\tvalid_0's l2: 4.23426\n",
      "[33]\tvalid_0's l1: 0.810084\tvalid_0's l2: 4.24391\n",
      "[34]\tvalid_0's l1: 0.811378\tvalid_0's l2: 4.2458\n",
      "[35]\tvalid_0's l1: 0.811622\tvalid_0's l2: 4.25512\n",
      "[36]\tvalid_0's l1: 0.81306\tvalid_0's l2: 4.26218\n",
      "[37]\tvalid_0's l1: 0.81396\tvalid_0's l2: 4.2755\n",
      "[38]\tvalid_0's l1: 0.816582\tvalid_0's l2: 4.28714\n",
      "[39]\tvalid_0's l1: 0.816456\tvalid_0's l2: 4.29367\n"
     ]
    },
    {
     "name": "stderr",
     "output_type": "stream",
     "text": [
      "C:\\ProgramData\\Anaconda3\\lib\\site-packages\\lightgbm\\engine.py:181: UserWarning: 'early_stopping_rounds' argument is deprecated and will be removed in a future release of LightGBM. Pass 'early_stopping()' callback via 'callbacks' argument instead.\n",
      "  _log_warning(\"'early_stopping_rounds' argument is deprecated and will be removed in a future release of LightGBM. \"\n"
     ]
    },
    {
     "name": "stdout",
     "output_type": "stream",
     "text": [
      "[40]\tvalid_0's l1: 0.819172\tvalid_0's l2: 4.30829\n",
      "[41]\tvalid_0's l1: 0.821531\tvalid_0's l2: 4.31446\n",
      "[42]\tvalid_0's l1: 0.821986\tvalid_0's l2: 4.31536\n",
      "[43]\tvalid_0's l1: 0.823986\tvalid_0's l2: 4.32794\n",
      "[44]\tvalid_0's l1: 0.826242\tvalid_0's l2: 4.33903\n",
      "[45]\tvalid_0's l1: 0.826971\tvalid_0's l2: 4.34396\n",
      "[46]\tvalid_0's l1: 0.828623\tvalid_0's l2: 4.35112\n",
      "[47]\tvalid_0's l1: 0.831391\tvalid_0's l2: 4.36169\n",
      "[48]\tvalid_0's l1: 0.834921\tvalid_0's l2: 4.37777\n",
      "[49]\tvalid_0's l1: 0.834989\tvalid_0's l2: 4.37907\n",
      "[50]\tvalid_0's l1: 0.835018\tvalid_0's l2: 4.37621\n",
      "[51]\tvalid_0's l1: 0.836931\tvalid_0's l2: 4.38307\n",
      "[52]\tvalid_0's l1: 0.838031\tvalid_0's l2: 4.38714\n",
      "[53]\tvalid_0's l1: 0.841662\tvalid_0's l2: 4.40376\n",
      "[54]\tvalid_0's l1: 0.84206\tvalid_0's l2: 4.39687\n",
      "[55]\tvalid_0's l1: 0.844414\tvalid_0's l2: 4.39863\n",
      "[56]\tvalid_0's l1: 0.846052\tvalid_0's l2: 4.40198\n",
      "[57]\tvalid_0's l1: 0.849106\tvalid_0's l2: 4.41315\n",
      "[58]\tvalid_0's l1: 0.849451\tvalid_0's l2: 4.41473\n",
      "[59]\tvalid_0's l1: 0.85203\tvalid_0's l2: 4.41674\n",
      "[60]\tvalid_0's l1: 0.852407\tvalid_0's l2: 4.43092\n",
      "[61]\tvalid_0's l1: 0.854063\tvalid_0's l2: 4.43575\n",
      "[62]\tvalid_0's l1: 0.857454\tvalid_0's l2: 4.45252\n",
      "[63]\tvalid_0's l1: 0.858437\tvalid_0's l2: 4.44781\n",
      "[64]\tvalid_0's l1: 0.860527\tvalid_0's l2: 4.45208\n",
      "[65]\tvalid_0's l1: 0.862259\tvalid_0's l2: 4.46027\n",
      "[66]\tvalid_0's l1: 0.865368\tvalid_0's l2: 4.46743\n",
      "[67]\tvalid_0's l1: 0.866363\tvalid_0's l2: 4.4759\n",
      "[68]\tvalid_0's l1: 0.869271\tvalid_0's l2: 4.48438\n",
      "[69]\tvalid_0's l1: 0.873881\tvalid_0's l2: 4.49817\n",
      "[70]\tvalid_0's l1: 0.87767\tvalid_0's l2: 4.51018\n",
      "[71]\tvalid_0's l1: 0.88069\tvalid_0's l2: 4.52261\n",
      "[72]\tvalid_0's l1: 0.884241\tvalid_0's l2: 4.54104\n",
      "[73]\tvalid_0's l1: 0.884551\tvalid_0's l2: 4.53984\n",
      "[74]\tvalid_0's l1: 0.889297\tvalid_0's l2: 4.55759\n",
      "[75]\tvalid_0's l1: 0.889814\tvalid_0's l2: 4.55685\n",
      "[76]\tvalid_0's l1: 0.89073\tvalid_0's l2: 4.55373\n",
      "[77]\tvalid_0's l1: 0.893657\tvalid_0's l2: 4.55778\n",
      "[78]\tvalid_0's l1: 0.897012\tvalid_0's l2: 4.55847\n",
      "[79]\tvalid_0's l1: 0.900056\tvalid_0's l2: 4.56328\n",
      "[80]\tvalid_0's l1: 0.902668\tvalid_0's l2: 4.57369\n",
      "[81]\tvalid_0's l1: 0.905638\tvalid_0's l2: 4.5902\n",
      "[82]\tvalid_0's l1: 0.905939\tvalid_0's l2: 4.58909\n",
      "[83]\tvalid_0's l1: 0.906065\tvalid_0's l2: 4.58849\n",
      "[84]\tvalid_0's l1: 0.90843\tvalid_0's l2: 4.60029\n",
      "[85]\tvalid_0's l1: 0.909913\tvalid_0's l2: 4.6076\n",
      "[86]\tvalid_0's l1: 0.909571\tvalid_0's l2: 4.60647\n",
      "[87]\tvalid_0's l1: 0.911661\tvalid_0's l2: 4.60394\n",
      "[88]\tvalid_0's l1: 0.912581\tvalid_0's l2: 4.60452\n",
      "[89]\tvalid_0's l1: 0.913788\tvalid_0's l2: 4.60799\n",
      "[90]\tvalid_0's l1: 0.916926\tvalid_0's l2: 4.61939\n",
      "[91]\tvalid_0's l1: 0.91859\tvalid_0's l2: 4.62477\n",
      "[92]\tvalid_0's l1: 0.920689\tvalid_0's l2: 4.63232\n",
      "[93]\tvalid_0's l1: 0.921744\tvalid_0's l2: 4.6415\n",
      "[94]\tvalid_0's l1: 0.923595\tvalid_0's l2: 4.65371\n",
      "[95]\tvalid_0's l1: 0.925118\tvalid_0's l2: 4.65845\n",
      "[96]\tvalid_0's l1: 0.925687\tvalid_0's l2: 4.66085\n",
      "[97]\tvalid_0's l1: 0.927147\tvalid_0's l2: 4.6588\n",
      "[98]\tvalid_0's l1: 0.927386\tvalid_0's l2: 4.66491\n",
      "[99]\tvalid_0's l1: 0.928575\tvalid_0's l2: 4.66654\n",
      "[100]\tvalid_0's l1: 0.931417\tvalid_0's l2: 4.67944\n",
      "Did not meet early stopping. Best iteration is:\n",
      "[6]\tvalid_0's l1: 0.794859\tvalid_0's l2: 4.09793\n"
     ]
    }
   ],
   "source": [
    "# defining parameters \n",
    "# defining parameters \n",
    "params = {\n",
    "    'task': 'train', \n",
    "    'boosting': 'gbdt',\n",
    "    'objective': 'regression',\n",
    "    'num_leaves': 50,\n",
    "    'learning_rate': 0.05,\n",
    "    'metric': {'l2','l1'},\n",
    "    'verbose': -1\n",
    "}\n",
    "model = lgb.train(params,\n",
    "                 train_set=lgb_train,\n",
    "                 valid_sets=lgb_eval,\n",
    "                 early_stopping_rounds=200)"
   ]
  },
  {
   "cell_type": "code",
   "execution_count": null,
   "id": "f9b4c9f4",
   "metadata": {},
   "outputs": [],
   "source": []
  },
  {
   "cell_type": "code",
   "execution_count": 18,
   "id": "69c26012",
   "metadata": {},
   "outputs": [],
   "source": [
    "preds = model.predict(X_test)"
   ]
  },
  {
   "cell_type": "code",
   "execution_count": 19,
   "id": "5b2636c5",
   "metadata": {},
   "outputs": [],
   "source": [
    "from sklearn.metrics import mean_squared_error\n",
    "from sklearn.metrics import mean_absolute_error"
   ]
  },
  {
   "cell_type": "code",
   "execution_count": 20,
   "id": "5b94603a",
   "metadata": {
    "scrolled": true
   },
   "outputs": [
    {
     "data": {
      "text/plain": [
       "4.097928284290984"
      ]
     },
     "execution_count": 20,
     "metadata": {},
     "output_type": "execute_result"
    }
   ],
   "source": [
    "mean_squared_error(y_2_test, preds)"
   ]
  },
  {
   "cell_type": "code",
   "execution_count": 21,
   "id": "9f0455cd",
   "metadata": {},
   "outputs": [
    {
     "data": {
      "text/plain": [
       "0.7948587366510762"
      ]
     },
     "execution_count": 21,
     "metadata": {},
     "output_type": "execute_result"
    }
   ],
   "source": [
    "mean_absolute_error(y_2_test, preds)"
   ]
  },
  {
   "cell_type": "code",
   "execution_count": 22,
   "id": "1aeb80df",
   "metadata": {},
   "outputs": [
    {
     "data": {
      "text/plain": [
       "[<matplotlib.lines.Line2D at 0x225a9440760>]"
      ]
     },
     "execution_count": 22,
     "metadata": {},
     "output_type": "execute_result"
    },
    {
     "data": {
      "image/png": "[encoded data removed]",
      "text/plain": [
       "<Figure size 432x288 with 1 Axes>"
      ]
     },
     "metadata": {
      "needs_background": "light"
     },
     "output_type": "display_data"
    }
   ],
   "source": [
    "plt.plot(preds)"
   ]
  },
  {
   "cell_type": "code",
   "execution_count": 23,
   "id": "c78b0ed7",
   "metadata": {},
   "outputs": [
    {
     "data": {
      "image/png": "[encoded data removed]",
      "text/plain": [
       "<Figure size 1200x480 with 2 Axes>"
      ]
     },
     "metadata": {
      "needs_background": "light"
     },
     "output_type": "display_data"
    }
   ],
   "source": [
    "# Create Figure and Subplots\n",
    "fig, (ax1, ax2) = plt.subplots(1,2, figsize=(10,4), sharey=True, dpi=120)\n",
    "\n",
    "# Plot\n",
    "ax1.plot(preds, 'g')  # greendots\n",
    "ax2.plot(y_2_test, 'b')  # bluestart\n",
    "\n",
    "# Title, X and Y labels, X and Y Lim\n",
    "ax1.set_title('Predictions'); ax2.set_title('Ground Truth')\n",
    "\n",
    "  # y axis limits\n",
    "\n",
    "# ax2.yaxis.set_ticks_position('none') \n",
    "plt.tight_layout()\n",
    "plt.show()"
   ]
  },
  {
   "cell_type": "code",
   "execution_count": 24,
   "id": "529843ce",
   "metadata": {},
   "outputs": [
    {
     "data": {
      "image/png": "[encoded data removed]",
      "text/plain": [
       "<Figure size 720x720 with 1 Axes>"
      ]
     },
     "metadata": {
      "needs_background": "light"
     },
     "output_type": "display_data"
    }
   ],
   "source": [
    "predicted_value = preds\n",
    "true_value = y_2_test\n",
    "fig = plt.figure(figsize=(10,10))\n",
    "plt.scatter(true_value, predicted_value, c='crimson')\n",
    "plt.yscale('linear')\n",
    "plt.xscale('linear')\n",
    "\n",
    "p1 = max(max(predicted_value), max(true_value))\n",
    "p2 = min(min(predicted_value), min(true_value))\n",
    "plt.plot([p1, p2], [p1, p2], 'b-')\n",
    "plt.xlabel('True Values', fontsize=15)\n",
    "plt.ylabel('Predictions', fontsize=15)\n",
    "#plt.axis('equal')\n",
    "plt.xlim([-2, 25])\n",
    "plt.ylim([-2, 25])\n",
    "plt.show()\n",
    "fig.savefig('predictions_vs_true_basic_measurements_lgbm.pdf')"
   ]
  },
  {
   "cell_type": "code",
   "execution_count": 25,
   "id": "d0e5a22c",
   "metadata": {},
   "outputs": [
    {
     "data": {
      "image/png": "[encoded data removed]",
      "text/plain": [
       "<Figure size 720x720 with 1 Axes>"
      ]
     },
     "metadata": {
      "needs_background": "light"
     },
     "output_type": "display_data"
    },
    {
     "data": {
      "text/plain": [
       "<Figure size 432x288 with 0 Axes>"
      ]
     },
     "metadata": {},
     "output_type": "display_data"
    }
   ],
   "source": [
    "\n",
    "predicted_value = model.predict(X_train)\n",
    "true_value = y_2_train\n",
    "fig = plt.figure(figsize=(10,10))\n",
    "\n",
    "plt.scatter(true_value, predicted_value, c='crimson')\n",
    "plt.yscale('linear')\n",
    "plt.xscale('linear')\n",
    "\n",
    "p1 = max(max(predicted_value), max(true_value))\n",
    "p2 = min(min(predicted_value), min(true_value))\n",
    "plt.plot([p1, p2], [p1, p2], 'b-')\n",
    "plt.xlabel('True Values', fontsize=15)\n",
    "plt.ylabel('Predictions', fontsize=15)\n",
    "#plt.axis('equal')\n",
    "plt.xlim([-2, 30])\n",
    "plt.ylim([-2, 30])\n",
    "plt.show()\n",
    "\n",
    "fig=plt.savefig('predictions_vs_true_readl_precipitation_training.pdf')"
   ]
  },
  {
   "cell_type": "code",
   "execution_count": 26,
   "id": "189fbf9f",
   "metadata": {},
   "outputs": [
    {
     "data": {
      "image/png": "[encoded data removed]",
      "text/plain": [
       "<Figure size 432x288 with 1 Axes>"
      ]
     },
     "metadata": {
      "needs_background": "light"
     },
     "output_type": "display_data"
    }
   ],
   "source": [
    "temp_true  = np.copy(y_2_test)\n",
    "#temp_true[temp_true > 0] = 5\n",
    "#preds[preds > 0] = 2\n",
    "plt.plot(preds[300:400],'r', label='Prediction')\n",
    "plt.plot(temp_true[300:400],'b', label='Ground Truth')\n",
    "plt.show()"
   ]
  },
  {
   "cell_type": "code",
   "execution_count": 27,
   "id": "6d8efd68",
   "metadata": {},
   "outputs": [],
   "source": [
    "scaler = StandardScaler().fit(X_train)\n",
    "X_train = scaler.transform(X_train)\n",
    "X_test = scaler.transform(X_test)\n"
   ]
  },
  {
   "cell_type": "code",
   "execution_count": 28,
   "id": "a817d2da",
   "metadata": {},
   "outputs": [],
   "source": [
    "#temp_y_train = np.copy(y_2_train)\n",
    "#temp_y_test = np.copy(y_2_test)\n",
    "#temp_y_train[temp_y_train > 5] = 5.0\n",
    "#temp_y_test[temp_y_train > 5] = 5.0\n"
   ]
  },
  {
   "cell_type": "code",
   "execution_count": 29,
   "id": "21ef3930",
   "metadata": {},
   "outputs": [
    {
     "name": "stdout",
     "output_type": "stream",
     "text": [
      "Epoch 1/300\n",
      "40/40 [==============================] - 1s 8ms/step - loss: 0.6689 - accuracy: 0.8993 - val_loss: 0.6354 - val_accuracy: 0.9045\n",
      "Epoch 2/300\n",
      "40/40 [==============================] - 0s 3ms/step - loss: 0.5674 - accuracy: 0.9052 - val_loss: 0.4820 - val_accuracy: 0.9045\n",
      "Epoch 3/300\n",
      "40/40 [==============================] - 0s 3ms/step - loss: 0.3982 - accuracy: 0.9052 - val_loss: 0.3660 - val_accuracy: 0.9045\n",
      "Epoch 4/300\n",
      "40/40 [==============================] - 0s 3ms/step - loss: 0.3430 - accuracy: 0.9052 - val_loss: 0.3505 - val_accuracy: 0.9045\n",
      "Epoch 5/300\n",
      "40/40 [==============================] - 0s 3ms/step - loss: 0.3351 - accuracy: 0.9052 - val_loss: 0.3428 - val_accuracy: 0.9045\n",
      "Epoch 6/300\n",
      "40/40 [==============================] - 0s 4ms/step - loss: 0.3305 - accuracy: 0.9052 - val_loss: 0.3388 - val_accuracy: 0.9045\n",
      "Epoch 7/300\n",
      "40/40 [==============================] - 0s 2ms/step - loss: 0.3270 - accuracy: 0.9052 - val_loss: 0.3352 - val_accuracy: 0.9045\n",
      "Epoch 8/300\n",
      "40/40 [==============================] - 0s 2ms/step - loss: 0.3246 - accuracy: 0.9052 - val_loss: 0.3313 - val_accuracy: 0.9045\n",
      "Epoch 9/300\n",
      "40/40 [==============================] - 0s 3ms/step - loss: 0.3218 - accuracy: 0.9052 - val_loss: 0.3290 - val_accuracy: 0.9045\n",
      "Epoch 10/300\n",
      "40/40 [==============================] - 0s 2ms/step - loss: 0.3204 - accuracy: 0.9052 - val_loss: 0.3263 - val_accuracy: 0.9045\n",
      "Epoch 11/300\n",
      "40/40 [==============================] - 0s 3ms/step - loss: 0.3184 - accuracy: 0.9052 - val_loss: 0.3253 - val_accuracy: 0.9045\n",
      "Epoch 12/300\n",
      "40/40 [==============================] - 0s 3ms/step - loss: 0.3174 - accuracy: 0.9052 - val_loss: 0.3231 - val_accuracy: 0.9045\n",
      "Epoch 13/300\n",
      "40/40 [==============================] - 0s 3ms/step - loss: 0.3167 - accuracy: 0.9052 - val_loss: 0.3227 - val_accuracy: 0.9045\n",
      "Epoch 14/300\n",
      "40/40 [==============================] - 0s 3ms/step - loss: 0.3153 - accuracy: 0.9052 - val_loss: 0.3195 - val_accuracy: 0.9045\n",
      "Epoch 15/300\n",
      "40/40 [==============================] - 0s 3ms/step - loss: 0.3144 - accuracy: 0.9052 - val_loss: 0.3203 - val_accuracy: 0.9045\n",
      "Epoch 16/300\n",
      "40/40 [==============================] - 0s 3ms/step - loss: 0.3136 - accuracy: 0.9052 - val_loss: 0.3175 - val_accuracy: 0.9045\n",
      "Epoch 17/300\n",
      "40/40 [==============================] - 0s 3ms/step - loss: 0.3125 - accuracy: 0.9052 - val_loss: 0.3174 - val_accuracy: 0.9045\n",
      "Epoch 18/300\n",
      "40/40 [==============================] - 0s 3ms/step - loss: 0.3120 - accuracy: 0.9052 - val_loss: 0.3170 - val_accuracy: 0.9045\n",
      "Epoch 19/300\n",
      "40/40 [==============================] - 0s 3ms/step - loss: 0.3113 - accuracy: 0.9052 - val_loss: 0.3167 - val_accuracy: 0.9045\n",
      "Epoch 20/300\n",
      "40/40 [==============================] - 0s 2ms/step - loss: 0.3108 - accuracy: 0.9052 - val_loss: 0.3156 - val_accuracy: 0.9045\n",
      "Epoch 21/300\n",
      "40/40 [==============================] - 0s 2ms/step - loss: 0.3100 - accuracy: 0.9052 - val_loss: 0.3163 - val_accuracy: 0.9045\n",
      "Epoch 22/300\n",
      "40/40 [==============================] - 0s 3ms/step - loss: 0.3099 - accuracy: 0.9052 - val_loss: 0.3156 - val_accuracy: 0.9045\n",
      "Epoch 23/300\n",
      "40/40 [==============================] - 0s 4ms/step - loss: 0.3095 - accuracy: 0.9052 - val_loss: 0.3157 - val_accuracy: 0.9045\n",
      "Epoch 24/300\n",
      "40/40 [==============================] - 0s 4ms/step - loss: 0.3091 - accuracy: 0.9052 - val_loss: 0.3148 - val_accuracy: 0.9045\n",
      "Epoch 25/300\n",
      "40/40 [==============================] - 0s 4ms/step - loss: 0.3087 - accuracy: 0.9052 - val_loss: 0.3148 - val_accuracy: 0.9045\n",
      "Epoch 26/300\n",
      "40/40 [==============================] - 0s 2ms/step - loss: 0.3084 - accuracy: 0.9052 - val_loss: 0.3148 - val_accuracy: 0.9045\n",
      "Epoch 27/300\n",
      "40/40 [==============================] - 0s 3ms/step - loss: 0.3083 - accuracy: 0.9052 - val_loss: 0.3149 - val_accuracy: 0.9045\n",
      "Epoch 28/300\n",
      "40/40 [==============================] - 0s 3ms/step - loss: 0.3081 - accuracy: 0.9052 - val_loss: 0.3147 - val_accuracy: 0.9045\n",
      "Epoch 29/300\n",
      "40/40 [==============================] - 0s 3ms/step - loss: 0.3074 - accuracy: 0.9052 - val_loss: 0.3149 - val_accuracy: 0.9045\n",
      "Epoch 30/300\n",
      "40/40 [==============================] - 0s 3ms/step - loss: 0.3073 - accuracy: 0.9052 - val_loss: 0.3138 - val_accuracy: 0.9045\n",
      "Epoch 31/300\n",
      "40/40 [==============================] - 0s 2ms/step - loss: 0.3073 - accuracy: 0.9052 - val_loss: 0.3133 - val_accuracy: 0.9045\n",
      "Epoch 32/300\n",
      "40/40 [==============================] - 0s 3ms/step - loss: 0.3070 - accuracy: 0.9052 - val_loss: 0.3148 - val_accuracy: 0.9045\n",
      "Epoch 33/300\n",
      "40/40 [==============================] - 0s 2ms/step - loss: 0.3069 - accuracy: 0.9052 - val_loss: 0.3136 - val_accuracy: 0.9045\n",
      "Epoch 34/300\n",
      "40/40 [==============================] - 0s 2ms/step - loss: 0.3068 - accuracy: 0.9052 - val_loss: 0.3144 - val_accuracy: 0.9045\n",
      "Epoch 35/300\n",
      "40/40 [==============================] - 0s 2ms/step - loss: 0.3063 - accuracy: 0.9052 - val_loss: 0.3135 - val_accuracy: 0.9045\n",
      "Epoch 36/300\n",
      "40/40 [==============================] - 0s 2ms/step - loss: 0.3061 - accuracy: 0.9052 - val_loss: 0.3142 - val_accuracy: 0.9045\n",
      "Epoch 37/300\n",
      "40/40 [==============================] - 0s 2ms/step - loss: 0.3060 - accuracy: 0.9052 - val_loss: 0.3127 - val_accuracy: 0.9045\n",
      "Epoch 38/300\n",
      "40/40 [==============================] - 0s 2ms/step - loss: 0.3057 - accuracy: 0.9052 - val_loss: 0.3142 - val_accuracy: 0.9045\n",
      "Epoch 39/300\n",
      "40/40 [==============================] - 0s 3ms/step - loss: 0.3057 - accuracy: 0.9052 - val_loss: 0.3144 - val_accuracy: 0.9045\n",
      "Epoch 40/300\n",
      "40/40 [==============================] - 0s 3ms/step - loss: 0.3056 - accuracy: 0.9052 - val_loss: 0.3146 - val_accuracy: 0.9045\n",
      "Epoch 41/300\n",
      "40/40 [==============================] - 0s 3ms/step - loss: 0.3057 - accuracy: 0.9052 - val_loss: 0.3146 - val_accuracy: 0.9045\n",
      "Epoch 42/300\n",
      "40/40 [==============================] - 0s 3ms/step - loss: 0.3053 - accuracy: 0.9052 - val_loss: 0.3141 - val_accuracy: 0.9045\n",
      "Epoch 43/300\n",
      "40/40 [==============================] - 0s 3ms/step - loss: 0.3056 - accuracy: 0.9052 - val_loss: 0.3149 - val_accuracy: 0.9045\n",
      "Epoch 44/300\n",
      "40/40 [==============================] - 0s 4ms/step - loss: 0.3052 - accuracy: 0.9052 - val_loss: 0.3146 - val_accuracy: 0.9045\n",
      "Epoch 45/300\n",
      "40/40 [==============================] - 0s 3ms/step - loss: 0.3052 - accuracy: 0.9052 - val_loss: 0.3140 - val_accuracy: 0.9045\n",
      "Epoch 46/300\n",
      "40/40 [==============================] - 0s 4ms/step - loss: 0.3048 - accuracy: 0.9052 - val_loss: 0.3150 - val_accuracy: 0.9045\n",
      "Epoch 47/300\n",
      "40/40 [==============================] - 0s 3ms/step - loss: 0.3054 - accuracy: 0.9052 - val_loss: 0.3145 - val_accuracy: 0.9045\n",
      "Epoch 48/300\n",
      "40/40 [==============================] - 0s 4ms/step - loss: 0.3050 - accuracy: 0.9052 - val_loss: 0.3142 - val_accuracy: 0.9045\n",
      "Epoch 49/300\n",
      "40/40 [==============================] - 0s 4ms/step - loss: 0.3048 - accuracy: 0.9052 - val_loss: 0.3133 - val_accuracy: 0.9045\n",
      "Epoch 50/300\n",
      "40/40 [==============================] - 0s 4ms/step - loss: 0.3048 - accuracy: 0.9052 - val_loss: 0.3145 - val_accuracy: 0.9045\n",
      "Epoch 51/300\n",
      "40/40 [==============================] - 0s 5ms/step - loss: 0.3046 - accuracy: 0.9052 - val_loss: 0.3140 - val_accuracy: 0.9045\n",
      "Epoch 52/300\n",
      "40/40 [==============================] - 0s 3ms/step - loss: 0.3042 - accuracy: 0.9052 - val_loss: 0.3149 - val_accuracy: 0.9045\n",
      "Epoch 53/300\n",
      "40/40 [==============================] - 0s 3ms/step - loss: 0.3048 - accuracy: 0.9052 - val_loss: 0.3144 - val_accuracy: 0.9045\n",
      "Epoch 54/300\n",
      "40/40 [==============================] - 0s 3ms/step - loss: 0.3043 - accuracy: 0.9052 - val_loss: 0.3141 - val_accuracy: 0.9045\n",
      "Epoch 55/300\n",
      "40/40 [==============================] - 0s 2ms/step - loss: 0.3041 - accuracy: 0.9052 - val_loss: 0.3145 - val_accuracy: 0.9045\n",
      "Epoch 56/300\n",
      "40/40 [==============================] - 0s 3ms/step - loss: 0.3041 - accuracy: 0.9052 - val_loss: 0.3145 - val_accuracy: 0.9045\n",
      "Epoch 57/300\n",
      "40/40 [==============================] - 0s 3ms/step - loss: 0.3042 - accuracy: 0.9052 - val_loss: 0.3142 - val_accuracy: 0.9045\n",
      "Epoch 58/300\n",
      "40/40 [==============================] - 0s 3ms/step - loss: 0.3039 - accuracy: 0.9052 - val_loss: 0.3144 - val_accuracy: 0.9045\n"
     ]
    },
    {
     "name": "stdout",
     "output_type": "stream",
     "text": [
      "Epoch 59/300\n",
      "40/40 [==============================] - 0s 3ms/step - loss: 0.3036 - accuracy: 0.9052 - val_loss: 0.3153 - val_accuracy: 0.9045\n",
      "Epoch 60/300\n",
      "40/40 [==============================] - 0s 3ms/step - loss: 0.3039 - accuracy: 0.9052 - val_loss: 0.3152 - val_accuracy: 0.9045\n",
      "Epoch 61/300\n",
      "40/40 [==============================] - 0s 3ms/step - loss: 0.3036 - accuracy: 0.9052 - val_loss: 0.3157 - val_accuracy: 0.9045\n",
      "Epoch 62/300\n",
      "40/40 [==============================] - 0s 3ms/step - loss: 0.3032 - accuracy: 0.9052 - val_loss: 0.3145 - val_accuracy: 0.9045\n",
      "Epoch 63/300\n",
      "40/40 [==============================] - 0s 3ms/step - loss: 0.3036 - accuracy: 0.9052 - val_loss: 0.3125 - val_accuracy: 0.9045\n",
      "Epoch 64/300\n",
      "40/40 [==============================] - 0s 3ms/step - loss: 0.3037 - accuracy: 0.9052 - val_loss: 0.3129 - val_accuracy: 0.9045\n",
      "Epoch 65/300\n",
      "40/40 [==============================] - 0s 3ms/step - loss: 0.3033 - accuracy: 0.9052 - val_loss: 0.3142 - val_accuracy: 0.9045\n",
      "Epoch 66/300\n",
      "40/40 [==============================] - 0s 3ms/step - loss: 0.3035 - accuracy: 0.9052 - val_loss: 0.3152 - val_accuracy: 0.9045\n",
      "Epoch 67/300\n",
      "40/40 [==============================] - 0s 3ms/step - loss: 0.3034 - accuracy: 0.9052 - val_loss: 0.3154 - val_accuracy: 0.9045\n",
      "Epoch 68/300\n",
      "40/40 [==============================] - 0s 2ms/step - loss: 0.3028 - accuracy: 0.9052 - val_loss: 0.3150 - val_accuracy: 0.9045\n",
      "Epoch 69/300\n",
      "40/40 [==============================] - 0s 3ms/step - loss: 0.3033 - accuracy: 0.9052 - val_loss: 0.3148 - val_accuracy: 0.9045\n",
      "Epoch 70/300\n",
      "40/40 [==============================] - 0s 3ms/step - loss: 0.3027 - accuracy: 0.9052 - val_loss: 0.3155 - val_accuracy: 0.9045\n",
      "Epoch 71/300\n",
      "40/40 [==============================] - 0s 2ms/step - loss: 0.3025 - accuracy: 0.9052 - val_loss: 0.3151 - val_accuracy: 0.9045\n",
      "Epoch 72/300\n",
      "40/40 [==============================] - 0s 2ms/step - loss: 0.3034 - accuracy: 0.9052 - val_loss: 0.3141 - val_accuracy: 0.9045\n",
      "Epoch 73/300\n",
      "40/40 [==============================] - 0s 2ms/step - loss: 0.3026 - accuracy: 0.9052 - val_loss: 0.3132 - val_accuracy: 0.9045\n",
      "Epoch 74/300\n",
      "40/40 [==============================] - 0s 2ms/step - loss: 0.3024 - accuracy: 0.9052 - val_loss: 0.3147 - val_accuracy: 0.9045\n",
      "Epoch 75/300\n",
      "40/40 [==============================] - 0s 3ms/step - loss: 0.3022 - accuracy: 0.9052 - val_loss: 0.3159 - val_accuracy: 0.9045\n",
      "Epoch 76/300\n",
      "40/40 [==============================] - 0s 2ms/step - loss: 0.3021 - accuracy: 0.9052 - val_loss: 0.3144 - val_accuracy: 0.9045\n",
      "Epoch 77/300\n",
      "40/40 [==============================] - 0s 2ms/step - loss: 0.3020 - accuracy: 0.9052 - val_loss: 0.3140 - val_accuracy: 0.9045\n",
      "Epoch 78/300\n",
      "40/40 [==============================] - 0s 2ms/step - loss: 0.3024 - accuracy: 0.9052 - val_loss: 0.3159 - val_accuracy: 0.9045\n",
      "Epoch 79/300\n",
      "40/40 [==============================] - 0s 3ms/step - loss: 0.3018 - accuracy: 0.9052 - val_loss: 0.3156 - val_accuracy: 0.9045\n",
      "Epoch 80/300\n",
      "40/40 [==============================] - 0s 3ms/step - loss: 0.3015 - accuracy: 0.9052 - val_loss: 0.3134 - val_accuracy: 0.9045\n",
      "Epoch 81/300\n",
      "40/40 [==============================] - 0s 3ms/step - loss: 0.3022 - accuracy: 0.9052 - val_loss: 0.3162 - val_accuracy: 0.9045\n",
      "Epoch 82/300\n",
      "40/40 [==============================] - 0s 3ms/step - loss: 0.3018 - accuracy: 0.9052 - val_loss: 0.3147 - val_accuracy: 0.9045\n",
      "Epoch 83/300\n",
      "40/40 [==============================] - 0s 3ms/step - loss: 0.3016 - accuracy: 0.9052 - val_loss: 0.3146 - val_accuracy: 0.9045\n",
      "Epoch 84/300\n",
      "40/40 [==============================] - 0s 3ms/step - loss: 0.3020 - accuracy: 0.9052 - val_loss: 0.3140 - val_accuracy: 0.9045\n",
      "Epoch 85/300\n",
      "40/40 [==============================] - 0s 2ms/step - loss: 0.3014 - accuracy: 0.9052 - val_loss: 0.3156 - val_accuracy: 0.9045\n",
      "Epoch 86/300\n",
      "40/40 [==============================] - 0s 2ms/step - loss: 0.3015 - accuracy: 0.9052 - val_loss: 0.3149 - val_accuracy: 0.9045\n",
      "Epoch 87/300\n",
      "40/40 [==============================] - 0s 2ms/step - loss: 0.3010 - accuracy: 0.9052 - val_loss: 0.3146 - val_accuracy: 0.9045\n",
      "Epoch 88/300\n",
      "40/40 [==============================] - 0s 2ms/step - loss: 0.3017 - accuracy: 0.9052 - val_loss: 0.3153 - val_accuracy: 0.9045\n",
      "Epoch 89/300\n",
      "40/40 [==============================] - 0s 2ms/step - loss: 0.3012 - accuracy: 0.9052 - val_loss: 0.3140 - val_accuracy: 0.9045\n",
      "Epoch 90/300\n",
      "40/40 [==============================] - 0s 2ms/step - loss: 0.3008 - accuracy: 0.9052 - val_loss: 0.3151 - val_accuracy: 0.9045\n",
      "Epoch 91/300\n",
      "40/40 [==============================] - 0s 2ms/step - loss: 0.3013 - accuracy: 0.9052 - val_loss: 0.3158 - val_accuracy: 0.9045\n",
      "Epoch 92/300\n",
      "40/40 [==============================] - 0s 2ms/step - loss: 0.3014 - accuracy: 0.9052 - val_loss: 0.3163 - val_accuracy: 0.9045\n",
      "Epoch 93/300\n",
      "40/40 [==============================] - 0s 2ms/step - loss: 0.3005 - accuracy: 0.9052 - val_loss: 0.3147 - val_accuracy: 0.9045\n",
      "Epoch 94/300\n",
      "40/40 [==============================] - 0s 2ms/step - loss: 0.3009 - accuracy: 0.9052 - val_loss: 0.3160 - val_accuracy: 0.9045\n",
      "Epoch 95/300\n",
      "40/40 [==============================] - 0s 2ms/step - loss: 0.3007 - accuracy: 0.9052 - val_loss: 0.3143 - val_accuracy: 0.9045\n",
      "Epoch 96/300\n",
      "40/40 [==============================] - 0s 2ms/step - loss: 0.3004 - accuracy: 0.9052 - val_loss: 0.3163 - val_accuracy: 0.9045\n",
      "Epoch 97/300\n",
      "40/40 [==============================] - 0s 2ms/step - loss: 0.3006 - accuracy: 0.9052 - val_loss: 0.3140 - val_accuracy: 0.9045\n",
      "Epoch 98/300\n",
      "40/40 [==============================] - 0s 2ms/step - loss: 0.3004 - accuracy: 0.9052 - val_loss: 0.3165 - val_accuracy: 0.9045\n",
      "Epoch 99/300\n",
      "40/40 [==============================] - 0s 2ms/step - loss: 0.3009 - accuracy: 0.9052 - val_loss: 0.3161 - val_accuracy: 0.9045\n",
      "Epoch 100/300\n",
      "40/40 [==============================] - 0s 2ms/step - loss: 0.3004 - accuracy: 0.9052 - val_loss: 0.3152 - val_accuracy: 0.9045\n",
      "Epoch 101/300\n",
      "40/40 [==============================] - 0s 2ms/step - loss: 0.3002 - accuracy: 0.9052 - val_loss: 0.3148 - val_accuracy: 0.9045\n",
      "Epoch 102/300\n",
      "40/40 [==============================] - 0s 2ms/step - loss: 0.2999 - accuracy: 0.9052 - val_loss: 0.3155 - val_accuracy: 0.9045\n",
      "Epoch 103/300\n",
      "40/40 [==============================] - 0s 2ms/step - loss: 0.3003 - accuracy: 0.9052 - val_loss: 0.3152 - val_accuracy: 0.9045\n",
      "Epoch 104/300\n",
      "40/40 [==============================] - 0s 2ms/step - loss: 0.3000 - accuracy: 0.9052 - val_loss: 0.3161 - val_accuracy: 0.9045\n",
      "Epoch 105/300\n",
      "40/40 [==============================] - 0s 2ms/step - loss: 0.2996 - accuracy: 0.9052 - val_loss: 0.3151 - val_accuracy: 0.9045\n",
      "Epoch 106/300\n",
      "40/40 [==============================] - 0s 2ms/step - loss: 0.3001 - accuracy: 0.9052 - val_loss: 0.3140 - val_accuracy: 0.9045\n",
      "Epoch 107/300\n",
      "40/40 [==============================] - 0s 2ms/step - loss: 0.3000 - accuracy: 0.9052 - val_loss: 0.3146 - val_accuracy: 0.9045\n",
      "Epoch 108/300\n",
      "40/40 [==============================] - 0s 2ms/step - loss: 0.2996 - accuracy: 0.9052 - val_loss: 0.3153 - val_accuracy: 0.9045\n",
      "Epoch 109/300\n",
      "40/40 [==============================] - 0s 2ms/step - loss: 0.2992 - accuracy: 0.9052 - val_loss: 0.3163 - val_accuracy: 0.9045\n",
      "Epoch 110/300\n",
      "40/40 [==============================] - 0s 2ms/step - loss: 0.2994 - accuracy: 0.9052 - val_loss: 0.3144 - val_accuracy: 0.9045\n",
      "Epoch 111/300\n",
      "40/40 [==============================] - 0s 2ms/step - loss: 0.2993 - accuracy: 0.9052 - val_loss: 0.3166 - val_accuracy: 0.9045\n",
      "Epoch 112/300\n",
      "40/40 [==============================] - 0s 2ms/step - loss: 0.2995 - accuracy: 0.9052 - val_loss: 0.3151 - val_accuracy: 0.9045\n",
      "Epoch 113/300\n",
      "40/40 [==============================] - 0s 2ms/step - loss: 0.2995 - accuracy: 0.9052 - val_loss: 0.3160 - val_accuracy: 0.9045\n",
      "Epoch 114/300\n",
      "40/40 [==============================] - 0s 2ms/step - loss: 0.2995 - accuracy: 0.9052 - val_loss: 0.3166 - val_accuracy: 0.9045\n",
      "Epoch 115/300\n",
      "40/40 [==============================] - 0s 2ms/step - loss: 0.2988 - accuracy: 0.9052 - val_loss: 0.3156 - val_accuracy: 0.9045\n",
      "Epoch 116/300\n"
     ]
    },
    {
     "name": "stdout",
     "output_type": "stream",
     "text": [
      "40/40 [==============================] - 0s 2ms/step - loss: 0.2992 - accuracy: 0.9052 - val_loss: 0.3153 - val_accuracy: 0.9045\n",
      "Epoch 117/300\n",
      "40/40 [==============================] - 0s 2ms/step - loss: 0.2988 - accuracy: 0.9052 - val_loss: 0.3168 - val_accuracy: 0.9045\n",
      "Epoch 118/300\n",
      "40/40 [==============================] - 0s 2ms/step - loss: 0.2994 - accuracy: 0.9052 - val_loss: 0.3175 - val_accuracy: 0.9045\n",
      "Epoch 119/300\n",
      "40/40 [==============================] - 0s 2ms/step - loss: 0.2990 - accuracy: 0.9052 - val_loss: 0.3149 - val_accuracy: 0.9045\n",
      "Epoch 120/300\n",
      "40/40 [==============================] - 0s 2ms/step - loss: 0.2991 - accuracy: 0.9052 - val_loss: 0.3164 - val_accuracy: 0.9045\n",
      "Epoch 121/300\n",
      "40/40 [==============================] - 0s 2ms/step - loss: 0.2990 - accuracy: 0.9052 - val_loss: 0.3164 - val_accuracy: 0.9045\n",
      "Epoch 122/300\n",
      "40/40 [==============================] - 0s 2ms/step - loss: 0.2980 - accuracy: 0.9052 - val_loss: 0.3171 - val_accuracy: 0.9045\n",
      "Epoch 123/300\n",
      "40/40 [==============================] - 0s 2ms/step - loss: 0.2987 - accuracy: 0.9052 - val_loss: 0.3191 - val_accuracy: 0.9045\n",
      "Epoch 124/300\n",
      "40/40 [==============================] - 0s 2ms/step - loss: 0.2987 - accuracy: 0.9052 - val_loss: 0.3178 - val_accuracy: 0.9045\n",
      "Epoch 125/300\n",
      "40/40 [==============================] - 0s 2ms/step - loss: 0.2984 - accuracy: 0.9052 - val_loss: 0.3152 - val_accuracy: 0.9045\n",
      "Epoch 126/300\n",
      "40/40 [==============================] - 0s 2ms/step - loss: 0.2978 - accuracy: 0.9052 - val_loss: 0.3158 - val_accuracy: 0.9045\n",
      "Epoch 127/300\n",
      "40/40 [==============================] - 0s 2ms/step - loss: 0.2981 - accuracy: 0.9052 - val_loss: 0.3172 - val_accuracy: 0.9045\n",
      "Epoch 128/300\n",
      "40/40 [==============================] - 0s 2ms/step - loss: 0.2979 - accuracy: 0.9052 - val_loss: 0.3182 - val_accuracy: 0.9045\n",
      "Epoch 129/300\n",
      "40/40 [==============================] - 0s 2ms/step - loss: 0.2982 - accuracy: 0.9052 - val_loss: 0.3162 - val_accuracy: 0.9045\n",
      "Epoch 130/300\n",
      "40/40 [==============================] - 0s 2ms/step - loss: 0.2979 - accuracy: 0.9052 - val_loss: 0.3159 - val_accuracy: 0.9045\n",
      "Epoch 131/300\n",
      "40/40 [==============================] - 0s 2ms/step - loss: 0.2976 - accuracy: 0.9052 - val_loss: 0.3166 - val_accuracy: 0.9045\n",
      "Epoch 132/300\n",
      "40/40 [==============================] - 0s 2ms/step - loss: 0.2977 - accuracy: 0.9052 - val_loss: 0.3165 - val_accuracy: 0.9045\n",
      "Epoch 133/300\n",
      "40/40 [==============================] - 0s 2ms/step - loss: 0.2976 - accuracy: 0.9052 - val_loss: 0.3168 - val_accuracy: 0.9045\n",
      "Epoch 134/300\n",
      "40/40 [==============================] - 0s 2ms/step - loss: 0.2977 - accuracy: 0.9052 - val_loss: 0.3179 - val_accuracy: 0.9045\n",
      "Epoch 135/300\n",
      "40/40 [==============================] - 0s 2ms/step - loss: 0.2974 - accuracy: 0.9052 - val_loss: 0.3194 - val_accuracy: 0.9045\n",
      "Epoch 136/300\n",
      "40/40 [==============================] - 0s 2ms/step - loss: 0.2976 - accuracy: 0.9052 - val_loss: 0.3174 - val_accuracy: 0.9045\n",
      "Epoch 137/300\n",
      "40/40 [==============================] - 0s 2ms/step - loss: 0.2971 - accuracy: 0.9052 - val_loss: 0.3180 - val_accuracy: 0.9045\n",
      "Epoch 138/300\n",
      "40/40 [==============================] - 0s 2ms/step - loss: 0.2973 - accuracy: 0.9052 - val_loss: 0.3180 - val_accuracy: 0.9045\n",
      "Epoch 139/300\n",
      "40/40 [==============================] - 0s 2ms/step - loss: 0.2980 - accuracy: 0.9052 - val_loss: 0.3159 - val_accuracy: 0.9045\n",
      "Epoch 140/300\n",
      "40/40 [==============================] - 0s 2ms/step - loss: 0.2968 - accuracy: 0.9052 - val_loss: 0.3184 - val_accuracy: 0.9045\n",
      "Epoch 141/300\n",
      "40/40 [==============================] - 0s 2ms/step - loss: 0.2971 - accuracy: 0.9052 - val_loss: 0.3186 - val_accuracy: 0.9045\n",
      "Epoch 142/300\n",
      "40/40 [==============================] - 0s 2ms/step - loss: 0.2973 - accuracy: 0.9052 - val_loss: 0.3177 - val_accuracy: 0.9045\n",
      "Epoch 143/300\n",
      "40/40 [==============================] - 0s 2ms/step - loss: 0.2978 - accuracy: 0.9052 - val_loss: 0.3168 - val_accuracy: 0.9045\n",
      "Epoch 144/300\n",
      "40/40 [==============================] - 0s 2ms/step - loss: 0.2976 - accuracy: 0.9052 - val_loss: 0.3192 - val_accuracy: 0.9045\n",
      "Epoch 145/300\n",
      "40/40 [==============================] - 0s 2ms/step - loss: 0.2964 - accuracy: 0.9052 - val_loss: 0.3160 - val_accuracy: 0.9045\n",
      "Epoch 146/300\n",
      "40/40 [==============================] - 0s 2ms/step - loss: 0.2966 - accuracy: 0.9052 - val_loss: 0.3180 - val_accuracy: 0.9045\n",
      "Epoch 147/300\n",
      "40/40 [==============================] - 0s 2ms/step - loss: 0.2969 - accuracy: 0.9052 - val_loss: 0.3209 - val_accuracy: 0.9045\n",
      "Epoch 148/300\n",
      "40/40 [==============================] - 0s 2ms/step - loss: 0.2973 - accuracy: 0.9052 - val_loss: 0.3170 - val_accuracy: 0.9045\n",
      "Epoch 149/300\n",
      "40/40 [==============================] - 0s 2ms/step - loss: 0.2972 - accuracy: 0.9052 - val_loss: 0.3190 - val_accuracy: 0.9045\n",
      "Epoch 150/300\n",
      "40/40 [==============================] - 0s 2ms/step - loss: 0.2967 - accuracy: 0.9052 - val_loss: 0.3206 - val_accuracy: 0.9045\n",
      "Epoch 151/300\n",
      "40/40 [==============================] - 0s 2ms/step - loss: 0.2963 - accuracy: 0.9052 - val_loss: 0.3183 - val_accuracy: 0.9045\n",
      "Epoch 152/300\n",
      "40/40 [==============================] - 0s 2ms/step - loss: 0.2967 - accuracy: 0.9052 - val_loss: 0.3184 - val_accuracy: 0.9045\n",
      "Epoch 153/300\n",
      "40/40 [==============================] - 0s 2ms/step - loss: 0.2959 - accuracy: 0.9052 - val_loss: 0.3163 - val_accuracy: 0.9045\n",
      "Epoch 154/300\n",
      "40/40 [==============================] - 0s 2ms/step - loss: 0.2961 - accuracy: 0.9052 - val_loss: 0.3187 - val_accuracy: 0.9045\n",
      "Epoch 155/300\n",
      "40/40 [==============================] - 0s 2ms/step - loss: 0.2962 - accuracy: 0.9052 - val_loss: 0.3179 - val_accuracy: 0.9045\n",
      "Epoch 156/300\n",
      "40/40 [==============================] - 0s 2ms/step - loss: 0.2954 - accuracy: 0.9052 - val_loss: 0.3179 - val_accuracy: 0.9045\n",
      "Epoch 157/300\n",
      "40/40 [==============================] - 0s 2ms/step - loss: 0.2954 - accuracy: 0.9052 - val_loss: 0.3195 - val_accuracy: 0.9045\n",
      "Epoch 158/300\n",
      "40/40 [==============================] - 0s 2ms/step - loss: 0.2961 - accuracy: 0.9052 - val_loss: 0.3202 - val_accuracy: 0.9045\n",
      "Epoch 159/300\n",
      "40/40 [==============================] - 0s 2ms/step - loss: 0.2963 - accuracy: 0.9052 - val_loss: 0.3201 - val_accuracy: 0.9045\n",
      "Epoch 160/300\n",
      "40/40 [==============================] - 0s 2ms/step - loss: 0.2953 - accuracy: 0.9052 - val_loss: 0.3196 - val_accuracy: 0.9045\n",
      "Epoch 161/300\n",
      "40/40 [==============================] - 0s 2ms/step - loss: 0.2961 - accuracy: 0.9052 - val_loss: 0.3185 - val_accuracy: 0.9045\n",
      "Epoch 162/300\n",
      "40/40 [==============================] - 0s 2ms/step - loss: 0.2954 - accuracy: 0.9052 - val_loss: 0.3192 - val_accuracy: 0.9045\n",
      "Epoch 163/300\n",
      "40/40 [==============================] - 0s 2ms/step - loss: 0.2952 - accuracy: 0.9052 - val_loss: 0.3194 - val_accuracy: 0.9045\n",
      "Epoch 164/300\n",
      "40/40 [==============================] - 0s 2ms/step - loss: 0.2953 - accuracy: 0.9052 - val_loss: 0.3188 - val_accuracy: 0.9045\n",
      "Epoch 165/300\n",
      "40/40 [==============================] - 0s 2ms/step - loss: 0.2949 - accuracy: 0.9052 - val_loss: 0.3199 - val_accuracy: 0.9045\n",
      "Epoch 166/300\n",
      "40/40 [==============================] - 0s 2ms/step - loss: 0.2952 - accuracy: 0.9052 - val_loss: 0.3199 - val_accuracy: 0.9045\n",
      "Epoch 167/300\n",
      "40/40 [==============================] - 0s 2ms/step - loss: 0.2947 - accuracy: 0.9052 - val_loss: 0.3191 - val_accuracy: 0.9045\n",
      "Epoch 168/300\n",
      "40/40 [==============================] - 0s 2ms/step - loss: 0.2951 - accuracy: 0.9052 - val_loss: 0.3187 - val_accuracy: 0.9045\n",
      "Epoch 169/300\n",
      "40/40 [==============================] - 0s 2ms/step - loss: 0.2952 - accuracy: 0.9052 - val_loss: 0.3220 - val_accuracy: 0.9045\n",
      "Epoch 170/300\n",
      "40/40 [==============================] - 0s 2ms/step - loss: 0.2955 - accuracy: 0.9052 - val_loss: 0.3197 - val_accuracy: 0.9045\n",
      "Epoch 171/300\n",
      "40/40 [==============================] - 0s 2ms/step - loss: 0.2946 - accuracy: 0.9052 - val_loss: 0.3207 - val_accuracy: 0.9045\n",
      "Epoch 172/300\n",
      "40/40 [==============================] - 0s 2ms/step - loss: 0.2945 - accuracy: 0.9052 - val_loss: 0.3182 - val_accuracy: 0.9045\n",
      "Epoch 173/300\n"
     ]
    },
    {
     "name": "stdout",
     "output_type": "stream",
     "text": [
      "40/40 [==============================] - 0s 2ms/step - loss: 0.2965 - accuracy: 0.9052 - val_loss: 0.3194 - val_accuracy: 0.9045\n",
      "Epoch 174/300\n",
      "40/40 [==============================] - 0s 2ms/step - loss: 0.2950 - accuracy: 0.9052 - val_loss: 0.3200 - val_accuracy: 0.9045\n",
      "Epoch 175/300\n",
      "40/40 [==============================] - 0s 2ms/step - loss: 0.2943 - accuracy: 0.9052 - val_loss: 0.3196 - val_accuracy: 0.9045\n",
      "Epoch 176/300\n",
      "40/40 [==============================] - 0s 2ms/step - loss: 0.2947 - accuracy: 0.9052 - val_loss: 0.3192 - val_accuracy: 0.9045\n",
      "Epoch 177/300\n",
      "40/40 [==============================] - 0s 2ms/step - loss: 0.2946 - accuracy: 0.9052 - val_loss: 0.3183 - val_accuracy: 0.9045\n",
      "Epoch 178/300\n",
      "40/40 [==============================] - 0s 2ms/step - loss: 0.2936 - accuracy: 0.9052 - val_loss: 0.3214 - val_accuracy: 0.9045\n",
      "Epoch 179/300\n",
      "40/40 [==============================] - 0s 2ms/step - loss: 0.2948 - accuracy: 0.9052 - val_loss: 0.3228 - val_accuracy: 0.9045\n",
      "Epoch 180/300\n",
      "40/40 [==============================] - 0s 2ms/step - loss: 0.2946 - accuracy: 0.9052 - val_loss: 0.3199 - val_accuracy: 0.9045\n",
      "Epoch 181/300\n",
      "40/40 [==============================] - 0s 2ms/step - loss: 0.2940 - accuracy: 0.9052 - val_loss: 0.3191 - val_accuracy: 0.9045\n",
      "Epoch 182/300\n",
      "40/40 [==============================] - 0s 2ms/step - loss: 0.2942 - accuracy: 0.9052 - val_loss: 0.3237 - val_accuracy: 0.9045\n",
      "Epoch 183/300\n",
      "40/40 [==============================] - 0s 2ms/step - loss: 0.2943 - accuracy: 0.9052 - val_loss: 0.3206 - val_accuracy: 0.9045\n",
      "Epoch 184/300\n",
      "40/40 [==============================] - 0s 2ms/step - loss: 0.2946 - accuracy: 0.9052 - val_loss: 0.3206 - val_accuracy: 0.9045\n",
      "Epoch 185/300\n",
      "40/40 [==============================] - 0s 2ms/step - loss: 0.2941 - accuracy: 0.9052 - val_loss: 0.3194 - val_accuracy: 0.9045\n",
      "Epoch 186/300\n",
      "40/40 [==============================] - 0s 2ms/step - loss: 0.2940 - accuracy: 0.9052 - val_loss: 0.3214 - val_accuracy: 0.9045\n",
      "Epoch 187/300\n",
      "40/40 [==============================] - 0s 2ms/step - loss: 0.2939 - accuracy: 0.9052 - val_loss: 0.3209 - val_accuracy: 0.9045\n",
      "Epoch 188/300\n",
      "40/40 [==============================] - 0s 2ms/step - loss: 0.2938 - accuracy: 0.9052 - val_loss: 0.3230 - val_accuracy: 0.9045\n",
      "Epoch 189/300\n",
      "40/40 [==============================] - 0s 2ms/step - loss: 0.2939 - accuracy: 0.9052 - val_loss: 0.3205 - val_accuracy: 0.9045\n",
      "Epoch 190/300\n",
      "40/40 [==============================] - 0s 2ms/step - loss: 0.2934 - accuracy: 0.9052 - val_loss: 0.3216 - val_accuracy: 0.9045\n",
      "Epoch 191/300\n",
      "40/40 [==============================] - 0s 2ms/step - loss: 0.2944 - accuracy: 0.9052 - val_loss: 0.3211 - val_accuracy: 0.9045\n",
      "Epoch 192/300\n",
      "40/40 [==============================] - 0s 2ms/step - loss: 0.2939 - accuracy: 0.9052 - val_loss: 0.3247 - val_accuracy: 0.9045\n",
      "Epoch 193/300\n",
      "40/40 [==============================] - 0s 2ms/step - loss: 0.2929 - accuracy: 0.9052 - val_loss: 0.3209 - val_accuracy: 0.9045\n",
      "Epoch 194/300\n",
      "40/40 [==============================] - 0s 2ms/step - loss: 0.2933 - accuracy: 0.9052 - val_loss: 0.3219 - val_accuracy: 0.9045\n",
      "Epoch 195/300\n",
      "40/40 [==============================] - 0s 2ms/step - loss: 0.2933 - accuracy: 0.9052 - val_loss: 0.3200 - val_accuracy: 0.9045\n",
      "Epoch 196/300\n",
      "40/40 [==============================] - 0s 2ms/step - loss: 0.2933 - accuracy: 0.9052 - val_loss: 0.3229 - val_accuracy: 0.9045\n",
      "Epoch 197/300\n",
      "40/40 [==============================] - 0s 2ms/step - loss: 0.2931 - accuracy: 0.9052 - val_loss: 0.3199 - val_accuracy: 0.9045\n",
      "Epoch 198/300\n",
      "40/40 [==============================] - 0s 2ms/step - loss: 0.2937 - accuracy: 0.9052 - val_loss: 0.3235 - val_accuracy: 0.9045\n",
      "Epoch 199/300\n",
      "40/40 [==============================] - 0s 2ms/step - loss: 0.2939 - accuracy: 0.9052 - val_loss: 0.3224 - val_accuracy: 0.9045\n",
      "Epoch 200/300\n",
      "40/40 [==============================] - 0s 2ms/step - loss: 0.2934 - accuracy: 0.9052 - val_loss: 0.3235 - val_accuracy: 0.9045\n",
      "Epoch 201/300\n",
      "40/40 [==============================] - 0s 2ms/step - loss: 0.2932 - accuracy: 0.9052 - val_loss: 0.3200 - val_accuracy: 0.9045\n",
      "Epoch 202/300\n",
      "40/40 [==============================] - 0s 2ms/step - loss: 0.2937 - accuracy: 0.9052 - val_loss: 0.3215 - val_accuracy: 0.9045\n",
      "Epoch 203/300\n",
      "40/40 [==============================] - 0s 2ms/step - loss: 0.2929 - accuracy: 0.9052 - val_loss: 0.3233 - val_accuracy: 0.9045\n",
      "Epoch 204/300\n",
      "40/40 [==============================] - 0s 2ms/step - loss: 0.2932 - accuracy: 0.9052 - val_loss: 0.3268 - val_accuracy: 0.9045\n",
      "Epoch 205/300\n",
      "40/40 [==============================] - 0s 2ms/step - loss: 0.2933 - accuracy: 0.9052 - val_loss: 0.3233 - val_accuracy: 0.9045\n",
      "Epoch 206/300\n",
      "40/40 [==============================] - 0s 2ms/step - loss: 0.2925 - accuracy: 0.9052 - val_loss: 0.3219 - val_accuracy: 0.9045\n",
      "Epoch 207/300\n",
      "40/40 [==============================] - 0s 2ms/step - loss: 0.2930 - accuracy: 0.9052 - val_loss: 0.3234 - val_accuracy: 0.9045\n",
      "Epoch 208/300\n",
      "40/40 [==============================] - 0s 2ms/step - loss: 0.2925 - accuracy: 0.9052 - val_loss: 0.3203 - val_accuracy: 0.9045\n",
      "Epoch 209/300\n",
      "40/40 [==============================] - 0s 2ms/step - loss: 0.2926 - accuracy: 0.9052 - val_loss: 0.3251 - val_accuracy: 0.9045\n",
      "Epoch 210/300\n",
      "40/40 [==============================] - 0s 2ms/step - loss: 0.2927 - accuracy: 0.9052 - val_loss: 0.3234 - val_accuracy: 0.9045\n",
      "Epoch 211/300\n",
      "40/40 [==============================] - 0s 2ms/step - loss: 0.2927 - accuracy: 0.9052 - val_loss: 0.3228 - val_accuracy: 0.9045\n",
      "Epoch 212/300\n",
      "40/40 [==============================] - 0s 2ms/step - loss: 0.2927 - accuracy: 0.9052 - val_loss: 0.3228 - val_accuracy: 0.9045\n",
      "Epoch 213/300\n",
      "40/40 [==============================] - 0s 2ms/step - loss: 0.2926 - accuracy: 0.9052 - val_loss: 0.3226 - val_accuracy: 0.9045\n",
      "Epoch 214/300\n",
      "40/40 [==============================] - 0s 2ms/step - loss: 0.2923 - accuracy: 0.9052 - val_loss: 0.3238 - val_accuracy: 0.9045\n",
      "Epoch 215/300\n",
      "40/40 [==============================] - 0s 2ms/step - loss: 0.2920 - accuracy: 0.9052 - val_loss: 0.3244 - val_accuracy: 0.9045\n",
      "Epoch 216/300\n",
      "40/40 [==============================] - 0s 2ms/step - loss: 0.2924 - accuracy: 0.9052 - val_loss: 0.3238 - val_accuracy: 0.9045\n",
      "Epoch 217/300\n",
      "40/40 [==============================] - 0s 3ms/step - loss: 0.2920 - accuracy: 0.9052 - val_loss: 0.3223 - val_accuracy: 0.9045\n",
      "Epoch 218/300\n",
      "40/40 [==============================] - 0s 3ms/step - loss: 0.2920 - accuracy: 0.9052 - val_loss: 0.3234 - val_accuracy: 0.9045\n",
      "Epoch 219/300\n",
      "40/40 [==============================] - 0s 2ms/step - loss: 0.2918 - accuracy: 0.9052 - val_loss: 0.3234 - val_accuracy: 0.9045\n",
      "Epoch 220/300\n",
      "40/40 [==============================] - 0s 3ms/step - loss: 0.2921 - accuracy: 0.9052 - val_loss: 0.3251 - val_accuracy: 0.9045\n",
      "Epoch 221/300\n",
      "40/40 [==============================] - 0s 2ms/step - loss: 0.2915 - accuracy: 0.9052 - val_loss: 0.3241 - val_accuracy: 0.9045\n",
      "Epoch 222/300\n",
      "40/40 [==============================] - 0s 3ms/step - loss: 0.2916 - accuracy: 0.9052 - val_loss: 0.3232 - val_accuracy: 0.9045\n",
      "Epoch 223/300\n",
      "40/40 [==============================] - 0s 2ms/step - loss: 0.2930 - accuracy: 0.9052 - val_loss: 0.3226 - val_accuracy: 0.9045\n",
      "Epoch 224/300\n",
      "40/40 [==============================] - 0s 2ms/step - loss: 0.2930 - accuracy: 0.9052 - val_loss: 0.3279 - val_accuracy: 0.9045\n",
      "Epoch 225/300\n",
      "40/40 [==============================] - 0s 3ms/step - loss: 0.2923 - accuracy: 0.9052 - val_loss: 0.3248 - val_accuracy: 0.9045\n",
      "Epoch 226/300\n",
      "40/40 [==============================] - 0s 2ms/step - loss: 0.2916 - accuracy: 0.9052 - val_loss: 0.3223 - val_accuracy: 0.9045\n",
      "Epoch 227/300\n",
      "40/40 [==============================] - 0s 2ms/step - loss: 0.2915 - accuracy: 0.9052 - val_loss: 0.3270 - val_accuracy: 0.9045\n",
      "Epoch 228/300\n",
      "40/40 [==============================] - 0s 3ms/step - loss: 0.2916 - accuracy: 0.9052 - val_loss: 0.3264 - val_accuracy: 0.9045\n",
      "Epoch 229/300\n",
      "40/40 [==============================] - 0s 2ms/step - loss: 0.2911 - accuracy: 0.9052 - val_loss: 0.3228 - val_accuracy: 0.9045\n",
      "Epoch 230/300\n"
     ]
    },
    {
     "name": "stdout",
     "output_type": "stream",
     "text": [
      "40/40 [==============================] - 0s 3ms/step - loss: 0.2906 - accuracy: 0.9052 - val_loss: 0.3259 - val_accuracy: 0.9045\n",
      "Epoch 231/300\n",
      "40/40 [==============================] - 0s 2ms/step - loss: 0.2914 - accuracy: 0.9052 - val_loss: 0.3265 - val_accuracy: 0.9045\n",
      "Epoch 232/300\n",
      "40/40 [==============================] - 0s 2ms/step - loss: 0.2914 - accuracy: 0.9052 - val_loss: 0.3272 - val_accuracy: 0.9045\n",
      "Epoch 233/300\n",
      "40/40 [==============================] - 0s 2ms/step - loss: 0.2912 - accuracy: 0.9052 - val_loss: 0.3222 - val_accuracy: 0.9045\n",
      "Epoch 234/300\n",
      "40/40 [==============================] - 0s 2ms/step - loss: 0.2909 - accuracy: 0.9052 - val_loss: 0.3257 - val_accuracy: 0.9045\n",
      "Epoch 235/300\n",
      "40/40 [==============================] - 0s 2ms/step - loss: 0.2917 - accuracy: 0.9052 - val_loss: 0.3254 - val_accuracy: 0.9045\n",
      "Epoch 236/300\n",
      "40/40 [==============================] - 0s 2ms/step - loss: 0.2907 - accuracy: 0.9052 - val_loss: 0.3267 - val_accuracy: 0.9045\n",
      "Epoch 237/300\n",
      "40/40 [==============================] - 0s 2ms/step - loss: 0.2919 - accuracy: 0.9052 - val_loss: 0.3222 - val_accuracy: 0.9045\n",
      "Epoch 238/300\n",
      "40/40 [==============================] - 0s 2ms/step - loss: 0.2908 - accuracy: 0.9052 - val_loss: 0.3251 - val_accuracy: 0.9045\n",
      "Epoch 239/300\n",
      "40/40 [==============================] - 0s 2ms/step - loss: 0.2907 - accuracy: 0.9052 - val_loss: 0.3241 - val_accuracy: 0.9045\n",
      "Epoch 240/300\n",
      "40/40 [==============================] - 0s 2ms/step - loss: 0.2909 - accuracy: 0.9052 - val_loss: 0.3252 - val_accuracy: 0.9045\n",
      "Epoch 241/300\n",
      "40/40 [==============================] - 0s 2ms/step - loss: 0.2916 - accuracy: 0.9052 - val_loss: 0.3247 - val_accuracy: 0.9045\n",
      "Epoch 242/300\n",
      "40/40 [==============================] - 0s 2ms/step - loss: 0.2917 - accuracy: 0.9052 - val_loss: 0.3239 - val_accuracy: 0.9045\n",
      "Epoch 243/300\n",
      "40/40 [==============================] - 0s 3ms/step - loss: 0.2901 - accuracy: 0.9052 - val_loss: 0.3264 - val_accuracy: 0.9045\n",
      "Epoch 244/300\n",
      "40/40 [==============================] - 0s 3ms/step - loss: 0.2906 - accuracy: 0.9052 - val_loss: 0.3262 - val_accuracy: 0.9045\n",
      "Epoch 245/300\n",
      "40/40 [==============================] - 0s 2ms/step - loss: 0.2909 - accuracy: 0.9052 - val_loss: 0.3252 - val_accuracy: 0.9045\n",
      "Epoch 246/300\n",
      "40/40 [==============================] - 0s 2ms/step - loss: 0.2901 - accuracy: 0.9052 - val_loss: 0.3256 - val_accuracy: 0.9045\n",
      "Epoch 247/300\n",
      "40/40 [==============================] - 0s 2ms/step - loss: 0.2901 - accuracy: 0.9052 - val_loss: 0.3260 - val_accuracy: 0.9045\n",
      "Epoch 248/300\n",
      "40/40 [==============================] - 0s 2ms/step - loss: 0.2904 - accuracy: 0.9052 - val_loss: 0.3253 - val_accuracy: 0.9045\n",
      "Epoch 249/300\n",
      "40/40 [==============================] - 0s 2ms/step - loss: 0.2891 - accuracy: 0.9056 - val_loss: 0.3291 - val_accuracy: 0.9045\n",
      "Epoch 250/300\n",
      "40/40 [==============================] - 0s 2ms/step - loss: 0.2921 - accuracy: 0.9052 - val_loss: 0.3240 - val_accuracy: 0.9045\n",
      "Epoch 251/300\n",
      "40/40 [==============================] - 0s 2ms/step - loss: 0.2905 - accuracy: 0.9052 - val_loss: 0.3305 - val_accuracy: 0.9045\n",
      "Epoch 252/300\n",
      "40/40 [==============================] - 0s 2ms/step - loss: 0.2913 - accuracy: 0.9056 - val_loss: 0.3274 - val_accuracy: 0.9045\n",
      "Epoch 253/300\n",
      "40/40 [==============================] - 0s 2ms/step - loss: 0.2902 - accuracy: 0.9052 - val_loss: 0.3257 - val_accuracy: 0.9045\n",
      "Epoch 254/300\n",
      "40/40 [==============================] - 0s 2ms/step - loss: 0.2903 - accuracy: 0.9052 - val_loss: 0.3269 - val_accuracy: 0.9045\n",
      "Epoch 255/300\n",
      "40/40 [==============================] - 0s 2ms/step - loss: 0.2904 - accuracy: 0.9052 - val_loss: 0.3251 - val_accuracy: 0.9045\n",
      "Epoch 256/300\n",
      "40/40 [==============================] - 0s 2ms/step - loss: 0.2894 - accuracy: 0.9052 - val_loss: 0.3295 - val_accuracy: 0.9045\n",
      "Epoch 257/300\n",
      "40/40 [==============================] - 0s 2ms/step - loss: 0.2904 - accuracy: 0.9052 - val_loss: 0.3282 - val_accuracy: 0.9045\n",
      "Epoch 258/300\n",
      "40/40 [==============================] - 0s 2ms/step - loss: 0.2896 - accuracy: 0.9052 - val_loss: 0.3264 - val_accuracy: 0.9045\n",
      "Epoch 259/300\n",
      "40/40 [==============================] - 0s 2ms/step - loss: 0.2893 - accuracy: 0.9052 - val_loss: 0.3296 - val_accuracy: 0.9045\n",
      "Epoch 260/300\n",
      "40/40 [==============================] - 0s 2ms/step - loss: 0.2898 - accuracy: 0.9052 - val_loss: 0.3287 - val_accuracy: 0.9045\n",
      "Epoch 261/300\n",
      "40/40 [==============================] - 0s 2ms/step - loss: 0.2899 - accuracy: 0.9056 - val_loss: 0.3280 - val_accuracy: 0.9045\n",
      "Epoch 262/300\n",
      "40/40 [==============================] - 0s 2ms/step - loss: 0.2895 - accuracy: 0.9052 - val_loss: 0.3291 - val_accuracy: 0.9045\n",
      "Epoch 263/300\n",
      "40/40 [==============================] - 0s 2ms/step - loss: 0.2896 - accuracy: 0.9052 - val_loss: 0.3287 - val_accuracy: 0.9045\n",
      "Epoch 264/300\n",
      "40/40 [==============================] - 0s 2ms/step - loss: 0.2890 - accuracy: 0.9052 - val_loss: 0.3282 - val_accuracy: 0.9045\n",
      "Epoch 265/300\n",
      "40/40 [==============================] - 0s 2ms/step - loss: 0.2894 - accuracy: 0.9052 - val_loss: 0.3282 - val_accuracy: 0.9045\n",
      "Epoch 266/300\n",
      "40/40 [==============================] - 0s 2ms/step - loss: 0.2898 - accuracy: 0.9052 - val_loss: 0.3314 - val_accuracy: 0.9045\n",
      "Epoch 267/300\n",
      "40/40 [==============================] - 0s 2ms/step - loss: 0.2892 - accuracy: 0.9056 - val_loss: 0.3307 - val_accuracy: 0.9045\n",
      "Epoch 268/300\n",
      "40/40 [==============================] - 0s 2ms/step - loss: 0.2895 - accuracy: 0.9056 - val_loss: 0.3276 - val_accuracy: 0.9045\n",
      "Epoch 269/300\n",
      "40/40 [==============================] - 0s 2ms/step - loss: 0.2888 - accuracy: 0.9052 - val_loss: 0.3304 - val_accuracy: 0.9045\n",
      "Epoch 270/300\n",
      "40/40 [==============================] - 0s 2ms/step - loss: 0.2908 - accuracy: 0.9052 - val_loss: 0.3266 - val_accuracy: 0.9045\n",
      "Epoch 271/300\n",
      "40/40 [==============================] - 0s 2ms/step - loss: 0.2891 - accuracy: 0.9056 - val_loss: 0.3312 - val_accuracy: 0.9045\n",
      "Epoch 272/300\n",
      "40/40 [==============================] - 0s 2ms/step - loss: 0.2899 - accuracy: 0.9056 - val_loss: 0.3247 - val_accuracy: 0.9045\n",
      "Epoch 273/300\n",
      "40/40 [==============================] - 0s 2ms/step - loss: 0.2897 - accuracy: 0.9052 - val_loss: 0.3331 - val_accuracy: 0.9045\n",
      "Epoch 274/300\n",
      "40/40 [==============================] - 0s 2ms/step - loss: 0.2899 - accuracy: 0.9052 - val_loss: 0.3306 - val_accuracy: 0.9045\n",
      "Epoch 275/300\n",
      "40/40 [==============================] - 0s 2ms/step - loss: 0.2889 - accuracy: 0.9056 - val_loss: 0.3282 - val_accuracy: 0.9045\n",
      "Epoch 276/300\n",
      "40/40 [==============================] - 0s 2ms/step - loss: 0.2892 - accuracy: 0.9052 - val_loss: 0.3285 - val_accuracy: 0.9045\n",
      "Epoch 277/300\n",
      "40/40 [==============================] - 0s 2ms/step - loss: 0.2889 - accuracy: 0.9052 - val_loss: 0.3315 - val_accuracy: 0.9045\n",
      "Epoch 278/300\n",
      "40/40 [==============================] - 0s 2ms/step - loss: 0.2891 - accuracy: 0.9060 - val_loss: 0.3251 - val_accuracy: 0.9045\n",
      "Epoch 279/300\n",
      "40/40 [==============================] - 0s 2ms/step - loss: 0.2893 - accuracy: 0.9056 - val_loss: 0.3296 - val_accuracy: 0.9045\n",
      "Epoch 280/300\n",
      "40/40 [==============================] - 0s 2ms/step - loss: 0.2899 - accuracy: 0.9056 - val_loss: 0.3292 - val_accuracy: 0.9045\n",
      "Epoch 281/300\n",
      "40/40 [==============================] - 0s 2ms/step - loss: 0.2886 - accuracy: 0.9052 - val_loss: 0.3300 - val_accuracy: 0.9045\n",
      "Epoch 282/300\n",
      "40/40 [==============================] - 0s 2ms/step - loss: 0.2887 - accuracy: 0.9056 - val_loss: 0.3289 - val_accuracy: 0.9045\n",
      "Epoch 283/300\n",
      "40/40 [==============================] - 0s 2ms/step - loss: 0.2887 - accuracy: 0.9052 - val_loss: 0.3289 - val_accuracy: 0.9045\n",
      "Epoch 284/300\n",
      "40/40 [==============================] - 0s 2ms/step - loss: 0.2894 - accuracy: 0.9052 - val_loss: 0.3306 - val_accuracy: 0.9045\n",
      "Epoch 285/300\n",
      "40/40 [==============================] - 0s 2ms/step - loss: 0.2883 - accuracy: 0.9056 - val_loss: 0.3257 - val_accuracy: 0.9045\n",
      "Epoch 286/300\n",
      "40/40 [==============================] - 0s 2ms/step - loss: 0.2895 - accuracy: 0.9052 - val_loss: 0.3287 - val_accuracy: 0.9045\n",
      "Epoch 287/300\n"
     ]
    },
    {
     "name": "stdout",
     "output_type": "stream",
     "text": [
      "40/40 [==============================] - 0s 2ms/step - loss: 0.2891 - accuracy: 0.9056 - val_loss: 0.3315 - val_accuracy: 0.9045\n",
      "Epoch 288/300\n",
      "40/40 [==============================] - 0s 2ms/step - loss: 0.2889 - accuracy: 0.9060 - val_loss: 0.3262 - val_accuracy: 0.9045\n",
      "Epoch 289/300\n",
      "40/40 [==============================] - 0s 2ms/step - loss: 0.2885 - accuracy: 0.9056 - val_loss: 0.3328 - val_accuracy: 0.9045\n",
      "Epoch 290/300\n",
      "40/40 [==============================] - 0s 2ms/step - loss: 0.2880 - accuracy: 0.9056 - val_loss: 0.3320 - val_accuracy: 0.9045\n",
      "Epoch 291/300\n",
      "40/40 [==============================] - 0s 2ms/step - loss: 0.2885 - accuracy: 0.9056 - val_loss: 0.3318 - val_accuracy: 0.9045\n",
      "Epoch 292/300\n",
      "40/40 [==============================] - 0s 2ms/step - loss: 0.2884 - accuracy: 0.9056 - val_loss: 0.3297 - val_accuracy: 0.9045\n",
      "Epoch 293/300\n",
      "40/40 [==============================] - 0s 2ms/step - loss: 0.2883 - accuracy: 0.9060 - val_loss: 0.3311 - val_accuracy: 0.9045\n",
      "Epoch 294/300\n",
      "40/40 [==============================] - 0s 2ms/step - loss: 0.2886 - accuracy: 0.9056 - val_loss: 0.3260 - val_accuracy: 0.9045\n",
      "Epoch 295/300\n",
      "40/40 [==============================] - 0s 2ms/step - loss: 0.2879 - accuracy: 0.9052 - val_loss: 0.3318 - val_accuracy: 0.9045\n",
      "Epoch 296/300\n",
      "40/40 [==============================] - 0s 2ms/step - loss: 0.2887 - accuracy: 0.9060 - val_loss: 0.3299 - val_accuracy: 0.9045\n",
      "Epoch 297/300\n",
      "40/40 [==============================] - 0s 2ms/step - loss: 0.2878 - accuracy: 0.9052 - val_loss: 0.3316 - val_accuracy: 0.9045\n",
      "Epoch 298/300\n",
      "40/40 [==============================] - 0s 2ms/step - loss: 0.2881 - accuracy: 0.9060 - val_loss: 0.3344 - val_accuracy: 0.9045\n",
      "Epoch 299/300\n",
      "40/40 [==============================] - 0s 2ms/step - loss: 0.2884 - accuracy: 0.9056 - val_loss: 0.3315 - val_accuracy: 0.9045\n",
      "Epoch 300/300\n",
      "40/40 [==============================] - 0s 2ms/step - loss: 0.2877 - accuracy: 0.9060 - val_loss: 0.3339 - val_accuracy: 0.9045\n",
      "20/20 [==============================] - 0s 868us/step\n",
      "Acc Score:  0.9045383411580594\n",
      "Roc Auc Score:  0.5\n",
      "f1 score:  0.0\n"
     ]
    }
   ],
   "source": [
    "np.digitize(y_test, [0, 1]) - 1\n",
    "nb_classes = 2\n",
    "y_train = np.eye(nb_classes)[y_train]\n",
    "y_test = np.eye(nb_classes)[y_test]\n",
    "\n",
    "import keras\n",
    "from keras.layers import Dense, Softmax\n",
    "model = keras.Sequential()\n",
    "#model.add(Dense(69, kernel_initializer='normal', activation='relu', input_shape=(23,)))\n",
    "model.add(Dense(16, kernel_initializer='normal', activation='relu', input_shape=(20,)))\n",
    "model.add(Dense(4, kernel_initializer='normal', activation='relu'))\n",
    "model.add(Dense(2, kernel_initializer='normal', activation='softmax'))\n",
    "#loss_fn = keras.losses.SparseCategoricalCrossentropy(from_logits=True)\n",
    "model.compile(loss='categorical_crossentropy', optimizer='Adam', metrics='accuracy', )\n",
    "model.fit(X_train, y_train, validation_data=(X_test, y_test), verbose=1, epochs=300, batch_size=64, shuffle=True)\n",
    "\n",
    "from sklearn.metrics import mean_squared_error\n",
    "from sklearn.metrics import mean_absolute_error\n",
    "\n",
    "preds = model.predict(X_test)\n",
    "\n",
    "print('Acc Score: ',accuracy_score(np.argmax(y_test, axis=1), np.argmax(preds, axis=1)))\n",
    "print('Roc Auc Score: ',roc_auc_score(np.argmax(y_test, axis=1), np.argmax(preds, axis=1)))\n",
    "#print('Precision Score: ',precision_score(y_test, preds))\n",
    "#print('Recall Score: ',recall_score(y_test, preds))\n",
    "print('f1 score: ',f1_score(np.argmax(y_test, axis=1), np.argmax(preds, axis=1)))\n"
   ]
  },
  {
   "cell_type": "code",
   "execution_count": 30,
   "id": "bead34e9",
   "metadata": {},
   "outputs": [
    {
     "data": {
      "text/plain": [
       "array([[578,   0],\n",
       "       [ 61,   0]], dtype=int64)"
      ]
     },
     "execution_count": 30,
     "metadata": {},
     "output_type": "execute_result"
    }
   ],
   "source": [
    "confusion_matrix(np.argmax(y_test, axis=1), np.argmax(preds, axis=1))"
   ]
  },
  {
   "cell_type": "code",
   "execution_count": 31,
   "id": "2a5b8b4f",
   "metadata": {},
   "outputs": [],
   "source": [
    "#mean_squared_error(y_2_test, preds)"
   ]
  },
  {
   "cell_type": "code",
   "execution_count": 32,
   "id": "05c0493b",
   "metadata": {},
   "outputs": [],
   "source": [
    "#mean_absolute_error(y_2_test, preds)"
   ]
  },
  {
   "cell_type": "code",
   "execution_count": 33,
   "id": "5da38453",
   "metadata": {},
   "outputs": [
    {
     "data": {
      "image/png": "[encoded data removed]",
      "text/plain": [
       "<Figure size 1200x480 with 2 Axes>"
      ]
     },
     "metadata": {
      "needs_background": "light"
     },
     "output_type": "display_data"
    }
   ],
   "source": [
    "# Create Figure and Subplots\n",
    "fig, (ax1, ax2) = plt.subplots(1,2, figsize=(10,4), sharey=True, dpi=120)\n",
    "\n",
    "# Plot\n",
    "ax1.plot(preds, 'g')  # greendots\n",
    "ax2.plot(y_2_test, 'b')  # bluestart\n",
    "\n",
    "# Title, X and Y labels, X and Y Lim\n",
    "ax1.set_title('Predictions'); ax2.set_title('Ground Truth')\n",
    "\n",
    "  # y axis limits\n",
    "\n",
    "# ax2.yaxis.set_ticks_position('none') \n",
    "plt.tight_layout()\n",
    "plt.show()"
   ]
  },
  {
   "cell_type": "code",
   "execution_count": 34,
   "id": "7e092587",
   "metadata": {},
   "outputs": [
    {
     "data": {
      "text/plain": [
       "array([ 13,  32,  97,  21,  20,  59,  18,  55,  39,  18,  24,  15,  10,\n",
       "        10,  97,  67, 113,  54,  79,  59])"
      ]
     },
     "execution_count": 34,
     "metadata": {},
     "output_type": "execute_result"
    }
   ],
   "source": [
    "classifier.feature_importances_"
   ]
  },
  {
   "cell_type": "code",
   "execution_count": 35,
   "id": "da999a7b",
   "metadata": {},
   "outputs": [],
   "source": [
    "features = ['HR-1', 'HR-2', 'HR-3', 'HR-4', 'HR-5', 'PB-1', 'PB-2', 'PB-3', 'PB-4','PB-5', 'T-1', 'T-2', 'T-3', 'T-4', 'T-5', 'VV-1', 'VV-2', 'VV-3','VV-4', 'VV-5', 'vol', 'intensity']"
   ]
  },
  {
   "cell_type": "code",
   "execution_count": 36,
   "id": "44626ec9",
   "metadata": {},
   "outputs": [],
   "source": [
    "#plt.figure(figsize=(15, 5), dpi=80)\n",
    "\n",
    "#plt.bar(features, classifier.feature_importances_ / np.sum(classifier.feature_importances_))"
   ]
  },
  {
   "cell_type": "code",
   "execution_count": 37,
   "id": "c9d253e7",
   "metadata": {},
   "outputs": [
    {
     "data": {
      "image/png": "[encoded data removed]",
      "text/plain": [
       "<Figure size 432x288 with 1 Axes>"
      ]
     },
     "metadata": {
      "needs_background": "light"
     },
     "output_type": "display_data"
    }
   ],
   "source": [
    "temp_true  = np.copy(y_2_test)\n",
    "#temp_true[temp_true > 0] = 5\n",
    "#preds[preds > 0] = 2\n",
    "plt.plot(preds[0:100],'r', label='Prediction')\n",
    "plt.plot(temp_true[0:100],'b', label='Ground Truth')\n",
    "plt.show()"
   ]
  },
  {
   "cell_type": "code",
   "execution_count": 38,
   "id": "dfc9d5c4",
   "metadata": {},
   "outputs": [
    {
     "data": {
      "image/png": "[encoded data removed]",
      "text/plain": [
       "<Figure size 504x360 with 1 Axes>"
      ]
     },
     "metadata": {
      "needs_background": "light"
     },
     "output_type": "display_data"
    }
   ],
   "source": [
    "data = [0.11, 0.198, 0.89]\n",
    "\n",
    "f = plt.figure()\n",
    "f.set_figwidth(7)\n",
    "f.set_figheight(5)\n",
    "\n",
    "x = ['Basic Measurements', 'Precipitation Prediction', 'True Precipitation']\n",
    "plt.xticks(range(len(data)), x)\n",
    "\n",
    "plt.bar(range(len(x)), data, color='royalblue', alpha=0.7)\n",
    "plt.grid(color='#95a5a6', linestyle='--', linewidth=2, axis='y', alpha=0.7)\n",
    "plt.title(\"F1 score\")\n",
    "plt.show()"
   ]
  },
  {
   "cell_type": "code",
   "execution_count": 45,
   "id": "e82101e0",
   "metadata": {},
   "outputs": [
    {
     "data": {
      "image/png": "[encoded data removed]",
      "text/plain": [
       "<Figure size 216x576 with 1 Axes>"
      ]
     },
     "metadata": {
      "needs_background": "light"
     },
     "output_type": "display_data"
    }
   ],
   "source": [
    "# plot feature importance\n",
    "import seaborn as sns\n",
    "features = ['HR-1', 'HR-2', 'HR-3', 'HR-4', 'HR-5', 'PB-1', 'PB-2', 'PB-3', 'PB-4','PB-5', 'T-1', 'T-2', 'T-3', 'T-4', 'T-5', 'VV-1', 'VV-2', 'VV-3','VV-4', 'VV-5']\n",
    "fi_df = pd.DataFrame(features, columns=['features'])\n",
    "fi_df['importance'] = classifier.booster_.feature_importance(importance_type=\"gain\") / 15000\n",
    "fig, ax = plt.subplots(1, 1, figsize=(3, 8))\n",
    "sns.barplot(\n",
    "    x='importance'\n",
    "    , y='features'\n",
    "    , data=fi_df.sort_values(by=['importance'], ascending=False)\n",
    "    , ax=ax\n",
    ")\n",
    "\n",
    "fig.savefig(\"feature_importance_basic_measurements.pdf\",bbox_inches='tight')\n"
   ]
  },
  {
   "cell_type": "code",
   "execution_count": 41,
   "id": "68b9c5c9",
   "metadata": {},
   "outputs": [
    {
     "name": "stdout",
     "output_type": "stream",
     "text": [
      "Epoch 1/30\n",
      "40/40 [==============================] - 0s 4ms/step - loss: 7.9661 - mse: 7.9661 - val_loss: 4.1629 - val_mse: 4.1629\n",
      "Epoch 2/30\n",
      "40/40 [==============================] - 0s 2ms/step - loss: 7.9011 - mse: 7.9011 - val_loss: 4.1017 - val_mse: 4.1017\n",
      "Epoch 3/30\n",
      "40/40 [==============================] - 0s 2ms/step - loss: 7.8122 - mse: 7.8122 - val_loss: 4.0590 - val_mse: 4.0590\n",
      "Epoch 4/30\n",
      "40/40 [==============================] - 0s 1ms/step - loss: 7.7640 - mse: 7.7640 - val_loss: 4.0622 - val_mse: 4.0622\n",
      "Epoch 5/30\n",
      "40/40 [==============================] - 0s 2ms/step - loss: 7.7481 - mse: 7.7481 - val_loss: 4.0610 - val_mse: 4.0610\n",
      "Epoch 6/30\n",
      "40/40 [==============================] - 0s 2ms/step - loss: 7.7375 - mse: 7.7375 - val_loss: 4.0566 - val_mse: 4.0566\n",
      "Epoch 7/30\n",
      "40/40 [==============================] - 0s 2ms/step - loss: 7.7289 - mse: 7.7289 - val_loss: 4.0600 - val_mse: 4.0600\n",
      "Epoch 8/30\n",
      "40/40 [==============================] - 0s 2ms/step - loss: 7.7229 - mse: 7.7229 - val_loss: 4.0619 - val_mse: 4.0619\n",
      "Epoch 9/30\n",
      "40/40 [==============================] - 0s 2ms/step - loss: 7.7185 - mse: 7.7185 - val_loss: 4.0630 - val_mse: 4.0630\n",
      "Epoch 10/30\n",
      "40/40 [==============================] - 0s 2ms/step - loss: 7.7097 - mse: 7.7097 - val_loss: 4.0628 - val_mse: 4.0628\n",
      "Epoch 11/30\n",
      "40/40 [==============================] - 0s 2ms/step - loss: 7.7058 - mse: 7.7058 - val_loss: 4.0664 - val_mse: 4.0664\n",
      "Epoch 12/30\n",
      "40/40 [==============================] - 0s 2ms/step - loss: 7.7020 - mse: 7.7020 - val_loss: 4.0677 - val_mse: 4.0677\n",
      "Epoch 13/30\n",
      "40/40 [==============================] - 0s 2ms/step - loss: 7.6971 - mse: 7.6971 - val_loss: 4.0734 - val_mse: 4.0734\n",
      "Epoch 14/30\n",
      "40/40 [==============================] - 0s 2ms/step - loss: 7.6949 - mse: 7.6949 - val_loss: 4.0718 - val_mse: 4.0718\n",
      "Epoch 15/30\n",
      "40/40 [==============================] - 0s 2ms/step - loss: 7.6916 - mse: 7.6916 - val_loss: 4.0679 - val_mse: 4.0679\n",
      "Epoch 16/30\n",
      "40/40 [==============================] - 0s 2ms/step - loss: 7.6883 - mse: 7.6883 - val_loss: 4.0728 - val_mse: 4.0728\n",
      "Epoch 17/30\n",
      "40/40 [==============================] - 0s 1ms/step - loss: 7.6895 - mse: 7.6895 - val_loss: 4.0725 - val_mse: 4.0725\n",
      "Epoch 18/30\n",
      "40/40 [==============================] - 0s 2ms/step - loss: 7.6880 - mse: 7.6880 - val_loss: 4.0749 - val_mse: 4.0749\n",
      "Epoch 19/30\n",
      "40/40 [==============================] - 0s 2ms/step - loss: 7.6809 - mse: 7.6809 - val_loss: 4.0840 - val_mse: 4.0840\n",
      "Epoch 20/30\n",
      "40/40 [==============================] - 0s 2ms/step - loss: 7.6821 - mse: 7.6821 - val_loss: 4.0758 - val_mse: 4.0758\n",
      "Epoch 21/30\n",
      "40/40 [==============================] - 0s 2ms/step - loss: 7.6751 - mse: 7.6751 - val_loss: 4.0835 - val_mse: 4.0835\n",
      "Epoch 22/30\n",
      "40/40 [==============================] - 0s 2ms/step - loss: 7.6728 - mse: 7.6728 - val_loss: 4.0860 - val_mse: 4.0860\n",
      "Epoch 23/30\n",
      "40/40 [==============================] - 0s 3ms/step - loss: 7.6721 - mse: 7.6721 - val_loss: 4.0880 - val_mse: 4.0880\n",
      "Epoch 24/30\n",
      "40/40 [==============================] - 0s 3ms/step - loss: 7.6706 - mse: 7.6706 - val_loss: 4.0842 - val_mse: 4.0842\n",
      "Epoch 25/30\n",
      "40/40 [==============================] - 0s 3ms/step - loss: 7.6691 - mse: 7.6691 - val_loss: 4.0946 - val_mse: 4.0946\n",
      "Epoch 26/30\n",
      "40/40 [==============================] - 0s 3ms/step - loss: 7.6686 - mse: 7.6686 - val_loss: 4.0846 - val_mse: 4.0846\n",
      "Epoch 27/30\n",
      "40/40 [==============================] - 0s 3ms/step - loss: 7.6640 - mse: 7.6640 - val_loss: 4.0990 - val_mse: 4.0990\n",
      "Epoch 28/30\n",
      "40/40 [==============================] - 0s 3ms/step - loss: 7.6612 - mse: 7.6612 - val_loss: 4.0948 - val_mse: 4.0948\n",
      "Epoch 29/30\n",
      "40/40 [==============================] - 0s 3ms/step - loss: 7.6624 - mse: 7.6624 - val_loss: 4.0969 - val_mse: 4.0969\n",
      "Epoch 30/30\n",
      "40/40 [==============================] - 0s 3ms/step - loss: 7.6588 - mse: 7.6588 - val_loss: 4.0987 - val_mse: 4.0987\n",
      "20/20 [==============================] - 0s 2ms/step\n",
      "mse:  4.0987451601085665\n",
      "mae:  0.7945412395006055\n"
     ]
    }
   ],
   "source": [
    "import keras\n",
    "from keras.layers import Dense, Softmax\n",
    "model = keras.Sequential()\n",
    "#model.add(Dense(69, kernel_initializer='normal', activation='relu', input_shape=(23,)))\n",
    "model.add(Dense(12, kernel_initializer='normal', activation='relu', input_shape=(20,)))\n",
    "model.add(Dense(5, kernel_initializer='normal', activation='relu'))\n",
    "model.add(Dense(1, kernel_initializer='normal', activation='relu'))\n",
    "model.compile(loss='mse', optimizer='Adam', metrics='mse', )\n",
    "model.fit(X_train, y_2_train, validation_data=(X_test, y_2_test), verbose=1, epochs=30, batch_size=64, shuffle=True)\n",
    "\n",
    "from sklearn.metrics import mean_squared_error\n",
    "from sklearn.metrics import mean_absolute_error\n",
    "\n",
    "preds = model.predict(X_test)\n",
    "\n",
    "print('mse: ',mean_squared_error(y_2_test, preds))\n",
    "print('mae: ',mean_absolute_error(y_2_test, preds))\n",
    "\n"
   ]
  },
  {
   "cell_type": "code",
   "execution_count": 42,
   "id": "f293b5b8",
   "metadata": {},
   "outputs": [
    {
     "data": {
      "image/png": "[encoded data removed]",
      "text/plain": [
       "<Figure size 720x720 with 1 Axes>"
      ]
     },
     "metadata": {
      "needs_background": "light"
     },
     "output_type": "display_data"
    }
   ],
   "source": [
    "predicted_value = preds\n",
    "true_value = y_2_test\n",
    "fig = plt.figure(figsize=(10,10))\n",
    "plt.scatter(true_value, predicted_value, c='crimson')\n",
    "plt.yscale('linear')\n",
    "plt.xscale('linear')\n",
    "\n",
    "p1 = max(max(predicted_value), max(true_value))\n",
    "p2 = min(min(predicted_value), min(true_value))\n",
    "plt.plot([p1, p2], [p1, p2], 'b-')\n",
    "plt.xlabel('True Values', fontsize=15)\n",
    "plt.ylabel('Predictions', fontsize=15)\n",
    "#plt.axis('equal')\n",
    "plt.xlim([-2, 25])\n",
    "plt.ylim([-2, 25])\n",
    "plt.show()\n",
    "fig.savefig('predictions_vs_true_basic_measurements_dnn.pdf')"
   ]
  },
  {
   "cell_type": "code",
   "execution_count": null,
   "id": "32f97d45",
   "metadata": {},
   "outputs": [],
   "source": []
  }
 ],
 "metadata": {
  "kernelspec": {
   "display_name": "Python 3",
   "language": "python",
   "name": "python3"
  },
  "language_info": {
   "codemirror_mode": {
    "name": "ipython",
    "version": 3
   },
   "file_extension": ".py",
   "mimetype": "text/x-python",
   "name": "python",
   "nbconvert_exporter": "python",
   "pygments_lexer": "ipython3",
   "version": "3.8.8"
  }
 },
 "nbformat": 4,
 "nbformat_minor": 5
}

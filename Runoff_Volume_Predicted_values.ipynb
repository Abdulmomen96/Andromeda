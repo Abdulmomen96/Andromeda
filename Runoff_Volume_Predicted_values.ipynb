{
 "cells": [
  {
   "cell_type": "code",
   "execution_count": 1,
   "id": "35ccd132",
   "metadata": {},
   "outputs": [],
   "source": [
    "import pandas as pd\n",
    "import numpy as np\n",
    "import smogn\n",
    "from sklearn.metrics import confusion_matrix,accuracy_score,r2_score,roc_auc_score,precision_score,recall_score,f1_score"
   ]
  },
  {
   "cell_type": "code",
   "execution_count": 2,
   "id": "3fe7502a",
   "metadata": {},
   "outputs": [
    {
     "name": "stderr",
     "output_type": "stream",
     "text": [
      "C:\\ProgramData\\Anaconda3\\lib\\site-packages\\dask\\dataframe\\utils.py:369: FutureWarning: pandas.Int64Index is deprecated and will be removed from pandas in a future version. Use pandas.Index with the appropriate dtype instead.\n",
      "  _numeric_index_types = (pd.Int64Index, pd.Float64Index, pd.UInt64Index)\n",
      "C:\\ProgramData\\Anaconda3\\lib\\site-packages\\dask\\dataframe\\utils.py:369: FutureWarning: pandas.Float64Index is deprecated and will be removed from pandas in a future version. Use pandas.Index with the appropriate dtype instead.\n",
      "  _numeric_index_types = (pd.Int64Index, pd.Float64Index, pd.UInt64Index)\n",
      "C:\\ProgramData\\Anaconda3\\lib\\site-packages\\dask\\dataframe\\utils.py:369: FutureWarning: pandas.UInt64Index is deprecated and will be removed from pandas in a future version. Use pandas.Index with the appropriate dtype instead.\n",
      "  _numeric_index_types = (pd.Int64Index, pd.Float64Index, pd.UInt64Index)\n"
     ]
    }
   ],
   "source": [
    "import lightgbm as lgb\n",
    "import matplotlib.pyplot as plt"
   ]
  },
  {
   "cell_type": "code",
   "execution_count": 3,
   "id": "98ee9d9f",
   "metadata": {},
   "outputs": [],
   "source": [
    "from sklearn.preprocessing import StandardScaler\n",
    "\n",
    "\n",
    "X_train = np.load('x_train.npy')\n",
    "y_train = np.load('y_train.npy')\n",
    "X_test = np.load('x_test.npy')\n",
    "y_test = np.load('y_test.npy')"
   ]
  },
  {
   "cell_type": "code",
   "execution_count": 4,
   "id": "3953ed3e",
   "metadata": {},
   "outputs": [],
   "source": [
    "y_2_train = np.load('y_2_train.npy')\n",
    "y_2_test = np.load('y_2_test.npy')\n",
    "y_3_train = np.load('y_3_train.npy')\n",
    "y_3_test = np.load('y_3_test.npy')\n",
    "\n",
    "X_train_class = np.copy(X_train)\n",
    "y_train_class = np.copy(y_train)\n",
    "X_test_class = np.copy(X_test)\n",
    "y_test_class = np.copy(y_test)\n",
    "\n",
    "scaler = StandardScaler().fit(X_train_class)\n",
    "X_train_class = scaler.transform(X_train_class)\n",
    "X_test_class = scaler.transform(X_test_class)\n"
   ]
  },
  {
   "cell_type": "code",
   "execution_count": 5,
   "id": "536b2da0",
   "metadata": {},
   "outputs": [],
   "source": [
    "volume_train = np.load('volume_train.npy')\n",
    "volume_test = np.load('volume_test.npy')\n",
    "intensity_train = np.load('intensity_train.npy')\n",
    "intensity_test = np.load('intensity_test.npy')"
   ]
  },
  {
   "cell_type": "code",
   "execution_count": 6,
   "id": "1d4d047e",
   "metadata": {},
   "outputs": [],
   "source": [
    "# RRegression Values modeifications\n",
    "#y_2_train[y_2_train > 10] = 10.0\n",
    "#y_2_test[y_2_test > 10] = 10.0\n",
    "\n"
   ]
  },
  {
   "cell_type": "code",
   "execution_count": 7,
   "id": "cfcab482",
   "metadata": {},
   "outputs": [],
   "source": [
    "X_train = np.concatenate((X_train, volume_train.reshape(-1, 1), intensity_train.reshape(-1, 1)), axis=1)\n",
    "X_test = np.concatenate((X_test,  volume_test.reshape(-1, 1), intensity_test.reshape(-1, 1)), axis=1)"
   ]
  },
  {
   "cell_type": "code",
   "execution_count": 8,
   "id": "92581670",
   "metadata": {},
   "outputs": [
    {
     "name": "stdout",
     "output_type": "stream",
     "text": [
      "(2552, 22) (639, 22)\n"
     ]
    }
   ],
   "source": [
    "print(X_train.shape, X_test.shape)"
   ]
  },
  {
   "cell_type": "code",
   "execution_count": 9,
   "id": "9859f078",
   "metadata": {},
   "outputs": [],
   "source": [
    "#scaler = StandardScaler().fit(X_train)\n",
    "#X_train = scaler.transform(X_train)\n",
    "#X_test = scaler.transform(X_test)"
   ]
  },
  {
   "cell_type": "code",
   "execution_count": 10,
   "id": "27a2f352",
   "metadata": {},
   "outputs": [],
   "source": [
    "#lgb_train = lgb.Dataset(X_train, y_2_train)\n"
   ]
  },
  {
   "cell_type": "code",
   "execution_count": 11,
   "id": "cb7ba8eb",
   "metadata": {},
   "outputs": [
    {
     "name": "stdout",
     "output_type": "stream",
     "text": [
      "[[44.         51.         54.         ...  0.93        2.92800617\n",
      "   1.0561496 ]\n",
      " [84.         86.         88.         ...  0.7         2.90679431\n",
      "   0.96961027]\n",
      " [93.         88.         89.         ...  0.83        1.91104388\n",
      "   1.04489899]\n",
      " ...\n",
      " [71.         70.         71.         ...  1.32        2.6939857\n",
      "   0.92522639]\n",
      " [33.         32.         30.         ...  3.75        2.23802543\n",
      "   0.92389899]\n",
      " [20.         12.          3.         ...  1.37        2.75717139\n",
      "   1.15812612]]\n"
     ]
    }
   ],
   "source": [
    "print(X_train)"
   ]
  },
  {
   "cell_type": "code",
   "execution_count": 12,
   "id": "c5c4e443",
   "metadata": {},
   "outputs": [
    {
     "data": {
      "text/plain": [
       "'\\npolynom_fit_SMOTE_bus,\\npolynom_fit_SMOTE_star,\\nROSE,\\nGazzah,\\nSPY,\\nMSMOTE,\\nAHC,\\nRWO_sampling,\\npolynom_fit_SMOTE_mesh,\\npolynom_fit_SMOTE_poly\\n'"
      ]
     },
     "execution_count": 12,
     "metadata": {},
     "output_type": "execute_result"
    }
   ],
   "source": [
    "'''\n",
    "polynom_fit_SMOTE_bus,\n",
    "polynom_fit_SMOTE_star,\n",
    "ROSE,\n",
    "Gazzah,\n",
    "SPY,\n",
    "MSMOTE,\n",
    "AHC,\n",
    "RWO_sampling,\n",
    "polynom_fit_SMOTE_mesh,\n",
    "polynom_fit_SMOTE_poly\n",
    "'''"
   ]
  },
  {
   "cell_type": "code",
   "execution_count": 13,
   "id": "a231316f",
   "metadata": {},
   "outputs": [
    {
     "name": "stderr",
     "output_type": "stream",
     "text": [
      "2023-03-22 16:47:02,669:INFO:Gazzah: Running sampling via ('Gazzah', \"{'proportion': 1.5, 'n_components': 2, 'n_jobs': 1, 'random_state': None, 'class_name': 'Gazzah'}\")\n",
      "2023-03-22 16:47:02,671:INFO:polynom_fit_SMOTE_star: Running sampling via ('polynom_fit_SMOTE_star', \"{'proportion': 1.5, 'topology': 'star', 'random_state': None, 'class_name': 'polynom_fit_SMOTE_star'}\")\n",
      "2023-03-22 16:47:02,672:INFO:polynom_fit_SMOTE: Running sampling via ('polynom_fit_SMOTE', \"{'proportion': 1.5, 'topology': 'star', 'random_state': None, 'class_name': 'polynom_fit_SMOTE'}\")\n",
      "2023-03-22 16:47:02,690:INFO:Gazzah: Removing 822 majority samples\n"
     ]
    },
    {
     "name": "stdout",
     "output_type": "stream",
     "text": [
      "[LightGBM] [Warning] feature_fraction is set=0.5, colsample_bytree=1.0 will be ignored. Current value: feature_fraction=0.5\n",
      "[LightGBM] [Warning] bagging_fraction is set=0.8, subsample=1.0 will be ignored. Current value: bagging_fraction=0.8\n",
      "[LightGBM] [Warning] bagging_freq is set=15, subsample_freq=0 will be ignored. Current value: bagging_freq=15\n",
      "[[60.         56.         52.         ...  0.28        2.16053176\n",
      "   0.85668331]\n",
      " [28.         29.         27.         ...  0.5         1.01021314\n",
      "   0.99081022]\n",
      " [35.         30.         28.         ...  1.22        1.89860582\n",
      "   1.33731353]\n",
      " ...\n",
      " [56.         60.         61.         ...  2.32        2.55423236\n",
      "   0.85835308]\n",
      " [53.         51.         51.         ...  1.02        1.82251811\n",
      "   1.56792855]\n",
      " [69.         54.         35.         ...  2.45        5.06959105\n",
      "   1.29223478]]\n",
      "Acc Score:  0.6964006259780907\n",
      "Roc Auc Score:  0.5682398320948437\n",
      "Precision Score:  0.1366120218579235\n",
      "Recall Score:  0.4098360655737705\n",
      "f1 score:  0.20491803278688525\n"
     ]
    }
   ],
   "source": [
    "from sklearn.neighbors import KNeighborsClassifier\n",
    "from sklearn.tree import DecisionTreeClassifier\n",
    "import lightgbm as lgb\n",
    "import smote_variants as sv\n",
    "from sklearn.ensemble import RandomForestRegressor,RandomForestClassifier,GradientBoostingRegressor,GradientBoostingClassifier\n",
    "from sklearn.svm import SVC\n",
    "from lightgbm import LGBMClassifier\n",
    "import sklearn.datasets as datasets\n",
    "from sklearn.neural_network import MLPClassifier\n",
    "\n",
    "dataset= {'data': X_train,\n",
    "          'target': y_train,\n",
    "          'name': 'Andromeda'}\n",
    "\n",
    "classifier = LGBMClassifier(boosting_type=\"gbdt\",is_unbalance=True, random_state=5, \n",
    "                  n_estimators=300,num_leaves=30, max_depth=2,feature_fraction=0.5, \n",
    "                  bagging_fraction=0.8, bagging_freq=15, learning_rate=0.01)\n",
    "\n",
    "\n",
    "\n",
    "\n",
    "# Classifier Testing\n",
    "\n",
    "# training the best techniques using the entire dataset\n",
    "X_samp, y_samp= sv.Gazzah(proportion=1.5).sample(X_train, y_train)\n",
    "classifier.fit(X_samp, y_samp)\n",
    "preds2 = classifier.predict(X_test)\n",
    "print(X_test)\n",
    "print('Acc Score: ',accuracy_score(y_test, preds2))\n",
    "print('Roc Auc Score: ',roc_auc_score(y_test, preds2))\n",
    "print('Precision Score: ',precision_score(y_test, preds2))\n",
    "print('Recall Score: ',recall_score(y_test, preds2))\n",
    "print('f1 score: ',f1_score(y_test, preds2))\n",
    "preds_train = classifier.predict(X_train)\n",
    "\n"
   ]
  },
  {
   "cell_type": "code",
   "execution_count": 14,
   "id": "318c10c1",
   "metadata": {},
   "outputs": [
    {
     "data": {
      "text/plain": [
       "array([[420, 158],\n",
       "       [ 36,  25]], dtype=int64)"
      ]
     },
     "execution_count": 14,
     "metadata": {},
     "output_type": "execute_result"
    }
   ],
   "source": [
    "from sklearn.metrics import confusion_matrix\n",
    "\n",
    "confusion_matrix(y_test, preds2)"
   ]
  },
  {
   "cell_type": "code",
   "execution_count": 15,
   "id": "3c81d455",
   "metadata": {},
   "outputs": [],
   "source": [
    "# Preparing prediction out\n",
    "#X_test = np.concatenate((X_test, preds2.reshape(-1, 1)), axis=1)\n",
    "#X_train = np.concatenate((X_train, preds_train.reshape(-1, 1)), axis=1)\n",
    "#scaler = StandardScaler().fit(X_train)\n",
    "#X_train = scaler.transform(X_train)\n",
    "#X_test = scaler.transform(X_test)\n",
    "\n",
    "lgb_eval = lgb.Dataset(X_test, y_2_test)\n",
    "\n",
    "lgb_train = lgb.Dataset(X_train, y_2_train)\n",
    "\n"
   ]
  },
  {
   "cell_type": "code",
   "execution_count": 16,
   "id": "3baa3c3c",
   "metadata": {},
   "outputs": [
    {
     "name": "stdout",
     "output_type": "stream",
     "text": [
      "(2552, 22)\n"
     ]
    }
   ],
   "source": [
    "print(X_train.shape)"
   ]
  },
  {
   "cell_type": "code",
   "execution_count": 17,
   "id": "c38dd09c",
   "metadata": {},
   "outputs": [
    {
     "name": "stdout",
     "output_type": "stream",
     "text": [
      "[1]\tvalid_0's l2: 4.075\tvalid_0's l1: 0.799747\n",
      "Training until validation scores don't improve for 200 rounds\n",
      "[2]\tvalid_0's l2: 4.07658\tvalid_0's l1: 0.800998\n",
      "[3]\tvalid_0's l2: 4.08238\tvalid_0's l1: 0.801881\n",
      "[4]\tvalid_0's l2: 4.09521\tvalid_0's l1: 0.803173\n",
      "[5]\tvalid_0's l2: 4.10586\tvalid_0's l1: 0.804896\n",
      "[6]\tvalid_0's l2: 4.11578\tvalid_0's l1: 0.805622\n",
      "[7]\tvalid_0's l2: 4.13035\tvalid_0's l1: 0.807152\n",
      "[8]\tvalid_0's l2: 4.13973\tvalid_0's l1: 0.806097\n",
      "[9]\tvalid_0's l2: 4.15496\tvalid_0's l1: 0.806595\n",
      "[10]\tvalid_0's l2: 4.17316\tvalid_0's l1: 0.808043\n",
      "[11]\tvalid_0's l2: 4.18794\tvalid_0's l1: 0.809307\n",
      "[12]\tvalid_0's l2: 4.20595\tvalid_0's l1: 0.810627\n",
      "[13]\tvalid_0's l2: 4.22386\tvalid_0's l1: 0.81089\n",
      "[14]\tvalid_0's l2: 4.24111\tvalid_0's l1: 0.812076\n",
      "[15]\tvalid_0's l2: 4.2621\tvalid_0's l1: 0.813626\n",
      "[16]\tvalid_0's l2: 4.26454\tvalid_0's l1: 0.812073\n",
      "[17]\tvalid_0's l2: 4.27847\tvalid_0's l1: 0.812842\n",
      "[18]\tvalid_0's l2: 4.29372\tvalid_0's l1: 0.813742\n",
      "[19]\tvalid_0's l2: 4.31876\tvalid_0's l1: 0.81669\n",
      "[20]\tvalid_0's l2: 4.34106\tvalid_0's l1: 0.81799\n",
      "[21]\tvalid_0's l2: 4.35868\tvalid_0's l1: 0.81929\n",
      "[22]\tvalid_0's l2: 4.38019\tvalid_0's l1: 0.821142\n",
      "[23]\tvalid_0's l2: 4.39291\tvalid_0's l1: 0.82209\n",
      "[24]\tvalid_0's l2: 4.40507\tvalid_0's l1: 0.824643\n",
      "[25]\tvalid_0's l2: 4.42577\tvalid_0's l1: 0.827379\n",
      "[26]\tvalid_0's l2: 4.43655\tvalid_0's l1: 0.82688\n",
      "[27]\tvalid_0's l2: 4.44818\tvalid_0's l1: 0.826296\n",
      "[28]\tvalid_0's l2: 4.46242\tvalid_0's l1: 0.827972\n",
      "[29]\tvalid_0's l2: 4.47415\tvalid_0's l1: 0.828538\n",
      "[30]\tvalid_0's l2: 4.47942\tvalid_0's l1: 0.827191\n",
      "[31]\tvalid_0's l2: 4.49097\tvalid_0's l1: 0.828097\n",
      "[32]\tvalid_0's l2: 4.48547\tvalid_0's l1: 0.826951\n",
      "[33]\tvalid_0's l2: 4.49031\tvalid_0's l1: 0.827249\n",
      "[34]\tvalid_0's l2: 4.49465\tvalid_0's l1: 0.827381\n",
      "[35]\tvalid_0's l2: 4.50388\tvalid_0's l1: 0.828267\n",
      "[36]\tvalid_0's l2: 4.51306\tvalid_0's l1: 0.829083\n",
      "[37]\tvalid_0's l2: 4.52484\tvalid_0's l1: 0.828434\n",
      "[38]\tvalid_0's l2: 4.53616\tvalid_0's l1: 0.828668\n",
      "[39]\tvalid_0's l2: 4.53349\tvalid_0's l1: 0.825232\n",
      "[40]\tvalid_0's l2: 4.53131\tvalid_0's l1: 0.8273\n",
      "[41]\tvalid_0's l2: 4.54201\tvalid_0's l1: 0.828665\n",
      "[42]\tvalid_0's l2: 4.54308\tvalid_0's l1: 0.828154\n",
      "[43]\tvalid_0's l2: 4.54218\tvalid_0's l1: 0.826668\n",
      "[44]\tvalid_0's l2: 4.54826\tvalid_0's l1: 0.828146\n",
      "[45]\tvalid_0's l2: 4.55944\tvalid_0's l1: 0.828646\n",
      "[46]\tvalid_0's l2: 4.57226\tvalid_0's l1: 0.829668\n",
      "[47]\tvalid_0's l2: 4.57017\tvalid_0's l1: 0.829528\n",
      "[48]\tvalid_0's l2: 4.58334\tvalid_0's l1: 0.831523\n",
      "[49]\tvalid_0's l2: 4.59139\tvalid_0's l1: 0.832999\n",
      "[50]\tvalid_0's l2: 4.60238\tvalid_0's l1: 0.833493\n",
      "[51]\tvalid_0's l2: 4.60712\tvalid_0's l1: 0.836316\n",
      "[52]\tvalid_0's l2: 4.62126\tvalid_0's l1: 0.837851\n"
     ]
    },
    {
     "name": "stderr",
     "output_type": "stream",
     "text": [
      "C:\\ProgramData\\Anaconda3\\lib\\site-packages\\lightgbm\\engine.py:181: UserWarning: 'early_stopping_rounds' argument is deprecated and will be removed in a future release of LightGBM. Pass 'early_stopping()' callback via 'callbacks' argument instead.\n",
      "  _log_warning(\"'early_stopping_rounds' argument is deprecated and will be removed in a future release of LightGBM. \"\n"
     ]
    },
    {
     "name": "stdout",
     "output_type": "stream",
     "text": [
      "[53]\tvalid_0's l2: 4.63209\tvalid_0's l1: 0.840375\n",
      "[54]\tvalid_0's l2: 4.63697\tvalid_0's l1: 0.840556\n",
      "[55]\tvalid_0's l2: 4.65647\tvalid_0's l1: 0.844176\n",
      "[56]\tvalid_0's l2: 4.66079\tvalid_0's l1: 0.844676\n",
      "[57]\tvalid_0's l2: 4.66633\tvalid_0's l1: 0.84513\n",
      "[58]\tvalid_0's l2: 4.67531\tvalid_0's l1: 0.847567\n",
      "[59]\tvalid_0's l2: 4.69382\tvalid_0's l1: 0.851319\n",
      "[60]\tvalid_0's l2: 4.69905\tvalid_0's l1: 0.853416\n",
      "[61]\tvalid_0's l2: 4.69968\tvalid_0's l1: 0.853693\n",
      "[62]\tvalid_0's l2: 4.71103\tvalid_0's l1: 0.856568\n",
      "[63]\tvalid_0's l2: 4.72159\tvalid_0's l1: 0.858673\n",
      "[64]\tvalid_0's l2: 4.72561\tvalid_0's l1: 0.860154\n",
      "[65]\tvalid_0's l2: 4.73489\tvalid_0's l1: 0.862414\n",
      "[66]\tvalid_0's l2: 4.74703\tvalid_0's l1: 0.865114\n",
      "[67]\tvalid_0's l2: 4.75716\tvalid_0's l1: 0.867017\n",
      "[68]\tvalid_0's l2: 4.76207\tvalid_0's l1: 0.868407\n",
      "[69]\tvalid_0's l2: 4.7663\tvalid_0's l1: 0.868785\n",
      "[70]\tvalid_0's l2: 4.77289\tvalid_0's l1: 0.870543\n",
      "[71]\tvalid_0's l2: 4.78358\tvalid_0's l1: 0.873108\n",
      "[72]\tvalid_0's l2: 4.78444\tvalid_0's l1: 0.873473\n",
      "[73]\tvalid_0's l2: 4.79663\tvalid_0's l1: 0.87597\n",
      "[74]\tvalid_0's l2: 4.80718\tvalid_0's l1: 0.877304\n",
      "[75]\tvalid_0's l2: 4.8076\tvalid_0's l1: 0.878781\n",
      "[76]\tvalid_0's l2: 4.82429\tvalid_0's l1: 0.881266\n",
      "[77]\tvalid_0's l2: 4.82649\tvalid_0's l1: 0.881485\n",
      "[78]\tvalid_0's l2: 4.84525\tvalid_0's l1: 0.88429\n",
      "[79]\tvalid_0's l2: 4.84976\tvalid_0's l1: 0.885068\n",
      "[80]\tvalid_0's l2: 4.85144\tvalid_0's l1: 0.886644\n",
      "[81]\tvalid_0's l2: 4.8703\tvalid_0's l1: 0.88915\n",
      "[82]\tvalid_0's l2: 4.87385\tvalid_0's l1: 0.891398\n",
      "[83]\tvalid_0's l2: 4.87885\tvalid_0's l1: 0.893697\n",
      "[84]\tvalid_0's l2: 4.89037\tvalid_0's l1: 0.894787\n",
      "[85]\tvalid_0's l2: 4.90052\tvalid_0's l1: 0.897746\n",
      "[86]\tvalid_0's l2: 4.91135\tvalid_0's l1: 0.900193\n",
      "[87]\tvalid_0's l2: 4.92109\tvalid_0's l1: 0.902061\n",
      "[88]\tvalid_0's l2: 4.92175\tvalid_0's l1: 0.902619\n",
      "[89]\tvalid_0's l2: 4.92717\tvalid_0's l1: 0.903052\n",
      "[90]\tvalid_0's l2: 4.93124\tvalid_0's l1: 0.905453\n",
      "[91]\tvalid_0's l2: 4.93178\tvalid_0's l1: 0.907695\n",
      "[92]\tvalid_0's l2: 4.94088\tvalid_0's l1: 0.909647\n",
      "[93]\tvalid_0's l2: 4.94302\tvalid_0's l1: 0.909377\n",
      "[94]\tvalid_0's l2: 4.95238\tvalid_0's l1: 0.911467\n",
      "[95]\tvalid_0's l2: 4.95608\tvalid_0's l1: 0.913662\n",
      "[96]\tvalid_0's l2: 4.96421\tvalid_0's l1: 0.915509\n",
      "[97]\tvalid_0's l2: 4.96758\tvalid_0's l1: 0.916588\n",
      "[98]\tvalid_0's l2: 4.97245\tvalid_0's l1: 0.918909\n",
      "[99]\tvalid_0's l2: 4.98107\tvalid_0's l1: 0.92163\n",
      "[100]\tvalid_0's l2: 4.98261\tvalid_0's l1: 0.92147\n",
      "Did not meet early stopping. Best iteration is:\n",
      "[1]\tvalid_0's l2: 4.075\tvalid_0's l1: 0.799747\n"
     ]
    }
   ],
   "source": [
    "# defining parameters \n",
    "# defining parameters \n",
    "params = {\n",
    "    'task': 'train', \n",
    "    'boosting': 'gbdt',\n",
    "    'objective': 'regression',\n",
    "    'num_leaves': 50,\n",
    "    'learning_rate': 0.05,\n",
    "    'metric': {'l2','l1'},\n",
    "    'verbose': -1\n",
    "}\n",
    "model = lgb.train(params,\n",
    "                 train_set=lgb_train,\n",
    "                 valid_sets=lgb_eval,\n",
    "                 early_stopping_rounds=200)"
   ]
  },
  {
   "cell_type": "code",
   "execution_count": null,
   "id": "f9b4c9f4",
   "metadata": {},
   "outputs": [],
   "source": []
  },
  {
   "cell_type": "code",
   "execution_count": 18,
   "id": "69c26012",
   "metadata": {},
   "outputs": [],
   "source": [
    "preds = model.predict(X_test)"
   ]
  },
  {
   "cell_type": "code",
   "execution_count": 19,
   "id": "5b2636c5",
   "metadata": {},
   "outputs": [],
   "source": [
    "from sklearn.metrics import mean_squared_error\n",
    "from sklearn.metrics import mean_absolute_error"
   ]
  },
  {
   "cell_type": "code",
   "execution_count": 20,
   "id": "5b94603a",
   "metadata": {
    "scrolled": true
   },
   "outputs": [
    {
     "data": {
      "text/plain": [
       "4.074998929168216"
      ]
     },
     "execution_count": 20,
     "metadata": {},
     "output_type": "execute_result"
    }
   ],
   "source": [
    "mean_squared_error(y_2_test, preds)"
   ]
  },
  {
   "cell_type": "code",
   "execution_count": 21,
   "id": "9f0455cd",
   "metadata": {},
   "outputs": [
    {
     "data": {
      "text/plain": [
       "0.7997474259057822"
      ]
     },
     "execution_count": 21,
     "metadata": {},
     "output_type": "execute_result"
    }
   ],
   "source": [
    "mean_absolute_error(y_2_test, preds)"
   ]
  },
  {
   "cell_type": "code",
   "execution_count": 22,
   "id": "1aeb80df",
   "metadata": {},
   "outputs": [
    {
     "data": {
      "text/plain": [
       "[<matplotlib.lines.Line2D at 0x1b3287c3610>]"
      ]
     },
     "execution_count": 22,
     "metadata": {},
     "output_type": "execute_result"
    },
    {
     "data": {
      "image/png": "[encoded data removed]",
      "text/plain": [
       "<Figure size 432x288 with 1 Axes>"
      ]
     },
     "metadata": {
      "needs_background": "light"
     },
     "output_type": "display_data"
    }
   ],
   "source": [
    "plt.plot(preds)"
   ]
  },
  {
   "cell_type": "code",
   "execution_count": 23,
   "id": "c78b0ed7",
   "metadata": {},
   "outputs": [
    {
     "data": {
      "image/png": "[encoded data removed]",
      "text/plain": [
       "<Figure size 1200x480 with 2 Axes>"
      ]
     },
     "metadata": {
      "needs_background": "light"
     },
     "output_type": "display_data"
    }
   ],
   "source": [
    "# Create Figure and Subplots\n",
    "fig, (ax1, ax2) = plt.subplots(1,2, figsize=(10,4), sharey=True, dpi=120)\n",
    "\n",
    "# Plot\n",
    "ax1.plot(preds, 'g')  # greendots\n",
    "ax2.plot(y_2_test, 'b')  # bluestart\n",
    "\n",
    "# Title, X and Y labels, X and Y Lim\n",
    "ax1.set_title('Predictions'); ax2.set_title('Ground Truth')\n",
    "\n",
    "  # y axis limits\n",
    "\n",
    "# ax2.yaxis.set_ticks_position('none') \n",
    "plt.tight_layout()\n",
    "plt.show()"
   ]
  },
  {
   "cell_type": "code",
   "execution_count": 24,
   "id": "529843ce",
   "metadata": {},
   "outputs": [
    {
     "data": {
      "image/png": "[encoded data removed]",
      "text/plain": [
       "<Figure size 720x720 with 1 Axes>"
      ]
     },
     "metadata": {
      "needs_background": "light"
     },
     "output_type": "display_data"
    }
   ],
   "source": [
    "predicted_value = preds\n",
    "true_value = y_2_test\n",
    "fig = plt.figure(figsize=(10,10))\n",
    "plt.scatter(true_value, predicted_value, c='crimson')\n",
    "plt.yscale('linear')\n",
    "plt.xscale('linear')\n",
    "\n",
    "p1 = max(max(predicted_value), max(true_value))\n",
    "p2 = min(min(predicted_value), min(true_value))\n",
    "plt.plot([p1, p2], [p1, p2], 'b-')\n",
    "plt.xlabel('True Values', fontsize=15)\n",
    "plt.ylabel('Predictions', fontsize=15)\n",
    "#plt.axis('equal')\n",
    "plt.xlim([-2, 25])\n",
    "plt.ylim([-2, 25])\n",
    "plt.show()\n",
    "fig.savefig('predictions_vs_true_predicted_percipitation_lgbm.pdf')"
   ]
  },
  {
   "cell_type": "code",
   "execution_count": 25,
   "id": "d0e5a22c",
   "metadata": {},
   "outputs": [
    {
     "data": {
      "image/png": "[encoded data removed]",
      "text/plain": [
       "<Figure size 720x720 with 1 Axes>"
      ]
     },
     "metadata": {
      "needs_background": "light"
     },
     "output_type": "display_data"
    },
    {
     "data": {
      "text/plain": [
       "<Figure size 432x288 with 0 Axes>"
      ]
     },
     "metadata": {},
     "output_type": "display_data"
    }
   ],
   "source": [
    "\n",
    "predicted_value = model.predict(X_train)\n",
    "true_value = y_2_train\n",
    "fig = plt.figure(figsize=(10,10))\n",
    "\n",
    "plt.scatter(true_value, predicted_value, c='crimson')\n",
    "plt.yscale('linear')\n",
    "plt.xscale('linear')\n",
    "\n",
    "p1 = max(max(predicted_value), max(true_value))\n",
    "p2 = min(min(predicted_value), min(true_value))\n",
    "plt.plot([p1, p2], [p1, p2], 'b-')\n",
    "plt.xlabel('True Values', fontsize=15)\n",
    "plt.ylabel('Predictions', fontsize=15)\n",
    "#plt.axis('equal')\n",
    "plt.xlim([-2, 30])\n",
    "plt.ylim([-2, 30])\n",
    "plt.show()\n",
    "\n",
    "fig=plt.savefig('predictions_vs_true_readl_precipitation_training.pdf')"
   ]
  },
  {
   "cell_type": "code",
   "execution_count": 26,
   "id": "189fbf9f",
   "metadata": {},
   "outputs": [
    {
     "data": {
      "image/png": "[encoded data removed]",
      "text/plain": [
       "<Figure size 432x288 with 1 Axes>"
      ]
     },
     "metadata": {
      "needs_background": "light"
     },
     "output_type": "display_data"
    }
   ],
   "source": [
    "temp_true  = np.copy(y_2_test)\n",
    "#temp_true[temp_true > 0] = 5\n",
    "#preds[preds > 0] = 2\n",
    "plt.plot(preds[300:400],'r', label='Prediction')\n",
    "plt.plot(temp_true[300:400],'b', label='Ground Truth')\n",
    "plt.show()"
   ]
  },
  {
   "cell_type": "code",
   "execution_count": 27,
   "id": "6d8efd68",
   "metadata": {},
   "outputs": [],
   "source": [
    "scaler = StandardScaler().fit(X_train)\n",
    "X_train = scaler.transform(X_train)\n",
    "X_test = scaler.transform(X_test)\n"
   ]
  },
  {
   "cell_type": "code",
   "execution_count": 28,
   "id": "a817d2da",
   "metadata": {},
   "outputs": [
    {
     "name": "stdout",
     "output_type": "stream",
     "text": [
      "(2552, 22)\n"
     ]
    }
   ],
   "source": [
    "#temp_y_train = np.copy(y_2_train)\n",
    "#temp_y_test = np.copy(y_2_test)\n",
    "#temp_y_train[temp_y_train > 5] = 5.0\n",
    "#temp_y_test[temp_y_train > 5] = 5.0\n",
    "print(X_train.shape)"
   ]
  },
  {
   "cell_type": "code",
   "execution_count": 29,
   "id": "21ef3930",
   "metadata": {},
   "outputs": [
    {
     "name": "stdout",
     "output_type": "stream",
     "text": [
      "Epoch 1/300\n",
      "40/40 [==============================] - 1s 11ms/step - loss: 0.6728 - accuracy: 0.8950 - val_loss: 0.6434 - val_accuracy: 0.9045\n",
      "Epoch 2/300\n",
      "40/40 [==============================] - 0s 4ms/step - loss: 0.5826 - accuracy: 0.9052 - val_loss: 0.5005 - val_accuracy: 0.9045\n",
      "Epoch 3/300\n",
      "40/40 [==============================] - 0s 4ms/step - loss: 0.4181 - accuracy: 0.9052 - val_loss: 0.3691 - val_accuracy: 0.9045\n",
      "Epoch 4/300\n",
      "40/40 [==============================] - 0s 3ms/step - loss: 0.3446 - accuracy: 0.9052 - val_loss: 0.3541 - val_accuracy: 0.9045\n",
      "Epoch 5/300\n",
      "40/40 [==============================] - 0s 3ms/step - loss: 0.3352 - accuracy: 0.9052 - val_loss: 0.3487 - val_accuracy: 0.9045\n",
      "Epoch 6/300\n",
      "40/40 [==============================] - 0s 5ms/step - loss: 0.3300 - accuracy: 0.9052 - val_loss: 0.3446 - val_accuracy: 0.9045\n",
      "Epoch 7/300\n",
      "40/40 [==============================] - 0s 4ms/step - loss: 0.3248 - accuracy: 0.9052 - val_loss: 0.3420 - val_accuracy: 0.9045\n",
      "Epoch 8/300\n",
      "40/40 [==============================] - 0s 4ms/step - loss: 0.3211 - accuracy: 0.9052 - val_loss: 0.3385 - val_accuracy: 0.9045\n",
      "Epoch 9/300\n",
      "40/40 [==============================] - 0s 4ms/step - loss: 0.3170 - accuracy: 0.9052 - val_loss: 0.3355 - val_accuracy: 0.9045\n",
      "Epoch 10/300\n",
      "40/40 [==============================] - 0s 3ms/step - loss: 0.3147 - accuracy: 0.9052 - val_loss: 0.3351 - val_accuracy: 0.9045\n",
      "Epoch 11/300\n",
      "40/40 [==============================] - 0s 3ms/step - loss: 0.3121 - accuracy: 0.9052 - val_loss: 0.3323 - val_accuracy: 0.9045\n",
      "Epoch 12/300\n",
      "40/40 [==============================] - 0s 3ms/step - loss: 0.3098 - accuracy: 0.9052 - val_loss: 0.3302 - val_accuracy: 0.9045\n",
      "Epoch 13/300\n",
      "40/40 [==============================] - 0s 3ms/step - loss: 0.3083 - accuracy: 0.9052 - val_loss: 0.3294 - val_accuracy: 0.9045\n",
      "Epoch 14/300\n",
      "40/40 [==============================] - 0s 3ms/step - loss: 0.3073 - accuracy: 0.9052 - val_loss: 0.3286 - val_accuracy: 0.9045\n",
      "Epoch 15/300\n",
      "40/40 [==============================] - 0s 4ms/step - loss: 0.3061 - accuracy: 0.9052 - val_loss: 0.3284 - val_accuracy: 0.9045\n",
      "Epoch 16/300\n",
      "40/40 [==============================] - 0s 4ms/step - loss: 0.3054 - accuracy: 0.9052 - val_loss: 0.3283 - val_accuracy: 0.9045\n",
      "Epoch 17/300\n",
      "40/40 [==============================] - 0s 3ms/step - loss: 0.3045 - accuracy: 0.9052 - val_loss: 0.3275 - val_accuracy: 0.9045\n",
      "Epoch 18/300\n",
      "40/40 [==============================] - 0s 3ms/step - loss: 0.3039 - accuracy: 0.9052 - val_loss: 0.3276 - val_accuracy: 0.9045\n",
      "Epoch 19/300\n",
      "40/40 [==============================] - 0s 3ms/step - loss: 0.3033 - accuracy: 0.9052 - val_loss: 0.3276 - val_accuracy: 0.9045\n",
      "Epoch 20/300\n",
      "40/40 [==============================] - 0s 3ms/step - loss: 0.3028 - accuracy: 0.9052 - val_loss: 0.3273 - val_accuracy: 0.9045\n",
      "Epoch 21/300\n",
      "40/40 [==============================] - 0s 3ms/step - loss: 0.3025 - accuracy: 0.9052 - val_loss: 0.3272 - val_accuracy: 0.9045\n",
      "Epoch 22/300\n",
      "40/40 [==============================] - 0s 3ms/step - loss: 0.3015 - accuracy: 0.9052 - val_loss: 0.3277 - val_accuracy: 0.9045\n",
      "Epoch 23/300\n",
      "40/40 [==============================] - 0s 3ms/step - loss: 0.3010 - accuracy: 0.9052 - val_loss: 0.3269 - val_accuracy: 0.9045\n",
      "Epoch 24/300\n",
      "40/40 [==============================] - 0s 3ms/step - loss: 0.3008 - accuracy: 0.9052 - val_loss: 0.3265 - val_accuracy: 0.9045\n",
      "Epoch 25/300\n",
      "40/40 [==============================] - 0s 2ms/step - loss: 0.3005 - accuracy: 0.9052 - val_loss: 0.3269 - val_accuracy: 0.9045\n",
      "Epoch 26/300\n",
      "40/40 [==============================] - 0s 3ms/step - loss: 0.2998 - accuracy: 0.9052 - val_loss: 0.3276 - val_accuracy: 0.9045\n",
      "Epoch 27/300\n",
      "40/40 [==============================] - 0s 3ms/step - loss: 0.2997 - accuracy: 0.9052 - val_loss: 0.3273 - val_accuracy: 0.9045\n",
      "Epoch 28/300\n",
      "40/40 [==============================] - 0s 3ms/step - loss: 0.2995 - accuracy: 0.9052 - val_loss: 0.3262 - val_accuracy: 0.9045\n",
      "Epoch 29/300\n",
      "40/40 [==============================] - 0s 2ms/step - loss: 0.2992 - accuracy: 0.9052 - val_loss: 0.3279 - val_accuracy: 0.9045\n",
      "Epoch 30/300\n",
      "40/40 [==============================] - 0s 2ms/step - loss: 0.2987 - accuracy: 0.9052 - val_loss: 0.3266 - val_accuracy: 0.9045\n",
      "Epoch 31/300\n",
      "40/40 [==============================] - 0s 2ms/step - loss: 0.2985 - accuracy: 0.9052 - val_loss: 0.3267 - val_accuracy: 0.9045\n",
      "Epoch 32/300\n",
      "40/40 [==============================] - 0s 3ms/step - loss: 0.2984 - accuracy: 0.9052 - val_loss: 0.3280 - val_accuracy: 0.9045\n",
      "Epoch 33/300\n",
      "40/40 [==============================] - 0s 2ms/step - loss: 0.2983 - accuracy: 0.9052 - val_loss: 0.3268 - val_accuracy: 0.9045\n",
      "Epoch 34/300\n",
      "40/40 [==============================] - 0s 2ms/step - loss: 0.2981 - accuracy: 0.9052 - val_loss: 0.3269 - val_accuracy: 0.9045\n",
      "Epoch 35/300\n",
      "40/40 [==============================] - 0s 2ms/step - loss: 0.2974 - accuracy: 0.9052 - val_loss: 0.3274 - val_accuracy: 0.9045\n",
      "Epoch 36/300\n",
      "40/40 [==============================] - 0s 3ms/step - loss: 0.2972 - accuracy: 0.9052 - val_loss: 0.3265 - val_accuracy: 0.9045\n",
      "Epoch 37/300\n",
      "40/40 [==============================] - 0s 3ms/step - loss: 0.2970 - accuracy: 0.9052 - val_loss: 0.3281 - val_accuracy: 0.9045\n",
      "Epoch 38/300\n",
      "40/40 [==============================] - 0s 3ms/step - loss: 0.2966 - accuracy: 0.9052 - val_loss: 0.3265 - val_accuracy: 0.9045\n",
      "Epoch 39/300\n",
      "40/40 [==============================] - 0s 3ms/step - loss: 0.2964 - accuracy: 0.9052 - val_loss: 0.3270 - val_accuracy: 0.9045\n",
      "Epoch 40/300\n",
      "40/40 [==============================] - 0s 3ms/step - loss: 0.2963 - accuracy: 0.9052 - val_loss: 0.3262 - val_accuracy: 0.9045\n",
      "Epoch 41/300\n",
      "40/40 [==============================] - 0s 3ms/step - loss: 0.2966 - accuracy: 0.9052 - val_loss: 0.3276 - val_accuracy: 0.9045\n",
      "Epoch 42/300\n",
      "40/40 [==============================] - 0s 2ms/step - loss: 0.2964 - accuracy: 0.9052 - val_loss: 0.3284 - val_accuracy: 0.9045\n",
      "Epoch 43/300\n",
      "40/40 [==============================] - 0s 2ms/step - loss: 0.2958 - accuracy: 0.9052 - val_loss: 0.3264 - val_accuracy: 0.9045\n",
      "Epoch 44/300\n",
      "40/40 [==============================] - 0s 2ms/step - loss: 0.2957 - accuracy: 0.9052 - val_loss: 0.3279 - val_accuracy: 0.9045\n",
      "Epoch 45/300\n",
      "40/40 [==============================] - 0s 2ms/step - loss: 0.2954 - accuracy: 0.9052 - val_loss: 0.3267 - val_accuracy: 0.9045\n",
      "Epoch 46/300\n",
      "40/40 [==============================] - 0s 2ms/step - loss: 0.2958 - accuracy: 0.9052 - val_loss: 0.3281 - val_accuracy: 0.9045\n",
      "Epoch 47/300\n",
      "40/40 [==============================] - 0s 2ms/step - loss: 0.2953 - accuracy: 0.9052 - val_loss: 0.3273 - val_accuracy: 0.9045\n",
      "Epoch 48/300\n",
      "40/40 [==============================] - 0s 2ms/step - loss: 0.2952 - accuracy: 0.9052 - val_loss: 0.3267 - val_accuracy: 0.9045\n",
      "Epoch 49/300\n",
      "40/40 [==============================] - 0s 2ms/step - loss: 0.2954 - accuracy: 0.9052 - val_loss: 0.3279 - val_accuracy: 0.9045\n",
      "Epoch 50/300\n",
      "40/40 [==============================] - 0s 2ms/step - loss: 0.2953 - accuracy: 0.9052 - val_loss: 0.3281 - val_accuracy: 0.9045\n",
      "Epoch 51/300\n",
      "40/40 [==============================] - 0s 2ms/step - loss: 0.2947 - accuracy: 0.9052 - val_loss: 0.3274 - val_accuracy: 0.9045\n",
      "Epoch 52/300\n",
      "40/40 [==============================] - 0s 2ms/step - loss: 0.2943 - accuracy: 0.9052 - val_loss: 0.3276 - val_accuracy: 0.9045\n",
      "Epoch 53/300\n",
      "40/40 [==============================] - 0s 2ms/step - loss: 0.2943 - accuracy: 0.9052 - val_loss: 0.3270 - val_accuracy: 0.9045\n",
      "Epoch 54/300\n",
      "40/40 [==============================] - 0s 2ms/step - loss: 0.2943 - accuracy: 0.9052 - val_loss: 0.3282 - val_accuracy: 0.9045\n",
      "Epoch 55/300\n",
      "40/40 [==============================] - 0s 2ms/step - loss: 0.2941 - accuracy: 0.9052 - val_loss: 0.3280 - val_accuracy: 0.9045\n",
      "Epoch 56/300\n",
      "40/40 [==============================] - 0s 2ms/step - loss: 0.2945 - accuracy: 0.9052 - val_loss: 0.3291 - val_accuracy: 0.9045\n",
      "Epoch 57/300\n",
      "40/40 [==============================] - 0s 2ms/step - loss: 0.2940 - accuracy: 0.9052 - val_loss: 0.3283 - val_accuracy: 0.9045\n",
      "Epoch 58/300\n",
      "40/40 [==============================] - 0s 2ms/step - loss: 0.2939 - accuracy: 0.9052 - val_loss: 0.3284 - val_accuracy: 0.9045\n"
     ]
    },
    {
     "name": "stdout",
     "output_type": "stream",
     "text": [
      "Epoch 59/300\n",
      "40/40 [==============================] - 0s 2ms/step - loss: 0.2940 - accuracy: 0.9052 - val_loss: 0.3282 - val_accuracy: 0.9045\n",
      "Epoch 60/300\n",
      "40/40 [==============================] - 0s 2ms/step - loss: 0.2940 - accuracy: 0.9052 - val_loss: 0.3277 - val_accuracy: 0.9045\n",
      "Epoch 61/300\n",
      "40/40 [==============================] - 0s 2ms/step - loss: 0.2939 - accuracy: 0.9052 - val_loss: 0.3277 - val_accuracy: 0.9045\n",
      "Epoch 62/300\n",
      "40/40 [==============================] - 0s 2ms/step - loss: 0.2935 - accuracy: 0.9052 - val_loss: 0.3278 - val_accuracy: 0.9045\n",
      "Epoch 63/300\n",
      "40/40 [==============================] - 0s 2ms/step - loss: 0.2934 - accuracy: 0.9052 - val_loss: 0.3281 - val_accuracy: 0.9045\n",
      "Epoch 64/300\n",
      "40/40 [==============================] - 0s 2ms/step - loss: 0.2933 - accuracy: 0.9052 - val_loss: 0.3289 - val_accuracy: 0.9045\n",
      "Epoch 65/300\n",
      "40/40 [==============================] - 0s 2ms/step - loss: 0.2932 - accuracy: 0.9052 - val_loss: 0.3282 - val_accuracy: 0.9045\n",
      "Epoch 66/300\n",
      "40/40 [==============================] - 0s 2ms/step - loss: 0.2934 - accuracy: 0.9052 - val_loss: 0.3285 - val_accuracy: 0.9045\n",
      "Epoch 67/300\n",
      "40/40 [==============================] - 0s 2ms/step - loss: 0.2931 - accuracy: 0.9052 - val_loss: 0.3298 - val_accuracy: 0.9045\n",
      "Epoch 68/300\n",
      "40/40 [==============================] - 0s 2ms/step - loss: 0.2928 - accuracy: 0.9052 - val_loss: 0.3291 - val_accuracy: 0.9045\n",
      "Epoch 69/300\n",
      "40/40 [==============================] - 0s 2ms/step - loss: 0.2930 - accuracy: 0.9052 - val_loss: 0.3288 - val_accuracy: 0.9045\n",
      "Epoch 70/300\n",
      "40/40 [==============================] - 0s 2ms/step - loss: 0.2924 - accuracy: 0.9052 - val_loss: 0.3287 - val_accuracy: 0.9045\n",
      "Epoch 71/300\n",
      "40/40 [==============================] - 0s 2ms/step - loss: 0.2925 - accuracy: 0.9052 - val_loss: 0.3282 - val_accuracy: 0.9045\n",
      "Epoch 72/300\n",
      "40/40 [==============================] - 0s 2ms/step - loss: 0.2925 - accuracy: 0.9052 - val_loss: 0.3284 - val_accuracy: 0.9045\n",
      "Epoch 73/300\n",
      "40/40 [==============================] - 0s 2ms/step - loss: 0.2919 - accuracy: 0.9052 - val_loss: 0.3288 - val_accuracy: 0.9045\n",
      "Epoch 74/300\n",
      "40/40 [==============================] - 0s 2ms/step - loss: 0.2921 - accuracy: 0.9052 - val_loss: 0.3275 - val_accuracy: 0.9045\n",
      "Epoch 75/300\n",
      "40/40 [==============================] - 0s 2ms/step - loss: 0.2918 - accuracy: 0.9052 - val_loss: 0.3297 - val_accuracy: 0.9045\n",
      "Epoch 76/300\n",
      "40/40 [==============================] - 0s 2ms/step - loss: 0.2918 - accuracy: 0.9052 - val_loss: 0.3277 - val_accuracy: 0.9045\n",
      "Epoch 77/300\n",
      "40/40 [==============================] - 0s 2ms/step - loss: 0.2921 - accuracy: 0.9052 - val_loss: 0.3292 - val_accuracy: 0.9045\n",
      "Epoch 78/300\n",
      "40/40 [==============================] - 0s 2ms/step - loss: 0.2912 - accuracy: 0.9052 - val_loss: 0.3283 - val_accuracy: 0.9045\n",
      "Epoch 79/300\n",
      "40/40 [==============================] - 0s 2ms/step - loss: 0.2920 - accuracy: 0.9052 - val_loss: 0.3299 - val_accuracy: 0.9045\n",
      "Epoch 80/300\n",
      "40/40 [==============================] - 0s 2ms/step - loss: 0.2917 - accuracy: 0.9052 - val_loss: 0.3295 - val_accuracy: 0.9045\n",
      "Epoch 81/300\n",
      "40/40 [==============================] - 0s 3ms/step - loss: 0.2911 - accuracy: 0.9052 - val_loss: 0.3292 - val_accuracy: 0.9045\n",
      "Epoch 82/300\n",
      "40/40 [==============================] - 0s 2ms/step - loss: 0.2912 - accuracy: 0.9052 - val_loss: 0.3284 - val_accuracy: 0.9045\n",
      "Epoch 83/300\n",
      "40/40 [==============================] - 0s 2ms/step - loss: 0.2907 - accuracy: 0.9052 - val_loss: 0.3288 - val_accuracy: 0.9045\n",
      "Epoch 84/300\n",
      "40/40 [==============================] - 0s 2ms/step - loss: 0.2907 - accuracy: 0.9052 - val_loss: 0.3287 - val_accuracy: 0.9045\n",
      "Epoch 85/300\n",
      "40/40 [==============================] - 0s 2ms/step - loss: 0.2910 - accuracy: 0.9052 - val_loss: 0.3294 - val_accuracy: 0.9045\n",
      "Epoch 86/300\n",
      "40/40 [==============================] - 0s 2ms/step - loss: 0.2902 - accuracy: 0.9052 - val_loss: 0.3280 - val_accuracy: 0.9045\n",
      "Epoch 87/300\n",
      "40/40 [==============================] - 0s 2ms/step - loss: 0.2905 - accuracy: 0.9052 - val_loss: 0.3299 - val_accuracy: 0.9045\n",
      "Epoch 88/300\n",
      "40/40 [==============================] - 0s 2ms/step - loss: 0.2905 - accuracy: 0.9052 - val_loss: 0.3292 - val_accuracy: 0.9045\n",
      "Epoch 89/300\n",
      "40/40 [==============================] - 0s 2ms/step - loss: 0.2897 - accuracy: 0.9052 - val_loss: 0.3299 - val_accuracy: 0.9045\n",
      "Epoch 90/300\n",
      "40/40 [==============================] - 0s 2ms/step - loss: 0.2900 - accuracy: 0.9052 - val_loss: 0.3292 - val_accuracy: 0.9045\n",
      "Epoch 91/300\n",
      "40/40 [==============================] - 0s 2ms/step - loss: 0.2898 - accuracy: 0.9052 - val_loss: 0.3291 - val_accuracy: 0.9045\n",
      "Epoch 92/300\n",
      "40/40 [==============================] - 0s 2ms/step - loss: 0.2898 - accuracy: 0.9052 - val_loss: 0.3294 - val_accuracy: 0.9045\n",
      "Epoch 93/300\n",
      "40/40 [==============================] - 0s 2ms/step - loss: 0.2897 - accuracy: 0.9052 - val_loss: 0.3295 - val_accuracy: 0.9045\n",
      "Epoch 94/300\n",
      "40/40 [==============================] - 0s 2ms/step - loss: 0.2894 - accuracy: 0.9052 - val_loss: 0.3288 - val_accuracy: 0.9045\n",
      "Epoch 95/300\n",
      "40/40 [==============================] - 0s 2ms/step - loss: 0.2887 - accuracy: 0.9052 - val_loss: 0.3290 - val_accuracy: 0.9045\n",
      "Epoch 96/300\n",
      "40/40 [==============================] - 0s 2ms/step - loss: 0.2887 - accuracy: 0.9052 - val_loss: 0.3295 - val_accuracy: 0.9045\n",
      "Epoch 97/300\n",
      "40/40 [==============================] - 0s 2ms/step - loss: 0.2888 - accuracy: 0.9052 - val_loss: 0.3290 - val_accuracy: 0.9045\n",
      "Epoch 98/300\n",
      "40/40 [==============================] - 0s 2ms/step - loss: 0.2884 - accuracy: 0.9052 - val_loss: 0.3302 - val_accuracy: 0.9045\n",
      "Epoch 99/300\n",
      "40/40 [==============================] - 0s 2ms/step - loss: 0.2885 - accuracy: 0.9048 - val_loss: 0.3299 - val_accuracy: 0.9045\n",
      "Epoch 100/300\n",
      "40/40 [==============================] - 0s 2ms/step - loss: 0.2880 - accuracy: 0.9048 - val_loss: 0.3298 - val_accuracy: 0.9045\n",
      "Epoch 101/300\n",
      "40/40 [==============================] - 0s 2ms/step - loss: 0.2880 - accuracy: 0.9048 - val_loss: 0.3295 - val_accuracy: 0.9045\n",
      "Epoch 102/300\n",
      "40/40 [==============================] - 0s 2ms/step - loss: 0.2877 - accuracy: 0.9048 - val_loss: 0.3296 - val_accuracy: 0.9045\n",
      "Epoch 103/300\n",
      "40/40 [==============================] - 0s 2ms/step - loss: 0.2876 - accuracy: 0.9048 - val_loss: 0.3298 - val_accuracy: 0.9045\n",
      "Epoch 104/300\n",
      "40/40 [==============================] - 0s 2ms/step - loss: 0.2879 - accuracy: 0.9048 - val_loss: 0.3307 - val_accuracy: 0.9045\n",
      "Epoch 105/300\n",
      "40/40 [==============================] - 0s 2ms/step - loss: 0.2877 - accuracy: 0.9052 - val_loss: 0.3318 - val_accuracy: 0.9045\n",
      "Epoch 106/300\n",
      "40/40 [==============================] - 0s 2ms/step - loss: 0.2873 - accuracy: 0.9048 - val_loss: 0.3303 - val_accuracy: 0.9045\n",
      "Epoch 107/300\n",
      "40/40 [==============================] - 0s 2ms/step - loss: 0.2871 - accuracy: 0.9052 - val_loss: 0.3307 - val_accuracy: 0.9045\n",
      "Epoch 108/300\n",
      "40/40 [==============================] - 0s 2ms/step - loss: 0.2868 - accuracy: 0.9056 - val_loss: 0.3307 - val_accuracy: 0.9045\n",
      "Epoch 109/300\n",
      "40/40 [==============================] - 0s 2ms/step - loss: 0.2866 - accuracy: 0.9052 - val_loss: 0.3304 - val_accuracy: 0.9045\n",
      "Epoch 110/300\n",
      "40/40 [==============================] - 0s 2ms/step - loss: 0.2866 - accuracy: 0.9048 - val_loss: 0.3308 - val_accuracy: 0.9045\n",
      "Epoch 111/300\n",
      "40/40 [==============================] - 0s 2ms/step - loss: 0.2864 - accuracy: 0.9052 - val_loss: 0.3308 - val_accuracy: 0.9045\n",
      "Epoch 112/300\n",
      "40/40 [==============================] - 0s 2ms/step - loss: 0.2861 - accuracy: 0.9056 - val_loss: 0.3308 - val_accuracy: 0.9045\n",
      "Epoch 113/300\n",
      "40/40 [==============================] - 0s 2ms/step - loss: 0.2859 - accuracy: 0.9056 - val_loss: 0.3298 - val_accuracy: 0.9045\n",
      "Epoch 114/300\n",
      "40/40 [==============================] - 0s 2ms/step - loss: 0.2861 - accuracy: 0.9060 - val_loss: 0.3296 - val_accuracy: 0.9045\n",
      "Epoch 115/300\n",
      "40/40 [==============================] - 0s 2ms/step - loss: 0.2858 - accuracy: 0.9052 - val_loss: 0.3303 - val_accuracy: 0.9045\n",
      "Epoch 116/300\n"
     ]
    },
    {
     "name": "stdout",
     "output_type": "stream",
     "text": [
      "40/40 [==============================] - 0s 2ms/step - loss: 0.2855 - accuracy: 0.9052 - val_loss: 0.3306 - val_accuracy: 0.9045\n",
      "Epoch 117/300\n",
      "40/40 [==============================] - 0s 2ms/step - loss: 0.2853 - accuracy: 0.9060 - val_loss: 0.3303 - val_accuracy: 0.9045\n",
      "Epoch 118/300\n",
      "40/40 [==============================] - 0s 2ms/step - loss: 0.2853 - accuracy: 0.9056 - val_loss: 0.3317 - val_accuracy: 0.9045\n",
      "Epoch 119/300\n",
      "40/40 [==============================] - 0s 2ms/step - loss: 0.2849 - accuracy: 0.9060 - val_loss: 0.3303 - val_accuracy: 0.9045\n",
      "Epoch 120/300\n",
      "40/40 [==============================] - 0s 2ms/step - loss: 0.2847 - accuracy: 0.9063 - val_loss: 0.3313 - val_accuracy: 0.9045\n",
      "Epoch 121/300\n",
      "40/40 [==============================] - 0s 2ms/step - loss: 0.2853 - accuracy: 0.9063 - val_loss: 0.3336 - val_accuracy: 0.9045\n",
      "Epoch 122/300\n",
      "40/40 [==============================] - 0s 2ms/step - loss: 0.2842 - accuracy: 0.9063 - val_loss: 0.3295 - val_accuracy: 0.9045\n",
      "Epoch 123/300\n",
      "40/40 [==============================] - 0s 2ms/step - loss: 0.2841 - accuracy: 0.9063 - val_loss: 0.3343 - val_accuracy: 0.9045\n",
      "Epoch 124/300\n",
      "40/40 [==============================] - 0s 2ms/step - loss: 0.2842 - accuracy: 0.9067 - val_loss: 0.3320 - val_accuracy: 0.9045\n",
      "Epoch 125/300\n",
      "40/40 [==============================] - 0s 2ms/step - loss: 0.2833 - accuracy: 0.9063 - val_loss: 0.3318 - val_accuracy: 0.9045\n",
      "Epoch 126/300\n",
      "40/40 [==============================] - 0s 2ms/step - loss: 0.2833 - accuracy: 0.9063 - val_loss: 0.3325 - val_accuracy: 0.9030\n",
      "Epoch 127/300\n",
      "40/40 [==============================] - 0s 2ms/step - loss: 0.2836 - accuracy: 0.9063 - val_loss: 0.3301 - val_accuracy: 0.9045\n",
      "Epoch 128/300\n",
      "40/40 [==============================] - 0s 2ms/step - loss: 0.2836 - accuracy: 0.9063 - val_loss: 0.3320 - val_accuracy: 0.9045\n",
      "Epoch 129/300\n",
      "40/40 [==============================] - 0s 2ms/step - loss: 0.2833 - accuracy: 0.9067 - val_loss: 0.3332 - val_accuracy: 0.9030\n",
      "Epoch 130/300\n",
      "40/40 [==============================] - 0s 2ms/step - loss: 0.2828 - accuracy: 0.9063 - val_loss: 0.3325 - val_accuracy: 0.9030\n",
      "Epoch 131/300\n",
      "40/40 [==============================] - 0s 2ms/step - loss: 0.2823 - accuracy: 0.9067 - val_loss: 0.3308 - val_accuracy: 0.9030\n",
      "Epoch 132/300\n",
      "40/40 [==============================] - 0s 2ms/step - loss: 0.2820 - accuracy: 0.9071 - val_loss: 0.3319 - val_accuracy: 0.9045\n",
      "Epoch 133/300\n",
      "40/40 [==============================] - 0s 2ms/step - loss: 0.2813 - accuracy: 0.9067 - val_loss: 0.3313 - val_accuracy: 0.9030\n",
      "Epoch 134/300\n",
      "40/40 [==============================] - 0s 2ms/step - loss: 0.2811 - accuracy: 0.9071 - val_loss: 0.3321 - val_accuracy: 0.9030\n",
      "Epoch 135/300\n",
      "40/40 [==============================] - 0s 2ms/step - loss: 0.2811 - accuracy: 0.9075 - val_loss: 0.3337 - val_accuracy: 0.9030\n",
      "Epoch 136/300\n",
      "40/40 [==============================] - 0s 2ms/step - loss: 0.2806 - accuracy: 0.9071 - val_loss: 0.3324 - val_accuracy: 0.9030\n",
      "Epoch 137/300\n",
      "40/40 [==============================] - 0s 2ms/step - loss: 0.2810 - accuracy: 0.9075 - val_loss: 0.3333 - val_accuracy: 0.9030\n",
      "Epoch 138/300\n",
      "40/40 [==============================] - 0s 2ms/step - loss: 0.2801 - accuracy: 0.9071 - val_loss: 0.3320 - val_accuracy: 0.9045\n",
      "Epoch 139/300\n",
      "40/40 [==============================] - 0s 2ms/step - loss: 0.2799 - accuracy: 0.9063 - val_loss: 0.3323 - val_accuracy: 0.9030\n",
      "Epoch 140/300\n",
      "40/40 [==============================] - 0s 2ms/step - loss: 0.2796 - accuracy: 0.9071 - val_loss: 0.3319 - val_accuracy: 0.9045\n",
      "Epoch 141/300\n",
      "40/40 [==============================] - 0s 2ms/step - loss: 0.2794 - accuracy: 0.9083 - val_loss: 0.3342 - val_accuracy: 0.9030\n",
      "Epoch 142/300\n",
      "40/40 [==============================] - 0s 2ms/step - loss: 0.2797 - accuracy: 0.9079 - val_loss: 0.3332 - val_accuracy: 0.9045\n",
      "Epoch 143/300\n",
      "40/40 [==============================] - 0s 2ms/step - loss: 0.2793 - accuracy: 0.9079 - val_loss: 0.3319 - val_accuracy: 0.9045\n",
      "Epoch 144/300\n",
      "40/40 [==============================] - 0s 2ms/step - loss: 0.2790 - accuracy: 0.9079 - val_loss: 0.3334 - val_accuracy: 0.9030\n",
      "Epoch 145/300\n",
      "40/40 [==============================] - 0s 2ms/step - loss: 0.2800 - accuracy: 0.9079 - val_loss: 0.3346 - val_accuracy: 0.9045\n",
      "Epoch 146/300\n",
      "40/40 [==============================] - 0s 2ms/step - loss: 0.2789 - accuracy: 0.9079 - val_loss: 0.3345 - val_accuracy: 0.9030\n",
      "Epoch 147/300\n",
      "40/40 [==============================] - 0s 2ms/step - loss: 0.2788 - accuracy: 0.9067 - val_loss: 0.3334 - val_accuracy: 0.9030\n",
      "Epoch 148/300\n",
      "40/40 [==============================] - 0s 2ms/step - loss: 0.2789 - accuracy: 0.9079 - val_loss: 0.3338 - val_accuracy: 0.9045\n",
      "Epoch 149/300\n",
      "40/40 [==============================] - 0s 2ms/step - loss: 0.2781 - accuracy: 0.9079 - val_loss: 0.3336 - val_accuracy: 0.9030\n",
      "Epoch 150/300\n",
      "40/40 [==============================] - 0s 2ms/step - loss: 0.2782 - accuracy: 0.9079 - val_loss: 0.3340 - val_accuracy: 0.9045\n",
      "Epoch 151/300\n",
      "40/40 [==============================] - 0s 2ms/step - loss: 0.2787 - accuracy: 0.9079 - val_loss: 0.3365 - val_accuracy: 0.9030\n",
      "Epoch 152/300\n",
      "40/40 [==============================] - 0s 2ms/step - loss: 0.2775 - accuracy: 0.9079 - val_loss: 0.3342 - val_accuracy: 0.9045\n",
      "Epoch 153/300\n",
      "40/40 [==============================] - 0s 2ms/step - loss: 0.2775 - accuracy: 0.9079 - val_loss: 0.3365 - val_accuracy: 0.9045\n",
      "Epoch 154/300\n",
      "40/40 [==============================] - 0s 2ms/step - loss: 0.2768 - accuracy: 0.9083 - val_loss: 0.3338 - val_accuracy: 0.9045\n",
      "Epoch 155/300\n",
      "40/40 [==============================] - 0s 2ms/step - loss: 0.2764 - accuracy: 0.9079 - val_loss: 0.3377 - val_accuracy: 0.9045\n",
      "Epoch 156/300\n",
      "40/40 [==============================] - 0s 2ms/step - loss: 0.2765 - accuracy: 0.9075 - val_loss: 0.3339 - val_accuracy: 0.9061\n",
      "Epoch 157/300\n",
      "40/40 [==============================] - 0s 2ms/step - loss: 0.2765 - accuracy: 0.9079 - val_loss: 0.3349 - val_accuracy: 0.9045\n",
      "Epoch 158/300\n",
      "40/40 [==============================] - 0s 2ms/step - loss: 0.2770 - accuracy: 0.9091 - val_loss: 0.3340 - val_accuracy: 0.9061\n",
      "Epoch 159/300\n",
      "40/40 [==============================] - 0s 2ms/step - loss: 0.2759 - accuracy: 0.9079 - val_loss: 0.3363 - val_accuracy: 0.9045\n",
      "Epoch 160/300\n",
      "40/40 [==============================] - 0s 2ms/step - loss: 0.2758 - accuracy: 0.9091 - val_loss: 0.3358 - val_accuracy: 0.9045\n",
      "Epoch 161/300\n",
      "40/40 [==============================] - 0s 2ms/step - loss: 0.2756 - accuracy: 0.9083 - val_loss: 0.3367 - val_accuracy: 0.9045\n",
      "Epoch 162/300\n",
      "40/40 [==============================] - 0s 2ms/step - loss: 0.2749 - accuracy: 0.9087 - val_loss: 0.3364 - val_accuracy: 0.9045\n",
      "Epoch 163/300\n",
      "40/40 [==============================] - 0s 2ms/step - loss: 0.2750 - accuracy: 0.9087 - val_loss: 0.3358 - val_accuracy: 0.9045\n",
      "Epoch 164/300\n",
      "40/40 [==============================] - 0s 2ms/step - loss: 0.2746 - accuracy: 0.9079 - val_loss: 0.3367 - val_accuracy: 0.9045\n",
      "Epoch 165/300\n",
      "40/40 [==============================] - 0s 2ms/step - loss: 0.2746 - accuracy: 0.9091 - val_loss: 0.3348 - val_accuracy: 0.9061\n",
      "Epoch 166/300\n",
      "40/40 [==============================] - 0s 2ms/step - loss: 0.2739 - accuracy: 0.9083 - val_loss: 0.3376 - val_accuracy: 0.9045\n",
      "Epoch 167/300\n",
      "40/40 [==============================] - 0s 2ms/step - loss: 0.2745 - accuracy: 0.9099 - val_loss: 0.3362 - val_accuracy: 0.9061\n",
      "Epoch 168/300\n",
      "40/40 [==============================] - 0s 2ms/step - loss: 0.2744 - accuracy: 0.9091 - val_loss: 0.3355 - val_accuracy: 0.9045\n",
      "Epoch 169/300\n",
      "40/40 [==============================] - 0s 2ms/step - loss: 0.2736 - accuracy: 0.9087 - val_loss: 0.3389 - val_accuracy: 0.9045\n",
      "Epoch 170/300\n",
      "40/40 [==============================] - 0s 2ms/step - loss: 0.2737 - accuracy: 0.9095 - val_loss: 0.3357 - val_accuracy: 0.9045\n",
      "Epoch 171/300\n",
      "40/40 [==============================] - 0s 2ms/step - loss: 0.2735 - accuracy: 0.9091 - val_loss: 0.3347 - val_accuracy: 0.9045\n",
      "Epoch 172/300\n",
      "40/40 [==============================] - 0s 2ms/step - loss: 0.2734 - accuracy: 0.9095 - val_loss: 0.3360 - val_accuracy: 0.9061\n",
      "Epoch 173/300\n"
     ]
    },
    {
     "name": "stdout",
     "output_type": "stream",
     "text": [
      "40/40 [==============================] - 0s 2ms/step - loss: 0.2731 - accuracy: 0.9095 - val_loss: 0.3389 - val_accuracy: 0.9045\n",
      "Epoch 174/300\n",
      "40/40 [==============================] - 0s 3ms/step - loss: 0.2730 - accuracy: 0.9095 - val_loss: 0.3359 - val_accuracy: 0.9045\n",
      "Epoch 175/300\n",
      "40/40 [==============================] - 0s 3ms/step - loss: 0.2729 - accuracy: 0.9091 - val_loss: 0.3357 - val_accuracy: 0.9061\n",
      "Epoch 176/300\n",
      "40/40 [==============================] - 0s 2ms/step - loss: 0.2725 - accuracy: 0.9091 - val_loss: 0.3394 - val_accuracy: 0.9045\n",
      "Epoch 177/300\n",
      "40/40 [==============================] - 0s 3ms/step - loss: 0.2723 - accuracy: 0.9099 - val_loss: 0.3359 - val_accuracy: 0.9061\n",
      "Epoch 178/300\n",
      "40/40 [==============================] - 0s 2ms/step - loss: 0.2725 - accuracy: 0.9091 - val_loss: 0.3384 - val_accuracy: 0.9061\n",
      "Epoch 179/300\n",
      "40/40 [==============================] - 0s 3ms/step - loss: 0.2726 - accuracy: 0.9099 - val_loss: 0.3372 - val_accuracy: 0.9061\n",
      "Epoch 180/300\n",
      "40/40 [==============================] - 0s 2ms/step - loss: 0.2718 - accuracy: 0.9095 - val_loss: 0.3355 - val_accuracy: 0.9061\n",
      "Epoch 181/300\n",
      "40/40 [==============================] - 0s 2ms/step - loss: 0.2714 - accuracy: 0.9099 - val_loss: 0.3372 - val_accuracy: 0.9045\n",
      "Epoch 182/300\n",
      "40/40 [==============================] - 0s 3ms/step - loss: 0.2720 - accuracy: 0.9095 - val_loss: 0.3401 - val_accuracy: 0.9045\n",
      "Epoch 183/300\n",
      "40/40 [==============================] - 0s 2ms/step - loss: 0.2712 - accuracy: 0.9099 - val_loss: 0.3364 - val_accuracy: 0.9061\n",
      "Epoch 184/300\n",
      "40/40 [==============================] - 0s 2ms/step - loss: 0.2709 - accuracy: 0.9099 - val_loss: 0.3365 - val_accuracy: 0.9061\n",
      "Epoch 185/300\n",
      "40/40 [==============================] - 0s 2ms/step - loss: 0.2707 - accuracy: 0.9099 - val_loss: 0.3348 - val_accuracy: 0.9061\n",
      "Epoch 186/300\n",
      "40/40 [==============================] - 0s 2ms/step - loss: 0.2713 - accuracy: 0.9099 - val_loss: 0.3362 - val_accuracy: 0.9045\n",
      "Epoch 187/300\n",
      "40/40 [==============================] - 0s 3ms/step - loss: 0.2711 - accuracy: 0.9095 - val_loss: 0.3372 - val_accuracy: 0.9045\n",
      "Epoch 188/300\n",
      "40/40 [==============================] - 0s 2ms/step - loss: 0.2712 - accuracy: 0.9099 - val_loss: 0.3369 - val_accuracy: 0.9030\n",
      "Epoch 189/300\n",
      "40/40 [==============================] - 0s 2ms/step - loss: 0.2709 - accuracy: 0.9099 - val_loss: 0.3385 - val_accuracy: 0.9030\n",
      "Epoch 190/300\n",
      "40/40 [==============================] - 0s 2ms/step - loss: 0.2705 - accuracy: 0.9099 - val_loss: 0.3364 - val_accuracy: 0.9045\n",
      "Epoch 191/300\n",
      "40/40 [==============================] - 0s 2ms/step - loss: 0.2702 - accuracy: 0.9095 - val_loss: 0.3388 - val_accuracy: 0.9045\n",
      "Epoch 192/300\n",
      "40/40 [==============================] - 0s 2ms/step - loss: 0.2708 - accuracy: 0.9099 - val_loss: 0.3370 - val_accuracy: 0.9045\n",
      "Epoch 193/300\n",
      "40/40 [==============================] - 0s 2ms/step - loss: 0.2702 - accuracy: 0.9099 - val_loss: 0.3359 - val_accuracy: 0.9045\n",
      "Epoch 194/300\n",
      "40/40 [==============================] - 0s 2ms/step - loss: 0.2699 - accuracy: 0.9095 - val_loss: 0.3386 - val_accuracy: 0.9045\n",
      "Epoch 195/300\n",
      "40/40 [==============================] - 0s 2ms/step - loss: 0.2697 - accuracy: 0.9099 - val_loss: 0.3357 - val_accuracy: 0.9030\n",
      "Epoch 196/300\n",
      "40/40 [==============================] - 0s 2ms/step - loss: 0.2691 - accuracy: 0.9099 - val_loss: 0.3376 - val_accuracy: 0.9045\n",
      "Epoch 197/300\n",
      "40/40 [==============================] - 0s 2ms/step - loss: 0.2696 - accuracy: 0.9091 - val_loss: 0.3411 - val_accuracy: 0.9030\n",
      "Epoch 198/300\n",
      "40/40 [==============================] - 0s 2ms/step - loss: 0.2692 - accuracy: 0.9103 - val_loss: 0.3360 - val_accuracy: 0.9045\n",
      "Epoch 199/300\n",
      "40/40 [==============================] - 0s 2ms/step - loss: 0.2688 - accuracy: 0.9103 - val_loss: 0.3405 - val_accuracy: 0.9030\n",
      "Epoch 200/300\n",
      "40/40 [==============================] - 0s 3ms/step - loss: 0.2699 - accuracy: 0.9107 - val_loss: 0.3363 - val_accuracy: 0.9045\n",
      "Epoch 201/300\n",
      "40/40 [==============================] - 0s 2ms/step - loss: 0.2691 - accuracy: 0.9099 - val_loss: 0.3385 - val_accuracy: 0.9045\n",
      "Epoch 202/300\n",
      "40/40 [==============================] - 0s 2ms/step - loss: 0.2689 - accuracy: 0.9107 - val_loss: 0.3366 - val_accuracy: 0.9045\n",
      "Epoch 203/300\n",
      "40/40 [==============================] - 0s 2ms/step - loss: 0.2685 - accuracy: 0.9103 - val_loss: 0.3392 - val_accuracy: 0.9045\n",
      "Epoch 204/300\n",
      "40/40 [==============================] - 0s 2ms/step - loss: 0.2689 - accuracy: 0.9103 - val_loss: 0.3375 - val_accuracy: 0.9045\n",
      "Epoch 205/300\n",
      "40/40 [==============================] - 0s 2ms/step - loss: 0.2682 - accuracy: 0.9107 - val_loss: 0.3372 - val_accuracy: 0.9045\n",
      "Epoch 206/300\n",
      "40/40 [==============================] - 0s 2ms/step - loss: 0.2677 - accuracy: 0.9103 - val_loss: 0.3397 - val_accuracy: 0.9045\n",
      "Epoch 207/300\n",
      "40/40 [==============================] - 0s 2ms/step - loss: 0.2680 - accuracy: 0.9107 - val_loss: 0.3377 - val_accuracy: 0.9045\n",
      "Epoch 208/300\n",
      "40/40 [==============================] - 0s 2ms/step - loss: 0.2680 - accuracy: 0.9107 - val_loss: 0.3379 - val_accuracy: 0.9045\n",
      "Epoch 209/300\n",
      "40/40 [==============================] - 0s 2ms/step - loss: 0.2680 - accuracy: 0.9107 - val_loss: 0.3403 - val_accuracy: 0.9045\n",
      "Epoch 210/300\n",
      "40/40 [==============================] - 0s 2ms/step - loss: 0.2687 - accuracy: 0.9103 - val_loss: 0.3418 - val_accuracy: 0.9061\n",
      "Epoch 211/300\n",
      "40/40 [==============================] - 0s 2ms/step - loss: 0.2671 - accuracy: 0.9111 - val_loss: 0.3396 - val_accuracy: 0.9045\n",
      "Epoch 212/300\n",
      "40/40 [==============================] - 0s 2ms/step - loss: 0.2674 - accuracy: 0.9111 - val_loss: 0.3391 - val_accuracy: 0.9045\n",
      "Epoch 213/300\n",
      "40/40 [==============================] - 0s 2ms/step - loss: 0.2670 - accuracy: 0.9111 - val_loss: 0.3416 - val_accuracy: 0.9045\n",
      "Epoch 214/300\n",
      "40/40 [==============================] - 0s 2ms/step - loss: 0.2674 - accuracy: 0.9103 - val_loss: 0.3388 - val_accuracy: 0.9061\n",
      "Epoch 215/300\n",
      "40/40 [==============================] - 0s 2ms/step - loss: 0.2668 - accuracy: 0.9111 - val_loss: 0.3410 - val_accuracy: 0.9061\n",
      "Epoch 216/300\n",
      "40/40 [==============================] - 0s 2ms/step - loss: 0.2661 - accuracy: 0.9103 - val_loss: 0.3410 - val_accuracy: 0.9061\n",
      "Epoch 217/300\n",
      "40/40 [==============================] - 0s 2ms/step - loss: 0.2668 - accuracy: 0.9111 - val_loss: 0.3411 - val_accuracy: 0.9061\n",
      "Epoch 218/300\n",
      "40/40 [==============================] - 0s 2ms/step - loss: 0.2662 - accuracy: 0.9103 - val_loss: 0.3388 - val_accuracy: 0.9061\n",
      "Epoch 219/300\n",
      "40/40 [==============================] - 0s 2ms/step - loss: 0.2660 - accuracy: 0.9114 - val_loss: 0.3408 - val_accuracy: 0.9061\n",
      "Epoch 220/300\n",
      "40/40 [==============================] - 0s 2ms/step - loss: 0.2660 - accuracy: 0.9111 - val_loss: 0.3388 - val_accuracy: 0.9061\n",
      "Epoch 221/300\n",
      "40/40 [==============================] - 0s 2ms/step - loss: 0.2653 - accuracy: 0.9111 - val_loss: 0.3438 - val_accuracy: 0.9061\n",
      "Epoch 222/300\n",
      "40/40 [==============================] - 0s 2ms/step - loss: 0.2658 - accuracy: 0.9111 - val_loss: 0.3404 - val_accuracy: 0.9045\n",
      "Epoch 223/300\n",
      "40/40 [==============================] - 0s 2ms/step - loss: 0.2654 - accuracy: 0.9114 - val_loss: 0.3392 - val_accuracy: 0.9061\n",
      "Epoch 224/300\n",
      "40/40 [==============================] - 0s 2ms/step - loss: 0.2653 - accuracy: 0.9111 - val_loss: 0.3400 - val_accuracy: 0.9061\n",
      "Epoch 225/300\n",
      "40/40 [==============================] - 0s 2ms/step - loss: 0.2648 - accuracy: 0.9107 - val_loss: 0.3398 - val_accuracy: 0.9061\n",
      "Epoch 226/300\n",
      "40/40 [==============================] - 0s 3ms/step - loss: 0.2651 - accuracy: 0.9118 - val_loss: 0.3375 - val_accuracy: 0.9061\n",
      "Epoch 227/300\n",
      "40/40 [==============================] - 0s 2ms/step - loss: 0.2652 - accuracy: 0.9111 - val_loss: 0.3404 - val_accuracy: 0.9061\n",
      "Epoch 228/300\n",
      "40/40 [==============================] - 0s 2ms/step - loss: 0.2652 - accuracy: 0.9111 - val_loss: 0.3421 - val_accuracy: 0.9045\n",
      "Epoch 229/300\n",
      "40/40 [==============================] - 0s 2ms/step - loss: 0.2651 - accuracy: 0.9114 - val_loss: 0.3392 - val_accuracy: 0.9045\n",
      "Epoch 230/300\n"
     ]
    },
    {
     "name": "stdout",
     "output_type": "stream",
     "text": [
      "40/40 [==============================] - 0s 2ms/step - loss: 0.2646 - accuracy: 0.9107 - val_loss: 0.3421 - val_accuracy: 0.9045\n",
      "Epoch 231/300\n",
      "40/40 [==============================] - 0s 2ms/step - loss: 0.2647 - accuracy: 0.9114 - val_loss: 0.3409 - val_accuracy: 0.9061\n",
      "Epoch 232/300\n",
      "40/40 [==============================] - 0s 2ms/step - loss: 0.2643 - accuracy: 0.9114 - val_loss: 0.3425 - val_accuracy: 0.9045\n",
      "Epoch 233/300\n",
      "40/40 [==============================] - 0s 2ms/step - loss: 0.2641 - accuracy: 0.9111 - val_loss: 0.3390 - val_accuracy: 0.9061\n",
      "Epoch 234/300\n",
      "40/40 [==============================] - 0s 2ms/step - loss: 0.2642 - accuracy: 0.9118 - val_loss: 0.3462 - val_accuracy: 0.9045\n",
      "Epoch 235/300\n",
      "40/40 [==============================] - 0s 2ms/step - loss: 0.2640 - accuracy: 0.9118 - val_loss: 0.3390 - val_accuracy: 0.9061\n",
      "Epoch 236/300\n",
      "40/40 [==============================] - 0s 2ms/step - loss: 0.2639 - accuracy: 0.9118 - val_loss: 0.3394 - val_accuracy: 0.9061\n",
      "Epoch 237/300\n",
      "40/40 [==============================] - 0s 2ms/step - loss: 0.2639 - accuracy: 0.9114 - val_loss: 0.3422 - val_accuracy: 0.9061\n",
      "Epoch 238/300\n",
      "40/40 [==============================] - 0s 2ms/step - loss: 0.2639 - accuracy: 0.9122 - val_loss: 0.3395 - val_accuracy: 0.9061\n",
      "Epoch 239/300\n",
      "40/40 [==============================] - 0s 2ms/step - loss: 0.2623 - accuracy: 0.9122 - val_loss: 0.3433 - val_accuracy: 0.9061\n",
      "Epoch 240/300\n",
      "40/40 [==============================] - 0s 2ms/step - loss: 0.2630 - accuracy: 0.9118 - val_loss: 0.3411 - val_accuracy: 0.9045\n",
      "Epoch 241/300\n",
      "40/40 [==============================] - 0s 2ms/step - loss: 0.2634 - accuracy: 0.9122 - val_loss: 0.3413 - val_accuracy: 0.9061\n",
      "Epoch 242/300\n",
      "40/40 [==============================] - 0s 2ms/step - loss: 0.2630 - accuracy: 0.9126 - val_loss: 0.3450 - val_accuracy: 0.9061\n",
      "Epoch 243/300\n",
      "40/40 [==============================] - 0s 2ms/step - loss: 0.2635 - accuracy: 0.9114 - val_loss: 0.3434 - val_accuracy: 0.9061\n",
      "Epoch 244/300\n",
      "40/40 [==============================] - 0s 2ms/step - loss: 0.2629 - accuracy: 0.9122 - val_loss: 0.3430 - val_accuracy: 0.9061\n",
      "Epoch 245/300\n",
      "40/40 [==============================] - 0s 2ms/step - loss: 0.2631 - accuracy: 0.9111 - val_loss: 0.3411 - val_accuracy: 0.9061\n",
      "Epoch 246/300\n",
      "40/40 [==============================] - 0s 2ms/step - loss: 0.2627 - accuracy: 0.9122 - val_loss: 0.3431 - val_accuracy: 0.9061\n",
      "Epoch 247/300\n",
      "40/40 [==============================] - 0s 2ms/step - loss: 0.2625 - accuracy: 0.9122 - val_loss: 0.3393 - val_accuracy: 0.9061\n",
      "Epoch 248/300\n",
      "40/40 [==============================] - 0s 2ms/step - loss: 0.2623 - accuracy: 0.9122 - val_loss: 0.3412 - val_accuracy: 0.9061\n",
      "Epoch 249/300\n",
      "40/40 [==============================] - 0s 2ms/step - loss: 0.2619 - accuracy: 0.9130 - val_loss: 0.3468 - val_accuracy: 0.9061\n",
      "Epoch 250/300\n",
      "40/40 [==============================] - 0s 2ms/step - loss: 0.2619 - accuracy: 0.9134 - val_loss: 0.3457 - val_accuracy: 0.9061\n",
      "Epoch 251/300\n",
      "40/40 [==============================] - 0s 2ms/step - loss: 0.2614 - accuracy: 0.9126 - val_loss: 0.3415 - val_accuracy: 0.9061\n",
      "Epoch 252/300\n",
      "40/40 [==============================] - 0s 2ms/step - loss: 0.2608 - accuracy: 0.9122 - val_loss: 0.3422 - val_accuracy: 0.9061\n",
      "Epoch 253/300\n",
      "40/40 [==============================] - 0s 2ms/step - loss: 0.2609 - accuracy: 0.9126 - val_loss: 0.3452 - val_accuracy: 0.9061\n",
      "Epoch 254/300\n",
      "40/40 [==============================] - 0s 2ms/step - loss: 0.2620 - accuracy: 0.9126 - val_loss: 0.3399 - val_accuracy: 0.9061\n",
      "Epoch 255/300\n",
      "40/40 [==============================] - 0s 2ms/step - loss: 0.2614 - accuracy: 0.9122 - val_loss: 0.3419 - val_accuracy: 0.9030\n",
      "Epoch 256/300\n",
      "40/40 [==============================] - 0s 2ms/step - loss: 0.2609 - accuracy: 0.9122 - val_loss: 0.3408 - val_accuracy: 0.9061\n",
      "Epoch 257/300\n",
      "40/40 [==============================] - 0s 2ms/step - loss: 0.2606 - accuracy: 0.9126 - val_loss: 0.3392 - val_accuracy: 0.9061\n",
      "Epoch 258/300\n",
      "40/40 [==============================] - 0s 2ms/step - loss: 0.2607 - accuracy: 0.9134 - val_loss: 0.3417 - val_accuracy: 0.9061\n",
      "Epoch 259/300\n",
      "40/40 [==============================] - 0s 2ms/step - loss: 0.2618 - accuracy: 0.9130 - val_loss: 0.3423 - val_accuracy: 0.9030\n",
      "Epoch 260/300\n",
      "40/40 [==============================] - 0s 2ms/step - loss: 0.2604 - accuracy: 0.9130 - val_loss: 0.3472 - val_accuracy: 0.9030\n",
      "Epoch 261/300\n",
      "40/40 [==============================] - 0s 2ms/step - loss: 0.2613 - accuracy: 0.9134 - val_loss: 0.3439 - val_accuracy: 0.9030\n",
      "Epoch 262/300\n",
      "40/40 [==============================] - 0s 2ms/step - loss: 0.2603 - accuracy: 0.9150 - val_loss: 0.3462 - val_accuracy: 0.9061\n",
      "Epoch 263/300\n",
      "40/40 [==============================] - 0s 2ms/step - loss: 0.2604 - accuracy: 0.9146 - val_loss: 0.3450 - val_accuracy: 0.9014\n",
      "Epoch 264/300\n",
      "40/40 [==============================] - 0s 2ms/step - loss: 0.2614 - accuracy: 0.9122 - val_loss: 0.3464 - val_accuracy: 0.9045\n",
      "Epoch 265/300\n",
      "40/40 [==============================] - 0s 2ms/step - loss: 0.2603 - accuracy: 0.9142 - val_loss: 0.3423 - val_accuracy: 0.9030\n",
      "Epoch 266/300\n",
      "40/40 [==============================] - 0s 2ms/step - loss: 0.2594 - accuracy: 0.9138 - val_loss: 0.3434 - val_accuracy: 0.9045\n",
      "Epoch 267/300\n",
      "40/40 [==============================] - 0s 2ms/step - loss: 0.2595 - accuracy: 0.9138 - val_loss: 0.3431 - val_accuracy: 0.9014\n",
      "Epoch 268/300\n",
      "40/40 [==============================] - 0s 2ms/step - loss: 0.2597 - accuracy: 0.9150 - val_loss: 0.3452 - val_accuracy: 0.9030\n",
      "Epoch 269/300\n",
      "40/40 [==============================] - 0s 2ms/step - loss: 0.2594 - accuracy: 0.9150 - val_loss: 0.3461 - val_accuracy: 0.9061\n",
      "Epoch 270/300\n",
      "40/40 [==============================] - 0s 2ms/step - loss: 0.2595 - accuracy: 0.9138 - val_loss: 0.3428 - val_accuracy: 0.9014\n",
      "Epoch 271/300\n",
      "40/40 [==============================] - 0s 2ms/step - loss: 0.2601 - accuracy: 0.9134 - val_loss: 0.3468 - val_accuracy: 0.9014\n",
      "Epoch 272/300\n",
      "40/40 [==============================] - 0s 2ms/step - loss: 0.2594 - accuracy: 0.9146 - val_loss: 0.3434 - val_accuracy: 0.9045\n",
      "Epoch 273/300\n",
      "40/40 [==============================] - 0s 2ms/step - loss: 0.2591 - accuracy: 0.9134 - val_loss: 0.3462 - val_accuracy: 0.9014\n",
      "Epoch 274/300\n",
      "40/40 [==============================] - 0s 2ms/step - loss: 0.2580 - accuracy: 0.9146 - val_loss: 0.3449 - val_accuracy: 0.9045\n",
      "Epoch 275/300\n",
      "40/40 [==============================] - 0s 2ms/step - loss: 0.2595 - accuracy: 0.9138 - val_loss: 0.3444 - val_accuracy: 0.9014\n",
      "Epoch 276/300\n",
      "40/40 [==============================] - 0s 2ms/step - loss: 0.2592 - accuracy: 0.9150 - val_loss: 0.3444 - val_accuracy: 0.9030\n",
      "Epoch 277/300\n",
      "40/40 [==============================] - 0s 2ms/step - loss: 0.2585 - accuracy: 0.9142 - val_loss: 0.3445 - val_accuracy: 0.9030\n",
      "Epoch 278/300\n",
      "40/40 [==============================] - 0s 2ms/step - loss: 0.2576 - accuracy: 0.9150 - val_loss: 0.3439 - val_accuracy: 0.9030\n",
      "Epoch 279/300\n",
      "40/40 [==============================] - 0s 2ms/step - loss: 0.2579 - accuracy: 0.9154 - val_loss: 0.3450 - val_accuracy: 0.9030\n",
      "Epoch 280/300\n",
      "40/40 [==============================] - 0s 2ms/step - loss: 0.2579 - accuracy: 0.9146 - val_loss: 0.3456 - val_accuracy: 0.9014\n",
      "Epoch 281/300\n",
      "40/40 [==============================] - 0s 2ms/step - loss: 0.2577 - accuracy: 0.9146 - val_loss: 0.3469 - val_accuracy: 0.9014\n",
      "Epoch 282/300\n",
      "40/40 [==============================] - 0s 2ms/step - loss: 0.2590 - accuracy: 0.9150 - val_loss: 0.3430 - val_accuracy: 0.9061\n",
      "Epoch 283/300\n",
      "40/40 [==============================] - 0s 2ms/step - loss: 0.2568 - accuracy: 0.9146 - val_loss: 0.3479 - val_accuracy: 0.9014\n",
      "Epoch 284/300\n",
      "40/40 [==============================] - 0s 2ms/step - loss: 0.2581 - accuracy: 0.9142 - val_loss: 0.3432 - val_accuracy: 0.9030\n",
      "Epoch 285/300\n",
      "40/40 [==============================] - 0s 2ms/step - loss: 0.2582 - accuracy: 0.9150 - val_loss: 0.3435 - val_accuracy: 0.9014\n",
      "Epoch 286/300\n",
      "40/40 [==============================] - 0s 2ms/step - loss: 0.2563 - accuracy: 0.9154 - val_loss: 0.3472 - val_accuracy: 0.9014\n",
      "Epoch 287/300\n"
     ]
    },
    {
     "name": "stdout",
     "output_type": "stream",
     "text": [
      "40/40 [==============================] - 0s 2ms/step - loss: 0.2580 - accuracy: 0.9138 - val_loss: 0.3436 - val_accuracy: 0.9014\n",
      "Epoch 288/300\n",
      "40/40 [==============================] - 0s 2ms/step - loss: 0.2571 - accuracy: 0.9142 - val_loss: 0.3501 - val_accuracy: 0.8998\n",
      "Epoch 289/300\n",
      "40/40 [==============================] - 0s 2ms/step - loss: 0.2568 - accuracy: 0.9158 - val_loss: 0.3463 - val_accuracy: 0.9014\n",
      "Epoch 290/300\n",
      "40/40 [==============================] - 0s 2ms/step - loss: 0.2561 - accuracy: 0.9150 - val_loss: 0.3430 - val_accuracy: 0.9030\n",
      "Epoch 291/300\n",
      "40/40 [==============================] - 0s 2ms/step - loss: 0.2571 - accuracy: 0.9150 - val_loss: 0.3465 - val_accuracy: 0.9030\n",
      "Epoch 292/300\n",
      "40/40 [==============================] - 0s 2ms/step - loss: 0.2566 - accuracy: 0.9154 - val_loss: 0.3427 - val_accuracy: 0.9030\n",
      "Epoch 293/300\n",
      "40/40 [==============================] - 0s 2ms/step - loss: 0.2568 - accuracy: 0.9142 - val_loss: 0.3439 - val_accuracy: 0.9030\n",
      "Epoch 294/300\n",
      "40/40 [==============================] - 0s 2ms/step - loss: 0.2563 - accuracy: 0.9150 - val_loss: 0.3468 - val_accuracy: 0.9014\n",
      "Epoch 295/300\n",
      "40/40 [==============================] - 0s 2ms/step - loss: 0.2557 - accuracy: 0.9158 - val_loss: 0.3464 - val_accuracy: 0.9030\n",
      "Epoch 296/300\n",
      "40/40 [==============================] - 0s 2ms/step - loss: 0.2559 - accuracy: 0.9146 - val_loss: 0.3483 - val_accuracy: 0.8998\n",
      "Epoch 297/300\n",
      "40/40 [==============================] - 0s 2ms/step - loss: 0.2557 - accuracy: 0.9134 - val_loss: 0.3462 - val_accuracy: 0.8998\n",
      "Epoch 298/300\n",
      "40/40 [==============================] - 0s 2ms/step - loss: 0.2548 - accuracy: 0.9161 - val_loss: 0.3445 - val_accuracy: 0.9014\n",
      "Epoch 299/300\n",
      "40/40 [==============================] - 0s 2ms/step - loss: 0.2550 - accuracy: 0.9161 - val_loss: 0.3452 - val_accuracy: 0.8998\n",
      "Epoch 300/300\n",
      "40/40 [==============================] - 0s 2ms/step - loss: 0.2551 - accuracy: 0.9165 - val_loss: 0.3461 - val_accuracy: 0.9030\n",
      "20/20 [==============================] - 0s 890us/step\n",
      "Acc Score:  0.9029733959311425\n",
      "Roc Auc Score:  0.5137982869136083\n",
      "f1 score:  0.060606060606060615\n"
     ]
    }
   ],
   "source": [
    "np.digitize(y_test, [0, 1]) - 1\n",
    "nb_classes = 2\n",
    "y_train = np.eye(nb_classes)[y_train]\n",
    "y_test = np.eye(nb_classes)[y_test]\n",
    "\n",
    "import keras\n",
    "from keras.layers import Dense, Softmax\n",
    "model = keras.Sequential()\n",
    "#model.add(Dense(69, kernel_initializer='normal', activation='relu', input_shape=(23,)))\n",
    "model.add(Dense(16, kernel_initializer='normal', activation='relu', input_shape=(22,)))\n",
    "model.add(Dense(4, kernel_initializer='normal', activation='relu'))\n",
    "model.add(Dense(2, kernel_initializer='normal', activation='softmax'))\n",
    "#loss_fn = keras.losses.SparseCategoricalCrossentropy(from_logits=True)\n",
    "model.compile(loss='categorical_crossentropy', optimizer='Adam', metrics='accuracy', )\n",
    "model.fit(X_train, y_train, validation_data=(X_test, y_test), verbose=1, epochs=300, batch_size=64, shuffle=True)\n",
    "\n",
    "from sklearn.metrics import mean_squared_error\n",
    "from sklearn.metrics import mean_absolute_error\n",
    "\n",
    "preds = model.predict(X_test)\n",
    "\n",
    "print('Acc Score: ',accuracy_score(np.argmax(y_test, axis=1), np.argmax(preds, axis=1)))\n",
    "print('Roc Auc Score: ',roc_auc_score(np.argmax(y_test, axis=1), np.argmax(preds, axis=1)))\n",
    "#print('Precision Score: ',precision_score(y_test, preds))\n",
    "#print('Recall Score: ',recall_score(y_test, preds))\n",
    "print('f1 score: ',f1_score(np.argmax(y_test, axis=1), np.argmax(preds, axis=1)))\n"
   ]
  },
  {
   "cell_type": "code",
   "execution_count": 30,
   "id": "c81e5bc1",
   "metadata": {},
   "outputs": [
    {
     "data": {
      "text/plain": [
       "array([[575,   3],\n",
       "       [ 59,   2]], dtype=int64)"
      ]
     },
     "execution_count": 30,
     "metadata": {},
     "output_type": "execute_result"
    }
   ],
   "source": [
    "confusion_matrix(np.argmax(y_test, axis=1), np.argmax(preds, axis=1))"
   ]
  },
  {
   "cell_type": "code",
   "execution_count": 31,
   "id": "2a5b8b4f",
   "metadata": {},
   "outputs": [
    {
     "ename": "ValueError",
     "evalue": "y_true and y_pred have different number of output (1!=2)",
     "output_type": "error",
     "traceback": [
      "\u001b[1;31m---------------------------------------------------------------------------\u001b[0m",
      "\u001b[1;31mValueError\u001b[0m                                Traceback (most recent call last)",
      "\u001b[1;32m<ipython-input-31-0763cf4f15b9>\u001b[0m in \u001b[0;36m<module>\u001b[1;34m\u001b[0m\n\u001b[1;32m----> 1\u001b[1;33m \u001b[0mmean_squared_error\u001b[0m\u001b[1;33m(\u001b[0m\u001b[0my_2_test\u001b[0m\u001b[1;33m,\u001b[0m \u001b[0mpreds\u001b[0m\u001b[1;33m)\u001b[0m\u001b[1;33m\u001b[0m\u001b[1;33m\u001b[0m\u001b[0m\n\u001b[0m",
      "\u001b[1;32mC:\\ProgramData\\Anaconda3\\lib\\site-packages\\sklearn\\metrics\\_regression.py\u001b[0m in \u001b[0;36mmean_squared_error\u001b[1;34m(y_true, y_pred, sample_weight, multioutput, squared)\u001b[0m\n\u001b[0;32m    436\u001b[0m     \u001b[1;36m0.825\u001b[0m\u001b[1;33m...\u001b[0m\u001b[1;33m\u001b[0m\u001b[1;33m\u001b[0m\u001b[0m\n\u001b[0;32m    437\u001b[0m     \"\"\"\n\u001b[1;32m--> 438\u001b[1;33m     y_type, y_true, y_pred, multioutput = _check_reg_targets(\n\u001b[0m\u001b[0;32m    439\u001b[0m         \u001b[0my_true\u001b[0m\u001b[1;33m,\u001b[0m \u001b[0my_pred\u001b[0m\u001b[1;33m,\u001b[0m \u001b[0mmultioutput\u001b[0m\u001b[1;33m\u001b[0m\u001b[1;33m\u001b[0m\u001b[0m\n\u001b[0;32m    440\u001b[0m     )\n",
      "\u001b[1;32mC:\\ProgramData\\Anaconda3\\lib\\site-packages\\sklearn\\metrics\\_regression.py\u001b[0m in \u001b[0;36m_check_reg_targets\u001b[1;34m(y_true, y_pred, multioutput, dtype)\u001b[0m\n\u001b[0;32m    103\u001b[0m \u001b[1;33m\u001b[0m\u001b[0m\n\u001b[0;32m    104\u001b[0m     \u001b[1;32mif\u001b[0m \u001b[0my_true\u001b[0m\u001b[1;33m.\u001b[0m\u001b[0mshape\u001b[0m\u001b[1;33m[\u001b[0m\u001b[1;36m1\u001b[0m\u001b[1;33m]\u001b[0m \u001b[1;33m!=\u001b[0m \u001b[0my_pred\u001b[0m\u001b[1;33m.\u001b[0m\u001b[0mshape\u001b[0m\u001b[1;33m[\u001b[0m\u001b[1;36m1\u001b[0m\u001b[1;33m]\u001b[0m\u001b[1;33m:\u001b[0m\u001b[1;33m\u001b[0m\u001b[1;33m\u001b[0m\u001b[0m\n\u001b[1;32m--> 105\u001b[1;33m         raise ValueError(\n\u001b[0m\u001b[0;32m    106\u001b[0m             \"y_true and y_pred have different number of output ({0}!={1})\".format(\n\u001b[0;32m    107\u001b[0m                 \u001b[0my_true\u001b[0m\u001b[1;33m.\u001b[0m\u001b[0mshape\u001b[0m\u001b[1;33m[\u001b[0m\u001b[1;36m1\u001b[0m\u001b[1;33m]\u001b[0m\u001b[1;33m,\u001b[0m \u001b[0my_pred\u001b[0m\u001b[1;33m.\u001b[0m\u001b[0mshape\u001b[0m\u001b[1;33m[\u001b[0m\u001b[1;36m1\u001b[0m\u001b[1;33m]\u001b[0m\u001b[1;33m\u001b[0m\u001b[1;33m\u001b[0m\u001b[0m\n",
      "\u001b[1;31mValueError\u001b[0m: y_true and y_pred have different number of output (1!=2)"
     ]
    }
   ],
   "source": [
    "#mean_squared_error(y_2_test, preds)"
   ]
  },
  {
   "cell_type": "code",
   "execution_count": 32,
   "id": "05c0493b",
   "metadata": {},
   "outputs": [],
   "source": [
    "#mean_absolute_error(y_2_test, preds)"
   ]
  },
  {
   "cell_type": "code",
   "execution_count": 33,
   "id": "5da38453",
   "metadata": {},
   "outputs": [
    {
     "data": {
      "image/png": "[encoded data removed]",
      "text/plain": [
       "<Figure size 1200x480 with 2 Axes>"
      ]
     },
     "metadata": {
      "needs_background": "light"
     },
     "output_type": "display_data"
    }
   ],
   "source": [
    "# Create Figure and Subplots\n",
    "fig, (ax1, ax2) = plt.subplots(1,2, figsize=(10,4), sharey=True, dpi=120)\n",
    "\n",
    "# Plot\n",
    "ax1.plot(preds, 'g')  # greendots\n",
    "ax2.plot(y_2_test, 'b')  # bluestart\n",
    "\n",
    "# Title, X and Y labels, X and Y Lim\n",
    "ax1.set_title('Predictions'); ax2.set_title('Ground Truth')\n",
    "\n",
    "  # y axis limits\n",
    "\n",
    "# ax2.yaxis.set_ticks_position('none') \n",
    "plt.tight_layout()\n",
    "plt.show()"
   ]
  },
  {
   "cell_type": "code",
   "execution_count": 34,
   "id": "7e092587",
   "metadata": {},
   "outputs": [
    {
     "data": {
      "text/plain": [
       "array([ 29,  33,  38,  17,   3,  37,  16,  32,  59,  22,   8,  17,  14,\n",
       "         4,  25,  35,  51,  18,  27,  64, 141, 210])"
      ]
     },
     "execution_count": 34,
     "metadata": {},
     "output_type": "execute_result"
    }
   ],
   "source": [
    "classifier.feature_importances_"
   ]
  },
  {
   "cell_type": "code",
   "execution_count": 35,
   "id": "da999a7b",
   "metadata": {},
   "outputs": [],
   "source": [
    "features = ['HR-1', 'HR-2', 'HR-3', 'HR-4', 'HR-5', 'PB-1', 'PB-2', 'PB-3', 'PB-4','PB-5', 'T-1', 'T-2', 'T-3', 'T-4', 'T-5', 'VV-1', 'VV-2', 'VV-3','VV-4', 'VV-5', 'vol', 'intensity']"
   ]
  },
  {
   "cell_type": "code",
   "execution_count": 36,
   "id": "44626ec9",
   "metadata": {},
   "outputs": [
    {
     "data": {
      "text/plain": [
       "<BarContainer object of 22 artists>"
      ]
     },
     "execution_count": 36,
     "metadata": {},
     "output_type": "execute_result"
    },
    {
     "data": {
      "image/png": "[encoded data removed]",
      "text/plain": [
       "<Figure size 1200x400 with 1 Axes>"
      ]
     },
     "metadata": {
      "needs_background": "light"
     },
     "output_type": "display_data"
    }
   ],
   "source": [
    "plt.figure(figsize=(15, 5), dpi=80)\n",
    "\n",
    "plt.bar(features, classifier.feature_importances_ / np.sum(classifier.feature_importances_))"
   ]
  },
  {
   "cell_type": "code",
   "execution_count": 37,
   "id": "c9d253e7",
   "metadata": {},
   "outputs": [
    {
     "data": {
      "image/png": "[encoded data removed]",
      "text/plain": [
       "<Figure size 432x288 with 1 Axes>"
      ]
     },
     "metadata": {
      "needs_background": "light"
     },
     "output_type": "display_data"
    }
   ],
   "source": [
    "temp_true  = np.copy(y_2_test)\n",
    "#temp_true[temp_true > 0] = 5\n",
    "#preds[preds > 0] = 2\n",
    "plt.plot(preds[0:100],'r', label='Prediction')\n",
    "plt.plot(temp_true[0:100],'b', label='Ground Truth')\n",
    "plt.show()"
   ]
  },
  {
   "cell_type": "code",
   "execution_count": 38,
   "id": "dfc9d5c4",
   "metadata": {},
   "outputs": [
    {
     "data": {
      "image/png": "[encoded data removed]",
      "text/plain": [
       "<Figure size 504x360 with 1 Axes>"
      ]
     },
     "metadata": {
      "needs_background": "light"
     },
     "output_type": "display_data"
    }
   ],
   "source": [
    "data = [0.11, 0.198, 0.89]\n",
    "\n",
    "f = plt.figure()\n",
    "f.set_figwidth(7)\n",
    "f.set_figheight(5)\n",
    "\n",
    "x = ['Basic Measurements', 'Precipitation Prediction', 'True Precipitation']\n",
    "plt.xticks(range(len(data)), x)\n",
    "\n",
    "plt.bar(range(len(x)), data, color='royalblue', alpha=0.7)\n",
    "plt.grid(color='#95a5a6', linestyle='--', linewidth=2, axis='y', alpha=0.7)\n",
    "plt.title(\"F1 score\")\n",
    "plt.show()"
   ]
  },
  {
   "cell_type": "code",
   "execution_count": 39,
   "id": "e82101e0",
   "metadata": {},
   "outputs": [
    {
     "data": {
      "image/png": "[encoded data removed]",
      "text/plain": [
       "<Figure size 216x576 with 1 Axes>"
      ]
     },
     "metadata": {
      "needs_background": "light"
     },
     "output_type": "display_data"
    }
   ],
   "source": [
    "# plot feature importance\n",
    "import seaborn as sns\n",
    "features = ['HR-1', 'HR-2', 'HR-3', 'HR-4', 'HR-5', 'PB-1', 'PB-2', 'PB-3', 'PB-4','PB-5', 'T-1', 'T-2', 'T-3', 'T-4', 'T-5', 'VV-1', 'VV-2', 'VV-3','VV-4', 'VV-5', 'vol', 'intensity']\n",
    "fi_df = pd.DataFrame(features, columns=['features'])\n",
    "fi_df['importance'] = classifier.booster_.feature_importance(importance_type=\"gain\") / 15000\n",
    "fig, ax = plt.subplots(1, 1, figsize=(3, 8))\n",
    "sns.barplot(\n",
    "    x='importance'\n",
    "    , y='features'\n",
    "    , data=fi_df.sort_values(by=['importance'], ascending=False)\n",
    "    , ax=ax\n",
    ")\n",
    "\n",
    "fig.savefig(\"feature_importance_real_precipitation.pdf\",bbox_inches='tight')"
   ]
  },
  {
   "cell_type": "code",
   "execution_count": 40,
   "id": "68b9c5c9",
   "metadata": {},
   "outputs": [
    {
     "name": "stdout",
     "output_type": "stream",
     "text": [
      "Epoch 1/10\n",
      "40/40 [==============================] - 1s 7ms/step - loss: 7.9625 - mse: 7.9625 - val_loss: 4.1624 - val_mse: 4.1624\n",
      "Epoch 2/10\n",
      "40/40 [==============================] - 0s 2ms/step - loss: 7.9070 - mse: 7.9070 - val_loss: 4.1233 - val_mse: 4.1233\n",
      "Epoch 3/10\n",
      "40/40 [==============================] - 0s 2ms/step - loss: 7.8307 - mse: 7.8307 - val_loss: 4.0941 - val_mse: 4.0941\n",
      "Epoch 4/10\n",
      "40/40 [==============================] - 0s 2ms/step - loss: 7.7652 - mse: 7.7652 - val_loss: 4.0784 - val_mse: 4.0784\n",
      "Epoch 5/10\n",
      "40/40 [==============================] - 0s 2ms/step - loss: 7.6924 - mse: 7.6924 - val_loss: 4.0768 - val_mse: 4.0768\n",
      "Epoch 6/10\n",
      "40/40 [==============================] - 0s 2ms/step - loss: 7.6413 - mse: 7.6413 - val_loss: 4.0860 - val_mse: 4.0860\n",
      "Epoch 7/10\n",
      "40/40 [==============================] - 0s 2ms/step - loss: 7.6035 - mse: 7.6035 - val_loss: 4.1257 - val_mse: 4.1257\n",
      "Epoch 8/10\n",
      "40/40 [==============================] - 0s 2ms/step - loss: 7.5728 - mse: 7.5728 - val_loss: 4.1392 - val_mse: 4.1392\n",
      "Epoch 9/10\n",
      "40/40 [==============================] - 0s 2ms/step - loss: 7.5581 - mse: 7.5581 - val_loss: 4.1778 - val_mse: 4.1778\n",
      "Epoch 10/10\n",
      "40/40 [==============================] - 0s 3ms/step - loss: 7.5360 - mse: 7.5360 - val_loss: 4.1867 - val_mse: 4.1867\n",
      "20/20 [==============================] - 0s 1ms/step\n",
      "mse:  4.186750173201419\n",
      "mae:  0.7710758616993311\n"
     ]
    }
   ],
   "source": [
    "import keras\n",
    "from keras.layers import Dense, Softmax\n",
    "model = keras.Sequential()\n",
    "#model.add(Dense(69, kernel_initializer='normal', activation='relu', input_shape=(23,)))\n",
    "model.add(Dense(12, kernel_initializer='normal', activation='relu', input_shape=(22,)))\n",
    "model.add(Dense(5, kernel_initializer='normal', activation='relu'))\n",
    "model.add(Dense(1, kernel_initializer='normal', activation='relu'))\n",
    "model.compile(loss='mse', optimizer='Adam', metrics='mse', )\n",
    "model.fit(X_train, y_2_train, validation_data=(X_test, y_2_test), verbose=1, epochs=10, batch_size=64, shuffle=True)\n",
    "\n",
    "from sklearn.metrics import mean_squared_error\n",
    "from sklearn.metrics import mean_absolute_error\n",
    "\n",
    "preds = model.predict(X_test)\n",
    "\n",
    "print('mse: ',mean_squared_error(y_2_test, preds))\n",
    "print('mae: ',mean_absolute_error(y_2_test, preds))\n",
    "\n"
   ]
  },
  {
   "cell_type": "code",
   "execution_count": 41,
   "id": "f293b5b8",
   "metadata": {},
   "outputs": [
    {
     "name": "stderr",
     "output_type": "stream",
     "text": [
      "C:\\ProgramData\\Anaconda3\\lib\\site-packages\\numpy\\core\\_asarray.py:171: VisibleDeprecationWarning: Creating an ndarray from ragged nested sequences (which is a list-or-tuple of lists-or-tuples-or ndarrays with different lengths or shapes) is deprecated. If you meant to do this, you must specify 'dtype=object' when creating the ndarray.\n",
      "  return array(a, dtype, copy=False, order=order, subok=True)\n"
     ]
    },
    {
     "data": {
      "image/png": "[encoded data removed]",
      "text/plain": [
       "<Figure size 720x720 with 1 Axes>"
      ]
     },
     "metadata": {
      "needs_background": "light"
     },
     "output_type": "display_data"
    }
   ],
   "source": [
    "predicted_value = preds\n",
    "true_value = y_2_test\n",
    "fig = plt.figure(figsize=(10,10))\n",
    "plt.scatter(true_value, predicted_value, c='crimson')\n",
    "plt.yscale('linear')\n",
    "plt.xscale('linear')\n",
    "\n",
    "p1 = max(max(predicted_value), max(true_value))\n",
    "p2 = min(min(predicted_value), min(true_value))\n",
    "plt.plot([p1, p2], [p1, p2], 'b-')\n",
    "plt.xlabel('True Values', fontsize=15)\n",
    "plt.ylabel('Predictions', fontsize=15)\n",
    "#plt.axis('equal')\n",
    "plt.xlim([-2, 25])\n",
    "plt.ylim([-2, 25])\n",
    "plt.show()\n",
    "fig.savefig('predictions_vs_true_predicted_percipitation_dnn.pdf')"
   ]
  },
  {
   "cell_type": "code",
   "execution_count": null,
   "id": "68cd02d5",
   "metadata": {},
   "outputs": [],
   "source": []
  },
  {
   "cell_type": "code",
   "execution_count": null,
   "id": "de08763e",
   "metadata": {},
   "outputs": [],
   "source": []
  }
 ],
 "metadata": {
  "kernelspec": {
   "display_name": "Python 3",
   "language": "python",
   "name": "python3"
  },
  "language_info": {
   "codemirror_mode": {
    "name": "ipython",
    "version": 3
   },
   "file_extension": ".py",
   "mimetype": "text/x-python",
   "name": "python",
   "nbconvert_exporter": "python",
   "pygments_lexer": "ipython3",
   "version": "3.8.8"
  }
 },
 "nbformat": 4,
 "nbformat_minor": 5
}

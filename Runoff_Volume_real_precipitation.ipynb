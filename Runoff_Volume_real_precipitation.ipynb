{
 "cells": [
  {
   "cell_type": "code",
   "execution_count": 1,
   "id": "35ccd132",
   "metadata": {},
   "outputs": [],
   "source": [
    "import pandas as pd\n",
    "import numpy as np\n",
    "import smogn\n",
    "from sklearn.metrics import confusion_matrix,accuracy_score,r2_score,roc_auc_score,precision_score,recall_score,f1_score"
   ]
  },
  {
   "cell_type": "code",
   "execution_count": 2,
   "id": "3fe7502a",
   "metadata": {},
   "outputs": [
    {
     "name": "stderr",
     "output_type": "stream",
     "text": [
      "C:\\ProgramData\\Anaconda3\\lib\\site-packages\\dask\\dataframe\\utils.py:369: FutureWarning: pandas.Int64Index is deprecated and will be removed from pandas in a future version. Use pandas.Index with the appropriate dtype instead.\n",
      "  _numeric_index_types = (pd.Int64Index, pd.Float64Index, pd.UInt64Index)\n",
      "C:\\ProgramData\\Anaconda3\\lib\\site-packages\\dask\\dataframe\\utils.py:369: FutureWarning: pandas.Float64Index is deprecated and will be removed from pandas in a future version. Use pandas.Index with the appropriate dtype instead.\n",
      "  _numeric_index_types = (pd.Int64Index, pd.Float64Index, pd.UInt64Index)\n",
      "C:\\ProgramData\\Anaconda3\\lib\\site-packages\\dask\\dataframe\\utils.py:369: FutureWarning: pandas.UInt64Index is deprecated and will be removed from pandas in a future version. Use pandas.Index with the appropriate dtype instead.\n",
      "  _numeric_index_types = (pd.Int64Index, pd.Float64Index, pd.UInt64Index)\n"
     ]
    }
   ],
   "source": [
    "import lightgbm as lgb\n",
    "import matplotlib.pyplot as plt"
   ]
  },
  {
   "cell_type": "code",
   "execution_count": 3,
   "id": "98ee9d9f",
   "metadata": {},
   "outputs": [],
   "source": [
    "from sklearn.preprocessing import StandardScaler\n",
    "\n",
    "\n",
    "X_train = np.load('x_train.npy')\n",
    "y_train = np.load('y_train.npy')\n",
    "X_test = np.load('x_test.npy')\n",
    "y_test = np.load('y_test.npy')"
   ]
  },
  {
   "cell_type": "code",
   "execution_count": 4,
   "id": "3953ed3e",
   "metadata": {},
   "outputs": [],
   "source": [
    "y_2_train = np.load('y_2_train.npy')\n",
    "y_2_test = np.load('y_2_test.npy')\n",
    "y_3_train = np.load('y_3_train.npy')\n",
    "y_3_test = np.load('y_3_test.npy')\n",
    "\n",
    "X_train_class = np.copy(X_train)\n",
    "y_train_class = np.copy(y_train)\n",
    "X_test_class = np.copy(X_test)\n",
    "y_test_class = np.copy(y_test)\n",
    "\n",
    "scaler = StandardScaler().fit(X_train_class)\n",
    "X_train_class = scaler.transform(X_train_class)\n",
    "X_test_class = scaler.transform(X_test_class)\n"
   ]
  },
  {
   "cell_type": "code",
   "execution_count": 5,
   "id": "536b2da0",
   "metadata": {},
   "outputs": [],
   "source": [
    "volume_train = np.load('y_4_train.npy') #np.load('volume_train.npy')\n",
    "volume_test = np.load('y_4_test.npy') #np.load('volume_test.npy')\n",
    "intensity_train = np.load('y_5_train.npy') #np.load('intensity_train.npy')\n",
    "intensity_test = np.load('y_5_test.npy') #np.load('intensity_test.npy')"
   ]
  },
  {
   "cell_type": "code",
   "execution_count": 6,
   "id": "1d4d047e",
   "metadata": {},
   "outputs": [],
   "source": [
    "# RRegression Values modeifications\n",
    "#y_2_train[y_2_train > 10] = 10.0\n",
    "#y_2_test[y_2_test > 10] = 10.0\n",
    "\n"
   ]
  },
  {
   "cell_type": "code",
   "execution_count": 7,
   "id": "cfcab482",
   "metadata": {},
   "outputs": [],
   "source": [
    "X_train = np.concatenate((X_train, volume_train.reshape(-1, 1), intensity_train.reshape(-1, 1)), axis=1)\n",
    "X_test = np.concatenate((X_test,  volume_test.reshape(-1, 1), intensity_test.reshape(-1, 1)), axis=1)"
   ]
  },
  {
   "cell_type": "code",
   "execution_count": 8,
   "id": "92581670",
   "metadata": {},
   "outputs": [
    {
     "name": "stdout",
     "output_type": "stream",
     "text": [
      "(2552, 22) (639, 22)\n"
     ]
    }
   ],
   "source": [
    "print(X_train.shape, X_test.shape)"
   ]
  },
  {
   "cell_type": "code",
   "execution_count": 9,
   "id": "9859f078",
   "metadata": {},
   "outputs": [],
   "source": [
    "scaler = StandardScaler().fit(X_train)\n",
    "X_train = scaler.transform(X_train)\n",
    "X_test = scaler.transform(X_test)"
   ]
  },
  {
   "cell_type": "code",
   "execution_count": 10,
   "id": "27a2f352",
   "metadata": {},
   "outputs": [],
   "source": [
    "#lgb_train = lgb.Dataset(X_train, y_2_train)\n"
   ]
  },
  {
   "cell_type": "code",
   "execution_count": 11,
   "id": "cb7ba8eb",
   "metadata": {},
   "outputs": [
    {
     "name": "stdout",
     "output_type": "stream",
     "text": [
      "[[-0.45880693 -0.16513392 -0.03903187 ... -0.39361402 -0.43030746\n",
      "  -0.46657918]\n",
      " [ 1.24676524  1.33336874  1.42359704 ... -0.62218796  0.37173189\n",
      "   0.52025907]\n",
      " [ 1.63051898  1.41899747  1.46661554 ... -0.49299399 -0.39211511\n",
      "  -0.37686661]\n",
      " ...\n",
      " [ 0.69245428  0.64833895  0.69228259 ... -0.00603212 -0.39211511\n",
      "  -0.42172289]\n",
      " [-0.92783928 -0.97860679 -1.07147581 ...  2.40890126 -0.43030746\n",
      "  -0.46657918]\n",
      " [-1.48215024 -1.83489403 -2.23297523 ...  0.04365787 -0.37301893\n",
      "  -0.42172289]]\n"
     ]
    }
   ],
   "source": [
    "print(X_train)"
   ]
  },
  {
   "cell_type": "code",
   "execution_count": 12,
   "id": "c5c4e443",
   "metadata": {},
   "outputs": [
    {
     "data": {
      "text/plain": [
       "'\\npolynom_fit_SMOTE_bus,\\npolynom_fit_SMOTE_star,\\nROSE,\\nGazzah,\\nSPY,\\nMSMOTE,\\nAHC,\\nRWO_sampling,\\npolynom_fit_SMOTE_mesh,\\npolynom_fit_SMOTE_poly\\n'"
      ]
     },
     "execution_count": 12,
     "metadata": {},
     "output_type": "execute_result"
    }
   ],
   "source": [
    "'''\n",
    "polynom_fit_SMOTE_bus,\n",
    "polynom_fit_SMOTE_star,\n",
    "ROSE,\n",
    "Gazzah,\n",
    "SPY,\n",
    "MSMOTE,\n",
    "AHC,\n",
    "RWO_sampling,\n",
    "polynom_fit_SMOTE_mesh,\n",
    "polynom_fit_SMOTE_poly\n",
    "'''"
   ]
  },
  {
   "cell_type": "code",
   "execution_count": 13,
   "id": "a231316f",
   "metadata": {},
   "outputs": [
    {
     "name": "stderr",
     "output_type": "stream",
     "text": [
      "2023-03-22 16:51:55,385:INFO:Gazzah: Running sampling via ('Gazzah', \"{'proportion': 3.0, 'n_components': 2, 'n_jobs': 1, 'random_state': None, 'class_name': 'Gazzah'}\")\n",
      "2023-03-22 16:51:55,387:INFO:polynom_fit_SMOTE_star: Running sampling via ('polynom_fit_SMOTE_star', \"{'proportion': 3.0, 'topology': 'star', 'random_state': None, 'class_name': 'polynom_fit_SMOTE_star'}\")\n",
      "2023-03-22 16:51:55,387:INFO:polynom_fit_SMOTE: Running sampling via ('polynom_fit_SMOTE', \"{'proportion': 3.0, 'topology': 'star', 'random_state': None, 'class_name': 'polynom_fit_SMOTE'}\")\n",
      "2023-03-22 16:51:55,449:INFO:Gazzah: Removing 660 majority samples\n"
     ]
    },
    {
     "name": "stdout",
     "output_type": "stream",
     "text": [
      "[LightGBM] [Warning] feature_fraction is set=0.5, colsample_bytree=1.0 will be ignored. Current value: feature_fraction=0.5\n",
      "[LightGBM] [Warning] bagging_fraction is set=0.8, subsample=1.0 will be ignored. Current value: bagging_fraction=0.8\n",
      "[LightGBM] [Warning] bagging_freq is set=15, subsample_freq=0 will be ignored. Current value: bagging_freq=15\n",
      "[[ 0.22342193  0.04893789 -0.12506886 ... -1.03958385 -0.43030746\n",
      "  -0.46657918]\n",
      " [-1.1410358  -1.10704988 -1.2005313  ... -0.82094791  0.31444336\n",
      "   0.38569022]\n",
      " [-0.84256067 -1.06423552 -1.1575128  ... -0.10541209 -0.43030746\n",
      "  -0.46657918]\n",
      " ...\n",
      " [ 0.05286472  0.22019534  0.26209761 ...  0.98776763 -0.39211511\n",
      "  -0.46657918]\n",
      " [-0.0750532  -0.16513392 -0.16808736 ... -0.30417204 -0.41121128\n",
      "  -0.46657918]\n",
      " [ 0.60717567 -0.03669083 -0.85638332 ...  1.1169616   2.07129144\n",
      "   3.83962409]]\n",
      "Acc Score:  0.9765258215962441\n",
      "Roc Auc Score:  0.9503658744114811\n",
      "Precision Score:  0.8484848484848485\n",
      "Recall Score:  0.9180327868852459\n",
      "f1 score:  0.8818897637795275\n"
     ]
    }
   ],
   "source": [
    "from sklearn.neighbors import KNeighborsClassifier\n",
    "from sklearn.tree import DecisionTreeClassifier\n",
    "import lightgbm as lgb\n",
    "import smote_variants as sv\n",
    "from sklearn.ensemble import RandomForestRegressor,RandomForestClassifier,GradientBoostingRegressor,GradientBoostingClassifier\n",
    "from sklearn.svm import SVC\n",
    "from lightgbm import LGBMClassifier\n",
    "import sklearn.datasets as datasets\n",
    "from sklearn.neural_network import MLPClassifier\n",
    "\n",
    "dataset= {'data': X_train,\n",
    "          'target': y_train,\n",
    "          'name': 'Andromeda'}\n",
    "\n",
    "classifier = LGBMClassifier(boosting_type=\"gbdt\",is_unbalance=True, random_state=5, \n",
    "                  n_estimators=300,num_leaves=30, max_depth=2,feature_fraction=0.5, \n",
    "                  bagging_fraction=0.8, bagging_freq=15, learning_rate=0.01)\n",
    "\n",
    "\n",
    "\n",
    "\n",
    "# Classifier Testing\n",
    "\n",
    "# training the best techniques using the entire dataset\n",
    "X_samp, y_samp= sv.Gazzah(proportion=3.0).sample(X_train, y_train)\n",
    "classifier.fit(X_samp, y_samp)\n",
    "preds2 = classifier.predict(X_test)\n",
    "print(X_test)\n",
    "print('Acc Score: ',accuracy_score(y_test, preds2))\n",
    "print('Roc Auc Score: ',roc_auc_score(y_test, preds2))\n",
    "print('Precision Score: ',precision_score(y_test, preds2))\n",
    "print('Recall Score: ',recall_score(y_test, preds2))\n",
    "print('f1 score: ',f1_score(y_test, preds2))\n",
    "preds_train = classifier.predict(X_train)\n",
    "\n"
   ]
  },
  {
   "cell_type": "code",
   "execution_count": 14,
   "id": "a432b3ba",
   "metadata": {},
   "outputs": [
    {
     "data": {
      "text/plain": [
       "array([[568,  10],\n",
       "       [  5,  56]], dtype=int64)"
      ]
     },
     "execution_count": 14,
     "metadata": {},
     "output_type": "execute_result"
    }
   ],
   "source": [
    "from sklearn.metrics import confusion_matrix\n",
    "\n",
    "confusion_matrix(y_test, preds2)"
   ]
  },
  {
   "cell_type": "code",
   "execution_count": 15,
   "id": "3c81d455",
   "metadata": {},
   "outputs": [],
   "source": [
    "# Preparing prediction out\n",
    "X_test = np.concatenate((X_test, preds2.reshape(-1, 1)), axis=1)\n",
    "X_train = np.concatenate((X_train, preds_train.reshape(-1, 1)), axis=1)\n",
    "#scaler = StandardScaler().fit(X_train)\n",
    "#X_train = scaler.transform(X_train)\n",
    "#X_test = scaler.transform(X_test)\n",
    "\n",
    "lgb_eval = lgb.Dataset(X_test, y_2_test)\n",
    "\n",
    "lgb_train = lgb.Dataset(X_train, y_2_train)\n",
    "\n"
   ]
  },
  {
   "cell_type": "code",
   "execution_count": 16,
   "id": "3baa3c3c",
   "metadata": {},
   "outputs": [
    {
     "name": "stdout",
     "output_type": "stream",
     "text": [
      "(2552, 23)\n"
     ]
    }
   ],
   "source": [
    "print(X_train.shape)"
   ]
  },
  {
   "cell_type": "code",
   "execution_count": 17,
   "id": "c38dd09c",
   "metadata": {},
   "outputs": [
    {
     "name": "stdout",
     "output_type": "stream",
     "text": [
      "[1]\tvalid_0's l2: 3.77029\tvalid_0's l1: 0.766199\n",
      "Training until validation scores don't improve for 200 rounds\n",
      "[2]\tvalid_0's l2: 3.47012\tvalid_0's l1: 0.731884\n",
      "[3]\tvalid_0's l2: 3.22599\tvalid_0's l1: 0.700733\n",
      "[4]\tvalid_0's l2: 2.98296\tvalid_0's l1: 0.669793\n",
      "[5]\tvalid_0's l2: 2.79693\tvalid_0's l1: 0.642598\n",
      "[6]\tvalid_0's l2: 2.62807\tvalid_0's l1: 0.616995\n",
      "[7]\tvalid_0's l2: 2.47564\tvalid_0's l1: 0.593236\n",
      "[8]\tvalid_0's l2: 2.31113\tvalid_0's l1: 0.56959\n",
      "[9]\tvalid_0's l2: 2.18553\tvalid_0's l1: 0.548433\n",
      "[10]\tvalid_0's l2: 2.06592\tvalid_0's l1: 0.528029\n",
      "[11]\tvalid_0's l2: 1.97121\tvalid_0's l1: 0.509379\n",
      "[12]\tvalid_0's l2: 1.88016\tvalid_0's l1: 0.4917\n",
      "[13]\tvalid_0's l2: 1.79716\tvalid_0's l1: 0.474775\n",
      "[14]\tvalid_0's l2: 1.72648\tvalid_0's l1: 0.458754\n",
      "[15]\tvalid_0's l2: 1.64773\tvalid_0's l1: 0.443048\n",
      "[16]\tvalid_0's l2: 1.58132\tvalid_0's l1: 0.428339\n",
      "[17]\tvalid_0's l2: 1.52843\tvalid_0's l1: 0.415347\n",
      "[18]\tvalid_0's l2: 1.47591\tvalid_0's l1: 0.402394\n",
      "[19]\tvalid_0's l2: 1.41992\tvalid_0's l1: 0.389857\n",
      "[20]\tvalid_0's l2: 1.37422\tvalid_0's l1: 0.377847\n",
      "[21]\tvalid_0's l2: 1.3356\tvalid_0's l1: 0.366548\n",
      "[22]\tvalid_0's l2: 1.30621\tvalid_0's l1: 0.356916\n",
      "[23]\tvalid_0's l2: 1.2685\tvalid_0's l1: 0.346997\n",
      "[24]\tvalid_0's l2: 1.23377\tvalid_0's l1: 0.338072\n",
      "[25]\tvalid_0's l2: 1.20164\tvalid_0's l1: 0.329485\n",
      "[26]\tvalid_0's l2: 1.17495\tvalid_0's l1: 0.322328\n",
      "[27]\tvalid_0's l2: 1.14712\tvalid_0's l1: 0.31454\n",
      "[28]\tvalid_0's l2: 1.1218\tvalid_0's l1: 0.307194\n",
      "[29]\tvalid_0's l2: 1.09956\tvalid_0's l1: 0.30042\n",
      "[30]\tvalid_0's l2: 1.08327\tvalid_0's l1: 0.294324\n",
      "[31]\tvalid_0's l2: 1.06433\tvalid_0's l1: 0.288201\n",
      "[32]\tvalid_0's l2: 1.04583\tvalid_0's l1: 0.282177\n",
      "[33]\tvalid_0's l2: 1.02924\tvalid_0's l1: 0.276654\n",
      "[34]\tvalid_0's l2: 1.0182\tvalid_0's l1: 0.271672\n",
      "[35]\tvalid_0's l2: 1.00015\tvalid_0's l1: 0.266669\n",
      "[36]\tvalid_0's l2: 0.97493\tvalid_0's l1: 0.261783\n",
      "[37]\tvalid_0's l2: 0.962565\tvalid_0's l1: 0.257118\n",
      "[38]\tvalid_0's l2: 0.940564\tvalid_0's l1: 0.252631\n",
      "[39]\tvalid_0's l2: 0.927336\tvalid_0's l1: 0.247901\n",
      "[40]\tvalid_0's l2: 0.908258\tvalid_0's l1: 0.243814\n",
      "[41]\tvalid_0's l2: 0.897223\tvalid_0's l1: 0.239777\n",
      "[42]\tvalid_0's l2: 0.881441\tvalid_0's l1: 0.236632\n",
      "[43]\tvalid_0's l2: 0.873206\tvalid_0's l1: 0.23332\n",
      "[44]\tvalid_0's l2: 0.858988\tvalid_0's l1: 0.230178\n",
      "[45]\tvalid_0's l2: 0.852882\tvalid_0's l1: 0.22729\n",
      "[46]\tvalid_0's l2: 0.840429\tvalid_0's l1: 0.224362\n",
      "[47]\tvalid_0's l2: 0.835519\tvalid_0's l1: 0.221733\n",
      "[48]\tvalid_0's l2: 0.824914\tvalid_0's l1: 0.219117\n",
      "[49]\tvalid_0's l2: 0.815122\tvalid_0's l1: 0.216754\n",
      "[50]\tvalid_0's l2: 0.811002\tvalid_0's l1: 0.214448\n",
      "[51]\tvalid_0's l2: 0.801759\tvalid_0's l1: 0.212145\n",
      "[52]\tvalid_0's l2: 0.796666\tvalid_0's l1: 0.209662\n",
      "[53]\tvalid_0's l2: 0.788341\tvalid_0's l1: 0.207577\n",
      "[54]\tvalid_0's l2: 0.782594\tvalid_0's l1: 0.205368\n",
      "[55]\tvalid_0's l2: 0.775429\tvalid_0's l1: 0.203563\n",
      "[56]\tvalid_0's l2: 0.77497\tvalid_0's l1: 0.20159\n",
      "[57]\tvalid_0's l2: 0.768718\tvalid_0's l1: 0.20006\n",
      "[58]\tvalid_0's l2: 0.765287\tvalid_0's l1: 0.198\n",
      "[59]\tvalid_0's l2: 0.759793\tvalid_0's l1: 0.19674\n",
      "[60]\tvalid_0's l2: 0.757117\tvalid_0's l1: 0.195193\n",
      "[61]\tvalid_0's l2: 0.753699\tvalid_0's l1: 0.194577\n",
      "[62]\tvalid_0's l2: 0.753798\tvalid_0's l1: 0.193154\n",
      "[63]\tvalid_0's l2: 0.751096\tvalid_0's l1: 0.192532\n",
      "[64]\tvalid_0's l2: 0.748475\tvalid_0's l1: 0.191912\n",
      "[65]\tvalid_0's l2: 0.746076\tvalid_0's l1: 0.190533\n",
      "[66]\tvalid_0's l2: 0.744032\tvalid_0's l1: 0.18995\n",
      "[67]\tvalid_0's l2: 0.741842\tvalid_0's l1: 0.188671\n",
      "[68]\tvalid_0's l2: 0.73996\tvalid_0's l1: 0.188055\n",
      "[69]\tvalid_0's l2: 0.737952\tvalid_0's l1: 0.18685\n",
      "[70]\tvalid_0's l2: 0.735064\tvalid_0's l1: 0.185799\n",
      "[71]\tvalid_0's l2: 0.733538\tvalid_0's l1: 0.185414\n",
      "[72]\tvalid_0's l2: 0.731707\tvalid_0's l1: 0.184341\n",
      "[73]\tvalid_0's l2: 0.729218\tvalid_0's l1: 0.183415\n",
      "[74]\tvalid_0's l2: 0.728088\tvalid_0's l1: 0.182428\n",
      "[75]\tvalid_0's l2: 0.725519\tvalid_0's l1: 0.181571\n",
      "[76]\tvalid_0's l2: 0.724623\tvalid_0's l1: 0.180511\n",
      "[77]\tvalid_0's l2: 0.724428\tvalid_0's l1: 0.180268\n",
      "[78]\tvalid_0's l2: 0.722302\tvalid_0's l1: 0.17957"
     ]
    },
    {
     "name": "stderr",
     "output_type": "stream",
     "text": [
      "C:\\ProgramData\\Anaconda3\\lib\\site-packages\\lightgbm\\engine.py:181: UserWarning: 'early_stopping_rounds' argument is deprecated and will be removed in a future release of LightGBM. Pass 'early_stopping()' callback via 'callbacks' argument instead.\n",
      "  _log_warning(\"'early_stopping_rounds' argument is deprecated and will be removed in a future release of LightGBM. \"\n"
     ]
    },
    {
     "name": "stdout",
     "output_type": "stream",
     "text": [
      "\n",
      "[79]\tvalid_0's l2: 0.72082\tvalid_0's l1: 0.178731\n",
      "[80]\tvalid_0's l2: 0.720273\tvalid_0's l1: 0.178344\n",
      "[81]\tvalid_0's l2: 0.719189\tvalid_0's l1: 0.177283\n",
      "[82]\tvalid_0's l2: 0.718967\tvalid_0's l1: 0.177019\n",
      "[83]\tvalid_0's l2: 0.718876\tvalid_0's l1: 0.176809\n",
      "[84]\tvalid_0's l2: 0.717767\tvalid_0's l1: 0.17606\n",
      "[85]\tvalid_0's l2: 0.71768\tvalid_0's l1: 0.175949\n",
      "[86]\tvalid_0's l2: 0.716708\tvalid_0's l1: 0.175493\n",
      "[87]\tvalid_0's l2: 0.716252\tvalid_0's l1: 0.175295\n",
      "[88]\tvalid_0's l2: 0.715552\tvalid_0's l1: 0.175004\n",
      "[89]\tvalid_0's l2: 0.715231\tvalid_0's l1: 0.174942\n",
      "[90]\tvalid_0's l2: 0.71441\tvalid_0's l1: 0.174187\n",
      "[91]\tvalid_0's l2: 0.714182\tvalid_0's l1: 0.174214\n",
      "[92]\tvalid_0's l2: 0.712861\tvalid_0's l1: 0.17396\n",
      "[93]\tvalid_0's l2: 0.712215\tvalid_0's l1: 0.173316\n",
      "[94]\tvalid_0's l2: 0.712001\tvalid_0's l1: 0.173311\n",
      "[95]\tvalid_0's l2: 0.711385\tvalid_0's l1: 0.173\n",
      "[96]\tvalid_0's l2: 0.711143\tvalid_0's l1: 0.172934\n",
      "[97]\tvalid_0's l2: 0.710506\tvalid_0's l1: 0.172353\n",
      "[98]\tvalid_0's l2: 0.710273\tvalid_0's l1: 0.172229\n",
      "[99]\tvalid_0's l2: 0.707749\tvalid_0's l1: 0.172209\n",
      "[100]\tvalid_0's l2: 0.70743\tvalid_0's l1: 0.17189\n",
      "Did not meet early stopping. Best iteration is:\n",
      "[100]\tvalid_0's l2: 0.70743\tvalid_0's l1: 0.17189\n"
     ]
    }
   ],
   "source": [
    "# defining parameters \n",
    "# defining parameters \n",
    "params = {\n",
    "    'task': 'train', \n",
    "    'boosting': 'gbdt',\n",
    "    'objective': 'regression',\n",
    "    'num_leaves': 50,\n",
    "    'learning_rate': 0.05,\n",
    "    'metric': {'l2','l1'},\n",
    "    'verbose': -1\n",
    "}\n",
    "model = lgb.train(params,\n",
    "                 train_set=lgb_train,\n",
    "                 valid_sets=lgb_eval,\n",
    "                 early_stopping_rounds=200)"
   ]
  },
  {
   "cell_type": "code",
   "execution_count": null,
   "id": "f9b4c9f4",
   "metadata": {},
   "outputs": [],
   "source": []
  },
  {
   "cell_type": "code",
   "execution_count": 18,
   "id": "69c26012",
   "metadata": {},
   "outputs": [],
   "source": [
    "preds = model.predict(X_test)"
   ]
  },
  {
   "cell_type": "code",
   "execution_count": 19,
   "id": "5b2636c5",
   "metadata": {},
   "outputs": [],
   "source": [
    "from sklearn.metrics import mean_squared_error\n",
    "from sklearn.metrics import mean_absolute_error"
   ]
  },
  {
   "cell_type": "code",
   "execution_count": 20,
   "id": "5b94603a",
   "metadata": {
    "scrolled": true
   },
   "outputs": [
    {
     "data": {
      "text/plain": [
       "0.7074299433680649"
      ]
     },
     "execution_count": 20,
     "metadata": {},
     "output_type": "execute_result"
    }
   ],
   "source": [
    "mean_squared_error(y_2_test, preds)"
   ]
  },
  {
   "cell_type": "code",
   "execution_count": 21,
   "id": "9f0455cd",
   "metadata": {},
   "outputs": [
    {
     "data": {
      "text/plain": [
       "0.17188966527637103"
      ]
     },
     "execution_count": 21,
     "metadata": {},
     "output_type": "execute_result"
    }
   ],
   "source": [
    "mean_absolute_error(y_2_test, preds)"
   ]
  },
  {
   "cell_type": "code",
   "execution_count": 22,
   "id": "1aeb80df",
   "metadata": {},
   "outputs": [
    {
     "data": {
      "text/plain": [
       "[<matplotlib.lines.Line2D at 0x151230557f0>]"
      ]
     },
     "execution_count": 22,
     "metadata": {},
     "output_type": "execute_result"
    },
    {
     "data": {
      "image/png": "[encoded data removed]",
      "text/plain": [
       "<Figure size 432x288 with 1 Axes>"
      ]
     },
     "metadata": {
      "needs_background": "light"
     },
     "output_type": "display_data"
    }
   ],
   "source": [
    "plt.plot(preds)"
   ]
  },
  {
   "cell_type": "code",
   "execution_count": 23,
   "id": "c78b0ed7",
   "metadata": {},
   "outputs": [
    {
     "data": {
      "image/png": "[encoded data removed]",
      "text/plain": [
       "<Figure size 1200x480 with 2 Axes>"
      ]
     },
     "metadata": {
      "needs_background": "light"
     },
     "output_type": "display_data"
    }
   ],
   "source": [
    "# Create Figure and Subplots\n",
    "fig, (ax1, ax2) = plt.subplots(1,2, figsize=(10,4), sharey=True, dpi=120)\n",
    "\n",
    "# Plot\n",
    "ax1.plot(preds, 'g')  # greendots\n",
    "ax2.plot(y_2_test, 'b')  # bluestart\n",
    "\n",
    "# Title, X and Y labels, X and Y Lim\n",
    "ax1.set_title('Predictions'); ax2.set_title('Ground Truth')\n",
    "\n",
    "  # y axis limits\n",
    "\n",
    "# ax2.yaxis.set_ticks_position('none') \n",
    "plt.tight_layout()\n",
    "plt.show()"
   ]
  },
  {
   "cell_type": "code",
   "execution_count": 24,
   "id": "529843ce",
   "metadata": {},
   "outputs": [
    {
     "data": {
      "image/png": "[encoded data removed]",
      "text/plain": [
       "<Figure size 720x720 with 1 Axes>"
      ]
     },
     "metadata": {
      "needs_background": "light"
     },
     "output_type": "display_data"
    }
   ],
   "source": [
    "predicted_value = preds\n",
    "true_value = y_2_test\n",
    "fig = plt.figure(figsize=(10,10))\n",
    "plt.scatter(true_value, predicted_value, c='crimson')\n",
    "plt.yscale('linear')\n",
    "plt.xscale('linear')\n",
    "\n",
    "p1 = max(max(predicted_value), max(true_value))\n",
    "p2 = min(min(predicted_value), min(true_value))\n",
    "plt.plot([p1, p2], [p1, p2], 'b-')\n",
    "plt.xlabel('True Values', fontsize=15)\n",
    "plt.ylabel('Predictions', fontsize=15)\n",
    "#plt.axis('equal')\n",
    "plt.xlim([-2, 25])\n",
    "plt.ylim([-2, 25])\n",
    "plt.show()\n",
    "fig.savefig('predictions_vs_true_real_percipitation_lgbm.pdf')"
   ]
  },
  {
   "cell_type": "code",
   "execution_count": 25,
   "id": "d0e5a22c",
   "metadata": {},
   "outputs": [
    {
     "data": {
      "image/png": "[encoded data removed]",
      "text/plain": [
       "<Figure size 720x720 with 1 Axes>"
      ]
     },
     "metadata": {
      "needs_background": "light"
     },
     "output_type": "display_data"
    },
    {
     "data": {
      "text/plain": [
       "<Figure size 432x288 with 0 Axes>"
      ]
     },
     "metadata": {},
     "output_type": "display_data"
    }
   ],
   "source": [
    "\n",
    "predicted_value = model.predict(X_train)\n",
    "true_value = y_2_train\n",
    "fig = plt.figure(figsize=(10,10))\n",
    "\n",
    "plt.scatter(true_value, predicted_value, c='crimson')\n",
    "plt.yscale('linear')\n",
    "plt.xscale('linear')\n",
    "\n",
    "p1 = max(max(predicted_value), max(true_value))\n",
    "p2 = min(min(predicted_value), min(true_value))\n",
    "plt.plot([p1, p2], [p1, p2], 'b-')\n",
    "plt.xlabel('True Values', fontsize=15)\n",
    "plt.ylabel('Predictions', fontsize=15)\n",
    "#plt.axis('equal')\n",
    "plt.xlim([-2, 30])\n",
    "plt.ylim([-2, 30])\n",
    "plt.show()\n",
    "\n",
    "fig=plt.savefig('predictions_vs_true_readl_precipitation_training.pdf')"
   ]
  },
  {
   "cell_type": "code",
   "execution_count": 26,
   "id": "189fbf9f",
   "metadata": {},
   "outputs": [
    {
     "data": {
      "image/png": "[encoded data removed]",
      "text/plain": [
       "<Figure size 432x288 with 1 Axes>"
      ]
     },
     "metadata": {
      "needs_background": "light"
     },
     "output_type": "display_data"
    }
   ],
   "source": [
    "temp_true  = np.copy(y_2_test)\n",
    "#temp_true[temp_true > 0] = 5\n",
    "#preds[preds > 0] = 2\n",
    "plt.plot(preds[300:400],'r', label='Prediction')\n",
    "plt.plot(temp_true[300:400],'b', label='Ground Truth')\n",
    "plt.show()"
   ]
  },
  {
   "cell_type": "code",
   "execution_count": 27,
   "id": "6d8efd68",
   "metadata": {},
   "outputs": [],
   "source": [
    "scaler = StandardScaler().fit(X_train)\n",
    "X_train = scaler.transform(X_train)\n",
    "X_test = scaler.transform(X_test)\n"
   ]
  },
  {
   "cell_type": "code",
   "execution_count": 28,
   "id": "a817d2da",
   "metadata": {},
   "outputs": [
    {
     "name": "stdout",
     "output_type": "stream",
     "text": [
      "(639, 23)\n"
     ]
    }
   ],
   "source": [
    "#temp_y_train = np.copy(y_2_train)\n",
    "#temp_y_test = np.copy(y_2_test)\n",
    "#temp_y_train[temp_y_train > 5] = 5.0\n",
    "#temp_y_test[temp_y_train > 5] = 5.0\n",
    "print(X_test.shape)"
   ]
  },
  {
   "cell_type": "code",
   "execution_count": 29,
   "id": "8605add0",
   "metadata": {},
   "outputs": [
    {
     "name": "stdout",
     "output_type": "stream",
     "text": [
      "Epoch 1/70\n",
      "40/40 [==============================] - 1s 6ms/step - loss: 0.6737 - accuracy: 0.8899 - val_loss: 0.6466 - val_accuracy: 0.9045\n",
      "Epoch 2/70\n",
      "40/40 [==============================] - 0s 3ms/step - loss: 0.5867 - accuracy: 0.9052 - val_loss: 0.4959 - val_accuracy: 0.9045\n",
      "Epoch 3/70\n",
      "40/40 [==============================] - 0s 2ms/step - loss: 0.3858 - accuracy: 0.9052 - val_loss: 0.2893 - val_accuracy: 0.9061\n",
      "Epoch 4/70\n",
      "40/40 [==============================] - 0s 2ms/step - loss: 0.2300 - accuracy: 0.9216 - val_loss: 0.1943 - val_accuracy: 0.9390\n",
      "Epoch 5/70\n",
      "40/40 [==============================] - 0s 3ms/step - loss: 0.1590 - accuracy: 0.9589 - val_loss: 0.1401 - val_accuracy: 0.9609\n",
      "Epoch 6/70\n",
      "40/40 [==============================] - 0s 2ms/step - loss: 0.1221 - accuracy: 0.9698 - val_loss: 0.1125 - val_accuracy: 0.9671\n",
      "Epoch 7/70\n",
      "40/40 [==============================] - 0s 2ms/step - loss: 0.1065 - accuracy: 0.9690 - val_loss: 0.1036 - val_accuracy: 0.9718\n",
      "Epoch 8/70\n",
      "40/40 [==============================] - 0s 2ms/step - loss: 0.0994 - accuracy: 0.9698 - val_loss: 0.0981 - val_accuracy: 0.9703\n",
      "Epoch 9/70\n",
      "40/40 [==============================] - 0s 2ms/step - loss: 0.0953 - accuracy: 0.9710 - val_loss: 0.0948 - val_accuracy: 0.9750\n",
      "Epoch 10/70\n",
      "40/40 [==============================] - 0s 2ms/step - loss: 0.0923 - accuracy: 0.9710 - val_loss: 0.0921 - val_accuracy: 0.9750\n",
      "Epoch 11/70\n",
      "40/40 [==============================] - 0s 2ms/step - loss: 0.0900 - accuracy: 0.9710 - val_loss: 0.0912 - val_accuracy: 0.9734\n",
      "Epoch 12/70\n",
      "40/40 [==============================] - 0s 2ms/step - loss: 0.0881 - accuracy: 0.9714 - val_loss: 0.0882 - val_accuracy: 0.9734\n",
      "Epoch 13/70\n",
      "40/40 [==============================] - 0s 2ms/step - loss: 0.0862 - accuracy: 0.9718 - val_loss: 0.0885 - val_accuracy: 0.9734\n",
      "Epoch 14/70\n",
      "40/40 [==============================] - 0s 2ms/step - loss: 0.0847 - accuracy: 0.9718 - val_loss: 0.0864 - val_accuracy: 0.9750\n",
      "Epoch 15/70\n",
      "40/40 [==============================] - 0s 2ms/step - loss: 0.0833 - accuracy: 0.9714 - val_loss: 0.0866 - val_accuracy: 0.9734\n",
      "Epoch 16/70\n",
      "40/40 [==============================] - 0s 2ms/step - loss: 0.0819 - accuracy: 0.9718 - val_loss: 0.0844 - val_accuracy: 0.9750\n",
      "Epoch 17/70\n",
      "40/40 [==============================] - 0s 2ms/step - loss: 0.0804 - accuracy: 0.9718 - val_loss: 0.0849 - val_accuracy: 0.9734\n",
      "Epoch 18/70\n",
      "40/40 [==============================] - 0s 2ms/step - loss: 0.0792 - accuracy: 0.9718 - val_loss: 0.0835 - val_accuracy: 0.9750\n",
      "Epoch 19/70\n",
      "40/40 [==============================] - 0s 2ms/step - loss: 0.0780 - accuracy: 0.9718 - val_loss: 0.0834 - val_accuracy: 0.9734\n",
      "Epoch 20/70\n",
      "40/40 [==============================] - 0s 2ms/step - loss: 0.0769 - accuracy: 0.9718 - val_loss: 0.0819 - val_accuracy: 0.9750\n",
      "Epoch 21/70\n",
      "40/40 [==============================] - 0s 2ms/step - loss: 0.0762 - accuracy: 0.9726 - val_loss: 0.0817 - val_accuracy: 0.9734\n",
      "Epoch 22/70\n",
      "40/40 [==============================] - 0s 2ms/step - loss: 0.0748 - accuracy: 0.9734 - val_loss: 0.0802 - val_accuracy: 0.9750\n",
      "Epoch 23/70\n",
      "40/40 [==============================] - 0s 2ms/step - loss: 0.0743 - accuracy: 0.9730 - val_loss: 0.0804 - val_accuracy: 0.9734\n",
      "Epoch 24/70\n",
      "40/40 [==============================] - 0s 2ms/step - loss: 0.0727 - accuracy: 0.9722 - val_loss: 0.0786 - val_accuracy: 0.9750\n",
      "Epoch 25/70\n",
      "40/40 [==============================] - 0s 2ms/step - loss: 0.0720 - accuracy: 0.9726 - val_loss: 0.0786 - val_accuracy: 0.9750\n",
      "Epoch 26/70\n",
      "40/40 [==============================] - 0s 3ms/step - loss: 0.0710 - accuracy: 0.9737 - val_loss: 0.0783 - val_accuracy: 0.9750\n",
      "Epoch 27/70\n",
      "40/40 [==============================] - 0s 2ms/step - loss: 0.0707 - accuracy: 0.9734 - val_loss: 0.0778 - val_accuracy: 0.9750\n",
      "Epoch 28/70\n",
      "40/40 [==============================] - 0s 3ms/step - loss: 0.0696 - accuracy: 0.9741 - val_loss: 0.0772 - val_accuracy: 0.9734\n",
      "Epoch 29/70\n",
      "40/40 [==============================] - 0s 2ms/step - loss: 0.0689 - accuracy: 0.9737 - val_loss: 0.0764 - val_accuracy: 0.9750\n",
      "Epoch 30/70\n",
      "40/40 [==============================] - 0s 2ms/step - loss: 0.0682 - accuracy: 0.9741 - val_loss: 0.0760 - val_accuracy: 0.9750\n",
      "Epoch 31/70\n",
      "40/40 [==============================] - 0s 2ms/step - loss: 0.0674 - accuracy: 0.9753 - val_loss: 0.0759 - val_accuracy: 0.9734\n",
      "Epoch 32/70\n",
      "40/40 [==============================] - 0s 2ms/step - loss: 0.0668 - accuracy: 0.9749 - val_loss: 0.0748 - val_accuracy: 0.9734\n",
      "Epoch 33/70\n",
      "40/40 [==============================] - 0s 3ms/step - loss: 0.0663 - accuracy: 0.9745 - val_loss: 0.0739 - val_accuracy: 0.9734\n",
      "Epoch 34/70\n",
      "40/40 [==============================] - 0s 3ms/step - loss: 0.0657 - accuracy: 0.9749 - val_loss: 0.0741 - val_accuracy: 0.9734\n",
      "Epoch 35/70\n",
      "40/40 [==============================] - 0s 2ms/step - loss: 0.0648 - accuracy: 0.9749 - val_loss: 0.0730 - val_accuracy: 0.9734\n",
      "Epoch 36/70\n",
      "40/40 [==============================] - 0s 2ms/step - loss: 0.0645 - accuracy: 0.9749 - val_loss: 0.0729 - val_accuracy: 0.9734\n",
      "Epoch 37/70\n",
      "40/40 [==============================] - 0s 2ms/step - loss: 0.0642 - accuracy: 0.9749 - val_loss: 0.0725 - val_accuracy: 0.9734\n",
      "Epoch 38/70\n",
      "40/40 [==============================] - 0s 2ms/step - loss: 0.0632 - accuracy: 0.9749 - val_loss: 0.0720 - val_accuracy: 0.9734\n",
      "Epoch 39/70\n",
      "40/40 [==============================] - 0s 2ms/step - loss: 0.0627 - accuracy: 0.9741 - val_loss: 0.0720 - val_accuracy: 0.9734\n",
      "Epoch 40/70\n",
      "40/40 [==============================] - 0s 2ms/step - loss: 0.0622 - accuracy: 0.9745 - val_loss: 0.0722 - val_accuracy: 0.9734\n",
      "Epoch 41/70\n",
      "40/40 [==============================] - 0s 2ms/step - loss: 0.0617 - accuracy: 0.9737 - val_loss: 0.0712 - val_accuracy: 0.9734\n",
      "Epoch 42/70\n",
      "40/40 [==============================] - 0s 2ms/step - loss: 0.0616 - accuracy: 0.9741 - val_loss: 0.0718 - val_accuracy: 0.9734\n",
      "Epoch 43/70\n",
      "40/40 [==============================] - 0s 1ms/step - loss: 0.0609 - accuracy: 0.9745 - val_loss: 0.0707 - val_accuracy: 0.9734\n",
      "Epoch 44/70\n",
      "40/40 [==============================] - 0s 1ms/step - loss: 0.0604 - accuracy: 0.9745 - val_loss: 0.0711 - val_accuracy: 0.9734\n",
      "Epoch 45/70\n",
      "40/40 [==============================] - 0s 1ms/step - loss: 0.0597 - accuracy: 0.9734 - val_loss: 0.0712 - val_accuracy: 0.9734\n",
      "Epoch 46/70\n",
      "40/40 [==============================] - 0s 1ms/step - loss: 0.0596 - accuracy: 0.9745 - val_loss: 0.0702 - val_accuracy: 0.9734\n",
      "Epoch 47/70\n",
      "40/40 [==============================] - 0s 2ms/step - loss: 0.0591 - accuracy: 0.9745 - val_loss: 0.0710 - val_accuracy: 0.9734\n",
      "Epoch 48/70\n",
      "40/40 [==============================] - 0s 2ms/step - loss: 0.0587 - accuracy: 0.9749 - val_loss: 0.0697 - val_accuracy: 0.9734\n",
      "Epoch 49/70\n",
      "40/40 [==============================] - 0s 2ms/step - loss: 0.0586 - accuracy: 0.9749 - val_loss: 0.0701 - val_accuracy: 0.9734\n",
      "Epoch 50/70\n",
      "40/40 [==============================] - 0s 2ms/step - loss: 0.0579 - accuracy: 0.9757 - val_loss: 0.0694 - val_accuracy: 0.9734\n",
      "Epoch 51/70\n",
      "40/40 [==============================] - 0s 1ms/step - loss: 0.0574 - accuracy: 0.9753 - val_loss: 0.0693 - val_accuracy: 0.9734\n",
      "Epoch 52/70\n",
      "40/40 [==============================] - 0s 2ms/step - loss: 0.0571 - accuracy: 0.9753 - val_loss: 0.0692 - val_accuracy: 0.9734\n",
      "Epoch 53/70\n",
      "40/40 [==============================] - 0s 1ms/step - loss: 0.0564 - accuracy: 0.9749 - val_loss: 0.0684 - val_accuracy: 0.9750\n",
      "Epoch 54/70\n",
      "40/40 [==============================] - 0s 1ms/step - loss: 0.0561 - accuracy: 0.9749 - val_loss: 0.0683 - val_accuracy: 0.9750\n",
      "Epoch 55/70\n",
      "40/40 [==============================] - 0s 1ms/step - loss: 0.0556 - accuracy: 0.9753 - val_loss: 0.0684 - val_accuracy: 0.9750\n",
      "Epoch 56/70\n",
      "40/40 [==============================] - 0s 1ms/step - loss: 0.0553 - accuracy: 0.9753 - val_loss: 0.0678 - val_accuracy: 0.9750\n",
      "Epoch 57/70\n",
      "40/40 [==============================] - 0s 1ms/step - loss: 0.0548 - accuracy: 0.9761 - val_loss: 0.0676 - val_accuracy: 0.9750\n",
      "Epoch 58/70\n",
      "40/40 [==============================] - 0s 2ms/step - loss: 0.0543 - accuracy: 0.9769 - val_loss: 0.0682 - val_accuracy: 0.9750\n",
      "Epoch 59/70\n"
     ]
    },
    {
     "name": "stdout",
     "output_type": "stream",
     "text": [
      "40/40 [==============================] - 0s 2ms/step - loss: 0.0540 - accuracy: 0.9769 - val_loss: 0.0680 - val_accuracy: 0.9765\n",
      "Epoch 60/70\n",
      "40/40 [==============================] - 0s 2ms/step - loss: 0.0538 - accuracy: 0.9769 - val_loss: 0.0686 - val_accuracy: 0.9781\n",
      "Epoch 61/70\n",
      "40/40 [==============================] - 0s 1ms/step - loss: 0.0536 - accuracy: 0.9765 - val_loss: 0.0681 - val_accuracy: 0.9765\n",
      "Epoch 62/70\n",
      "40/40 [==============================] - 0s 1ms/step - loss: 0.0527 - accuracy: 0.9784 - val_loss: 0.0693 - val_accuracy: 0.9781\n",
      "Epoch 63/70\n",
      "40/40 [==============================] - 0s 1ms/step - loss: 0.0532 - accuracy: 0.9788 - val_loss: 0.0687 - val_accuracy: 0.9765\n",
      "Epoch 64/70\n",
      "40/40 [==============================] - 0s 2ms/step - loss: 0.0519 - accuracy: 0.9788 - val_loss: 0.0681 - val_accuracy: 0.9765\n",
      "Epoch 65/70\n",
      "40/40 [==============================] - 0s 3ms/step - loss: 0.0519 - accuracy: 0.9784 - val_loss: 0.0686 - val_accuracy: 0.9765\n",
      "Epoch 66/70\n",
      "40/40 [==============================] - 0s 2ms/step - loss: 0.0514 - accuracy: 0.9792 - val_loss: 0.0697 - val_accuracy: 0.9765\n",
      "Epoch 67/70\n",
      "40/40 [==============================] - 0s 2ms/step - loss: 0.0512 - accuracy: 0.9792 - val_loss: 0.0681 - val_accuracy: 0.9781\n",
      "Epoch 68/70\n",
      "40/40 [==============================] - 0s 2ms/step - loss: 0.0509 - accuracy: 0.9792 - val_loss: 0.0681 - val_accuracy: 0.9781\n",
      "Epoch 69/70\n",
      "40/40 [==============================] - 0s 2ms/step - loss: 0.0504 - accuracy: 0.9788 - val_loss: 0.0689 - val_accuracy: 0.9781\n",
      "Epoch 70/70\n",
      "40/40 [==============================] - 0s 2ms/step - loss: 0.0500 - accuracy: 0.9796 - val_loss: 0.0691 - val_accuracy: 0.9781\n",
      "20/20 [==============================] - 0s 1ms/step\n",
      "Acc Score:  0.9780907668231612\n",
      "Roc Auc Score:  0.9512309263145953\n",
      "f1 score:  0.8888888888888888\n"
     ]
    }
   ],
   "source": [
    "np.digitize(y_test, [0, 1]) - 1\n",
    "nb_classes = 2\n",
    "y_train = np.eye(nb_classes)[y_train]\n",
    "y_test = np.eye(nb_classes)[y_test]\n",
    "\n",
    "import keras\n",
    "from keras.layers import Dense, Softmax\n",
    "model = keras.Sequential()\n",
    "#model.add(Dense(69, kernel_initializer='normal', activation='relu', input_shape=(23,)))\n",
    "model.add(Dense(16, kernel_initializer='normal', activation='relu', input_shape=(23,)))\n",
    "model.add(Dense(4, kernel_initializer='normal', activation='relu'))\n",
    "model.add(Dense(2, kernel_initializer='normal', activation='softmax'))\n",
    "#loss_fn = keras.losses.SparseCategoricalCrossentropy(from_logits=True)\n",
    "model.compile(loss='categorical_crossentropy', optimizer='Adam', metrics='accuracy', )\n",
    "model.fit(X_train, y_train, validation_data=(X_test, y_test), verbose=1, epochs=70, batch_size=64, shuffle=True)\n",
    "\n",
    "from sklearn.metrics import mean_squared_error\n",
    "from sklearn.metrics import mean_absolute_error\n",
    "\n",
    "preds = model.predict(X_test)\n",
    "\n",
    "print('Acc Score: ',accuracy_score(np.argmax(y_test, axis=1), np.argmax(preds, axis=1)))\n",
    "print('Roc Auc Score: ',roc_auc_score(np.argmax(y_test, axis=1), np.argmax(preds, axis=1)))\n",
    "#print('Precision Score: ',precision_score(y_test, preds))\n",
    "#print('Recall Score: ',recall_score(y_test, preds))\n",
    "print('f1 score: ',f1_score(np.argmax(y_test, axis=1), np.argmax(preds, axis=1)))\n"
   ]
  },
  {
   "cell_type": "code",
   "execution_count": 30,
   "id": "f9c7fe12",
   "metadata": {},
   "outputs": [
    {
     "data": {
      "text/plain": [
       "array([[569,   9],\n",
       "       [  5,  56]], dtype=int64)"
      ]
     },
     "execution_count": 30,
     "metadata": {},
     "output_type": "execute_result"
    }
   ],
   "source": [
    "confusion_matrix(np.argmax(y_test, axis=1), np.argmax(preds, axis=1))"
   ]
  },
  {
   "cell_type": "code",
   "execution_count": 43,
   "id": "21ef3930",
   "metadata": {},
   "outputs": [
    {
     "name": "stdout",
     "output_type": "stream",
     "text": [
      "Epoch 1/300\n",
      "40/40 [==============================] - 0s 4ms/step - loss: 7.9651 - mse: 7.9651 - val_loss: 4.1611 - val_mse: 4.1611\n",
      "Epoch 2/300\n",
      "40/40 [==============================] - 0s 2ms/step - loss: 7.8622 - mse: 7.8622 - val_loss: 4.0405 - val_mse: 4.0405\n",
      "Epoch 3/300\n",
      "40/40 [==============================] - 0s 2ms/step - loss: 7.5348 - mse: 7.5348 - val_loss: 3.6876 - val_mse: 3.6876\n",
      "Epoch 4/300\n",
      "40/40 [==============================] - 0s 2ms/step - loss: 6.7163 - mse: 6.7163 - val_loss: 3.0053 - val_mse: 3.0053\n",
      "Epoch 5/300\n",
      "40/40 [==============================] - 0s 2ms/step - loss: 5.3309 - mse: 5.3309 - val_loss: 2.2383 - val_mse: 2.2383\n",
      "Epoch 6/300\n",
      "40/40 [==============================] - 0s 2ms/step - loss: 4.0159 - mse: 4.0159 - val_loss: 1.8439 - val_mse: 1.8439\n",
      "Epoch 7/300\n",
      "40/40 [==============================] - 0s 2ms/step - loss: 3.2018 - mse: 3.2018 - val_loss: 1.7055 - val_mse: 1.7055\n",
      "Epoch 8/300\n",
      "40/40 [==============================] - 0s 2ms/step - loss: 2.7508 - mse: 2.7508 - val_loss: 1.5161 - val_mse: 1.5161\n",
      "Epoch 9/300\n",
      "40/40 [==============================] - 0s 2ms/step - loss: 2.3667 - mse: 2.3667 - val_loss: 1.4074 - val_mse: 1.4074\n",
      "Epoch 10/300\n",
      "40/40 [==============================] - 0s 2ms/step - loss: 2.1138 - mse: 2.1138 - val_loss: 1.3119 - val_mse: 1.3119\n",
      "Epoch 11/300\n",
      "40/40 [==============================] - 0s 2ms/step - loss: 1.8548 - mse: 1.8548 - val_loss: 1.1417 - val_mse: 1.1417\n",
      "Epoch 12/300\n",
      "40/40 [==============================] - 0s 2ms/step - loss: 1.6814 - mse: 1.6814 - val_loss: 1.1732 - val_mse: 1.1732\n",
      "Epoch 13/300\n",
      "40/40 [==============================] - 0s 2ms/step - loss: 1.5477 - mse: 1.5477 - val_loss: 1.0686 - val_mse: 1.0686\n",
      "Epoch 14/300\n",
      "40/40 [==============================] - 0s 2ms/step - loss: 1.4258 - mse: 1.4258 - val_loss: 1.0190 - val_mse: 1.0190\n",
      "Epoch 15/300\n",
      "40/40 [==============================] - 0s 2ms/step - loss: 1.3354 - mse: 1.3354 - val_loss: 0.9827 - val_mse: 0.9827\n",
      "Epoch 16/300\n",
      "40/40 [==============================] - 0s 3ms/step - loss: 1.2798 - mse: 1.2798 - val_loss: 0.9881 - val_mse: 0.9881\n",
      "Epoch 17/300\n",
      "40/40 [==============================] - 0s 3ms/step - loss: 1.2184 - mse: 1.2184 - val_loss: 0.9473 - val_mse: 0.9473\n",
      "Epoch 18/300\n",
      "40/40 [==============================] - 0s 3ms/step - loss: 1.1756 - mse: 1.1756 - val_loss: 0.9134 - val_mse: 0.9134\n",
      "Epoch 19/300\n",
      "40/40 [==============================] - 0s 3ms/step - loss: 1.1219 - mse: 1.1219 - val_loss: 0.8810 - val_mse: 0.8810\n",
      "Epoch 20/300\n",
      "40/40 [==============================] - 0s 3ms/step - loss: 1.0869 - mse: 1.0869 - val_loss: 0.8521 - val_mse: 0.8521\n",
      "Epoch 21/300\n",
      "40/40 [==============================] - 0s 2ms/step - loss: 1.0486 - mse: 1.0486 - val_loss: 0.8618 - val_mse: 0.8618\n",
      "Epoch 22/300\n",
      "40/40 [==============================] - 0s 2ms/step - loss: 1.0375 - mse: 1.0375 - val_loss: 0.8028 - val_mse: 0.8028\n",
      "Epoch 23/300\n",
      "40/40 [==============================] - 0s 2ms/step - loss: 0.9935 - mse: 0.9935 - val_loss: 0.8224 - val_mse: 0.8224\n",
      "Epoch 24/300\n",
      "40/40 [==============================] - 0s 2ms/step - loss: 0.9799 - mse: 0.9799 - val_loss: 0.8703 - val_mse: 0.8703\n",
      "Epoch 25/300\n",
      "40/40 [==============================] - 0s 3ms/step - loss: 0.9565 - mse: 0.9565 - val_loss: 0.8037 - val_mse: 0.8037\n",
      "Epoch 26/300\n",
      "40/40 [==============================] - 0s 2ms/step - loss: 0.9396 - mse: 0.9396 - val_loss: 0.8093 - val_mse: 0.8093\n",
      "Epoch 27/300\n",
      "40/40 [==============================] - 0s 3ms/step - loss: 0.9061 - mse: 0.9061 - val_loss: 0.8096 - val_mse: 0.8096\n",
      "Epoch 28/300\n",
      "40/40 [==============================] - 0s 3ms/step - loss: 0.8862 - mse: 0.8862 - val_loss: 0.8160 - val_mse: 0.8160\n",
      "Epoch 29/300\n",
      "40/40 [==============================] - 0s 3ms/step - loss: 0.8721 - mse: 0.8721 - val_loss: 0.7881 - val_mse: 0.7881\n",
      "Epoch 30/300\n",
      "40/40 [==============================] - 0s 2ms/step - loss: 0.8764 - mse: 0.8764 - val_loss: 0.8025 - val_mse: 0.8025\n",
      "Epoch 31/300\n",
      "40/40 [==============================] - 0s 2ms/step - loss: 0.8499 - mse: 0.8499 - val_loss: 0.8069 - val_mse: 0.8069\n",
      "Epoch 32/300\n",
      "40/40 [==============================] - 0s 2ms/step - loss: 0.8298 - mse: 0.8298 - val_loss: 0.7912 - val_mse: 0.7912\n",
      "Epoch 33/300\n",
      "40/40 [==============================] - 0s 3ms/step - loss: 0.8284 - mse: 0.8284 - val_loss: 0.7999 - val_mse: 0.7999\n",
      "Epoch 34/300\n",
      "40/40 [==============================] - 0s 2ms/step - loss: 0.8173 - mse: 0.8173 - val_loss: 0.7834 - val_mse: 0.7834\n",
      "Epoch 35/300\n",
      "40/40 [==============================] - 0s 2ms/step - loss: 0.8083 - mse: 0.8083 - val_loss: 0.7967 - val_mse: 0.7967\n",
      "Epoch 36/300\n",
      "40/40 [==============================] - 0s 2ms/step - loss: 0.8045 - mse: 0.8045 - val_loss: 0.8212 - val_mse: 0.8212\n",
      "Epoch 37/300\n",
      "40/40 [==============================] - 0s 2ms/step - loss: 0.7873 - mse: 0.7873 - val_loss: 0.7958 - val_mse: 0.7958\n",
      "Epoch 38/300\n",
      "40/40 [==============================] - 0s 2ms/step - loss: 0.7987 - mse: 0.7987 - val_loss: 0.8221 - val_mse: 0.8221\n",
      "Epoch 39/300\n",
      "40/40 [==============================] - 0s 2ms/step - loss: 0.7827 - mse: 0.7827 - val_loss: 0.8148 - val_mse: 0.8148\n",
      "Epoch 40/300\n",
      "40/40 [==============================] - 0s 3ms/step - loss: 0.8037 - mse: 0.8037 - val_loss: 0.8385 - val_mse: 0.8385\n",
      "Epoch 41/300\n",
      "40/40 [==============================] - 0s 3ms/step - loss: 0.7772 - mse: 0.7772 - val_loss: 0.8077 - val_mse: 0.8077\n",
      "Epoch 42/300\n",
      "40/40 [==============================] - 0s 3ms/step - loss: 0.7817 - mse: 0.7817 - val_loss: 0.8293 - val_mse: 0.8293\n",
      "Epoch 43/300\n",
      "40/40 [==============================] - 0s 2ms/step - loss: 0.7672 - mse: 0.7672 - val_loss: 0.8122 - val_mse: 0.8122\n",
      "Epoch 44/300\n",
      "40/40 [==============================] - 0s 2ms/step - loss: 0.7837 - mse: 0.7837 - val_loss: 0.8579 - val_mse: 0.8579\n",
      "Epoch 45/300\n",
      "40/40 [==============================] - 0s 2ms/step - loss: 0.7793 - mse: 0.7793 - val_loss: 0.8379 - val_mse: 0.8379\n",
      "Epoch 46/300\n",
      "40/40 [==============================] - 0s 2ms/step - loss: 0.7518 - mse: 0.7518 - val_loss: 0.8347 - val_mse: 0.8347\n",
      "Epoch 47/300\n",
      "40/40 [==============================] - 0s 2ms/step - loss: 0.7564 - mse: 0.7564 - val_loss: 0.8422 - val_mse: 0.8422\n",
      "Epoch 48/300\n",
      "40/40 [==============================] - 0s 2ms/step - loss: 0.7582 - mse: 0.7582 - val_loss: 0.8709 - val_mse: 0.8709\n",
      "Epoch 49/300\n",
      "40/40 [==============================] - 0s 3ms/step - loss: 0.7435 - mse: 0.7435 - val_loss: 0.8594 - val_mse: 0.8594\n",
      "Epoch 50/300\n",
      "40/40 [==============================] - 0s 2ms/step - loss: 0.7647 - mse: 0.7647 - val_loss: 0.8446 - val_mse: 0.8446\n",
      "Epoch 51/300\n",
      "40/40 [==============================] - 0s 2ms/step - loss: 0.7381 - mse: 0.7381 - val_loss: 0.8626 - val_mse: 0.8626\n",
      "Epoch 52/300\n",
      "40/40 [==============================] - 0s 2ms/step - loss: 0.7419 - mse: 0.7419 - val_loss: 0.8357 - val_mse: 0.8357\n",
      "Epoch 53/300\n",
      "40/40 [==============================] - 0s 2ms/step - loss: 0.7404 - mse: 0.7404 - val_loss: 0.8857 - val_mse: 0.8857\n",
      "Epoch 54/300\n",
      "40/40 [==============================] - 0s 2ms/step - loss: 0.7425 - mse: 0.7425 - val_loss: 0.8879 - val_mse: 0.8879\n",
      "Epoch 55/300\n",
      "40/40 [==============================] - 0s 2ms/step - loss: 0.7191 - mse: 0.7191 - val_loss: 0.8552 - val_mse: 0.8552\n",
      "Epoch 56/300\n",
      "40/40 [==============================] - 0s 2ms/step - loss: 0.7176 - mse: 0.7176 - val_loss: 0.8684 - val_mse: 0.8684\n",
      "Epoch 57/300\n",
      "40/40 [==============================] - 0s 2ms/step - loss: 0.7220 - mse: 0.7220 - val_loss: 0.9039 - val_mse: 0.9039\n",
      "Epoch 58/300\n",
      "40/40 [==============================] - 0s 2ms/step - loss: 0.7220 - mse: 0.7220 - val_loss: 0.8915 - val_mse: 0.8915\n",
      "Epoch 59/300\n",
      "40/40 [==============================] - 0s 2ms/step - loss: 0.7218 - mse: 0.7218 - val_loss: 0.8837 - val_mse: 0.8837\n",
      "Epoch 60/300\n",
      "40/40 [==============================] - 0s 3ms/step - loss: 0.7065 - mse: 0.7065 - val_loss: 0.8690 - val_mse: 0.8690\n",
      "Epoch 61/300\n",
      "40/40 [==============================] - 0s 4ms/step - loss: 0.7144 - mse: 0.7144 - val_loss: 0.8816 - val_mse: 0.8816\n",
      "Epoch 62/300\n",
      "40/40 [==============================] - 0s 3ms/step - loss: 0.7287 - mse: 0.7287 - val_loss: 0.8976 - val_mse: 0.8976\n",
      "Epoch 63/300\n"
     ]
    },
    {
     "name": "stdout",
     "output_type": "stream",
     "text": [
      "40/40 [==============================] - 0s 1ms/step - loss: 0.6893 - mse: 0.6893 - val_loss: 0.8805 - val_mse: 0.8805\n",
      "Epoch 64/300\n",
      "40/40 [==============================] - 0s 1ms/step - loss: 0.6947 - mse: 0.6947 - val_loss: 0.8816 - val_mse: 0.8816\n",
      "Epoch 65/300\n",
      "40/40 [==============================] - 0s 1ms/step - loss: 0.6924 - mse: 0.6924 - val_loss: 0.8779 - val_mse: 0.8779\n",
      "Epoch 66/300\n",
      "40/40 [==============================] - 0s 1ms/step - loss: 0.6924 - mse: 0.6924 - val_loss: 0.9067 - val_mse: 0.9067\n",
      "Epoch 67/300\n",
      "40/40 [==============================] - 0s 2ms/step - loss: 0.6821 - mse: 0.6821 - val_loss: 0.8828 - val_mse: 0.8828\n",
      "Epoch 68/300\n",
      "40/40 [==============================] - 0s 1ms/step - loss: 0.6852 - mse: 0.6852 - val_loss: 0.8871 - val_mse: 0.8871\n",
      "Epoch 69/300\n",
      "40/40 [==============================] - 0s 1ms/step - loss: 0.6992 - mse: 0.6992 - val_loss: 0.9016 - val_mse: 0.9016\n",
      "Epoch 70/300\n",
      "40/40 [==============================] - 0s 1ms/step - loss: 0.6970 - mse: 0.6970 - val_loss: 0.8952 - val_mse: 0.8952\n",
      "Epoch 71/300\n",
      "40/40 [==============================] - 0s 1ms/step - loss: 0.6840 - mse: 0.6840 - val_loss: 0.8979 - val_mse: 0.8979\n",
      "Epoch 72/300\n",
      "40/40 [==============================] - 0s 2ms/step - loss: 0.6650 - mse: 0.6650 - val_loss: 0.8892 - val_mse: 0.8892\n",
      "Epoch 73/300\n",
      "40/40 [==============================] - 0s 1ms/step - loss: 0.6752 - mse: 0.6752 - val_loss: 0.8820 - val_mse: 0.8820\n",
      "Epoch 74/300\n",
      "40/40 [==============================] - 0s 1ms/step - loss: 0.6769 - mse: 0.6769 - val_loss: 0.8855 - val_mse: 0.8855\n",
      "Epoch 75/300\n",
      "40/40 [==============================] - 0s 2ms/step - loss: 0.6606 - mse: 0.6606 - val_loss: 0.8879 - val_mse: 0.8879\n",
      "Epoch 76/300\n",
      "40/40 [==============================] - 0s 2ms/step - loss: 0.6723 - mse: 0.6723 - val_loss: 0.9057 - val_mse: 0.9057\n",
      "Epoch 77/300\n",
      "40/40 [==============================] - 0s 1ms/step - loss: 0.6676 - mse: 0.6676 - val_loss: 0.8734 - val_mse: 0.8734\n",
      "Epoch 78/300\n",
      "40/40 [==============================] - 0s 2ms/step - loss: 0.6588 - mse: 0.6588 - val_loss: 0.8814 - val_mse: 0.8814\n",
      "Epoch 79/300\n",
      "40/40 [==============================] - 0s 1ms/step - loss: 0.6421 - mse: 0.6421 - val_loss: 0.9013 - val_mse: 0.9013\n",
      "Epoch 80/300\n",
      "40/40 [==============================] - 0s 1ms/step - loss: 0.6449 - mse: 0.6449 - val_loss: 0.8895 - val_mse: 0.8895\n",
      "Epoch 81/300\n",
      "40/40 [==============================] - 0s 1ms/step - loss: 0.6541 - mse: 0.6541 - val_loss: 0.8965 - val_mse: 0.8965\n",
      "Epoch 82/300\n",
      "40/40 [==============================] - 0s 1ms/step - loss: 0.6451 - mse: 0.6451 - val_loss: 0.8798 - val_mse: 0.8798\n",
      "Epoch 83/300\n",
      "40/40 [==============================] - 0s 1ms/step - loss: 0.6482 - mse: 0.6482 - val_loss: 0.8865 - val_mse: 0.8865\n",
      "Epoch 84/300\n",
      "40/40 [==============================] - 0s 1ms/step - loss: 0.6474 - mse: 0.6474 - val_loss: 0.9048 - val_mse: 0.9048\n",
      "Epoch 85/300\n",
      "40/40 [==============================] - 0s 1ms/step - loss: 0.6314 - mse: 0.6314 - val_loss: 0.9028 - val_mse: 0.9028\n",
      "Epoch 86/300\n",
      "40/40 [==============================] - 0s 2ms/step - loss: 0.6534 - mse: 0.6534 - val_loss: 0.8857 - val_mse: 0.8857\n",
      "Epoch 87/300\n",
      "40/40 [==============================] - 0s 2ms/step - loss: 0.6485 - mse: 0.6485 - val_loss: 0.8941 - val_mse: 0.8941\n",
      "Epoch 88/300\n",
      "40/40 [==============================] - 0s 2ms/step - loss: 0.6342 - mse: 0.6342 - val_loss: 0.8977 - val_mse: 0.8977\n",
      "Epoch 89/300\n",
      "40/40 [==============================] - 0s 2ms/step - loss: 0.6297 - mse: 0.6297 - val_loss: 0.8905 - val_mse: 0.8905\n",
      "Epoch 90/300\n",
      "40/40 [==============================] - 0s 2ms/step - loss: 0.6424 - mse: 0.6424 - val_loss: 0.8931 - val_mse: 0.8931\n",
      "Epoch 91/300\n",
      "40/40 [==============================] - 0s 2ms/step - loss: 0.6193 - mse: 0.6193 - val_loss: 0.9026 - val_mse: 0.9026\n",
      "Epoch 92/300\n",
      "40/40 [==============================] - 0s 2ms/step - loss: 0.6267 - mse: 0.6267 - val_loss: 0.8891 - val_mse: 0.8891\n",
      "Epoch 93/300\n",
      "40/40 [==============================] - 0s 2ms/step - loss: 0.6269 - mse: 0.6269 - val_loss: 0.9003 - val_mse: 0.9003\n",
      "Epoch 94/300\n",
      "40/40 [==============================] - 0s 2ms/step - loss: 0.6235 - mse: 0.6235 - val_loss: 0.9130 - val_mse: 0.9130\n",
      "Epoch 95/300\n",
      "40/40 [==============================] - 0s 2ms/step - loss: 0.6247 - mse: 0.6247 - val_loss: 0.9132 - val_mse: 0.9132\n",
      "Epoch 96/300\n",
      "40/40 [==============================] - 0s 2ms/step - loss: 0.6241 - mse: 0.6241 - val_loss: 0.9244 - val_mse: 0.9244\n",
      "Epoch 97/300\n",
      "40/40 [==============================] - 0s 2ms/step - loss: 0.6189 - mse: 0.6189 - val_loss: 0.9153 - val_mse: 0.9153\n",
      "Epoch 98/300\n",
      "40/40 [==============================] - 0s 2ms/step - loss: 0.6071 - mse: 0.6071 - val_loss: 0.9040 - val_mse: 0.9040\n",
      "Epoch 99/300\n",
      "40/40 [==============================] - 0s 2ms/step - loss: 0.6074 - mse: 0.6074 - val_loss: 0.9111 - val_mse: 0.9111\n",
      "Epoch 100/300\n",
      "40/40 [==============================] - 0s 2ms/step - loss: 0.6068 - mse: 0.6068 - val_loss: 0.9129 - val_mse: 0.9129\n",
      "Epoch 101/300\n",
      "40/40 [==============================] - 0s 2ms/step - loss: 0.6223 - mse: 0.6223 - val_loss: 0.9086 - val_mse: 0.9086\n",
      "Epoch 102/300\n",
      "40/40 [==============================] - 0s 2ms/step - loss: 0.6011 - mse: 0.6011 - val_loss: 0.9283 - val_mse: 0.9283\n",
      "Epoch 103/300\n",
      "40/40 [==============================] - 0s 2ms/step - loss: 0.5992 - mse: 0.5992 - val_loss: 0.9176 - val_mse: 0.9176\n",
      "Epoch 104/300\n",
      "40/40 [==============================] - 0s 2ms/step - loss: 0.5948 - mse: 0.5948 - val_loss: 0.9097 - val_mse: 0.9097\n",
      "Epoch 105/300\n",
      "40/40 [==============================] - 0s 2ms/step - loss: 0.5948 - mse: 0.5948 - val_loss: 0.9439 - val_mse: 0.9439\n",
      "Epoch 106/300\n",
      "40/40 [==============================] - 0s 2ms/step - loss: 0.6191 - mse: 0.6191 - val_loss: 0.9390 - val_mse: 0.9390\n",
      "Epoch 107/300\n",
      "40/40 [==============================] - 0s 2ms/step - loss: 0.6002 - mse: 0.6002 - val_loss: 0.9595 - val_mse: 0.9595\n",
      "Epoch 108/300\n",
      "40/40 [==============================] - 0s 2ms/step - loss: 0.5866 - mse: 0.5866 - val_loss: 0.9358 - val_mse: 0.9358\n",
      "Epoch 109/300\n",
      "40/40 [==============================] - 0s 2ms/step - loss: 0.6158 - mse: 0.6158 - val_loss: 0.9167 - val_mse: 0.9167\n",
      "Epoch 110/300\n",
      "40/40 [==============================] - 0s 2ms/step - loss: 0.5926 - mse: 0.5926 - val_loss: 0.9567 - val_mse: 0.9567\n",
      "Epoch 111/300\n",
      "40/40 [==============================] - 0s 2ms/step - loss: 0.5946 - mse: 0.5946 - val_loss: 0.9676 - val_mse: 0.9676\n",
      "Epoch 112/300\n",
      "40/40 [==============================] - 0s 2ms/step - loss: 0.5900 - mse: 0.5900 - val_loss: 0.9543 - val_mse: 0.9543\n",
      "Epoch 113/300\n",
      "40/40 [==============================] - 0s 2ms/step - loss: 0.5846 - mse: 0.5846 - val_loss: 0.9545 - val_mse: 0.9545\n",
      "Epoch 114/300\n",
      "40/40 [==============================] - 0s 2ms/step - loss: 0.5813 - mse: 0.5813 - val_loss: 0.9407 - val_mse: 0.9407\n",
      "Epoch 115/300\n",
      "40/40 [==============================] - 0s 2ms/step - loss: 0.5654 - mse: 0.5654 - val_loss: 0.9542 - val_mse: 0.9542\n",
      "Epoch 116/300\n",
      "40/40 [==============================] - 0s 1ms/step - loss: 0.5698 - mse: 0.5698 - val_loss: 0.9355 - val_mse: 0.9355\n",
      "Epoch 117/300\n",
      "40/40 [==============================] - 0s 1ms/step - loss: 0.5889 - mse: 0.5889 - val_loss: 0.9564 - val_mse: 0.9564\n",
      "Epoch 118/300\n",
      "40/40 [==============================] - 0s 1ms/step - loss: 0.5807 - mse: 0.5807 - val_loss: 0.9392 - val_mse: 0.9392\n",
      "Epoch 119/300\n",
      "40/40 [==============================] - 0s 1ms/step - loss: 0.5570 - mse: 0.5570 - val_loss: 1.0069 - val_mse: 1.0069\n",
      "Epoch 120/300\n",
      "40/40 [==============================] - 0s 2ms/step - loss: 0.5688 - mse: 0.5688 - val_loss: 0.9204 - val_mse: 0.9204\n",
      "Epoch 121/300\n",
      "40/40 [==============================] - 0s 2ms/step - loss: 0.5634 - mse: 0.5634 - val_loss: 0.9405 - val_mse: 0.9405\n",
      "Epoch 122/300\n",
      "40/40 [==============================] - 0s 2ms/step - loss: 0.5517 - mse: 0.5517 - val_loss: 0.9581 - val_mse: 0.9581\n",
      "Epoch 123/300\n",
      "40/40 [==============================] - 0s 1ms/step - loss: 0.5409 - mse: 0.5409 - val_loss: 0.9674 - val_mse: 0.9674\n",
      "Epoch 124/300\n",
      "40/40 [==============================] - 0s 1ms/step - loss: 0.5540 - mse: 0.5540 - val_loss: 0.9322 - val_mse: 0.9322\n"
     ]
    },
    {
     "name": "stdout",
     "output_type": "stream",
     "text": [
      "Epoch 125/300\n",
      "40/40 [==============================] - 0s 2ms/step - loss: 0.5429 - mse: 0.5429 - val_loss: 0.9420 - val_mse: 0.9420\n",
      "Epoch 126/300\n",
      "40/40 [==============================] - 0s 1ms/step - loss: 0.5306 - mse: 0.5306 - val_loss: 0.9927 - val_mse: 0.9927\n",
      "Epoch 127/300\n",
      "40/40 [==============================] - 0s 2ms/step - loss: 0.5387 - mse: 0.5387 - val_loss: 0.9751 - val_mse: 0.9751\n",
      "Epoch 128/300\n",
      "40/40 [==============================] - 0s 2ms/step - loss: 0.5257 - mse: 0.5257 - val_loss: 0.9816 - val_mse: 0.9816\n",
      "Epoch 129/300\n",
      "40/40 [==============================] - 0s 2ms/step - loss: 0.5236 - mse: 0.5236 - val_loss: 0.9819 - val_mse: 0.9819\n",
      "Epoch 130/300\n",
      "40/40 [==============================] - 0s 2ms/step - loss: 0.5241 - mse: 0.5241 - val_loss: 0.9564 - val_mse: 0.9564\n",
      "Epoch 131/300\n",
      "40/40 [==============================] - 0s 1ms/step - loss: 0.5209 - mse: 0.5209 - val_loss: 0.9557 - val_mse: 0.9557\n",
      "Epoch 132/300\n",
      "40/40 [==============================] - 0s 2ms/step - loss: 0.5275 - mse: 0.5275 - val_loss: 1.0036 - val_mse: 1.0036\n",
      "Epoch 133/300\n",
      "40/40 [==============================] - 0s 1ms/step - loss: 0.5235 - mse: 0.5235 - val_loss: 0.9644 - val_mse: 0.9644\n",
      "Epoch 134/300\n",
      "40/40 [==============================] - 0s 1ms/step - loss: 0.5163 - mse: 0.5163 - val_loss: 1.0093 - val_mse: 1.0093\n",
      "Epoch 135/300\n",
      "40/40 [==============================] - 0s 1ms/step - loss: 0.5225 - mse: 0.5225 - val_loss: 0.9900 - val_mse: 0.9900\n",
      "Epoch 136/300\n",
      "40/40 [==============================] - 0s 2ms/step - loss: 0.5019 - mse: 0.5019 - val_loss: 1.0400 - val_mse: 1.0400\n",
      "Epoch 137/300\n",
      "40/40 [==============================] - 0s 2ms/step - loss: 0.5505 - mse: 0.5505 - val_loss: 0.9963 - val_mse: 0.9963\n",
      "Epoch 138/300\n",
      "40/40 [==============================] - 0s 2ms/step - loss: 0.5089 - mse: 0.5089 - val_loss: 1.0051 - val_mse: 1.0051\n",
      "Epoch 139/300\n",
      "40/40 [==============================] - 0s 2ms/step - loss: 0.5068 - mse: 0.5068 - val_loss: 0.9922 - val_mse: 0.9922\n",
      "Epoch 140/300\n",
      "40/40 [==============================] - 0s 1ms/step - loss: 0.5298 - mse: 0.5298 - val_loss: 1.0251 - val_mse: 1.0251\n",
      "Epoch 141/300\n",
      "40/40 [==============================] - 0s 2ms/step - loss: 0.5272 - mse: 0.5272 - val_loss: 0.9556 - val_mse: 0.9556\n",
      "Epoch 142/300\n",
      "40/40 [==============================] - 0s 1ms/step - loss: 0.5225 - mse: 0.5225 - val_loss: 0.9912 - val_mse: 0.9912\n",
      "Epoch 143/300\n",
      "40/40 [==============================] - 0s 1ms/step - loss: 0.5175 - mse: 0.5175 - val_loss: 1.0398 - val_mse: 1.0398\n",
      "Epoch 144/300\n",
      "40/40 [==============================] - 0s 1ms/step - loss: 0.5026 - mse: 0.5026 - val_loss: 0.9866 - val_mse: 0.9866\n",
      "Epoch 145/300\n",
      "40/40 [==============================] - 0s 2ms/step - loss: 0.4998 - mse: 0.4998 - val_loss: 0.9777 - val_mse: 0.9777\n",
      "Epoch 146/300\n",
      "40/40 [==============================] - 0s 1ms/step - loss: 0.5388 - mse: 0.5388 - val_loss: 1.0347 - val_mse: 1.0347\n",
      "Epoch 147/300\n",
      "40/40 [==============================] - 0s 2ms/step - loss: 0.4813 - mse: 0.4813 - val_loss: 0.9941 - val_mse: 0.9941\n",
      "Epoch 148/300\n",
      "40/40 [==============================] - 0s 2ms/step - loss: 0.4930 - mse: 0.4930 - val_loss: 1.0318 - val_mse: 1.0318\n",
      "Epoch 149/300\n",
      "40/40 [==============================] - 0s 1ms/step - loss: 0.4925 - mse: 0.4925 - val_loss: 1.0667 - val_mse: 1.0667\n",
      "Epoch 150/300\n",
      "40/40 [==============================] - 0s 1ms/step - loss: 0.4957 - mse: 0.4957 - val_loss: 1.0550 - val_mse: 1.0550\n",
      "Epoch 151/300\n",
      "40/40 [==============================] - 0s 1ms/step - loss: 0.4919 - mse: 0.4919 - val_loss: 1.0040 - val_mse: 1.0040\n",
      "Epoch 152/300\n",
      "40/40 [==============================] - 0s 1ms/step - loss: 0.4791 - mse: 0.4791 - val_loss: 1.0237 - val_mse: 1.0237\n",
      "Epoch 153/300\n",
      "40/40 [==============================] - 0s 1ms/step - loss: 0.4938 - mse: 0.4938 - val_loss: 1.0309 - val_mse: 1.0309\n",
      "Epoch 154/300\n",
      "40/40 [==============================] - 0s 1ms/step - loss: 0.4821 - mse: 0.4821 - val_loss: 1.1169 - val_mse: 1.1169\n",
      "Epoch 155/300\n",
      "40/40 [==============================] - 0s 2ms/step - loss: 0.5168 - mse: 0.5168 - val_loss: 1.0091 - val_mse: 1.0091\n",
      "Epoch 156/300\n",
      "40/40 [==============================] - 0s 2ms/step - loss: 0.4898 - mse: 0.4898 - val_loss: 1.0368 - val_mse: 1.0368\n",
      "Epoch 157/300\n",
      "40/40 [==============================] - 0s 2ms/step - loss: 0.4790 - mse: 0.4790 - val_loss: 0.9993 - val_mse: 0.9993\n",
      "Epoch 158/300\n",
      "40/40 [==============================] - 0s 2ms/step - loss: 0.4763 - mse: 0.4763 - val_loss: 1.0249 - val_mse: 1.0249\n",
      "Epoch 159/300\n",
      "40/40 [==============================] - 0s 1ms/step - loss: 0.4811 - mse: 0.4811 - val_loss: 1.0492 - val_mse: 1.0492\n",
      "Epoch 160/300\n",
      "40/40 [==============================] - 0s 2ms/step - loss: 0.5423 - mse: 0.5423 - val_loss: 1.2375 - val_mse: 1.2375\n",
      "Epoch 161/300\n",
      "40/40 [==============================] - 0s 2ms/step - loss: 0.4608 - mse: 0.4608 - val_loss: 1.0288 - val_mse: 1.0288\n",
      "Epoch 162/300\n",
      "40/40 [==============================] - 0s 2ms/step - loss: 0.4811 - mse: 0.4811 - val_loss: 1.0229 - val_mse: 1.0229\n",
      "Epoch 163/300\n",
      "40/40 [==============================] - 0s 2ms/step - loss: 0.4630 - mse: 0.4630 - val_loss: 1.0668 - val_mse: 1.0668\n",
      "Epoch 164/300\n",
      "40/40 [==============================] - 0s 2ms/step - loss: 0.4932 - mse: 0.4932 - val_loss: 1.1053 - val_mse: 1.1053\n",
      "Epoch 165/300\n",
      "40/40 [==============================] - 0s 1ms/step - loss: 0.4650 - mse: 0.4650 - val_loss: 1.0179 - val_mse: 1.0179\n",
      "Epoch 166/300\n",
      "40/40 [==============================] - 0s 1ms/step - loss: 0.4631 - mse: 0.4631 - val_loss: 1.0540 - val_mse: 1.0540\n",
      "Epoch 167/300\n",
      "40/40 [==============================] - 0s 2ms/step - loss: 0.4645 - mse: 0.4645 - val_loss: 0.9960 - val_mse: 0.9960\n",
      "Epoch 168/300\n",
      "40/40 [==============================] - 0s 1ms/step - loss: 0.4582 - mse: 0.4582 - val_loss: 1.0724 - val_mse: 1.0724\n",
      "Epoch 169/300\n",
      "40/40 [==============================] - 0s 1ms/step - loss: 0.4547 - mse: 0.4547 - val_loss: 1.0609 - val_mse: 1.0609\n",
      "Epoch 170/300\n",
      "40/40 [==============================] - 0s 1ms/step - loss: 0.4846 - mse: 0.4846 - val_loss: 1.0821 - val_mse: 1.0821\n",
      "Epoch 171/300\n",
      "40/40 [==============================] - 0s 2ms/step - loss: 0.4794 - mse: 0.4794 - val_loss: 1.0256 - val_mse: 1.0256\n",
      "Epoch 172/300\n",
      "40/40 [==============================] - 0s 2ms/step - loss: 0.4588 - mse: 0.4588 - val_loss: 1.0777 - val_mse: 1.0777\n",
      "Epoch 173/300\n",
      "40/40 [==============================] - 0s 2ms/step - loss: 0.4568 - mse: 0.4568 - val_loss: 1.1029 - val_mse: 1.1029\n",
      "Epoch 174/300\n",
      "40/40 [==============================] - 0s 2ms/step - loss: 0.4525 - mse: 0.4525 - val_loss: 1.0797 - val_mse: 1.0797\n",
      "Epoch 175/300\n",
      "40/40 [==============================] - 0s 2ms/step - loss: 0.4625 - mse: 0.4625 - val_loss: 1.0754 - val_mse: 1.0754\n",
      "Epoch 176/300\n",
      "40/40 [==============================] - 0s 2ms/step - loss: 0.4507 - mse: 0.4507 - val_loss: 1.0658 - val_mse: 1.0658\n",
      "Epoch 177/300\n",
      "40/40 [==============================] - 0s 2ms/step - loss: 0.4481 - mse: 0.4481 - val_loss: 1.0636 - val_mse: 1.0636\n",
      "Epoch 178/300\n",
      "40/40 [==============================] - 0s 2ms/step - loss: 0.4528 - mse: 0.4528 - val_loss: 1.0690 - val_mse: 1.0690\n",
      "Epoch 179/300\n",
      "40/40 [==============================] - 0s 2ms/step - loss: 0.4459 - mse: 0.4459 - val_loss: 1.1136 - val_mse: 1.1136\n",
      "Epoch 180/300\n",
      "40/40 [==============================] - 0s 2ms/step - loss: 0.4329 - mse: 0.4329 - val_loss: 1.0558 - val_mse: 1.0558\n",
      "Epoch 181/300\n",
      "40/40 [==============================] - 0s 2ms/step - loss: 0.4510 - mse: 0.4510 - val_loss: 1.0970 - val_mse: 1.0970\n",
      "Epoch 182/300\n",
      "40/40 [==============================] - 0s 2ms/step - loss: 0.4639 - mse: 0.4639 - val_loss: 1.0104 - val_mse: 1.0104\n",
      "Epoch 183/300\n",
      "40/40 [==============================] - 0s 2ms/step - loss: 0.4575 - mse: 0.4575 - val_loss: 1.0782 - val_mse: 1.0782\n",
      "Epoch 184/300\n",
      "40/40 [==============================] - 0s 2ms/step - loss: 0.4595 - mse: 0.4595 - val_loss: 1.1237 - val_mse: 1.1237\n",
      "Epoch 185/300\n",
      "40/40 [==============================] - 0s 2ms/step - loss: 0.4386 - mse: 0.4386 - val_loss: 1.0770 - val_mse: 1.0770\n",
      "Epoch 186/300\n"
     ]
    },
    {
     "name": "stdout",
     "output_type": "stream",
     "text": [
      "40/40 [==============================] - 0s 2ms/step - loss: 0.4352 - mse: 0.4352 - val_loss: 1.0864 - val_mse: 1.0864\n",
      "Epoch 187/300\n",
      "40/40 [==============================] - 0s 2ms/step - loss: 0.4393 - mse: 0.4393 - val_loss: 1.0463 - val_mse: 1.0463\n",
      "Epoch 188/300\n",
      "40/40 [==============================] - 0s 2ms/step - loss: 0.4340 - mse: 0.4340 - val_loss: 1.0818 - val_mse: 1.0818\n",
      "Epoch 189/300\n",
      "40/40 [==============================] - 0s 2ms/step - loss: 0.4289 - mse: 0.4289 - val_loss: 1.0875 - val_mse: 1.0875\n",
      "Epoch 190/300\n",
      "40/40 [==============================] - 0s 2ms/step - loss: 0.4285 - mse: 0.4285 - val_loss: 1.0987 - val_mse: 1.0987\n",
      "Epoch 191/300\n",
      "40/40 [==============================] - 0s 2ms/step - loss: 0.4258 - mse: 0.4258 - val_loss: 1.1658 - val_mse: 1.1658\n",
      "Epoch 192/300\n",
      "40/40 [==============================] - 0s 2ms/step - loss: 0.4305 - mse: 0.4305 - val_loss: 1.1455 - val_mse: 1.1455\n",
      "Epoch 193/300\n",
      "40/40 [==============================] - 0s 2ms/step - loss: 0.4257 - mse: 0.4257 - val_loss: 1.1141 - val_mse: 1.1141\n",
      "Epoch 194/300\n",
      "40/40 [==============================] - 0s 2ms/step - loss: 0.4176 - mse: 0.4176 - val_loss: 1.0707 - val_mse: 1.0707\n",
      "Epoch 195/300\n",
      "40/40 [==============================] - 0s 2ms/step - loss: 0.4389 - mse: 0.4389 - val_loss: 1.0666 - val_mse: 1.0666\n",
      "Epoch 196/300\n",
      "40/40 [==============================] - 0s 2ms/step - loss: 0.4137 - mse: 0.4137 - val_loss: 1.1319 - val_mse: 1.1319\n",
      "Epoch 197/300\n",
      "40/40 [==============================] - 0s 2ms/step - loss: 0.4224 - mse: 0.4224 - val_loss: 1.0768 - val_mse: 1.0768\n",
      "Epoch 198/300\n",
      "40/40 [==============================] - 0s 2ms/step - loss: 0.4187 - mse: 0.4187 - val_loss: 1.0802 - val_mse: 1.0802\n",
      "Epoch 199/300\n",
      "40/40 [==============================] - 0s 2ms/step - loss: 0.4068 - mse: 0.4068 - val_loss: 1.1201 - val_mse: 1.1201\n",
      "Epoch 200/300\n",
      "40/40 [==============================] - 0s 2ms/step - loss: 0.4185 - mse: 0.4185 - val_loss: 1.0827 - val_mse: 1.0827\n",
      "Epoch 201/300\n",
      "40/40 [==============================] - 0s 2ms/step - loss: 0.4196 - mse: 0.4196 - val_loss: 1.1589 - val_mse: 1.1589\n",
      "Epoch 202/300\n",
      "40/40 [==============================] - 0s 2ms/step - loss: 0.4144 - mse: 0.4144 - val_loss: 1.0598 - val_mse: 1.0598\n",
      "Epoch 203/300\n",
      "40/40 [==============================] - 0s 2ms/step - loss: 0.4112 - mse: 0.4112 - val_loss: 1.1633 - val_mse: 1.1633\n",
      "Epoch 204/300\n",
      "40/40 [==============================] - 0s 2ms/step - loss: 0.4141 - mse: 0.4141 - val_loss: 1.1435 - val_mse: 1.1435\n",
      "Epoch 205/300\n",
      "40/40 [==============================] - 0s 2ms/step - loss: 0.3988 - mse: 0.3988 - val_loss: 1.1017 - val_mse: 1.1017\n",
      "Epoch 206/300\n",
      "40/40 [==============================] - 0s 2ms/step - loss: 0.4132 - mse: 0.4132 - val_loss: 1.1177 - val_mse: 1.1177\n",
      "Epoch 207/300\n",
      "40/40 [==============================] - 0s 2ms/step - loss: 0.4062 - mse: 0.4062 - val_loss: 1.1356 - val_mse: 1.1356\n",
      "Epoch 208/300\n",
      "40/40 [==============================] - 0s 2ms/step - loss: 0.3972 - mse: 0.3972 - val_loss: 1.1427 - val_mse: 1.1427\n",
      "Epoch 209/300\n",
      "40/40 [==============================] - 0s 2ms/step - loss: 0.4035 - mse: 0.4035 - val_loss: 1.1239 - val_mse: 1.1239\n",
      "Epoch 210/300\n",
      "40/40 [==============================] - 0s 3ms/step - loss: 0.3984 - mse: 0.3984 - val_loss: 1.1709 - val_mse: 1.1709\n",
      "Epoch 211/300\n",
      "40/40 [==============================] - 0s 2ms/step - loss: 0.3988 - mse: 0.3988 - val_loss: 1.1545 - val_mse: 1.1545\n",
      "Epoch 212/300\n",
      "40/40 [==============================] - 0s 2ms/step - loss: 0.4134 - mse: 0.4134 - val_loss: 1.1642 - val_mse: 1.1642\n",
      "Epoch 213/300\n",
      "40/40 [==============================] - 0s 2ms/step - loss: 0.3977 - mse: 0.3977 - val_loss: 1.1290 - val_mse: 1.1290\n",
      "Epoch 214/300\n",
      "40/40 [==============================] - 0s 2ms/step - loss: 0.4091 - mse: 0.4091 - val_loss: 1.1214 - val_mse: 1.1214\n",
      "Epoch 215/300\n",
      "40/40 [==============================] - 0s 2ms/step - loss: 0.4187 - mse: 0.4187 - val_loss: 1.1580 - val_mse: 1.1580\n",
      "Epoch 216/300\n",
      "40/40 [==============================] - 0s 2ms/step - loss: 0.3980 - mse: 0.3980 - val_loss: 1.1599 - val_mse: 1.1599\n",
      "Epoch 217/300\n",
      "40/40 [==============================] - 0s 2ms/step - loss: 0.3951 - mse: 0.3951 - val_loss: 1.1511 - val_mse: 1.1511\n",
      "Epoch 218/300\n",
      "40/40 [==============================] - 0s 2ms/step - loss: 0.3977 - mse: 0.3977 - val_loss: 1.1500 - val_mse: 1.1500\n",
      "Epoch 219/300\n",
      "40/40 [==============================] - 0s 2ms/step - loss: 0.3869 - mse: 0.3869 - val_loss: 1.1612 - val_mse: 1.1612\n",
      "Epoch 220/300\n",
      "40/40 [==============================] - 0s 2ms/step - loss: 0.4218 - mse: 0.4218 - val_loss: 1.1954 - val_mse: 1.1954\n",
      "Epoch 221/300\n",
      "40/40 [==============================] - 0s 2ms/step - loss: 0.3921 - mse: 0.3921 - val_loss: 1.1518 - val_mse: 1.1518\n",
      "Epoch 222/300\n",
      "40/40 [==============================] - 0s 2ms/step - loss: 0.3839 - mse: 0.3839 - val_loss: 1.1471 - val_mse: 1.1471\n",
      "Epoch 223/300\n",
      "40/40 [==============================] - 0s 2ms/step - loss: 0.3883 - mse: 0.3883 - val_loss: 1.1427 - val_mse: 1.1427\n",
      "Epoch 224/300\n",
      "40/40 [==============================] - 0s 2ms/step - loss: 0.3787 - mse: 0.3787 - val_loss: 1.1926 - val_mse: 1.1926\n",
      "Epoch 225/300\n",
      "40/40 [==============================] - 0s 2ms/step - loss: 0.3819 - mse: 0.3819 - val_loss: 1.1591 - val_mse: 1.1591\n",
      "Epoch 226/300\n",
      "40/40 [==============================] - 0s 2ms/step - loss: 0.4005 - mse: 0.4005 - val_loss: 1.1164 - val_mse: 1.1164\n",
      "Epoch 227/300\n",
      "40/40 [==============================] - 0s 2ms/step - loss: 0.3980 - mse: 0.3980 - val_loss: 1.1577 - val_mse: 1.1577\n",
      "Epoch 228/300\n",
      "40/40 [==============================] - 0s 2ms/step - loss: 0.3894 - mse: 0.3894 - val_loss: 1.1747 - val_mse: 1.1747\n",
      "Epoch 229/300\n",
      "40/40 [==============================] - 0s 2ms/step - loss: 0.3743 - mse: 0.3743 - val_loss: 1.1651 - val_mse: 1.1651\n",
      "Epoch 230/300\n",
      "40/40 [==============================] - 0s 2ms/step - loss: 0.3974 - mse: 0.3974 - val_loss: 1.1969 - val_mse: 1.1969\n",
      "Epoch 231/300\n",
      "40/40 [==============================] - 0s 2ms/step - loss: 0.3688 - mse: 0.3688 - val_loss: 1.1578 - val_mse: 1.1578\n",
      "Epoch 232/300\n",
      "40/40 [==============================] - 0s 2ms/step - loss: 0.3753 - mse: 0.3753 - val_loss: 1.1981 - val_mse: 1.1981\n",
      "Epoch 233/300\n",
      "40/40 [==============================] - 0s 2ms/step - loss: 0.3771 - mse: 0.3771 - val_loss: 1.1839 - val_mse: 1.1839\n",
      "Epoch 234/300\n",
      "40/40 [==============================] - 0s 2ms/step - loss: 0.3743 - mse: 0.3743 - val_loss: 1.1681 - val_mse: 1.1681\n",
      "Epoch 235/300\n",
      "40/40 [==============================] - 0s 2ms/step - loss: 0.3904 - mse: 0.3904 - val_loss: 1.1549 - val_mse: 1.1549\n",
      "Epoch 236/300\n",
      "40/40 [==============================] - 0s 3ms/step - loss: 0.3673 - mse: 0.3673 - val_loss: 1.1856 - val_mse: 1.1856\n",
      "Epoch 237/300\n",
      "40/40 [==============================] - 0s 2ms/step - loss: 0.3622 - mse: 0.3622 - val_loss: 1.1501 - val_mse: 1.1501\n",
      "Epoch 238/300\n",
      "40/40 [==============================] - 0s 2ms/step - loss: 0.3733 - mse: 0.3733 - val_loss: 1.1981 - val_mse: 1.1981\n",
      "Epoch 239/300\n",
      "40/40 [==============================] - 0s 2ms/step - loss: 0.3690 - mse: 0.3690 - val_loss: 1.1778 - val_mse: 1.1778\n",
      "Epoch 240/300\n",
      "40/40 [==============================] - 0s 2ms/step - loss: 0.3716 - mse: 0.3716 - val_loss: 1.2251 - val_mse: 1.2251\n",
      "Epoch 241/300\n",
      "40/40 [==============================] - 0s 2ms/step - loss: 0.3579 - mse: 0.3579 - val_loss: 1.1986 - val_mse: 1.1986\n",
      "Epoch 242/300\n",
      "40/40 [==============================] - 0s 2ms/step - loss: 0.3761 - mse: 0.3761 - val_loss: 1.1414 - val_mse: 1.1414\n",
      "Epoch 243/300\n",
      "40/40 [==============================] - 0s 2ms/step - loss: 0.3555 - mse: 0.3555 - val_loss: 1.2063 - val_mse: 1.2063\n",
      "Epoch 244/300\n",
      "40/40 [==============================] - 0s 2ms/step - loss: 0.3742 - mse: 0.3742 - val_loss: 1.3230 - val_mse: 1.3230\n",
      "Epoch 245/300\n",
      "40/40 [==============================] - 0s 2ms/step - loss: 0.3560 - mse: 0.3560 - val_loss: 1.1833 - val_mse: 1.1833\n",
      "Epoch 246/300\n",
      "40/40 [==============================] - 0s 2ms/step - loss: 0.3642 - mse: 0.3642 - val_loss: 1.2289 - val_mse: 1.2289\n",
      "Epoch 247/300\n",
      "40/40 [==============================] - 0s 2ms/step - loss: 0.3507 - mse: 0.3507 - val_loss: 1.2472 - val_mse: 1.2472\n"
     ]
    },
    {
     "name": "stdout",
     "output_type": "stream",
     "text": [
      "Epoch 248/300\n",
      "40/40 [==============================] - 0s 2ms/step - loss: 0.3738 - mse: 0.3738 - val_loss: 1.2288 - val_mse: 1.2288\n",
      "Epoch 249/300\n",
      "40/40 [==============================] - 0s 2ms/step - loss: 0.3553 - mse: 0.3553 - val_loss: 1.2125 - val_mse: 1.2125\n",
      "Epoch 250/300\n",
      "40/40 [==============================] - 0s 3ms/step - loss: 0.3563 - mse: 0.3563 - val_loss: 1.1920 - val_mse: 1.1920\n",
      "Epoch 251/300\n",
      "40/40 [==============================] - 0s 2ms/step - loss: 0.3516 - mse: 0.3516 - val_loss: 1.1972 - val_mse: 1.1972\n",
      "Epoch 252/300\n",
      "40/40 [==============================] - 0s 2ms/step - loss: 0.3580 - mse: 0.3580 - val_loss: 1.2070 - val_mse: 1.2070\n",
      "Epoch 253/300\n",
      "40/40 [==============================] - 0s 2ms/step - loss: 0.3523 - mse: 0.3523 - val_loss: 1.2224 - val_mse: 1.2224\n",
      "Epoch 254/300\n",
      "40/40 [==============================] - 0s 2ms/step - loss: 0.3475 - mse: 0.3475 - val_loss: 1.2653 - val_mse: 1.2653\n",
      "Epoch 255/300\n",
      "40/40 [==============================] - 0s 2ms/step - loss: 0.3482 - mse: 0.3482 - val_loss: 1.2412 - val_mse: 1.2412\n",
      "Epoch 256/300\n",
      "40/40 [==============================] - 0s 2ms/step - loss: 0.3657 - mse: 0.3657 - val_loss: 1.2853 - val_mse: 1.2853\n",
      "Epoch 257/300\n",
      "40/40 [==============================] - 0s 2ms/step - loss: 0.3519 - mse: 0.3519 - val_loss: 1.2267 - val_mse: 1.2267\n",
      "Epoch 258/300\n",
      "40/40 [==============================] - 0s 2ms/step - loss: 0.3433 - mse: 0.3433 - val_loss: 1.2403 - val_mse: 1.2403\n",
      "Epoch 259/300\n",
      "40/40 [==============================] - 0s 2ms/step - loss: 0.3410 - mse: 0.3410 - val_loss: 1.2587 - val_mse: 1.2587\n",
      "Epoch 260/300\n",
      "40/40 [==============================] - 0s 2ms/step - loss: 0.3416 - mse: 0.3416 - val_loss: 1.2331 - val_mse: 1.2331\n",
      "Epoch 261/300\n",
      "40/40 [==============================] - 0s 2ms/step - loss: 0.3601 - mse: 0.3601 - val_loss: 1.4039 - val_mse: 1.4039\n",
      "Epoch 262/300\n",
      "40/40 [==============================] - 0s 2ms/step - loss: 0.3469 - mse: 0.3469 - val_loss: 1.2434 - val_mse: 1.2434\n",
      "Epoch 263/300\n",
      "40/40 [==============================] - 0s 2ms/step - loss: 0.3398 - mse: 0.3398 - val_loss: 1.2615 - val_mse: 1.2615\n",
      "Epoch 264/300\n",
      "40/40 [==============================] - 0s 2ms/step - loss: 0.3532 - mse: 0.3532 - val_loss: 1.2461 - val_mse: 1.2461\n",
      "Epoch 265/300\n",
      "40/40 [==============================] - 0s 2ms/step - loss: 0.3397 - mse: 0.3397 - val_loss: 1.1740 - val_mse: 1.1740\n",
      "Epoch 266/300\n",
      "40/40 [==============================] - 0s 2ms/step - loss: 0.3423 - mse: 0.3423 - val_loss: 1.2235 - val_mse: 1.2235\n",
      "Epoch 267/300\n",
      "40/40 [==============================] - 0s 2ms/step - loss: 0.3366 - mse: 0.3366 - val_loss: 1.2185 - val_mse: 1.2185\n",
      "Epoch 268/300\n",
      "40/40 [==============================] - 0s 2ms/step - loss: 0.3548 - mse: 0.3548 - val_loss: 1.3681 - val_mse: 1.3681\n",
      "Epoch 269/300\n",
      "40/40 [==============================] - 0s 2ms/step - loss: 0.3314 - mse: 0.3314 - val_loss: 1.2355 - val_mse: 1.2355\n",
      "Epoch 270/300\n",
      "40/40 [==============================] - 0s 2ms/step - loss: 0.3323 - mse: 0.3323 - val_loss: 1.2700 - val_mse: 1.2700\n",
      "Epoch 271/300\n",
      "40/40 [==============================] - 0s 2ms/step - loss: 0.3362 - mse: 0.3362 - val_loss: 1.2912 - val_mse: 1.2912\n",
      "Epoch 272/300\n",
      "40/40 [==============================] - 0s 2ms/step - loss: 0.3310 - mse: 0.3310 - val_loss: 1.3172 - val_mse: 1.3172\n",
      "Epoch 273/300\n",
      "40/40 [==============================] - 0s 2ms/step - loss: 0.3468 - mse: 0.3468 - val_loss: 1.2813 - val_mse: 1.2813\n",
      "Epoch 274/300\n",
      "40/40 [==============================] - 0s 2ms/step - loss: 0.3500 - mse: 0.3500 - val_loss: 1.3539 - val_mse: 1.3539\n",
      "Epoch 275/300\n",
      "40/40 [==============================] - 0s 2ms/step - loss: 0.3425 - mse: 0.3425 - val_loss: 1.2812 - val_mse: 1.2812\n",
      "Epoch 276/300\n",
      "40/40 [==============================] - 0s 2ms/step - loss: 0.3371 - mse: 0.3371 - val_loss: 1.2661 - val_mse: 1.2661\n",
      "Epoch 277/300\n",
      "40/40 [==============================] - 0s 2ms/step - loss: 0.3266 - mse: 0.3266 - val_loss: 1.2674 - val_mse: 1.2674\n",
      "Epoch 278/300\n",
      "40/40 [==============================] - 0s 2ms/step - loss: 0.3293 - mse: 0.3293 - val_loss: 1.2973 - val_mse: 1.2973\n",
      "Epoch 279/300\n",
      "40/40 [==============================] - 0s 2ms/step - loss: 0.3339 - mse: 0.3339 - val_loss: 1.3042 - val_mse: 1.3042\n",
      "Epoch 280/300\n",
      "40/40 [==============================] - 0s 2ms/step - loss: 0.3350 - mse: 0.3350 - val_loss: 1.2698 - val_mse: 1.2698\n",
      "Epoch 281/300\n",
      "40/40 [==============================] - 0s 2ms/step - loss: 0.3312 - mse: 0.3312 - val_loss: 1.3882 - val_mse: 1.3882\n",
      "Epoch 282/300\n",
      "40/40 [==============================] - 0s 2ms/step - loss: 0.3358 - mse: 0.3358 - val_loss: 1.2660 - val_mse: 1.2660\n",
      "Epoch 283/300\n",
      "40/40 [==============================] - 0s 2ms/step - loss: 0.3398 - mse: 0.3398 - val_loss: 1.2975 - val_mse: 1.2975\n",
      "Epoch 284/300\n",
      "40/40 [==============================] - 0s 2ms/step - loss: 0.3564 - mse: 0.3564 - val_loss: 1.2230 - val_mse: 1.2230\n",
      "Epoch 285/300\n",
      "40/40 [==============================] - 0s 2ms/step - loss: 0.3289 - mse: 0.3289 - val_loss: 1.2651 - val_mse: 1.2651\n",
      "Epoch 286/300\n",
      "40/40 [==============================] - 0s 2ms/step - loss: 0.3323 - mse: 0.3323 - val_loss: 1.2317 - val_mse: 1.2317\n",
      "Epoch 287/300\n",
      "40/40 [==============================] - 0s 2ms/step - loss: 0.3386 - mse: 0.3386 - val_loss: 1.1976 - val_mse: 1.1976\n",
      "Epoch 288/300\n",
      "40/40 [==============================] - 0s 2ms/step - loss: 0.3353 - mse: 0.3353 - val_loss: 1.1939 - val_mse: 1.1939\n",
      "Epoch 289/300\n",
      "40/40 [==============================] - 0s 2ms/step - loss: 0.3284 - mse: 0.3284 - val_loss: 1.2460 - val_mse: 1.2460\n",
      "Epoch 290/300\n",
      "40/40 [==============================] - 0s 2ms/step - loss: 0.3173 - mse: 0.3173 - val_loss: 1.2503 - val_mse: 1.2503\n",
      "Epoch 291/300\n",
      "40/40 [==============================] - 0s 2ms/step - loss: 0.3300 - mse: 0.3300 - val_loss: 1.1962 - val_mse: 1.1962\n",
      "Epoch 292/300\n",
      "40/40 [==============================] - 0s 2ms/step - loss: 0.3318 - mse: 0.3318 - val_loss: 1.2634 - val_mse: 1.2634\n",
      "Epoch 293/300\n",
      "40/40 [==============================] - 0s 2ms/step - loss: 0.3149 - mse: 0.3149 - val_loss: 1.1965 - val_mse: 1.1965\n",
      "Epoch 294/300\n",
      "40/40 [==============================] - 0s 2ms/step - loss: 0.3184 - mse: 0.3184 - val_loss: 1.2414 - val_mse: 1.2414\n",
      "Epoch 295/300\n",
      "40/40 [==============================] - 0s 2ms/step - loss: 0.3107 - mse: 0.3107 - val_loss: 1.2621 - val_mse: 1.2621\n",
      "Epoch 296/300\n",
      "40/40 [==============================] - 0s 2ms/step - loss: 0.3196 - mse: 0.3196 - val_loss: 1.2493 - val_mse: 1.2493\n",
      "Epoch 297/300\n",
      "40/40 [==============================] - 0s 2ms/step - loss: 0.3156 - mse: 0.3156 - val_loss: 1.2891 - val_mse: 1.2891\n",
      "Epoch 298/300\n",
      "40/40 [==============================] - 0s 2ms/step - loss: 0.3218 - mse: 0.3218 - val_loss: 1.2281 - val_mse: 1.2281\n",
      "Epoch 299/300\n",
      "40/40 [==============================] - 0s 2ms/step - loss: 0.3105 - mse: 0.3105 - val_loss: 1.2586 - val_mse: 1.2586\n",
      "Epoch 300/300\n",
      "40/40 [==============================] - 0s 2ms/step - loss: 0.3180 - mse: 0.3180 - val_loss: 1.2173 - val_mse: 1.2173\n",
      "20/20 [==============================] - 0s 892us/step\n"
     ]
    }
   ],
   "source": [
    "import keras\n",
    "from keras.layers import Dense\n",
    "model = keras.Sequential()\n",
    "#model.add(Dense(69, kernel_initializer='normal', activation='relu', input_shape=(23,)))\n",
    "model.add(Dense(12, kernel_initializer='normal', activation='relu', input_shape=(23,)))\n",
    "model.add(Dense(5, kernel_initializer='normal', activation='relu'))\n",
    "model.add(Dense(1, kernel_initializer='normal', activation='relu'))\n",
    "model.compile(loss='mse', optimizer='Adam', metrics='mse', )\n",
    "model.fit(X_train, y_2_train, validation_data=(X_test, y_2_test), verbose=1, epochs=300, batch_size=64, shuffle=True)\n",
    "\n",
    "from sklearn.metrics import mean_squared_error\n",
    "from sklearn.metrics import mean_absolute_error\n",
    "\n",
    "preds = model.predict(X_test)\n"
   ]
  },
  {
   "cell_type": "code",
   "execution_count": 44,
   "id": "2a5b8b4f",
   "metadata": {},
   "outputs": [
    {
     "data": {
      "text/plain": [
       "1.2173337108987485"
      ]
     },
     "execution_count": 44,
     "metadata": {},
     "output_type": "execute_result"
    }
   ],
   "source": [
    "mean_squared_error(y_2_test, preds)"
   ]
  },
  {
   "cell_type": "code",
   "execution_count": 45,
   "id": "05c0493b",
   "metadata": {},
   "outputs": [
    {
     "data": {
      "text/plain": [
       "0.23813594062703317"
      ]
     },
     "execution_count": 45,
     "metadata": {},
     "output_type": "execute_result"
    }
   ],
   "source": [
    "mean_absolute_error(y_2_test, preds)"
   ]
  },
  {
   "cell_type": "code",
   "execution_count": 46,
   "id": "2f6bc0ae",
   "metadata": {},
   "outputs": [
    {
     "name": "stderr",
     "output_type": "stream",
     "text": [
      "C:\\ProgramData\\Anaconda3\\lib\\site-packages\\numpy\\core\\_asarray.py:171: VisibleDeprecationWarning: Creating an ndarray from ragged nested sequences (which is a list-or-tuple of lists-or-tuples-or ndarrays with different lengths or shapes) is deprecated. If you meant to do this, you must specify 'dtype=object' when creating the ndarray.\n",
      "  return array(a, dtype, copy=False, order=order, subok=True)\n"
     ]
    },
    {
     "data": {
      "image/png": "[encoded data removed]",
      "text/plain": [
       "<Figure size 720x720 with 1 Axes>"
      ]
     },
     "metadata": {
      "needs_background": "light"
     },
     "output_type": "display_data"
    }
   ],
   "source": [
    "predicted_value = preds\n",
    "true_value = y_2_test\n",
    "fig = plt.figure(figsize=(10,10))\n",
    "plt.scatter(true_value, predicted_value, c='crimson')\n",
    "plt.yscale('linear')\n",
    "plt.xscale('linear')\n",
    "\n",
    "p1 = max(max(predicted_value), max(true_value))\n",
    "p2 = min(min(predicted_value), min(true_value))\n",
    "plt.plot([p1, p2], [p1, p2], 'b-')\n",
    "plt.xlabel('True Values', fontsize=15)\n",
    "plt.ylabel('Predictions', fontsize=15)\n",
    "#plt.axis('equal')\n",
    "plt.xlim([-2, 25])\n",
    "plt.ylim([-2, 25])\n",
    "plt.show()\n",
    "fig.savefig('predictions_vs_true_real_percipitation_dnn.pdf')"
   ]
  },
  {
   "cell_type": "code",
   "execution_count": 35,
   "id": "5da38453",
   "metadata": {},
   "outputs": [
    {
     "data": {
      "image/png": "[encoded data removed]",
      "text/plain": [
       "<Figure size 1200x480 with 2 Axes>"
      ]
     },
     "metadata": {
      "needs_background": "light"
     },
     "output_type": "display_data"
    }
   ],
   "source": [
    "# Create Figure and Subplots\n",
    "fig, (ax1, ax2) = plt.subplots(1,2, figsize=(10,4), sharey=True, dpi=120)\n",
    "\n",
    "# Plot\n",
    "ax1.plot(preds, 'g')  # greendots\n",
    "ax2.plot(y_2_test, 'b')  # bluestart\n",
    "\n",
    "# Title, X and Y labels, X and Y Lim\n",
    "ax1.set_title('Predictions'); ax2.set_title('Ground Truth')\n",
    "\n",
    "  # y axis limits\n",
    "\n",
    "# ax2.yaxis.set_ticks_position('none') \n",
    "plt.tight_layout()\n",
    "plt.show()"
   ]
  },
  {
   "cell_type": "code",
   "execution_count": 36,
   "id": "7e092587",
   "metadata": {},
   "outputs": [
    {
     "data": {
      "text/plain": [
       "array([  1,   3,   7,  10,   4,  14,   9,   9,  22,  15,   9,   7,   6,\n",
       "         2,   5,  24,  37,   8,  17,  35, 341, 315])"
      ]
     },
     "execution_count": 36,
     "metadata": {},
     "output_type": "execute_result"
    }
   ],
   "source": [
    "classifier.feature_importances_"
   ]
  },
  {
   "cell_type": "code",
   "execution_count": 37,
   "id": "da999a7b",
   "metadata": {},
   "outputs": [],
   "source": [
    "features = ['HR-1', 'HR-2', 'HR-3', 'HR-4', 'HR-5', 'PB-1', 'PB-2', 'PB-3', 'PB-4','PB-5', 'T-1', 'T-2', 'T-3', 'T-4', 'T-5', 'VV-1', 'VV-2', 'VV-3','VV-4', 'VV-5', 'vol', 'intensity']"
   ]
  },
  {
   "cell_type": "code",
   "execution_count": 38,
   "id": "44626ec9",
   "metadata": {},
   "outputs": [
    {
     "data": {
      "text/plain": [
       "<BarContainer object of 22 artists>"
      ]
     },
     "execution_count": 38,
     "metadata": {},
     "output_type": "execute_result"
    },
    {
     "data": {
      "image/png": "[encoded data removed]",
      "text/plain": [
       "<Figure size 1200x400 with 1 Axes>"
      ]
     },
     "metadata": {
      "needs_background": "light"
     },
     "output_type": "display_data"
    }
   ],
   "source": [
    "plt.figure(figsize=(15, 5), dpi=80)\n",
    "\n",
    "plt.bar(features, classifier.feature_importances_ / np.sum(classifier.feature_importances_))"
   ]
  },
  {
   "cell_type": "code",
   "execution_count": 39,
   "id": "c9d253e7",
   "metadata": {},
   "outputs": [
    {
     "data": {
      "image/png": "[encoded data removed]",
      "text/plain": [
       "<Figure size 432x288 with 1 Axes>"
      ]
     },
     "metadata": {
      "needs_background": "light"
     },
     "output_type": "display_data"
    }
   ],
   "source": [
    "temp_true  = np.copy(y_2_test)\n",
    "#temp_true[temp_true > 0] = 5\n",
    "#preds[preds > 0] = 2\n",
    "plt.plot(preds[0:100],'r', label='Prediction')\n",
    "plt.plot(temp_true[0:100],'b', label='Ground Truth')\n",
    "plt.show()"
   ]
  },
  {
   "cell_type": "code",
   "execution_count": 40,
   "id": "dfc9d5c4",
   "metadata": {},
   "outputs": [
    {
     "data": {
      "image/png": "[encoded data removed]",
      "text/plain": [
       "<Figure size 648x432 with 1 Axes>"
      ]
     },
     "metadata": {
      "needs_background": "light"
     },
     "output_type": "display_data"
    }
   ],
   "source": [
    "data_lgbm = [0.161, 0.204, 0.3846, 0.88]\n",
    "data_nn = [0, 0.03, 0.27, 0.866]\n",
    "fig, ax = plt.subplots()\n",
    "fig.set_figwidth(9)\n",
    "fig.set_figheight(6)\n",
    "settings = ['Basic Measurements', 'Precipitation Prediction', 'First-hour Precipitation', 'True Precipitation']\n",
    "\n",
    "x = np.arange(len(settings))\n",
    "width = 0.35\n",
    "\n",
    "bar = ax.bar(x - width/2, data_lgbm, width, label='LightGBM')\n",
    "bar = ax.bar(x + width/2, data_nn, width, label='Deep NN')\n",
    "\n",
    "ax.set_xticks(x)\n",
    "ax.set_xticklabels(settings)\n",
    "ax.legend()\n",
    "plt.show()\n",
    "fig.savefig('f1_score.pdf')"
   ]
  },
  {
   "cell_type": "code",
   "execution_count": 41,
   "id": "66255571",
   "metadata": {},
   "outputs": [
    {
     "data": {
      "image/png": "[encoded data removed]",
      "text/plain": [
       "<Figure size 648x432 with 1 Axes>"
      ]
     },
     "metadata": {
      "needs_background": "light"
     },
     "output_type": "display_data"
    }
   ],
   "source": [
    "data_lgbm = [0.5639, 0.5682, 0.7161, 0.95]\n",
    "data_nn = [0.5, 0.547, 0.5861, 0.94]\n",
    "fig, ax = plt.subplots()\n",
    "fig.set_figwidth(9)\n",
    "fig.set_figheight(6)\n",
    "settings = ['Basic Measurements', 'Precipitation Prediction', 'First-hour Precipitation', 'True Precipitation']\n",
    "\n",
    "x = np.arange(len(settings))\n",
    "width = 0.35\n",
    "\n",
    "bar = ax.bar(x - width/2, data_lgbm, width, label='LightGBM')\n",
    "bar = ax.bar(x + width/2, data_nn, width, label='Deep NN')\n",
    "\n",
    "ax.set_xticks(x)\n",
    "ax.set_xticklabels(settings)\n",
    "ax.legend()\n",
    "plt.show()\n",
    "fig.savefig('AUC_score.pdf')"
   ]
  },
  {
   "cell_type": "code",
   "execution_count": 47,
   "id": "e82101e0",
   "metadata": {},
   "outputs": [
    {
     "data": {
      "image/png": "[encoded data removed]",
      "text/plain": [
       "<Figure size 216x576 with 1 Axes>"
      ]
     },
     "metadata": {
      "needs_background": "light"
     },
     "output_type": "display_data"
    }
   ],
   "source": [
    "# plot feature importance\n",
    "import seaborn as sns\n",
    "features = ['HR-1', 'HR-2', 'HR-3', 'HR-4', 'HR-5', 'PB-1', 'PB-2', 'PB-3', 'PB-4','PB-5', 'T-1', 'T-2', 'T-3', 'T-4', 'T-5', 'VV-1', 'VV-2', 'VV-3','VV-4', 'VV-5', 'vol', 'intensity']\n",
    "fi_df = pd.DataFrame(features, columns=['features'])\n",
    "fi_df['importance'] = classifier.booster_.feature_importance(importance_type=\"gain\") / 15000\n",
    "fig, ax = plt.subplots(1, 1, figsize=(3, 8))\n",
    "sns.barplot(\n",
    "    x='importance'\n",
    "    , y='features'\n",
    "    , data=fi_df.sort_values(by=['importance'], ascending=False)\n",
    "    , ax=ax\n",
    ")\n",
    "\n",
    "fig.savefig(\"feature_importance_real_precipitation.pdf\",bbox_inches='tight')"
   ]
  },
  {
   "cell_type": "code",
   "execution_count": null,
   "id": "f293b5b8",
   "metadata": {},
   "outputs": [],
   "source": []
  }
 ],
 "metadata": {
  "kernelspec": {
   "display_name": "Python 3",
   "language": "python",
   "name": "python3"
  },
  "language_info": {
   "codemirror_mode": {
    "name": "ipython",
    "version": 3
   },
   "file_extension": ".py",
   "mimetype": "text/x-python",
   "name": "python",
   "nbconvert_exporter": "python",
   "pygments_lexer": "ipython3",
   "version": "3.8.8"
  }
 },
 "nbformat": 4,
 "nbformat_minor": 5
}

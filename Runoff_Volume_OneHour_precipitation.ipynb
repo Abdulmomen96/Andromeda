{
 "cells": [
  {
   "cell_type": "code",
   "execution_count": 1,
   "id": "35ccd132",
   "metadata": {},
   "outputs": [],
   "source": [
    "import pandas as pd\n",
    "import numpy as np\n",
    "import smogn\n",
    "from sklearn.metrics import confusion_matrix,accuracy_score,r2_score,roc_auc_score,precision_score,recall_score,f1_score, r2_score"
   ]
  },
  {
   "cell_type": "code",
   "execution_count": 2,
   "id": "14191a77",
   "metadata": {},
   "outputs": [],
   "source": [
    "from sklearn.preprocessing import StandardScaler\n"
   ]
  },
  {
   "cell_type": "code",
   "execution_count": 3,
   "id": "3fe7502a",
   "metadata": {},
   "outputs": [
    {
     "name": "stderr",
     "output_type": "stream",
     "text": [
      "C:\\ProgramData\\Anaconda3\\lib\\site-packages\\dask\\dataframe\\utils.py:369: FutureWarning: pandas.Int64Index is deprecated and will be removed from pandas in a future version. Use pandas.Index with the appropriate dtype instead.\n",
      "  _numeric_index_types = (pd.Int64Index, pd.Float64Index, pd.UInt64Index)\n",
      "C:\\ProgramData\\Anaconda3\\lib\\site-packages\\dask\\dataframe\\utils.py:369: FutureWarning: pandas.Float64Index is deprecated and will be removed from pandas in a future version. Use pandas.Index with the appropriate dtype instead.\n",
      "  _numeric_index_types = (pd.Int64Index, pd.Float64Index, pd.UInt64Index)\n",
      "C:\\ProgramData\\Anaconda3\\lib\\site-packages\\dask\\dataframe\\utils.py:369: FutureWarning: pandas.UInt64Index is deprecated and will be removed from pandas in a future version. Use pandas.Index with the appropriate dtype instead.\n",
      "  _numeric_index_types = (pd.Int64Index, pd.Float64Index, pd.UInt64Index)\n"
     ]
    }
   ],
   "source": [
    "import lightgbm as lgb\n",
    "import matplotlib.pyplot as plt"
   ]
  },
  {
   "cell_type": "code",
   "execution_count": 4,
   "id": "9a96ce54",
   "metadata": {},
   "outputs": [
    {
     "data": {
      "text/html": [
       "<div>\n",
       "<style scoped>\n",
       "    .dataframe tbody tr th:only-of-type {\n",
       "        vertical-align: middle;\n",
       "    }\n",
       "\n",
       "    .dataframe tbody tr th {\n",
       "        vertical-align: top;\n",
       "    }\n",
       "\n",
       "    .dataframe thead th {\n",
       "        text-align: right;\n",
       "    }\n",
       "</style>\n",
       "<table border=\"1\" class=\"dataframe\">\n",
       "  <thead>\n",
       "    <tr style=\"text-align: right;\">\n",
       "      <th></th>\n",
       "      <th>Volume</th>\n",
       "      <th>MaximumRainfallIntensity</th>\n",
       "      <th>Runoff</th>\n",
       "      <th>RunoffVolume</th>\n",
       "      <th>MaximumRunoffIntensity</th>\n",
       "      <th>P-0</th>\n",
       "      <th>HR-1</th>\n",
       "      <th>HR-2</th>\n",
       "      <th>HR-3</th>\n",
       "      <th>HR-4</th>\n",
       "      <th>...</th>\n",
       "      <th>PB-1</th>\n",
       "      <th>PB-2</th>\n",
       "      <th>PB-3</th>\n",
       "      <th>PB-4</th>\n",
       "      <th>PB-5</th>\n",
       "      <th>VV-1</th>\n",
       "      <th>VV-2</th>\n",
       "      <th>VV-3</th>\n",
       "      <th>VV-4</th>\n",
       "      <th>VV-5</th>\n",
       "    </tr>\n",
       "  </thead>\n",
       "  <tbody>\n",
       "    <tr>\n",
       "      <th>0</th>\n",
       "      <td>4.1</td>\n",
       "      <td>1.4</td>\n",
       "      <td>0</td>\n",
       "      <td>0.0</td>\n",
       "      <td>0.0</td>\n",
       "      <td>0.8</td>\n",
       "      <td>79</td>\n",
       "      <td>75.0</td>\n",
       "      <td>81.0</td>\n",
       "      <td>90.0</td>\n",
       "      <td>...</td>\n",
       "      <td>944</td>\n",
       "      <td>945.0</td>\n",
       "      <td>946.0</td>\n",
       "      <td>947.0</td>\n",
       "      <td>947</td>\n",
       "      <td>1.62</td>\n",
       "      <td>0.77</td>\n",
       "      <td>0.80</td>\n",
       "      <td>0.89</td>\n",
       "      <td>0.88</td>\n",
       "    </tr>\n",
       "    <tr>\n",
       "      <th>1</th>\n",
       "      <td>1.6</td>\n",
       "      <td>0.7</td>\n",
       "      <td>0</td>\n",
       "      <td>0.0</td>\n",
       "      <td>0.0</td>\n",
       "      <td>0.1</td>\n",
       "      <td>96</td>\n",
       "      <td>96.0</td>\n",
       "      <td>95.0</td>\n",
       "      <td>96.0</td>\n",
       "      <td>...</td>\n",
       "      <td>939</td>\n",
       "      <td>940.0</td>\n",
       "      <td>941.0</td>\n",
       "      <td>941.0</td>\n",
       "      <td>941</td>\n",
       "      <td>0.72</td>\n",
       "      <td>0.77</td>\n",
       "      <td>0.67</td>\n",
       "      <td>0.73</td>\n",
       "      <td>1.04</td>\n",
       "    </tr>\n",
       "    <tr>\n",
       "      <th>2</th>\n",
       "      <td>0.1</td>\n",
       "      <td>0.1</td>\n",
       "      <td>0</td>\n",
       "      <td>0.0</td>\n",
       "      <td>0.0</td>\n",
       "      <td>0.1</td>\n",
       "      <td>75</td>\n",
       "      <td>68.0</td>\n",
       "      <td>63.0</td>\n",
       "      <td>54.0</td>\n",
       "      <td>...</td>\n",
       "      <td>943</td>\n",
       "      <td>943.0</td>\n",
       "      <td>943.0</td>\n",
       "      <td>944.0</td>\n",
       "      <td>945</td>\n",
       "      <td>2.05</td>\n",
       "      <td>1.91</td>\n",
       "      <td>2.14</td>\n",
       "      <td>2.15</td>\n",
       "      <td>2.01</td>\n",
       "    </tr>\n",
       "    <tr>\n",
       "      <th>3</th>\n",
       "      <td>3.6</td>\n",
       "      <td>1.2</td>\n",
       "      <td>0</td>\n",
       "      <td>0.0</td>\n",
       "      <td>0.0</td>\n",
       "      <td>0.9</td>\n",
       "      <td>81</td>\n",
       "      <td>62.0</td>\n",
       "      <td>46.0</td>\n",
       "      <td>40.0</td>\n",
       "      <td>...</td>\n",
       "      <td>939</td>\n",
       "      <td>939.0</td>\n",
       "      <td>939.0</td>\n",
       "      <td>939.0</td>\n",
       "      <td>940</td>\n",
       "      <td>1.94</td>\n",
       "      <td>1.90</td>\n",
       "      <td>2.17</td>\n",
       "      <td>2.19</td>\n",
       "      <td>2.20</td>\n",
       "    </tr>\n",
       "    <tr>\n",
       "      <th>4</th>\n",
       "      <td>0.1</td>\n",
       "      <td>0.1</td>\n",
       "      <td>0</td>\n",
       "      <td>0.0</td>\n",
       "      <td>0.0</td>\n",
       "      <td>0.1</td>\n",
       "      <td>99</td>\n",
       "      <td>99.0</td>\n",
       "      <td>99.0</td>\n",
       "      <td>98.0</td>\n",
       "      <td>...</td>\n",
       "      <td>935</td>\n",
       "      <td>935.0</td>\n",
       "      <td>936.0</td>\n",
       "      <td>936.0</td>\n",
       "      <td>937</td>\n",
       "      <td>2.24</td>\n",
       "      <td>2.03</td>\n",
       "      <td>1.94</td>\n",
       "      <td>1.82</td>\n",
       "      <td>1.97</td>\n",
       "    </tr>\n",
       "  </tbody>\n",
       "</table>\n",
       "<p>5 rows × 26 columns</p>\n",
       "</div>"
      ],
      "text/plain": [
       "   Volume  MaximumRainfallIntensity  Runoff  RunoffVolume  \\\n",
       "0     4.1                       1.4       0           0.0   \n",
       "1     1.6                       0.7       0           0.0   \n",
       "2     0.1                       0.1       0           0.0   \n",
       "3     3.6                       1.2       0           0.0   \n",
       "4     0.1                       0.1       0           0.0   \n",
       "\n",
       "   MaximumRunoffIntensity  P-0  HR-1  HR-2  HR-3  HR-4  ...  PB-1   PB-2  \\\n",
       "0                     0.0  0.8    79  75.0  81.0  90.0  ...   944  945.0   \n",
       "1                     0.0  0.1    96  96.0  95.0  96.0  ...   939  940.0   \n",
       "2                     0.0  0.1    75  68.0  63.0  54.0  ...   943  943.0   \n",
       "3                     0.0  0.9    81  62.0  46.0  40.0  ...   939  939.0   \n",
       "4                     0.0  0.1    99  99.0  99.0  98.0  ...   935  935.0   \n",
       "\n",
       "    PB-3   PB-4  PB-5  VV-1  VV-2  VV-3  VV-4  VV-5  \n",
       "0  946.0  947.0   947  1.62  0.77  0.80  0.89  0.88  \n",
       "1  941.0  941.0   941  0.72  0.77  0.67  0.73  1.04  \n",
       "2  943.0  944.0   945  2.05  1.91  2.14  2.15  2.01  \n",
       "3  939.0  939.0   940  1.94  1.90  2.17  2.19  2.20  \n",
       "4  936.0  936.0   937  2.24  2.03  1.94  1.82  1.97  \n",
       "\n",
       "[5 rows x 26 columns]"
      ]
     },
     "execution_count": 4,
     "metadata": {},
     "output_type": "execute_result"
    }
   ],
   "source": [
    "data_Madrid = pd.read_csv('Storms_20221130.csv', sep=';')\n",
    "data_Madrid.head()"
   ]
  },
  {
   "cell_type": "code",
   "execution_count": 5,
   "id": "9477371c",
   "metadata": {},
   "outputs": [],
   "source": [
    "\n",
    "X  = data_Madrid[data_Madrid.columns.difference(['Runoff', 'RunoffVolume', 'MaximumRunoffIntensity', 'Volume', 'MaximumRainfallIntensity'])]\n",
    "y = data_Madrid['Runoff']\n",
    "y_2 = data_Madrid['RunoffVolume']\n",
    "y_3 = data_Madrid['MaximumRunoffIntensity']\n",
    "y_4 = data_Madrid['Volume']\n",
    "y_5 = data_Madrid['MaximumRainfallIntensity']\n",
    "X = X.to_numpy()\n",
    "y = y.to_numpy()\n",
    "y_2 = y_2.to_numpy()\n",
    "y_3 = y_3.to_numpy()"
   ]
  },
  {
   "cell_type": "code",
   "execution_count": 6,
   "id": "68bae2d3",
   "metadata": {},
   "outputs": [
    {
     "data": {
      "text/plain": [
       "Index(['HR-1', 'HR-2', 'HR-3', 'HR-4', 'HR-5', 'P-0', 'PB-1', 'PB-2', 'PB-3',\n",
       "       'PB-4', 'PB-5', 'T-1', 'T-2', 'T-3', 'T-4', 'T-5', 'VV-1', 'VV-2',\n",
       "       'VV-3', 'VV-4', 'VV-5'],\n",
       "      dtype='object')"
      ]
     },
     "execution_count": 6,
     "metadata": {},
     "output_type": "execute_result"
    }
   ],
   "source": [
    "data_Madrid.columns.difference(['Runoff', 'RunoffVolume', 'MaximumRunoffIntensity', 'Volume', 'MaximumRainfallIntensity'])"
   ]
  },
  {
   "cell_type": "code",
   "execution_count": 7,
   "id": "474fb3d5",
   "metadata": {},
   "outputs": [],
   "source": [
    "from sklearn.model_selection import StratifiedShuffleSplit\n",
    "\n",
    "sss = StratifiedShuffleSplit(n_splits=1, test_size=0.2, random_state=0)\n",
    "sss.get_n_splits(X, y)\n",
    "\n",
    "for train_index, test_index in sss.split(X, y):\n",
    "    X_train, X_test = X[train_index], X[test_index]\n",
    "    y_train, y_test = y[train_index], y[test_index]\n",
    "    y_2_train, y_2_test = y_2[train_index], y_2[test_index]\n",
    "    y_3_train, y_3_test = y_3[train_index], y_3[test_index]\n",
    "    y_4_train, y_4_test = y_4[train_index], y_4[test_index]\n",
    "    y_5_train, y_5_test = y_5[train_index], y_5[test_index]"
   ]
  },
  {
   "cell_type": "code",
   "execution_count": 8,
   "id": "536b2da0",
   "metadata": {},
   "outputs": [
    {
     "name": "stdout",
     "output_type": "stream",
     "text": [
      "(2551, 21)\n"
     ]
    }
   ],
   "source": [
    "#volume_train = np.load('volume_train.npy') #np.load('volume_train.npy')\n",
    "#volume_test = np.load('volume_test.npy') #np.load('volume_test.npy')\n",
    "#intensity_train = np.load('intensity_train.npy') #np.load('intensity_train.npy')\n",
    "#intensity_test = np.load('intensity_test.npy') #np.load('intensity_test.npy')\n",
    "print(X_train.shape)"
   ]
  },
  {
   "cell_type": "code",
   "execution_count": 9,
   "id": "1d4d047e",
   "metadata": {},
   "outputs": [],
   "source": [
    "# RRegression Values modeifications\n",
    "#y_2_train[y_2_train > 10] = 10.0\n",
    "#y_2_test[y_2_test > 10] = 10.0\n",
    "\n"
   ]
  },
  {
   "cell_type": "code",
   "execution_count": 10,
   "id": "cfcab482",
   "metadata": {},
   "outputs": [],
   "source": [
    "#X_train = np.concatenate((X_train, volume_train.reshape(-1, 1), intensity_train.reshape(-1, 1)), axis=1)\n",
    "#X_test = np.concatenate((X_test,  volume_test.reshape(-1, 1), intensity_test.reshape(-1, 1)), axis=1)"
   ]
  },
  {
   "cell_type": "code",
   "execution_count": 11,
   "id": "92581670",
   "metadata": {},
   "outputs": [
    {
     "name": "stdout",
     "output_type": "stream",
     "text": [
      "(2551, 21) (638, 21)\n"
     ]
    }
   ],
   "source": [
    "print(X_train.shape, X_test.shape)"
   ]
  },
  {
   "cell_type": "code",
   "execution_count": 12,
   "id": "9859f078",
   "metadata": {},
   "outputs": [],
   "source": [
    "scaler = StandardScaler().fit(X_train)\n",
    "X_train = scaler.transform(X_train)\n",
    "X_test = scaler.transform(X_test)"
   ]
  },
  {
   "cell_type": "code",
   "execution_count": 13,
   "id": "27a2f352",
   "metadata": {},
   "outputs": [],
   "source": [
    "#lgb_train = lgb.Dataset(X_train, y_2_train)\n"
   ]
  },
  {
   "cell_type": "code",
   "execution_count": 14,
   "id": "cb7ba8eb",
   "metadata": {},
   "outputs": [
    {
     "name": "stdout",
     "output_type": "stream",
     "text": [
      "[[-1.23822169e+00 -1.20503297e+00 -1.12339192e+00 ... -3.86079478e-01\n",
      "   2.13420165e-01  2.28468053e-01]\n",
      " [ 1.71799366e-01  1.26277624e-01  8.27867346e-02 ...  9.79281581e-01\n",
      "   9.36134605e-01  9.58232659e-01]\n",
      " [-3.83663475e-01 -5.17904921e-01 -6.92613832e-01 ... -8.44521878e-01\n",
      "  -9.20839998e-01 -7.91203040e-01]\n",
      " ...\n",
      " [-8.45680995e-02 -2.55888532e-03 -3.36888395e-03 ...  8.99552468e-01\n",
      "   1.61869824e+00  1.84794567e+00]\n",
      " [-1.40913334e+00 -1.54859699e+00 -1.51109221e+00 ...  8.09857216e-01\n",
      "   7.85569096e-01  7.98284252e-01]\n",
      " [ 6.84534296e-01  6.41623659e-01  6.85876064e-01 ...  1.52092034e-01\n",
      "   1.33118560e-01 -1.45778144e-03]]\n"
     ]
    }
   ],
   "source": [
    "print(X_train)"
   ]
  },
  {
   "cell_type": "code",
   "execution_count": 15,
   "id": "c5c4e443",
   "metadata": {},
   "outputs": [
    {
     "data": {
      "text/plain": [
       "'\\npolynom_fit_SMOTE_bus,\\npolynom_fit_SMOTE_star,\\nROSE,\\nGazzah,\\nSPY,\\nMSMOTE,\\nAHC,\\nRWO_sampling,\\npolynom_fit_SMOTE_mesh,\\npolynom_fit_SMOTE_poly\\n'"
      ]
     },
     "execution_count": 15,
     "metadata": {},
     "output_type": "execute_result"
    }
   ],
   "source": [
    "'''\n",
    "polynom_fit_SMOTE_bus,\n",
    "polynom_fit_SMOTE_star,\n",
    "ROSE,\n",
    "Gazzah,\n",
    "SPY,\n",
    "MSMOTE,\n",
    "AHC,\n",
    "RWO_sampling,\n",
    "polynom_fit_SMOTE_mesh,\n",
    "polynom_fit_SMOTE_poly\n",
    "'''"
   ]
  },
  {
   "cell_type": "code",
   "execution_count": 16,
   "id": "a231316f",
   "metadata": {},
   "outputs": [
    {
     "name": "stderr",
     "output_type": "stream",
     "text": [
      "2023-03-21 15:41:34,066:INFO:Gazzah: Running sampling via ('Gazzah', \"{'proportion': 2.5, 'n_components': 2, 'n_jobs': 1, 'random_state': None, 'class_name': 'Gazzah'}\")\n",
      "2023-03-21 15:41:34,069:INFO:polynom_fit_SMOTE_star: Running sampling via ('polynom_fit_SMOTE_star', \"{'proportion': 2.5, 'topology': 'star', 'random_state': None, 'class_name': 'polynom_fit_SMOTE_star'}\")\n",
      "2023-03-21 15:41:34,070:INFO:polynom_fit_SMOTE: Running sampling via ('polynom_fit_SMOTE', \"{'proportion': 2.5, 'topology': 'star', 'random_state': None, 'class_name': 'polynom_fit_SMOTE'}\")\n",
      "2023-03-21 15:41:34,120:INFO:Gazzah: Removing 662 majority samples\n"
     ]
    },
    {
     "name": "stdout",
     "output_type": "stream",
     "text": [
      "[LightGBM] [Warning] feature_fraction is set=0.5, colsample_bytree=1.0 will be ignored. Current value: feature_fraction=0.5\n",
      "[LightGBM] [Warning] bagging_fraction is set=0.8, subsample=1.0 will be ignored. Current value: bagging_fraction=0.8\n",
      "[LightGBM] [Warning] bagging_freq is set=15, subsample_freq=0 will be ignored. Current value: bagging_freq=15\n",
      "[[ 1.02635758  0.85635117  0.68587606 ...  2.35460878  2.07039477\n",
      "   0.92824233]\n",
      " [-1.92186827 -2.02099752 -2.11418154 ... -0.3661472  -0.18808786\n",
      "   0.27845193]\n",
      " [-1.49458916 -1.54859699 -1.51109221 ...  0.56070374  0.03274155\n",
      "   0.02853254]\n",
      " ...\n",
      " [ 0.04361563  0.21216863  0.25509797 ...  0.33148254  1.83952765\n",
      "   0.99821976]\n",
      " [-0.0845681  -0.1743409  -0.17568012 ... -0.136926   -0.42899267\n",
      "  -0.30136104]\n",
      " [ 0.6845343   0.46984165  0.55664264 ... -0.10702758  0.14315626\n",
      "  -0.20139329]]\n",
      "Acc Score:  0.8244514106583072\n",
      "Roc Auc Score:  0.7164071510957325\n",
      "Precision Score:  0.28688524590163933\n",
      "Recall Score:  0.5833333333333334\n",
      "f1 score:  0.3846153846153846\n"
     ]
    }
   ],
   "source": [
    "from sklearn.neighbors import KNeighborsClassifier\n",
    "from sklearn.tree import DecisionTreeClassifier\n",
    "import lightgbm as lgb\n",
    "import smote_variants as sv\n",
    "from sklearn.ensemble import RandomForestRegressor,RandomForestClassifier,GradientBoostingRegressor,GradientBoostingClassifier\n",
    "from sklearn.svm import SVC\n",
    "from lightgbm import LGBMClassifier\n",
    "import sklearn.datasets as datasets\n",
    "from sklearn.neural_network import MLPClassifier\n",
    "\n",
    "dataset= {'data': X_train,\n",
    "          'target': y_train,\n",
    "          'name': 'Andromeda'}\n",
    "\n",
    "classifier = LGBMClassifier(boosting_type=\"gbdt\",is_unbalance=True, random_state=5, \n",
    "                  n_estimators=300,num_leaves=30, max_depth=2,feature_fraction=0.5, \n",
    "                  bagging_fraction=0.8, bagging_freq=15, learning_rate=0.01)\n",
    "\n",
    "\n",
    "\n",
    "\n",
    "# Classifier Testing\n",
    "\n",
    "# training the best techniques using the entire dataset\n",
    "X_samp, y_samp= sv.Gazzah(proportion=2.5).sample(X_train, y_train)\n",
    "classifier.fit(X_samp, y_samp)\n",
    "preds2 = classifier.predict(X_test)\n",
    "print(X_test)\n",
    "print('Acc Score: ',accuracy_score(y_test, preds2))\n",
    "print('Roc Auc Score: ',roc_auc_score(y_test, preds2))\n",
    "print('Precision Score: ',precision_score(y_test, preds2))\n",
    "print('Recall Score: ',recall_score(y_test, preds2))\n",
    "print('f1 score: ',f1_score(y_test, preds2))\n",
    "preds_train = classifier.predict(X_train)\n",
    "\n",
    "\n",
    "#Gazzah(proportion=2.5) 0.3846"
   ]
  },
  {
   "cell_type": "code",
   "execution_count": 17,
   "id": "a09e9dcb",
   "metadata": {},
   "outputs": [
    {
     "data": {
      "text/plain": [
       "array([[491,  87],\n",
       "       [ 25,  35]], dtype=int64)"
      ]
     },
     "execution_count": 17,
     "metadata": {},
     "output_type": "execute_result"
    }
   ],
   "source": [
    "from sklearn.metrics import confusion_matrix\n",
    "\n",
    "confusion_matrix(y_test, preds2)"
   ]
  },
  {
   "cell_type": "code",
   "execution_count": 18,
   "id": "3c81d455",
   "metadata": {},
   "outputs": [],
   "source": [
    "# Preparing prediction out\n",
    "X_test = np.concatenate((X_test, preds2.reshape(-1, 1)), axis=1)\n",
    "X_train = np.concatenate((X_train, preds_train.reshape(-1, 1)), axis=1)\n",
    "#scaler = StandardScaler().fit(X_train)\n",
    "#X_train = scaler.transform(X_train)\n",
    "#X_test = scaler.transform(X_test)\n",
    "\n",
    "lgb_eval = lgb.Dataset(X_test, y_2_test)\n",
    "\n",
    "lgb_train = lgb.Dataset(X_train, y_2_train)\n",
    "\n"
   ]
  },
  {
   "cell_type": "code",
   "execution_count": 19,
   "id": "3baa3c3c",
   "metadata": {},
   "outputs": [
    {
     "name": "stdout",
     "output_type": "stream",
     "text": [
      "(2551, 22)\n"
     ]
    }
   ],
   "source": [
    "print(X_train.shape)"
   ]
  },
  {
   "cell_type": "code",
   "execution_count": 20,
   "id": "c38dd09c",
   "metadata": {},
   "outputs": [
    {
     "name": "stdout",
     "output_type": "stream",
     "text": [
      "[1]\tvalid_0's l2: 4.83576\tvalid_0's l1: 0.841752\n",
      "Training until validation scores don't improve for 200 rounds\n",
      "[2]\tvalid_0's l2: 4.79465\tvalid_0's l1: 0.838055\n",
      "[3]\tvalid_0's l2: 4.75651\tvalid_0's l1: 0.831237\n",
      "[4]\tvalid_0's l2: 4.72024\tvalid_0's l1: 0.826779\n",
      "[5]\tvalid_0's l2: 4.69329\tvalid_0's l1: 0.821291\n",
      "[6]\tvalid_0's l2: 4.66493\tvalid_0's l1: 0.818127\n",
      "[7]\tvalid_0's l2: 4.63632\tvalid_0's l1: 0.815453\n",
      "[8]\tvalid_0's l2: 4.64493\tvalid_0's l1: 0.813504\n",
      "[9]\tvalid_0's l2: 4.65823\tvalid_0's l1: 0.812713\n",
      "[10]\tvalid_0's l2: 4.6713\tvalid_0's l1: 0.810034\n",
      "[11]\tvalid_0's l2: 4.69094\tvalid_0's l1: 0.80923\n",
      "[12]\tvalid_0's l2: 4.71079\tvalid_0's l1: 0.80633\n",
      "[13]\tvalid_0's l2: 4.71335\tvalid_0's l1: 0.805436\n",
      "[14]\tvalid_0's l2: 4.71907\tvalid_0's l1: 0.803458\n",
      "[15]\tvalid_0's l2: 4.72828\tvalid_0's l1: 0.803725\n",
      "[16]\tvalid_0's l2: 4.72803\tvalid_0's l1: 0.803055\n",
      "[17]\tvalid_0's l2: 4.76134\tvalid_0's l1: 0.804322\n",
      "[18]\tvalid_0's l2: 4.76644\tvalid_0's l1: 0.806522\n",
      "[19]\tvalid_0's l2: 4.78735\tvalid_0's l1: 0.805379\n",
      "[20]\tvalid_0's l2: 4.81031\tvalid_0's l1: 0.805565\n",
      "[21]\tvalid_0's l2: 4.83971\tvalid_0's l1: 0.806879\n",
      "[22]\tvalid_0's l2: 4.87815\tvalid_0's l1: 0.807731\n",
      "[23]\tvalid_0's l2: 4.89902\tvalid_0's l1: 0.809248\n",
      "[24]\tvalid_0's l2: 4.91577\tvalid_0's l1: 0.808344\n",
      "[25]\tvalid_0's l2: 4.9305\tvalid_0's l1: 0.809756\n",
      "[26]\tvalid_0's l2: 4.9544\tvalid_0's l1: 0.810147\n"
     ]
    },
    {
     "name": "stderr",
     "output_type": "stream",
     "text": [
      "C:\\ProgramData\\Anaconda3\\lib\\site-packages\\lightgbm\\engine.py:181: UserWarning: 'early_stopping_rounds' argument is deprecated and will be removed in a future release of LightGBM. Pass 'early_stopping()' callback via 'callbacks' argument instead.\n",
      "  _log_warning(\"'early_stopping_rounds' argument is deprecated and will be removed in a future release of LightGBM. \"\n"
     ]
    },
    {
     "name": "stdout",
     "output_type": "stream",
     "text": [
      "[27]\tvalid_0's l2: 4.96712\tvalid_0's l1: 0.811447\n",
      "[28]\tvalid_0's l2: 4.98932\tvalid_0's l1: 0.812437\n",
      "[29]\tvalid_0's l2: 4.98807\tvalid_0's l1: 0.81032\n",
      "[30]\tvalid_0's l2: 4.99598\tvalid_0's l1: 0.811339\n",
      "[31]\tvalid_0's l2: 5.0085\tvalid_0's l1: 0.812708\n",
      "[32]\tvalid_0's l2: 5.03714\tvalid_0's l1: 0.814166\n",
      "[33]\tvalid_0's l2: 5.06553\tvalid_0's l1: 0.814404\n",
      "[34]\tvalid_0's l2: 5.07053\tvalid_0's l1: 0.812907\n",
      "[35]\tvalid_0's l2: 5.08122\tvalid_0's l1: 0.813497\n",
      "[36]\tvalid_0's l2: 5.11412\tvalid_0's l1: 0.816553\n",
      "[37]\tvalid_0's l2: 5.14074\tvalid_0's l1: 0.817885\n",
      "[38]\tvalid_0's l2: 5.13315\tvalid_0's l1: 0.821087\n",
      "[39]\tvalid_0's l2: 5.15563\tvalid_0's l1: 0.822043\n",
      "[40]\tvalid_0's l2: 5.16996\tvalid_0's l1: 0.823234\n",
      "[41]\tvalid_0's l2: 5.1953\tvalid_0's l1: 0.825766\n",
      "[42]\tvalid_0's l2: 5.22134\tvalid_0's l1: 0.827435\n",
      "[43]\tvalid_0's l2: 5.24001\tvalid_0's l1: 0.830666\n",
      "[44]\tvalid_0's l2: 5.23106\tvalid_0's l1: 0.830963\n",
      "[45]\tvalid_0's l2: 5.25485\tvalid_0's l1: 0.833002\n",
      "[46]\tvalid_0's l2: 5.28021\tvalid_0's l1: 0.836478\n",
      "[47]\tvalid_0's l2: 5.28692\tvalid_0's l1: 0.835475\n",
      "[48]\tvalid_0's l2: 5.30133\tvalid_0's l1: 0.838351\n",
      "[49]\tvalid_0's l2: 5.31838\tvalid_0's l1: 0.841308\n",
      "[50]\tvalid_0's l2: 5.31824\tvalid_0's l1: 0.841821\n",
      "[51]\tvalid_0's l2: 5.31761\tvalid_0's l1: 0.844098\n",
      "[52]\tvalid_0's l2: 5.30483\tvalid_0's l1: 0.843144\n",
      "[53]\tvalid_0's l2: 5.32384\tvalid_0's l1: 0.846602\n",
      "[54]\tvalid_0's l2: 5.31666\tvalid_0's l1: 0.846691\n",
      "[55]\tvalid_0's l2: 5.3221\tvalid_0's l1: 0.849044\n",
      "[56]\tvalid_0's l2: 5.31487\tvalid_0's l1: 0.851275\n",
      "[57]\tvalid_0's l2: 5.32252\tvalid_0's l1: 0.853173\n",
      "[58]\tvalid_0's l2: 5.33354\tvalid_0's l1: 0.852906\n",
      "[59]\tvalid_0's l2: 5.34292\tvalid_0's l1: 0.853683\n",
      "[60]\tvalid_0's l2: 5.33906\tvalid_0's l1: 0.855314\n",
      "[61]\tvalid_0's l2: 5.32615\tvalid_0's l1: 0.85855\n",
      "[62]\tvalid_0's l2: 5.34087\tvalid_0's l1: 0.859248\n",
      "[63]\tvalid_0's l2: 5.35048\tvalid_0's l1: 0.862823\n",
      "[64]\tvalid_0's l2: 5.34025\tvalid_0's l1: 0.864872\n",
      "[65]\tvalid_0's l2: 5.33001\tvalid_0's l1: 0.86342\n",
      "[66]\tvalid_0's l2: 5.33613\tvalid_0's l1: 0.864547\n",
      "[67]\tvalid_0's l2: 5.35081\tvalid_0's l1: 0.867272\n",
      "[68]\tvalid_0's l2: 5.36736\tvalid_0's l1: 0.870895\n",
      "[69]\tvalid_0's l2: 5.38718\tvalid_0's l1: 0.873384\n",
      "[70]\tvalid_0's l2: 5.38943\tvalid_0's l1: 0.877756\n",
      "[71]\tvalid_0's l2: 5.40877\tvalid_0's l1: 0.879824\n",
      "[72]\tvalid_0's l2: 5.42865\tvalid_0's l1: 0.882095\n",
      "[73]\tvalid_0's l2: 5.44651\tvalid_0's l1: 0.885841\n",
      "[74]\tvalid_0's l2: 5.44884\tvalid_0's l1: 0.888184\n",
      "[75]\tvalid_0's l2: 5.42\tvalid_0's l1: 0.886914\n",
      "[76]\tvalid_0's l2: 5.42457\tvalid_0's l1: 0.888769\n",
      "[77]\tvalid_0's l2: 5.44249\tvalid_0's l1: 0.891546\n",
      "[78]\tvalid_0's l2: 5.4465\tvalid_0's l1: 0.893804\n",
      "[79]\tvalid_0's l2: 5.45034\tvalid_0's l1: 0.896265\n",
      "[80]\tvalid_0's l2: 5.45782\tvalid_0's l1: 0.897441\n",
      "[81]\tvalid_0's l2: 5.4428\tvalid_0's l1: 0.898258\n",
      "[82]\tvalid_0's l2: 5.47054\tvalid_0's l1: 0.901585\n",
      "[83]\tvalid_0's l2: 5.46375\tvalid_0's l1: 0.902977\n",
      "[84]\tvalid_0's l2: 5.46469\tvalid_0's l1: 0.903661\n",
      "[85]\tvalid_0's l2: 5.45197\tvalid_0's l1: 0.903866\n",
      "[86]\tvalid_0's l2: 5.46104\tvalid_0's l1: 0.9058\n",
      "[87]\tvalid_0's l2: 5.46796\tvalid_0's l1: 0.909168\n",
      "[88]\tvalid_0's l2: 5.47699\tvalid_0's l1: 0.911462\n",
      "[89]\tvalid_0's l2: 5.47897\tvalid_0's l1: 0.913381\n",
      "[90]\tvalid_0's l2: 5.4778\tvalid_0's l1: 0.91462\n",
      "[91]\tvalid_0's l2: 5.45691\tvalid_0's l1: 0.913981\n",
      "[92]\tvalid_0's l2: 5.45872\tvalid_0's l1: 0.916173\n",
      "[93]\tvalid_0's l2: 5.44798\tvalid_0's l1: 0.916705\n",
      "[94]\tvalid_0's l2: 5.46898\tvalid_0's l1: 0.919205\n",
      "[95]\tvalid_0's l2: 5.47941\tvalid_0's l1: 0.921553\n",
      "[96]\tvalid_0's l2: 5.50114\tvalid_0's l1: 0.923222\n",
      "[97]\tvalid_0's l2: 5.50061\tvalid_0's l1: 0.924156\n",
      "[98]\tvalid_0's l2: 5.49485\tvalid_0's l1: 0.926612\n",
      "[99]\tvalid_0's l2: 5.49527\tvalid_0's l1: 0.926778\n",
      "[100]\tvalid_0's l2: 5.50029\tvalid_0's l1: 0.928496\n",
      "Did not meet early stopping. Best iteration is:\n",
      "[7]\tvalid_0's l2: 4.63632\tvalid_0's l1: 0.815453\n"
     ]
    }
   ],
   "source": [
    "# defining parameters \n",
    "# defining parameters \n",
    "params = {\n",
    "    'task': 'train', \n",
    "    'boosting': 'gbdt',\n",
    "    'objective': 'regression',\n",
    "    'num_leaves': 50,\n",
    "    'learning_rate': 0.05,\n",
    "    'metric': {'l2','l1'},\n",
    "    'verbose': -1\n",
    "}\n",
    "model = lgb.train(params,\n",
    "                 train_set=lgb_train,\n",
    "                 valid_sets=lgb_eval,\n",
    "                 early_stopping_rounds=200)"
   ]
  },
  {
   "cell_type": "code",
   "execution_count": null,
   "id": "f9b4c9f4",
   "metadata": {},
   "outputs": [],
   "source": []
  },
  {
   "cell_type": "code",
   "execution_count": 21,
   "id": "69c26012",
   "metadata": {},
   "outputs": [],
   "source": [
    "preds = model.predict(X_test)"
   ]
  },
  {
   "cell_type": "code",
   "execution_count": 22,
   "id": "5b2636c5",
   "metadata": {},
   "outputs": [],
   "source": [
    "from sklearn.metrics import mean_squared_error\n",
    "from sklearn.metrics import mean_absolute_error"
   ]
  },
  {
   "cell_type": "code",
   "execution_count": 23,
   "id": "5b94603a",
   "metadata": {
    "scrolled": true
   },
   "outputs": [
    {
     "data": {
      "text/plain": [
       "4.636322048668809"
      ]
     },
     "execution_count": 23,
     "metadata": {},
     "output_type": "execute_result"
    }
   ],
   "source": [
    "mean_squared_error(y_2_test, preds)"
   ]
  },
  {
   "cell_type": "code",
   "execution_count": 24,
   "id": "9f0455cd",
   "metadata": {},
   "outputs": [
    {
     "data": {
      "text/plain": [
       "0.8154530265281824"
      ]
     },
     "execution_count": 24,
     "metadata": {},
     "output_type": "execute_result"
    }
   ],
   "source": [
    "mean_absolute_error(y_2_test, preds)"
   ]
  },
  {
   "cell_type": "code",
   "execution_count": 25,
   "id": "f21a804c",
   "metadata": {},
   "outputs": [
    {
     "data": {
      "text/plain": [
       "0.04918230807248036"
      ]
     },
     "execution_count": 25,
     "metadata": {},
     "output_type": "execute_result"
    }
   ],
   "source": [
    "r2_score(y_2_test, preds)"
   ]
  },
  {
   "cell_type": "code",
   "execution_count": 26,
   "id": "1aeb80df",
   "metadata": {},
   "outputs": [
    {
     "data": {
      "text/plain": [
       "[<matplotlib.lines.Line2D at 0x2961fd20dc0>]"
      ]
     },
     "execution_count": 26,
     "metadata": {},
     "output_type": "execute_result"
    },
    {
     "data": {
      "image/png": "[encoded data removed]",
      "text/plain": [
       "<Figure size 432x288 with 1 Axes>"
      ]
     },
     "metadata": {
      "needs_background": "light"
     },
     "output_type": "display_data"
    }
   ],
   "source": [
    "plt.plot(preds)"
   ]
  },
  {
   "cell_type": "code",
   "execution_count": 27,
   "id": "c78b0ed7",
   "metadata": {},
   "outputs": [
    {
     "data": {
      "image/png": "[encoded data removed]",
      "text/plain": [
       "<Figure size 1200x480 with 2 Axes>"
      ]
     },
     "metadata": {
      "needs_background": "light"
     },
     "output_type": "display_data"
    }
   ],
   "source": [
    "# Create Figure and Subplots\n",
    "fig, (ax1, ax2) = plt.subplots(1,2, figsize=(10,4), sharey=True, dpi=120)\n",
    "\n",
    "# Plot\n",
    "ax1.plot(preds, 'g')  # greendots\n",
    "ax2.plot(y_2_test, 'b')  # bluestart\n",
    "\n",
    "# Title, X and Y labels, X and Y Lim\n",
    "ax1.set_title('Predictions'); ax2.set_title('Ground Truth')\n",
    "\n",
    "  # y axis limits\n",
    "\n",
    "# ax2.yaxis.set_ticks_position('none') \n",
    "plt.tight_layout()\n",
    "plt.show()"
   ]
  },
  {
   "cell_type": "code",
   "execution_count": 28,
   "id": "aab0fe4b",
   "metadata": {},
   "outputs": [
    {
     "data": {
      "image/png": "[encoded data removed]",
      "text/plain": [
       "<Figure size 720x720 with 1 Axes>"
      ]
     },
     "metadata": {
      "needs_background": "light"
     },
     "output_type": "display_data"
    }
   ],
   "source": [
    "predicted_value = preds\n",
    "true_value = y_2_test\n",
    "fig = plt.figure(figsize=(10,10))\n",
    "plt.scatter(true_value, predicted_value, c='crimson')\n",
    "plt.yscale('linear')\n",
    "plt.xscale('linear')\n",
    "\n",
    "p1 = max(max(predicted_value), max(true_value))\n",
    "p2 = min(min(predicted_value), min(true_value))\n",
    "plt.plot([p1, p2], [p1, p2], 'b-')\n",
    "plt.xlabel('True Values', fontsize=15)\n",
    "plt.ylabel('Predictions', fontsize=15)\n",
    "#plt.axis('equal')\n",
    "plt.xlim([-2, 25])\n",
    "plt.ylim([-2, 25])\n",
    "plt.show()\n",
    "fig.savefig('predictions_vs_true_onehour_percipitation_lgbm.pdf')"
   ]
  },
  {
   "cell_type": "code",
   "execution_count": 29,
   "id": "8551c36e",
   "metadata": {},
   "outputs": [
    {
     "data": {
      "text/plain": [
       "0.8154530265281824"
      ]
     },
     "execution_count": 29,
     "metadata": {},
     "output_type": "execute_result"
    }
   ],
   "source": [
    "mean_absolute_error(y_2_test, predicted_value)"
   ]
  },
  {
   "cell_type": "code",
   "execution_count": 30,
   "id": "3b9b9608",
   "metadata": {},
   "outputs": [
    {
     "data": {
      "image/png": "[encoded data removed]",
      "text/plain": [
       "<Figure size 720x720 with 1 Axes>"
      ]
     },
     "metadata": {
      "needs_background": "light"
     },
     "output_type": "display_data"
    }
   ],
   "source": [
    "\n",
    "predicted_value = model.predict(X_train)\n",
    "true_value = y_2_train\n",
    "fig = plt.figure(figsize=(10,10))\n",
    "\n",
    "plt.scatter(true_value, predicted_value, c='crimson')\n",
    "plt.yscale('linear')\n",
    "plt.xscale('linear')\n",
    "\n",
    "p1 = max(max(predicted_value), max(true_value))\n",
    "p2 = min(min(predicted_value), min(true_value))\n",
    "plt.plot([p1, p2], [p1, p2], 'b-')\n",
    "plt.xlabel('True Values', fontsize=15)\n",
    "plt.ylabel('Predictions', fontsize=15)\n",
    "#plt.axis('equal')\n",
    "plt.xlim([-2, 30])\n",
    "plt.ylim([-2, 30])\n",
    "plt.show()\n",
    "\n",
    "fig.savefig('predictions_vs_true_one_hour_precipitation_training.pdf')"
   ]
  },
  {
   "cell_type": "code",
   "execution_count": 31,
   "id": "039fbf02",
   "metadata": {},
   "outputs": [
    {
     "name": "stdout",
     "output_type": "stream",
     "text": [
      "(2551, 22)\n"
     ]
    }
   ],
   "source": [
    "print(X_train.shape)"
   ]
  },
  {
   "cell_type": "code",
   "execution_count": null,
   "id": "d0755f75",
   "metadata": {},
   "outputs": [],
   "source": []
  },
  {
   "cell_type": "code",
   "execution_count": 32,
   "id": "78d6a6f7",
   "metadata": {},
   "outputs": [
    {
     "name": "stdout",
     "output_type": "stream",
     "text": [
      "Epoch 1/300\n",
      "40/40 [==============================] - 1s 10ms/step - loss: 0.6621 - accuracy: 0.9051 - val_loss: 0.6135 - val_accuracy: 0.9060\n",
      "Epoch 2/300\n",
      "40/40 [==============================] - 0s 5ms/step - loss: 0.5354 - accuracy: 0.9051 - val_loss: 0.4275 - val_accuracy: 0.9060\n",
      "Epoch 3/300\n",
      "40/40 [==============================] - 0s 5ms/step - loss: 0.3689 - accuracy: 0.9051 - val_loss: 0.3232 - val_accuracy: 0.9060\n",
      "Epoch 4/300\n",
      "40/40 [==============================] - 0s 4ms/step - loss: 0.3187 - accuracy: 0.9051 - val_loss: 0.3113 - val_accuracy: 0.9060\n",
      "Epoch 5/300\n",
      "40/40 [==============================] - 0s 5ms/step - loss: 0.3081 - accuracy: 0.9051 - val_loss: 0.3051 - val_accuracy: 0.9060\n",
      "Epoch 6/300\n",
      "40/40 [==============================] - 0s 4ms/step - loss: 0.3008 - accuracy: 0.9051 - val_loss: 0.3007 - val_accuracy: 0.9060\n",
      "Epoch 7/300\n",
      "40/40 [==============================] - 0s 5ms/step - loss: 0.2944 - accuracy: 0.9051 - val_loss: 0.2947 - val_accuracy: 0.9060\n",
      "Epoch 8/300\n",
      "40/40 [==============================] - 0s 4ms/step - loss: 0.2884 - accuracy: 0.9051 - val_loss: 0.2910 - val_accuracy: 0.9060\n",
      "Epoch 9/300\n",
      "40/40 [==============================] - 0s 4ms/step - loss: 0.2831 - accuracy: 0.9051 - val_loss: 0.2868 - val_accuracy: 0.9060\n",
      "Epoch 10/300\n",
      "40/40 [==============================] - 0s 5ms/step - loss: 0.2780 - accuracy: 0.9051 - val_loss: 0.2834 - val_accuracy: 0.9060\n",
      "Epoch 11/300\n",
      "40/40 [==============================] - 0s 5ms/step - loss: 0.2738 - accuracy: 0.9051 - val_loss: 0.2800 - val_accuracy: 0.9060\n",
      "Epoch 12/300\n",
      "40/40 [==============================] - 0s 4ms/step - loss: 0.2697 - accuracy: 0.9051 - val_loss: 0.2775 - val_accuracy: 0.9060\n",
      "Epoch 13/300\n",
      "40/40 [==============================] - 0s 4ms/step - loss: 0.2666 - accuracy: 0.9051 - val_loss: 0.2751 - val_accuracy: 0.9060\n",
      "Epoch 14/300\n",
      "40/40 [==============================] - 0s 4ms/step - loss: 0.2645 - accuracy: 0.9051 - val_loss: 0.2733 - val_accuracy: 0.9060\n",
      "Epoch 15/300\n",
      "40/40 [==============================] - 0s 4ms/step - loss: 0.2620 - accuracy: 0.9051 - val_loss: 0.2725 - val_accuracy: 0.9060\n",
      "Epoch 16/300\n",
      "40/40 [==============================] - 0s 3ms/step - loss: 0.2606 - accuracy: 0.9051 - val_loss: 0.2730 - val_accuracy: 0.9060\n",
      "Epoch 17/300\n",
      "40/40 [==============================] - 0s 4ms/step - loss: 0.2594 - accuracy: 0.9051 - val_loss: 0.2713 - val_accuracy: 0.9060\n",
      "Epoch 18/300\n",
      "40/40 [==============================] - 0s 3ms/step - loss: 0.2590 - accuracy: 0.9051 - val_loss: 0.2708 - val_accuracy: 0.9060\n",
      "Epoch 19/300\n",
      "40/40 [==============================] - 0s 4ms/step - loss: 0.2584 - accuracy: 0.9051 - val_loss: 0.2707 - val_accuracy: 0.9060\n",
      "Epoch 20/300\n",
      "40/40 [==============================] - 0s 4ms/step - loss: 0.2573 - accuracy: 0.9051 - val_loss: 0.2696 - val_accuracy: 0.9060\n",
      "Epoch 21/300\n",
      "40/40 [==============================] - 0s 4ms/step - loss: 0.2574 - accuracy: 0.9051 - val_loss: 0.2692 - val_accuracy: 0.9060\n",
      "Epoch 22/300\n",
      "40/40 [==============================] - 0s 4ms/step - loss: 0.2566 - accuracy: 0.9051 - val_loss: 0.2693 - val_accuracy: 0.9060\n",
      "Epoch 23/300\n",
      "40/40 [==============================] - 0s 4ms/step - loss: 0.2563 - accuracy: 0.9051 - val_loss: 0.2682 - val_accuracy: 0.9060\n",
      "Epoch 24/300\n",
      "40/40 [==============================] - 0s 5ms/step - loss: 0.2558 - accuracy: 0.9051 - val_loss: 0.2686 - val_accuracy: 0.9060\n",
      "Epoch 25/300\n",
      "40/40 [==============================] - 0s 6ms/step - loss: 0.2556 - accuracy: 0.9051 - val_loss: 0.2681 - val_accuracy: 0.9060\n",
      "Epoch 26/300\n",
      "40/40 [==============================] - 0s 5ms/step - loss: 0.2551 - accuracy: 0.9051 - val_loss: 0.2683 - val_accuracy: 0.9060\n",
      "Epoch 27/300\n",
      "40/40 [==============================] - 0s 6ms/step - loss: 0.2548 - accuracy: 0.9051 - val_loss: 0.2669 - val_accuracy: 0.9060\n",
      "Epoch 28/300\n",
      "40/40 [==============================] - 0s 6ms/step - loss: 0.2547 - accuracy: 0.9051 - val_loss: 0.2674 - val_accuracy: 0.9060\n",
      "Epoch 29/300\n",
      "40/40 [==============================] - 0s 5ms/step - loss: 0.2549 - accuracy: 0.9051 - val_loss: 0.2674 - val_accuracy: 0.9060\n",
      "Epoch 30/300\n",
      "40/40 [==============================] - 0s 5ms/step - loss: 0.2546 - accuracy: 0.9051 - val_loss: 0.2679 - val_accuracy: 0.9060\n",
      "Epoch 31/300\n",
      "40/40 [==============================] - 0s 6ms/step - loss: 0.2541 - accuracy: 0.9051 - val_loss: 0.2675 - val_accuracy: 0.9060\n",
      "Epoch 32/300\n",
      "40/40 [==============================] - 0s 6ms/step - loss: 0.2539 - accuracy: 0.9051 - val_loss: 0.2665 - val_accuracy: 0.9060\n",
      "Epoch 33/300\n",
      "40/40 [==============================] - 0s 5ms/step - loss: 0.2534 - accuracy: 0.9051 - val_loss: 0.2667 - val_accuracy: 0.9060\n",
      "Epoch 34/300\n",
      "40/40 [==============================] - 0s 5ms/step - loss: 0.2534 - accuracy: 0.9051 - val_loss: 0.2657 - val_accuracy: 0.9060\n",
      "Epoch 35/300\n",
      "40/40 [==============================] - 0s 5ms/step - loss: 0.2533 - accuracy: 0.9051 - val_loss: 0.2654 - val_accuracy: 0.9060\n",
      "Epoch 36/300\n",
      "40/40 [==============================] - 0s 5ms/step - loss: 0.2530 - accuracy: 0.9051 - val_loss: 0.2675 - val_accuracy: 0.9060\n",
      "Epoch 37/300\n",
      "40/40 [==============================] - 0s 3ms/step - loss: 0.2533 - accuracy: 0.9051 - val_loss: 0.2673 - val_accuracy: 0.9060\n",
      "Epoch 38/300\n",
      "40/40 [==============================] - 0s 4ms/step - loss: 0.2528 - accuracy: 0.9051 - val_loss: 0.2674 - val_accuracy: 0.9060\n",
      "Epoch 39/300\n",
      "40/40 [==============================] - 0s 4ms/step - loss: 0.2531 - accuracy: 0.9051 - val_loss: 0.2675 - val_accuracy: 0.9060\n",
      "Epoch 40/300\n",
      "40/40 [==============================] - 0s 4ms/step - loss: 0.2528 - accuracy: 0.9051 - val_loss: 0.2669 - val_accuracy: 0.9060\n",
      "Epoch 41/300\n",
      "40/40 [==============================] - 0s 3ms/step - loss: 0.2523 - accuracy: 0.9051 - val_loss: 0.2660 - val_accuracy: 0.9060\n",
      "Epoch 42/300\n",
      "40/40 [==============================] - 0s 3ms/step - loss: 0.2520 - accuracy: 0.9051 - val_loss: 0.2667 - val_accuracy: 0.9060\n",
      "Epoch 43/300\n",
      "40/40 [==============================] - 0s 4ms/step - loss: 0.2520 - accuracy: 0.9051 - val_loss: 0.2659 - val_accuracy: 0.9060\n",
      "Epoch 44/300\n",
      "40/40 [==============================] - 0s 3ms/step - loss: 0.2521 - accuracy: 0.9051 - val_loss: 0.2666 - val_accuracy: 0.9060\n",
      "Epoch 45/300\n",
      "40/40 [==============================] - 0s 3ms/step - loss: 0.2518 - accuracy: 0.9051 - val_loss: 0.2660 - val_accuracy: 0.9060\n",
      "Epoch 46/300\n",
      "40/40 [==============================] - 0s 3ms/step - loss: 0.2517 - accuracy: 0.9051 - val_loss: 0.2661 - val_accuracy: 0.9060\n",
      "Epoch 47/300\n",
      "40/40 [==============================] - 0s 3ms/step - loss: 0.2517 - accuracy: 0.9051 - val_loss: 0.2668 - val_accuracy: 0.9060\n",
      "Epoch 48/300\n",
      "40/40 [==============================] - 0s 3ms/step - loss: 0.2513 - accuracy: 0.9051 - val_loss: 0.2659 - val_accuracy: 0.9060\n",
      "Epoch 49/300\n",
      "40/40 [==============================] - 0s 3ms/step - loss: 0.2512 - accuracy: 0.9051 - val_loss: 0.2653 - val_accuracy: 0.9060\n",
      "Epoch 50/300\n",
      "40/40 [==============================] - 0s 3ms/step - loss: 0.2511 - accuracy: 0.9051 - val_loss: 0.2660 - val_accuracy: 0.9060\n",
      "Epoch 51/300\n",
      "40/40 [==============================] - 0s 3ms/step - loss: 0.2512 - accuracy: 0.9051 - val_loss: 0.2656 - val_accuracy: 0.9060\n",
      "Epoch 52/300\n",
      "40/40 [==============================] - 0s 3ms/step - loss: 0.2507 - accuracy: 0.9051 - val_loss: 0.2655 - val_accuracy: 0.9060\n",
      "Epoch 53/300\n",
      "40/40 [==============================] - 0s 3ms/step - loss: 0.2510 - accuracy: 0.9051 - val_loss: 0.2659 - val_accuracy: 0.9060\n",
      "Epoch 54/300\n",
      "40/40 [==============================] - 0s 3ms/step - loss: 0.2510 - accuracy: 0.9051 - val_loss: 0.2673 - val_accuracy: 0.9060\n",
      "Epoch 55/300\n",
      "40/40 [==============================] - 0s 3ms/step - loss: 0.2507 - accuracy: 0.9051 - val_loss: 0.2670 - val_accuracy: 0.9060\n",
      "Epoch 56/300\n",
      "40/40 [==============================] - 0s 3ms/step - loss: 0.2509 - accuracy: 0.9051 - val_loss: 0.2661 - val_accuracy: 0.9060\n",
      "Epoch 57/300\n",
      "40/40 [==============================] - 0s 4ms/step - loss: 0.2508 - accuracy: 0.9051 - val_loss: 0.2666 - val_accuracy: 0.9060\n",
      "Epoch 58/300\n",
      "40/40 [==============================] - 0s 3ms/step - loss: 0.2505 - accuracy: 0.9051 - val_loss: 0.2672 - val_accuracy: 0.9060\n"
     ]
    },
    {
     "name": "stdout",
     "output_type": "stream",
     "text": [
      "Epoch 59/300\n",
      "40/40 [==============================] - 0s 3ms/step - loss: 0.2504 - accuracy: 0.9051 - val_loss: 0.2661 - val_accuracy: 0.9060\n",
      "Epoch 60/300\n",
      "40/40 [==============================] - 0s 3ms/step - loss: 0.2506 - accuracy: 0.9051 - val_loss: 0.2669 - val_accuracy: 0.9060\n",
      "Epoch 61/300\n",
      "40/40 [==============================] - 0s 3ms/step - loss: 0.2498 - accuracy: 0.9051 - val_loss: 0.2663 - val_accuracy: 0.9060\n",
      "Epoch 62/300\n",
      "40/40 [==============================] - 0s 3ms/step - loss: 0.2499 - accuracy: 0.9051 - val_loss: 0.2671 - val_accuracy: 0.9060\n",
      "Epoch 63/300\n",
      "40/40 [==============================] - 0s 3ms/step - loss: 0.2505 - accuracy: 0.9051 - val_loss: 0.2669 - val_accuracy: 0.9060\n",
      "Epoch 64/300\n",
      "40/40 [==============================] - 0s 3ms/step - loss: 0.2500 - accuracy: 0.9051 - val_loss: 0.2671 - val_accuracy: 0.9060\n",
      "Epoch 65/300\n",
      "40/40 [==============================] - 0s 3ms/step - loss: 0.2498 - accuracy: 0.9051 - val_loss: 0.2672 - val_accuracy: 0.9060\n",
      "Epoch 66/300\n",
      "40/40 [==============================] - 0s 3ms/step - loss: 0.2499 - accuracy: 0.9051 - val_loss: 0.2660 - val_accuracy: 0.9060\n",
      "Epoch 67/300\n",
      "40/40 [==============================] - 0s 3ms/step - loss: 0.2497 - accuracy: 0.9051 - val_loss: 0.2664 - val_accuracy: 0.9060\n",
      "Epoch 68/300\n",
      "40/40 [==============================] - 0s 3ms/step - loss: 0.2493 - accuracy: 0.9051 - val_loss: 0.2670 - val_accuracy: 0.9060\n",
      "Epoch 69/300\n",
      "40/40 [==============================] - 0s 3ms/step - loss: 0.2494 - accuracy: 0.9051 - val_loss: 0.2671 - val_accuracy: 0.9060\n",
      "Epoch 70/300\n",
      "40/40 [==============================] - 0s 3ms/step - loss: 0.2496 - accuracy: 0.9051 - val_loss: 0.2667 - val_accuracy: 0.9060\n",
      "Epoch 71/300\n",
      "40/40 [==============================] - 0s 3ms/step - loss: 0.2496 - accuracy: 0.9051 - val_loss: 0.2665 - val_accuracy: 0.9060\n",
      "Epoch 72/300\n",
      "40/40 [==============================] - 0s 3ms/step - loss: 0.2492 - accuracy: 0.9051 - val_loss: 0.2670 - val_accuracy: 0.9060\n",
      "Epoch 73/300\n",
      "40/40 [==============================] - 0s 3ms/step - loss: 0.2496 - accuracy: 0.9051 - val_loss: 0.2665 - val_accuracy: 0.9060\n",
      "Epoch 74/300\n",
      "40/40 [==============================] - 0s 3ms/step - loss: 0.2488 - accuracy: 0.9051 - val_loss: 0.2676 - val_accuracy: 0.9060\n",
      "Epoch 75/300\n",
      "40/40 [==============================] - 0s 3ms/step - loss: 0.2489 - accuracy: 0.9051 - val_loss: 0.2662 - val_accuracy: 0.9060\n",
      "Epoch 76/300\n",
      "40/40 [==============================] - 0s 3ms/step - loss: 0.2494 - accuracy: 0.9051 - val_loss: 0.2674 - val_accuracy: 0.9060\n",
      "Epoch 77/300\n",
      "40/40 [==============================] - 0s 3ms/step - loss: 0.2488 - accuracy: 0.9051 - val_loss: 0.2671 - val_accuracy: 0.9060\n",
      "Epoch 78/300\n",
      "40/40 [==============================] - 0s 3ms/step - loss: 0.2494 - accuracy: 0.9051 - val_loss: 0.2677 - val_accuracy: 0.9060\n",
      "Epoch 79/300\n",
      "40/40 [==============================] - 0s 3ms/step - loss: 0.2492 - accuracy: 0.9051 - val_loss: 0.2668 - val_accuracy: 0.9060\n",
      "Epoch 80/300\n",
      "40/40 [==============================] - 0s 3ms/step - loss: 0.2484 - accuracy: 0.9051 - val_loss: 0.2669 - val_accuracy: 0.9060\n",
      "Epoch 81/300\n",
      "40/40 [==============================] - 0s 3ms/step - loss: 0.2481 - accuracy: 0.9051 - val_loss: 0.2672 - val_accuracy: 0.9060\n",
      "Epoch 82/300\n",
      "40/40 [==============================] - 0s 3ms/step - loss: 0.2480 - accuracy: 0.9051 - val_loss: 0.2668 - val_accuracy: 0.9060\n",
      "Epoch 83/300\n",
      "40/40 [==============================] - 0s 3ms/step - loss: 0.2478 - accuracy: 0.9051 - val_loss: 0.2676 - val_accuracy: 0.9060\n",
      "Epoch 84/300\n",
      "40/40 [==============================] - 0s 3ms/step - loss: 0.2483 - accuracy: 0.9051 - val_loss: 0.2673 - val_accuracy: 0.9060\n",
      "Epoch 85/300\n",
      "40/40 [==============================] - 0s 3ms/step - loss: 0.2477 - accuracy: 0.9051 - val_loss: 0.2677 - val_accuracy: 0.9060\n",
      "Epoch 86/300\n",
      "40/40 [==============================] - 0s 3ms/step - loss: 0.2479 - accuracy: 0.9051 - val_loss: 0.2670 - val_accuracy: 0.9060\n",
      "Epoch 87/300\n",
      "40/40 [==============================] - 0s 3ms/step - loss: 0.2482 - accuracy: 0.9051 - val_loss: 0.2671 - val_accuracy: 0.9060\n",
      "Epoch 88/300\n",
      "40/40 [==============================] - 0s 3ms/step - loss: 0.2477 - accuracy: 0.9051 - val_loss: 0.2680 - val_accuracy: 0.9060\n",
      "Epoch 89/300\n",
      "40/40 [==============================] - 0s 3ms/step - loss: 0.2476 - accuracy: 0.9051 - val_loss: 0.2660 - val_accuracy: 0.9060\n",
      "Epoch 90/300\n",
      "40/40 [==============================] - 0s 3ms/step - loss: 0.2475 - accuracy: 0.9051 - val_loss: 0.2679 - val_accuracy: 0.9060\n",
      "Epoch 91/300\n",
      "40/40 [==============================] - 0s 3ms/step - loss: 0.2474 - accuracy: 0.9051 - val_loss: 0.2677 - val_accuracy: 0.9060\n",
      "Epoch 92/300\n",
      "40/40 [==============================] - 0s 3ms/step - loss: 0.2482 - accuracy: 0.9051 - val_loss: 0.2679 - val_accuracy: 0.9060\n",
      "Epoch 93/300\n",
      "40/40 [==============================] - 0s 3ms/step - loss: 0.2471 - accuracy: 0.9051 - val_loss: 0.2687 - val_accuracy: 0.9060\n",
      "Epoch 94/300\n",
      "40/40 [==============================] - 0s 3ms/step - loss: 0.2472 - accuracy: 0.9051 - val_loss: 0.2676 - val_accuracy: 0.9060\n",
      "Epoch 95/300\n",
      "40/40 [==============================] - 0s 3ms/step - loss: 0.2475 - accuracy: 0.9051 - val_loss: 0.2687 - val_accuracy: 0.9060\n",
      "Epoch 96/300\n",
      "40/40 [==============================] - 0s 3ms/step - loss: 0.2471 - accuracy: 0.9051 - val_loss: 0.2697 - val_accuracy: 0.9060\n",
      "Epoch 97/300\n",
      "40/40 [==============================] - 0s 3ms/step - loss: 0.2471 - accuracy: 0.9051 - val_loss: 0.2682 - val_accuracy: 0.9060\n",
      "Epoch 98/300\n",
      "40/40 [==============================] - 0s 3ms/step - loss: 0.2470 - accuracy: 0.9051 - val_loss: 0.2693 - val_accuracy: 0.9060\n",
      "Epoch 99/300\n",
      "40/40 [==============================] - 0s 3ms/step - loss: 0.2466 - accuracy: 0.9051 - val_loss: 0.2685 - val_accuracy: 0.9060\n",
      "Epoch 100/300\n",
      "40/40 [==============================] - 0s 3ms/step - loss: 0.2470 - accuracy: 0.9051 - val_loss: 0.2669 - val_accuracy: 0.9060\n",
      "Epoch 101/300\n",
      "40/40 [==============================] - 0s 3ms/step - loss: 0.2466 - accuracy: 0.9051 - val_loss: 0.2693 - val_accuracy: 0.9060\n",
      "Epoch 102/300\n",
      "40/40 [==============================] - 0s 3ms/step - loss: 0.2468 - accuracy: 0.9051 - val_loss: 0.2702 - val_accuracy: 0.9060\n",
      "Epoch 103/300\n",
      "40/40 [==============================] - 0s 3ms/step - loss: 0.2465 - accuracy: 0.9051 - val_loss: 0.2695 - val_accuracy: 0.9060\n",
      "Epoch 104/300\n",
      "40/40 [==============================] - 0s 3ms/step - loss: 0.2466 - accuracy: 0.9051 - val_loss: 0.2691 - val_accuracy: 0.9060\n",
      "Epoch 105/300\n",
      "40/40 [==============================] - 0s 3ms/step - loss: 0.2459 - accuracy: 0.9051 - val_loss: 0.2680 - val_accuracy: 0.9060\n",
      "Epoch 106/300\n",
      "40/40 [==============================] - 0s 3ms/step - loss: 0.2462 - accuracy: 0.9051 - val_loss: 0.2689 - val_accuracy: 0.9060\n",
      "Epoch 107/300\n",
      "40/40 [==============================] - 0s 3ms/step - loss: 0.2460 - accuracy: 0.9051 - val_loss: 0.2682 - val_accuracy: 0.9060\n",
      "Epoch 108/300\n",
      "40/40 [==============================] - 0s 3ms/step - loss: 0.2460 - accuracy: 0.9040 - val_loss: 0.2705 - val_accuracy: 0.9060\n",
      "Epoch 109/300\n",
      "40/40 [==============================] - 0s 3ms/step - loss: 0.2460 - accuracy: 0.9047 - val_loss: 0.2704 - val_accuracy: 0.9060\n",
      "Epoch 110/300\n",
      "40/40 [==============================] - 0s 3ms/step - loss: 0.2459 - accuracy: 0.9047 - val_loss: 0.2690 - val_accuracy: 0.9028\n",
      "Epoch 111/300\n",
      "40/40 [==============================] - 0s 3ms/step - loss: 0.2458 - accuracy: 0.9055 - val_loss: 0.2696 - val_accuracy: 0.9044\n",
      "Epoch 112/300\n",
      "40/40 [==============================] - 0s 3ms/step - loss: 0.2458 - accuracy: 0.9051 - val_loss: 0.2698 - val_accuracy: 0.9028\n",
      "Epoch 113/300\n",
      "40/40 [==============================] - 0s 3ms/step - loss: 0.2457 - accuracy: 0.9055 - val_loss: 0.2698 - val_accuracy: 0.9028\n",
      "Epoch 114/300\n",
      "40/40 [==============================] - 0s 4ms/step - loss: 0.2452 - accuracy: 0.9059 - val_loss: 0.2704 - val_accuracy: 0.9028\n",
      "Epoch 115/300\n",
      "40/40 [==============================] - 0s 4ms/step - loss: 0.2451 - accuracy: 0.9059 - val_loss: 0.2702 - val_accuracy: 0.9028\n",
      "Epoch 116/300\n"
     ]
    },
    {
     "name": "stdout",
     "output_type": "stream",
     "text": [
      "40/40 [==============================] - 0s 4ms/step - loss: 0.2450 - accuracy: 0.9059 - val_loss: 0.2704 - val_accuracy: 0.9028\n",
      "Epoch 117/300\n",
      "40/40 [==============================] - 0s 4ms/step - loss: 0.2456 - accuracy: 0.9055 - val_loss: 0.2693 - val_accuracy: 0.9028\n",
      "Epoch 118/300\n",
      "40/40 [==============================] - 0s 3ms/step - loss: 0.2455 - accuracy: 0.9055 - val_loss: 0.2705 - val_accuracy: 0.9044\n",
      "Epoch 119/300\n",
      "40/40 [==============================] - 0s 4ms/step - loss: 0.2457 - accuracy: 0.9059 - val_loss: 0.2703 - val_accuracy: 0.9028\n",
      "Epoch 120/300\n",
      "40/40 [==============================] - 0s 3ms/step - loss: 0.2450 - accuracy: 0.9055 - val_loss: 0.2702 - val_accuracy: 0.9028\n",
      "Epoch 121/300\n",
      "40/40 [==============================] - 0s 3ms/step - loss: 0.2449 - accuracy: 0.9067 - val_loss: 0.2699 - val_accuracy: 0.9028\n",
      "Epoch 122/300\n",
      "40/40 [==============================] - 0s 6ms/step - loss: 0.2453 - accuracy: 0.9059 - val_loss: 0.2709 - val_accuracy: 0.9028\n",
      "Epoch 123/300\n",
      "40/40 [==============================] - 0s 4ms/step - loss: 0.2449 - accuracy: 0.9055 - val_loss: 0.2709 - val_accuracy: 0.9044\n",
      "Epoch 124/300\n",
      "40/40 [==============================] - 0s 3ms/step - loss: 0.2445 - accuracy: 0.9063 - val_loss: 0.2696 - val_accuracy: 0.9028\n",
      "Epoch 125/300\n",
      "40/40 [==============================] - 0s 6ms/step - loss: 0.2442 - accuracy: 0.9055 - val_loss: 0.2710 - val_accuracy: 0.9028\n",
      "Epoch 126/300\n",
      "40/40 [==============================] - 0s 7ms/step - loss: 0.2442 - accuracy: 0.9055 - val_loss: 0.2708 - val_accuracy: 0.9044\n",
      "Epoch 127/300\n",
      "40/40 [==============================] - 0s 5ms/step - loss: 0.2445 - accuracy: 0.9055 - val_loss: 0.2704 - val_accuracy: 0.9028\n",
      "Epoch 128/300\n",
      "40/40 [==============================] - 0s 5ms/step - loss: 0.2442 - accuracy: 0.9055 - val_loss: 0.2719 - val_accuracy: 0.9028\n",
      "Epoch 129/300\n",
      "40/40 [==============================] - 0s 7ms/step - loss: 0.2442 - accuracy: 0.9055 - val_loss: 0.2707 - val_accuracy: 0.9044\n",
      "Epoch 130/300\n",
      "40/40 [==============================] - 0s 6ms/step - loss: 0.2439 - accuracy: 0.9059 - val_loss: 0.2711 - val_accuracy: 0.9044\n",
      "Epoch 131/300\n",
      "40/40 [==============================] - 0s 6ms/step - loss: 0.2440 - accuracy: 0.9067 - val_loss: 0.2733 - val_accuracy: 0.9028\n",
      "Epoch 132/300\n",
      "40/40 [==============================] - 0s 5ms/step - loss: 0.2439 - accuracy: 0.9067 - val_loss: 0.2717 - val_accuracy: 0.9044\n",
      "Epoch 133/300\n",
      "40/40 [==============================] - 0s 4ms/step - loss: 0.2439 - accuracy: 0.9063 - val_loss: 0.2713 - val_accuracy: 0.9044\n",
      "Epoch 134/300\n",
      "40/40 [==============================] - 0s 5ms/step - loss: 0.2435 - accuracy: 0.9063 - val_loss: 0.2733 - val_accuracy: 0.9044\n",
      "Epoch 135/300\n",
      "40/40 [==============================] - 0s 5ms/step - loss: 0.2434 - accuracy: 0.9067 - val_loss: 0.2710 - val_accuracy: 0.9044\n",
      "Epoch 136/300\n",
      "40/40 [==============================] - 0s 4ms/step - loss: 0.2435 - accuracy: 0.9063 - val_loss: 0.2720 - val_accuracy: 0.9044\n",
      "Epoch 137/300\n",
      "40/40 [==============================] - 0s 6ms/step - loss: 0.2435 - accuracy: 0.9059 - val_loss: 0.2712 - val_accuracy: 0.9028\n",
      "Epoch 138/300\n",
      "40/40 [==============================] - 0s 5ms/step - loss: 0.2436 - accuracy: 0.9075 - val_loss: 0.2716 - val_accuracy: 0.9028\n",
      "Epoch 139/300\n",
      "40/40 [==============================] - 0s 6ms/step - loss: 0.2433 - accuracy: 0.9063 - val_loss: 0.2716 - val_accuracy: 0.9028\n",
      "Epoch 140/300\n",
      "40/40 [==============================] - 0s 6ms/step - loss: 0.2436 - accuracy: 0.9067 - val_loss: 0.2732 - val_accuracy: 0.9044\n",
      "Epoch 141/300\n",
      "40/40 [==============================] - 0s 5ms/step - loss: 0.2435 - accuracy: 0.9075 - val_loss: 0.2734 - val_accuracy: 0.9044\n",
      "Epoch 142/300\n",
      "40/40 [==============================] - 0s 4ms/step - loss: 0.2433 - accuracy: 0.9063 - val_loss: 0.2732 - val_accuracy: 0.9044\n",
      "Epoch 143/300\n",
      "40/40 [==============================] - 0s 3ms/step - loss: 0.2434 - accuracy: 0.9063 - val_loss: 0.2727 - val_accuracy: 0.9028\n",
      "Epoch 144/300\n",
      "40/40 [==============================] - 0s 4ms/step - loss: 0.2431 - accuracy: 0.9075 - val_loss: 0.2735 - val_accuracy: 0.9028\n",
      "Epoch 145/300\n",
      "40/40 [==============================] - 0s 4ms/step - loss: 0.2430 - accuracy: 0.9063 - val_loss: 0.2736 - val_accuracy: 0.9028\n",
      "Epoch 146/300\n",
      "40/40 [==============================] - 0s 4ms/step - loss: 0.2428 - accuracy: 0.9063 - val_loss: 0.2733 - val_accuracy: 0.9028\n",
      "Epoch 147/300\n",
      "40/40 [==============================] - 0s 7ms/step - loss: 0.2427 - accuracy: 0.9067 - val_loss: 0.2730 - val_accuracy: 0.9028\n",
      "Epoch 148/300\n",
      "40/40 [==============================] - 0s 6ms/step - loss: 0.2428 - accuracy: 0.9067 - val_loss: 0.2741 - val_accuracy: 0.9028\n",
      "Epoch 149/300\n",
      "40/40 [==============================] - 0s 5ms/step - loss: 0.2428 - accuracy: 0.9075 - val_loss: 0.2753 - val_accuracy: 0.9028\n",
      "Epoch 150/300\n",
      "40/40 [==============================] - 0s 5ms/step - loss: 0.2434 - accuracy: 0.9075 - val_loss: 0.2738 - val_accuracy: 0.9013\n",
      "Epoch 151/300\n",
      "40/40 [==============================] - 0s 5ms/step - loss: 0.2426 - accuracy: 0.9075 - val_loss: 0.2737 - val_accuracy: 0.8997\n",
      "Epoch 152/300\n",
      "40/40 [==============================] - 0s 4ms/step - loss: 0.2427 - accuracy: 0.9079 - val_loss: 0.2748 - val_accuracy: 0.9013\n",
      "Epoch 153/300\n",
      "40/40 [==============================] - 0s 5ms/step - loss: 0.2423 - accuracy: 0.9083 - val_loss: 0.2734 - val_accuracy: 0.8997\n",
      "Epoch 154/300\n",
      "40/40 [==============================] - 0s 5ms/step - loss: 0.2423 - accuracy: 0.9075 - val_loss: 0.2738 - val_accuracy: 0.8997\n",
      "Epoch 155/300\n",
      "40/40 [==============================] - 0s 4ms/step - loss: 0.2425 - accuracy: 0.9079 - val_loss: 0.2739 - val_accuracy: 0.8997\n",
      "Epoch 156/300\n",
      "40/40 [==============================] - 0s 3ms/step - loss: 0.2420 - accuracy: 0.9071 - val_loss: 0.2742 - val_accuracy: 0.8997\n",
      "Epoch 157/300\n",
      "40/40 [==============================] - 0s 3ms/step - loss: 0.2423 - accuracy: 0.9087 - val_loss: 0.2768 - val_accuracy: 0.8981\n",
      "Epoch 158/300\n",
      "40/40 [==============================] - 0s 4ms/step - loss: 0.2423 - accuracy: 0.9075 - val_loss: 0.2747 - val_accuracy: 0.8997\n",
      "Epoch 159/300\n",
      "40/40 [==============================] - 0s 3ms/step - loss: 0.2428 - accuracy: 0.9071 - val_loss: 0.2726 - val_accuracy: 0.9013\n",
      "Epoch 160/300\n",
      "40/40 [==============================] - 0s 3ms/step - loss: 0.2419 - accuracy: 0.9067 - val_loss: 0.2745 - val_accuracy: 0.8981\n",
      "Epoch 161/300\n",
      "40/40 [==============================] - 0s 3ms/step - loss: 0.2416 - accuracy: 0.9079 - val_loss: 0.2744 - val_accuracy: 0.8966\n",
      "Epoch 162/300\n",
      "40/40 [==============================] - 0s 4ms/step - loss: 0.2417 - accuracy: 0.9083 - val_loss: 0.2758 - val_accuracy: 0.9013\n",
      "Epoch 163/300\n",
      "40/40 [==============================] - 0s 3ms/step - loss: 0.2415 - accuracy: 0.9067 - val_loss: 0.2755 - val_accuracy: 0.8950\n",
      "Epoch 164/300\n",
      "40/40 [==============================] - 0s 4ms/step - loss: 0.2419 - accuracy: 0.9079 - val_loss: 0.2771 - val_accuracy: 0.8966\n",
      "Epoch 165/300\n",
      "40/40 [==============================] - 0s 3ms/step - loss: 0.2423 - accuracy: 0.9079 - val_loss: 0.2749 - val_accuracy: 0.8981\n",
      "Epoch 166/300\n",
      "40/40 [==============================] - 0s 3ms/step - loss: 0.2416 - accuracy: 0.9091 - val_loss: 0.2751 - val_accuracy: 0.8966\n",
      "Epoch 167/300\n",
      "40/40 [==============================] - 0s 3ms/step - loss: 0.2416 - accuracy: 0.9071 - val_loss: 0.2748 - val_accuracy: 0.8966\n",
      "Epoch 168/300\n",
      "40/40 [==============================] - 0s 3ms/step - loss: 0.2417 - accuracy: 0.9094 - val_loss: 0.2755 - val_accuracy: 0.8966\n",
      "Epoch 169/300\n",
      "40/40 [==============================] - 0s 3ms/step - loss: 0.2409 - accuracy: 0.9098 - val_loss: 0.2766 - val_accuracy: 0.8934\n",
      "Epoch 170/300\n",
      "40/40 [==============================] - 0s 2ms/step - loss: 0.2418 - accuracy: 0.9098 - val_loss: 0.2760 - val_accuracy: 0.8950\n",
      "Epoch 171/300\n",
      "40/40 [==============================] - 0s 2ms/step - loss: 0.2415 - accuracy: 0.9083 - val_loss: 0.2769 - val_accuracy: 0.8950\n",
      "Epoch 172/300\n",
      "40/40 [==============================] - 0s 2ms/step - loss: 0.2408 - accuracy: 0.9110 - val_loss: 0.2763 - val_accuracy: 0.8950\n",
      "Epoch 173/300\n"
     ]
    },
    {
     "name": "stdout",
     "output_type": "stream",
     "text": [
      "40/40 [==============================] - 0s 3ms/step - loss: 0.2412 - accuracy: 0.9110 - val_loss: 0.2749 - val_accuracy: 0.8966\n",
      "Epoch 174/300\n",
      "40/40 [==============================] - 0s 2ms/step - loss: 0.2409 - accuracy: 0.9098 - val_loss: 0.2772 - val_accuracy: 0.8966\n",
      "Epoch 175/300\n",
      "40/40 [==============================] - 0s 3ms/step - loss: 0.2405 - accuracy: 0.9102 - val_loss: 0.2776 - val_accuracy: 0.8981\n",
      "Epoch 176/300\n",
      "40/40 [==============================] - 0s 2ms/step - loss: 0.2401 - accuracy: 0.9118 - val_loss: 0.2768 - val_accuracy: 0.8966\n",
      "Epoch 177/300\n",
      "40/40 [==============================] - 0s 2ms/step - loss: 0.2404 - accuracy: 0.9106 - val_loss: 0.2773 - val_accuracy: 0.8966\n",
      "Epoch 178/300\n",
      "40/40 [==============================] - 0s 3ms/step - loss: 0.2405 - accuracy: 0.9118 - val_loss: 0.2776 - val_accuracy: 0.8966\n",
      "Epoch 179/300\n",
      "40/40 [==============================] - 0s 3ms/step - loss: 0.2409 - accuracy: 0.9110 - val_loss: 0.2780 - val_accuracy: 0.8966\n",
      "Epoch 180/300\n",
      "40/40 [==============================] - 0s 3ms/step - loss: 0.2399 - accuracy: 0.9114 - val_loss: 0.2775 - val_accuracy: 0.8966\n",
      "Epoch 181/300\n",
      "40/40 [==============================] - 0s 3ms/step - loss: 0.2398 - accuracy: 0.9122 - val_loss: 0.2773 - val_accuracy: 0.8950\n",
      "Epoch 182/300\n",
      "40/40 [==============================] - 0s 3ms/step - loss: 0.2398 - accuracy: 0.9122 - val_loss: 0.2782 - val_accuracy: 0.8950\n",
      "Epoch 183/300\n",
      "40/40 [==============================] - 0s 3ms/step - loss: 0.2396 - accuracy: 0.9122 - val_loss: 0.2781 - val_accuracy: 0.8950\n",
      "Epoch 184/300\n",
      "40/40 [==============================] - 0s 3ms/step - loss: 0.2400 - accuracy: 0.9106 - val_loss: 0.2791 - val_accuracy: 0.8950\n",
      "Epoch 185/300\n",
      "40/40 [==============================] - 0s 3ms/step - loss: 0.2399 - accuracy: 0.9134 - val_loss: 0.2805 - val_accuracy: 0.8950\n",
      "Epoch 186/300\n",
      "40/40 [==============================] - 0s 3ms/step - loss: 0.2389 - accuracy: 0.9110 - val_loss: 0.2770 - val_accuracy: 0.8966\n",
      "Epoch 187/300\n",
      "40/40 [==============================] - 0s 3ms/step - loss: 0.2395 - accuracy: 0.9122 - val_loss: 0.2789 - val_accuracy: 0.8950\n",
      "Epoch 188/300\n",
      "40/40 [==============================] - 0s 2ms/step - loss: 0.2390 - accuracy: 0.9122 - val_loss: 0.2784 - val_accuracy: 0.8966\n",
      "Epoch 189/300\n",
      "40/40 [==============================] - 0s 3ms/step - loss: 0.2398 - accuracy: 0.9122 - val_loss: 0.2793 - val_accuracy: 0.8950\n",
      "Epoch 190/300\n",
      "40/40 [==============================] - 0s 3ms/step - loss: 0.2387 - accuracy: 0.9122 - val_loss: 0.2780 - val_accuracy: 0.8950\n",
      "Epoch 191/300\n",
      "40/40 [==============================] - 0s 3ms/step - loss: 0.2401 - accuracy: 0.9110 - val_loss: 0.2794 - val_accuracy: 0.8966\n",
      "Epoch 192/300\n",
      "40/40 [==============================] - 0s 3ms/step - loss: 0.2394 - accuracy: 0.9130 - val_loss: 0.2785 - val_accuracy: 0.8950\n",
      "Epoch 193/300\n",
      "40/40 [==============================] - 0s 3ms/step - loss: 0.2384 - accuracy: 0.9126 - val_loss: 0.2791 - val_accuracy: 0.8966\n",
      "Epoch 194/300\n",
      "40/40 [==============================] - 0s 3ms/step - loss: 0.2387 - accuracy: 0.9122 - val_loss: 0.2796 - val_accuracy: 0.8950\n",
      "Epoch 195/300\n",
      "40/40 [==============================] - 0s 3ms/step - loss: 0.2389 - accuracy: 0.9126 - val_loss: 0.2801 - val_accuracy: 0.8966\n",
      "Epoch 196/300\n",
      "40/40 [==============================] - 0s 3ms/step - loss: 0.2390 - accuracy: 0.9126 - val_loss: 0.2786 - val_accuracy: 0.8966\n",
      "Epoch 197/300\n",
      "40/40 [==============================] - 0s 3ms/step - loss: 0.2383 - accuracy: 0.9130 - val_loss: 0.2795 - val_accuracy: 0.8966\n",
      "Epoch 198/300\n",
      "40/40 [==============================] - 0s 3ms/step - loss: 0.2384 - accuracy: 0.9138 - val_loss: 0.2789 - val_accuracy: 0.8950\n",
      "Epoch 199/300\n",
      "40/40 [==============================] - 0s 3ms/step - loss: 0.2385 - accuracy: 0.9130 - val_loss: 0.2796 - val_accuracy: 0.8966\n",
      "Epoch 200/300\n",
      "40/40 [==============================] - 0s 3ms/step - loss: 0.2382 - accuracy: 0.9142 - val_loss: 0.2797 - val_accuracy: 0.8950\n",
      "Epoch 201/300\n",
      "40/40 [==============================] - 0s 3ms/step - loss: 0.2380 - accuracy: 0.9130 - val_loss: 0.2812 - val_accuracy: 0.8966\n",
      "Epoch 202/300\n",
      "40/40 [==============================] - 0s 3ms/step - loss: 0.2383 - accuracy: 0.9138 - val_loss: 0.2790 - val_accuracy: 0.8950\n",
      "Epoch 203/300\n",
      "40/40 [==============================] - 0s 3ms/step - loss: 0.2380 - accuracy: 0.9145 - val_loss: 0.2795 - val_accuracy: 0.8950\n",
      "Epoch 204/300\n",
      "40/40 [==============================] - 0s 3ms/step - loss: 0.2377 - accuracy: 0.9138 - val_loss: 0.2800 - val_accuracy: 0.8966\n",
      "Epoch 205/300\n",
      "40/40 [==============================] - 0s 3ms/step - loss: 0.2377 - accuracy: 0.9145 - val_loss: 0.2809 - val_accuracy: 0.8966\n",
      "Epoch 206/300\n",
      "40/40 [==============================] - 0s 3ms/step - loss: 0.2382 - accuracy: 0.9145 - val_loss: 0.2790 - val_accuracy: 0.8950\n",
      "Epoch 207/300\n",
      "40/40 [==============================] - 0s 3ms/step - loss: 0.2381 - accuracy: 0.9122 - val_loss: 0.2809 - val_accuracy: 0.8950\n",
      "Epoch 208/300\n",
      "40/40 [==============================] - 0s 4ms/step - loss: 0.2377 - accuracy: 0.9142 - val_loss: 0.2800 - val_accuracy: 0.8950\n",
      "Epoch 209/300\n",
      "40/40 [==============================] - 0s 4ms/step - loss: 0.2373 - accuracy: 0.9130 - val_loss: 0.2821 - val_accuracy: 0.8966\n",
      "Epoch 210/300\n",
      "40/40 [==============================] - 0s 3ms/step - loss: 0.2379 - accuracy: 0.9138 - val_loss: 0.2796 - val_accuracy: 0.8950\n",
      "Epoch 211/300\n",
      "40/40 [==============================] - 0s 3ms/step - loss: 0.2379 - accuracy: 0.9126 - val_loss: 0.2798 - val_accuracy: 0.8950\n",
      "Epoch 212/300\n",
      "40/40 [==============================] - 0s 3ms/step - loss: 0.2372 - accuracy: 0.9138 - val_loss: 0.2799 - val_accuracy: 0.8950\n",
      "Epoch 213/300\n",
      "40/40 [==============================] - 0s 3ms/step - loss: 0.2375 - accuracy: 0.9118 - val_loss: 0.2830 - val_accuracy: 0.8950\n",
      "Epoch 214/300\n",
      "40/40 [==============================] - 0s 3ms/step - loss: 0.2372 - accuracy: 0.9138 - val_loss: 0.2806 - val_accuracy: 0.8934\n",
      "Epoch 215/300\n",
      "40/40 [==============================] - 0s 3ms/step - loss: 0.2370 - accuracy: 0.9134 - val_loss: 0.2813 - val_accuracy: 0.8950\n",
      "Epoch 216/300\n",
      "40/40 [==============================] - 0s 3ms/step - loss: 0.2373 - accuracy: 0.9134 - val_loss: 0.2819 - val_accuracy: 0.8934\n",
      "Epoch 217/300\n",
      "40/40 [==============================] - 0s 3ms/step - loss: 0.2370 - accuracy: 0.9142 - val_loss: 0.2820 - val_accuracy: 0.8918\n",
      "Epoch 218/300\n",
      "40/40 [==============================] - 0s 4ms/step - loss: 0.2367 - accuracy: 0.9126 - val_loss: 0.2829 - val_accuracy: 0.8934\n",
      "Epoch 219/300\n",
      "40/40 [==============================] - 0s 4ms/step - loss: 0.2369 - accuracy: 0.9118 - val_loss: 0.2824 - val_accuracy: 0.8918\n",
      "Epoch 220/300\n",
      "40/40 [==============================] - 0s 3ms/step - loss: 0.2368 - accuracy: 0.9138 - val_loss: 0.2799 - val_accuracy: 0.8918\n",
      "Epoch 221/300\n",
      "40/40 [==============================] - 0s 3ms/step - loss: 0.2367 - accuracy: 0.9138 - val_loss: 0.2818 - val_accuracy: 0.8934\n",
      "Epoch 222/300\n",
      "40/40 [==============================] - 0s 3ms/step - loss: 0.2365 - accuracy: 0.9134 - val_loss: 0.2829 - val_accuracy: 0.8918\n",
      "Epoch 223/300\n",
      "40/40 [==============================] - 0s 3ms/step - loss: 0.2363 - accuracy: 0.9134 - val_loss: 0.2805 - val_accuracy: 0.8934\n",
      "Epoch 224/300\n",
      "40/40 [==============================] - 0s 3ms/step - loss: 0.2363 - accuracy: 0.9122 - val_loss: 0.2823 - val_accuracy: 0.8918\n",
      "Epoch 225/300\n",
      "40/40 [==============================] - 0s 3ms/step - loss: 0.2364 - accuracy: 0.9142 - val_loss: 0.2821 - val_accuracy: 0.8918\n",
      "Epoch 226/300\n",
      "40/40 [==============================] - 0s 3ms/step - loss: 0.2361 - accuracy: 0.9142 - val_loss: 0.2815 - val_accuracy: 0.8918\n",
      "Epoch 227/300\n",
      "40/40 [==============================] - 0s 3ms/step - loss: 0.2364 - accuracy: 0.9134 - val_loss: 0.2834 - val_accuracy: 0.8918\n",
      "Epoch 228/300\n",
      "40/40 [==============================] - 0s 3ms/step - loss: 0.2359 - accuracy: 0.9142 - val_loss: 0.2820 - val_accuracy: 0.8918\n",
      "Epoch 229/300\n",
      "40/40 [==============================] - 0s 3ms/step - loss: 0.2357 - accuracy: 0.9142 - val_loss: 0.2823 - val_accuracy: 0.8918\n",
      "Epoch 230/300\n"
     ]
    },
    {
     "name": "stdout",
     "output_type": "stream",
     "text": [
      "40/40 [==============================] - 0s 4ms/step - loss: 0.2358 - accuracy: 0.9126 - val_loss: 0.2816 - val_accuracy: 0.8918\n",
      "Epoch 231/300\n",
      "40/40 [==============================] - 0s 4ms/step - loss: 0.2361 - accuracy: 0.9122 - val_loss: 0.2820 - val_accuracy: 0.8918\n",
      "Epoch 232/300\n",
      "40/40 [==============================] - 0s 4ms/step - loss: 0.2359 - accuracy: 0.9149 - val_loss: 0.2846 - val_accuracy: 0.8918\n",
      "Epoch 233/300\n",
      "40/40 [==============================] - 0s 4ms/step - loss: 0.2362 - accuracy: 0.9138 - val_loss: 0.2828 - val_accuracy: 0.8934\n",
      "Epoch 234/300\n",
      "40/40 [==============================] - 0s 4ms/step - loss: 0.2361 - accuracy: 0.9126 - val_loss: 0.2815 - val_accuracy: 0.8934\n",
      "Epoch 235/300\n",
      "40/40 [==============================] - 0s 4ms/step - loss: 0.2363 - accuracy: 0.9130 - val_loss: 0.2843 - val_accuracy: 0.8903\n",
      "Epoch 236/300\n",
      "40/40 [==============================] - 0s 4ms/step - loss: 0.2363 - accuracy: 0.9138 - val_loss: 0.2839 - val_accuracy: 0.8918\n",
      "Epoch 237/300\n",
      "40/40 [==============================] - 0s 4ms/step - loss: 0.2357 - accuracy: 0.9138 - val_loss: 0.2835 - val_accuracy: 0.8918\n",
      "Epoch 238/300\n",
      "40/40 [==============================] - 0s 3ms/step - loss: 0.2368 - accuracy: 0.9134 - val_loss: 0.2840 - val_accuracy: 0.8918\n",
      "Epoch 239/300\n",
      "40/40 [==============================] - 0s 3ms/step - loss: 0.2358 - accuracy: 0.9134 - val_loss: 0.2846 - val_accuracy: 0.8918\n",
      "Epoch 240/300\n",
      "40/40 [==============================] - 0s 3ms/step - loss: 0.2357 - accuracy: 0.9118 - val_loss: 0.2835 - val_accuracy: 0.8887\n",
      "Epoch 241/300\n",
      "40/40 [==============================] - 0s 3ms/step - loss: 0.2353 - accuracy: 0.9134 - val_loss: 0.2857 - val_accuracy: 0.8934\n",
      "Epoch 242/300\n",
      "40/40 [==============================] - 0s 3ms/step - loss: 0.2360 - accuracy: 0.9138 - val_loss: 0.2850 - val_accuracy: 0.8918\n",
      "Epoch 243/300\n",
      "40/40 [==============================] - 0s 3ms/step - loss: 0.2360 - accuracy: 0.9142 - val_loss: 0.2851 - val_accuracy: 0.8918\n",
      "Epoch 244/300\n",
      "40/40 [==============================] - 0s 3ms/step - loss: 0.2354 - accuracy: 0.9122 - val_loss: 0.2853 - val_accuracy: 0.8934\n",
      "Epoch 245/300\n",
      "40/40 [==============================] - 0s 3ms/step - loss: 0.2362 - accuracy: 0.9130 - val_loss: 0.2845 - val_accuracy: 0.8934\n",
      "Epoch 246/300\n",
      "40/40 [==============================] - 0s 3ms/step - loss: 0.2352 - accuracy: 0.9134 - val_loss: 0.2850 - val_accuracy: 0.8934\n",
      "Epoch 247/300\n",
      "40/40 [==============================] - 0s 3ms/step - loss: 0.2349 - accuracy: 0.9130 - val_loss: 0.2838 - val_accuracy: 0.8934\n",
      "Epoch 248/300\n",
      "40/40 [==============================] - 0s 3ms/step - loss: 0.2349 - accuracy: 0.9138 - val_loss: 0.2855 - val_accuracy: 0.8934\n",
      "Epoch 249/300\n",
      "40/40 [==============================] - 0s 3ms/step - loss: 0.2344 - accuracy: 0.9138 - val_loss: 0.2856 - val_accuracy: 0.8934\n",
      "Epoch 250/300\n",
      "40/40 [==============================] - 0s 3ms/step - loss: 0.2345 - accuracy: 0.9138 - val_loss: 0.2851 - val_accuracy: 0.8918\n",
      "Epoch 251/300\n",
      "40/40 [==============================] - 0s 3ms/step - loss: 0.2347 - accuracy: 0.9138 - val_loss: 0.2845 - val_accuracy: 0.8903\n",
      "Epoch 252/300\n",
      "40/40 [==============================] - 0s 3ms/step - loss: 0.2344 - accuracy: 0.9134 - val_loss: 0.2860 - val_accuracy: 0.8903\n",
      "Epoch 253/300\n",
      "40/40 [==============================] - 0s 3ms/step - loss: 0.2358 - accuracy: 0.9138 - val_loss: 0.2861 - val_accuracy: 0.8918\n",
      "Epoch 254/300\n",
      "40/40 [==============================] - 0s 3ms/step - loss: 0.2354 - accuracy: 0.9138 - val_loss: 0.2852 - val_accuracy: 0.8918\n",
      "Epoch 255/300\n",
      "40/40 [==============================] - 0s 3ms/step - loss: 0.2352 - accuracy: 0.9145 - val_loss: 0.2862 - val_accuracy: 0.8918\n",
      "Epoch 256/300\n",
      "40/40 [==============================] - 0s 4ms/step - loss: 0.2345 - accuracy: 0.9138 - val_loss: 0.2858 - val_accuracy: 0.8934\n",
      "Epoch 257/300\n",
      "40/40 [==============================] - 0s 4ms/step - loss: 0.2350 - accuracy: 0.9138 - val_loss: 0.2849 - val_accuracy: 0.8934\n",
      "Epoch 258/300\n",
      "40/40 [==============================] - 0s 3ms/step - loss: 0.2350 - accuracy: 0.9138 - val_loss: 0.2858 - val_accuracy: 0.8918\n",
      "Epoch 259/300\n",
      "40/40 [==============================] - 0s 3ms/step - loss: 0.2347 - accuracy: 0.9134 - val_loss: 0.2865 - val_accuracy: 0.8903\n",
      "Epoch 260/300\n",
      "40/40 [==============================] - 0s 4ms/step - loss: 0.2340 - accuracy: 0.9145 - val_loss: 0.2859 - val_accuracy: 0.8918\n",
      "Epoch 261/300\n",
      "40/40 [==============================] - 0s 3ms/step - loss: 0.2344 - accuracy: 0.9149 - val_loss: 0.2857 - val_accuracy: 0.8934\n",
      "Epoch 262/300\n",
      "40/40 [==============================] - 0s 3ms/step - loss: 0.2347 - accuracy: 0.9134 - val_loss: 0.2871 - val_accuracy: 0.8918\n",
      "Epoch 263/300\n",
      "40/40 [==============================] - 0s 3ms/step - loss: 0.2338 - accuracy: 0.9142 - val_loss: 0.2854 - val_accuracy: 0.8918\n",
      "Epoch 264/300\n",
      "40/40 [==============================] - 0s 4ms/step - loss: 0.2347 - accuracy: 0.9126 - val_loss: 0.2853 - val_accuracy: 0.8918\n",
      "Epoch 265/300\n",
      "40/40 [==============================] - 0s 4ms/step - loss: 0.2346 - accuracy: 0.9138 - val_loss: 0.2859 - val_accuracy: 0.8934\n",
      "Epoch 266/300\n",
      "40/40 [==============================] - 0s 4ms/step - loss: 0.2343 - accuracy: 0.9142 - val_loss: 0.2852 - val_accuracy: 0.8918\n",
      "Epoch 267/300\n",
      "40/40 [==============================] - 0s 4ms/step - loss: 0.2343 - accuracy: 0.9130 - val_loss: 0.2886 - val_accuracy: 0.8903\n",
      "Epoch 268/300\n",
      "40/40 [==============================] - 0s 4ms/step - loss: 0.2339 - accuracy: 0.9145 - val_loss: 0.2886 - val_accuracy: 0.8887\n",
      "Epoch 269/300\n",
      "40/40 [==============================] - 0s 3ms/step - loss: 0.2351 - accuracy: 0.9138 - val_loss: 0.2885 - val_accuracy: 0.8918\n",
      "Epoch 270/300\n",
      "40/40 [==============================] - 0s 3ms/step - loss: 0.2343 - accuracy: 0.9134 - val_loss: 0.2870 - val_accuracy: 0.8918\n",
      "Epoch 271/300\n",
      "40/40 [==============================] - 0s 3ms/step - loss: 0.2343 - accuracy: 0.9142 - val_loss: 0.2865 - val_accuracy: 0.8903\n",
      "Epoch 272/300\n",
      "40/40 [==============================] - 0s 3ms/step - loss: 0.2339 - accuracy: 0.9149 - val_loss: 0.2887 - val_accuracy: 0.8918\n",
      "Epoch 273/300\n",
      "40/40 [==============================] - 0s 4ms/step - loss: 0.2340 - accuracy: 0.9138 - val_loss: 0.2884 - val_accuracy: 0.8887\n",
      "Epoch 274/300\n",
      "40/40 [==============================] - 0s 4ms/step - loss: 0.2341 - accuracy: 0.9149 - val_loss: 0.2898 - val_accuracy: 0.8918\n",
      "Epoch 275/300\n",
      "40/40 [==============================] - 0s 3ms/step - loss: 0.2342 - accuracy: 0.9118 - val_loss: 0.2856 - val_accuracy: 0.8918\n",
      "Epoch 276/300\n",
      "40/40 [==============================] - 0s 3ms/step - loss: 0.2338 - accuracy: 0.9138 - val_loss: 0.2876 - val_accuracy: 0.8887\n",
      "Epoch 277/300\n",
      "40/40 [==============================] - 0s 4ms/step - loss: 0.2333 - accuracy: 0.9138 - val_loss: 0.2857 - val_accuracy: 0.8903\n",
      "Epoch 278/300\n",
      "40/40 [==============================] - 0s 3ms/step - loss: 0.2334 - accuracy: 0.9145 - val_loss: 0.2865 - val_accuracy: 0.8887\n",
      "Epoch 279/300\n",
      "40/40 [==============================] - 0s 3ms/step - loss: 0.2338 - accuracy: 0.9138 - val_loss: 0.2886 - val_accuracy: 0.8887\n",
      "Epoch 280/300\n",
      "40/40 [==============================] - 0s 3ms/step - loss: 0.2331 - accuracy: 0.9138 - val_loss: 0.2871 - val_accuracy: 0.8887\n",
      "Epoch 281/300\n",
      "40/40 [==============================] - 0s 3ms/step - loss: 0.2338 - accuracy: 0.9138 - val_loss: 0.2896 - val_accuracy: 0.8903\n",
      "Epoch 282/300\n",
      "40/40 [==============================] - 0s 3ms/step - loss: 0.2340 - accuracy: 0.9138 - val_loss: 0.2881 - val_accuracy: 0.8918\n",
      "Epoch 283/300\n",
      "40/40 [==============================] - 0s 3ms/step - loss: 0.2338 - accuracy: 0.9130 - val_loss: 0.2908 - val_accuracy: 0.8887\n",
      "Epoch 284/300\n",
      "40/40 [==============================] - 0s 3ms/step - loss: 0.2332 - accuracy: 0.9138 - val_loss: 0.2879 - val_accuracy: 0.8887\n",
      "Epoch 285/300\n",
      "40/40 [==============================] - 0s 3ms/step - loss: 0.2335 - accuracy: 0.9145 - val_loss: 0.2882 - val_accuracy: 0.8918\n",
      "Epoch 286/300\n",
      "40/40 [==============================] - 0s 3ms/step - loss: 0.2330 - accuracy: 0.9134 - val_loss: 0.2887 - val_accuracy: 0.8934\n",
      "Epoch 287/300\n"
     ]
    },
    {
     "name": "stdout",
     "output_type": "stream",
     "text": [
      "40/40 [==============================] - 0s 4ms/step - loss: 0.2332 - accuracy: 0.9145 - val_loss: 0.2889 - val_accuracy: 0.8871\n",
      "Epoch 288/300\n",
      "40/40 [==============================] - 0s 3ms/step - loss: 0.2327 - accuracy: 0.9149 - val_loss: 0.2877 - val_accuracy: 0.8918\n",
      "Epoch 289/300\n",
      "40/40 [==============================] - 0s 3ms/step - loss: 0.2329 - accuracy: 0.9138 - val_loss: 0.2880 - val_accuracy: 0.8887\n",
      "Epoch 290/300\n",
      "40/40 [==============================] - 0s 3ms/step - loss: 0.2328 - accuracy: 0.9153 - val_loss: 0.2880 - val_accuracy: 0.8903\n",
      "Epoch 291/300\n",
      "40/40 [==============================] - 0s 4ms/step - loss: 0.2332 - accuracy: 0.9134 - val_loss: 0.2905 - val_accuracy: 0.8871\n",
      "Epoch 292/300\n",
      "40/40 [==============================] - 0s 3ms/step - loss: 0.2333 - accuracy: 0.9149 - val_loss: 0.2892 - val_accuracy: 0.8887\n",
      "Epoch 293/300\n",
      "40/40 [==============================] - 0s 3ms/step - loss: 0.2328 - accuracy: 0.9126 - val_loss: 0.2890 - val_accuracy: 0.8887\n",
      "Epoch 294/300\n",
      "40/40 [==============================] - 0s 3ms/step - loss: 0.2326 - accuracy: 0.9134 - val_loss: 0.2894 - val_accuracy: 0.8887\n",
      "Epoch 295/300\n",
      "40/40 [==============================] - 0s 3ms/step - loss: 0.2330 - accuracy: 0.9134 - val_loss: 0.2907 - val_accuracy: 0.8903\n",
      "Epoch 296/300\n",
      "40/40 [==============================] - 0s 3ms/step - loss: 0.2334 - accuracy: 0.9145 - val_loss: 0.2867 - val_accuracy: 0.8887\n",
      "Epoch 297/300\n",
      "40/40 [==============================] - 0s 5ms/step - loss: 0.2329 - accuracy: 0.9130 - val_loss: 0.2904 - val_accuracy: 0.8887\n",
      "Epoch 298/300\n",
      "40/40 [==============================] - 0s 5ms/step - loss: 0.2328 - accuracy: 0.9138 - val_loss: 0.2885 - val_accuracy: 0.8918\n",
      "Epoch 299/300\n",
      "40/40 [==============================] - 0s 4ms/step - loss: 0.2330 - accuracy: 0.9138 - val_loss: 0.2883 - val_accuracy: 0.8903\n",
      "Epoch 300/300\n",
      "40/40 [==============================] - 0s 4ms/step - loss: 0.2326 - accuracy: 0.9149 - val_loss: 0.2887 - val_accuracy: 0.8887\n",
      "20/20 [==============================] - 0s 2ms/step\n",
      "Acc Score:  0.8887147335423198\n",
      "Roc Auc Score:  0.5278258362168398\n",
      "f1 score:  0.1234567901234568\n"
     ]
    }
   ],
   "source": [
    "np.digitize(y_test, [0, 1]) - 1\n",
    "nb_classes = 2\n",
    "y_train = np.eye(nb_classes)[y_train]\n",
    "y_test = np.eye(nb_classes)[y_test]\n",
    "\n",
    "import keras\n",
    "from keras.layers import Dense, Softmax\n",
    "model = keras.Sequential()\n",
    "#model.add(Dense(69, kernel_initializer='normal', activation='relu', input_shape=(23,)))\n",
    "model.add(Dense(16, kernel_initializer='normal', activation='relu', input_shape=(22,)))\n",
    "model.add(Dense(4, kernel_initializer='normal', activation='relu'))\n",
    "model.add(Dense(2, kernel_initializer='normal', activation='softmax'))\n",
    "#loss_fn = keras.losses.SparseCategoricalCrossentropy(from_logits=True)\n",
    "model.compile(loss='categorical_crossentropy', optimizer='Adam', metrics='accuracy', )\n",
    "model.fit(X_train, y_train, validation_data=(X_test, y_test), verbose=1, epochs=300, batch_size=64, shuffle=True)\n",
    "\n",
    "from sklearn.metrics import mean_squared_error\n",
    "from sklearn.metrics import mean_absolute_error\n",
    "\n",
    "preds = model.predict(X_test)\n",
    "\n",
    "print('Acc Score: ',accuracy_score(np.argmax(y_test, axis=1), np.argmax(preds, axis=1)))\n",
    "print('Roc Auc Score: ',roc_auc_score(np.argmax(y_test, axis=1), np.argmax(preds, axis=1)))\n",
    "#print('Precision Score: ',precision_score(y_test, preds))\n",
    "#print('Recall Score: ',recall_score(y_test, preds))\n",
    "print('f1 score: ',f1_score(np.argmax(y_test, axis=1), np.argmax(preds, axis=1)))\n"
   ]
  },
  {
   "cell_type": "code",
   "execution_count": 33,
   "id": "07a7311d",
   "metadata": {},
   "outputs": [
    {
     "data": {
      "text/plain": [
       "array([[562,  16],\n",
       "       [ 55,   5]], dtype=int64)"
      ]
     },
     "execution_count": 33,
     "metadata": {},
     "output_type": "execute_result"
    }
   ],
   "source": [
    "confusion_matrix(np.argmax(y_test, axis=1), np.argmax(preds, axis=1))"
   ]
  },
  {
   "cell_type": "code",
   "execution_count": 34,
   "id": "dbf3f989",
   "metadata": {},
   "outputs": [
    {
     "data": {
      "text/plain": [
       "array([0, 0, 0, 0, 0, 0, 0, 0, 0, 0, 0, 0, 0, 0, 0, 0, 0, 0, 0, 0, 0, 0,\n",
       "       0, 0, 0, 0, 0, 0, 0, 0, 0, 0, 0, 0, 0, 0, 0, 0, 0, 0, 0, 0, 0, 0,\n",
       "       0, 0, 0, 0, 0, 0, 0, 0, 0, 0, 0, 0, 0, 0, 0, 0, 0, 0, 0, 0, 0, 0,\n",
       "       0, 0, 0, 0, 0, 0, 1, 0, 0, 1, 0, 0, 0, 0, 0, 0, 0, 0, 0, 0, 0, 0,\n",
       "       0, 0, 1, 0, 0, 0, 0, 0, 0, 0, 0, 0, 0, 0, 0, 0, 0, 0, 0, 0, 0, 0,\n",
       "       0, 0, 0, 0, 0, 0, 0, 0, 0, 0, 1, 0, 0, 0, 0, 0, 0, 0, 0, 0, 0, 0,\n",
       "       0, 0, 0, 0, 0, 0, 0, 0, 0, 0, 0, 1, 0, 1, 0, 0, 0, 0, 0, 0, 0, 0,\n",
       "       0, 0, 0, 1, 0, 0, 0, 0, 0, 0, 0, 0, 0, 0, 0, 0, 0, 0, 0, 0, 0, 0,\n",
       "       0, 0, 0, 0, 0, 0, 0, 0, 0, 0, 0, 0, 0, 0, 0, 0, 0, 0, 0, 0, 0, 0,\n",
       "       0, 0, 0, 0, 0, 0, 0, 0, 0, 0, 0, 0, 0, 0, 0, 0, 0, 0, 0, 0, 0, 0,\n",
       "       0, 0, 0, 1, 0, 0, 0, 0, 0, 0, 0, 0, 0, 0, 0, 0, 0, 0, 0, 0, 0, 0,\n",
       "       0, 0, 0, 0, 0, 0, 0, 0, 0, 0, 0, 0, 0, 0, 0, 0, 1, 0, 0, 0, 0, 0,\n",
       "       0, 0, 0, 0, 0, 0, 0, 0, 0, 0, 0, 0, 0, 0, 0, 0, 0, 0, 0, 0, 0, 0,\n",
       "       0, 0, 0, 1, 0, 0, 0, 0, 0, 0, 0, 0, 1, 0, 0, 0, 0, 0, 0, 0, 0, 0,\n",
       "       0, 0, 0, 0, 0, 0, 0, 1, 0, 0, 0, 0, 0, 0, 0, 0, 0, 0, 0, 0, 0, 0,\n",
       "       0, 0, 0, 0, 0, 0, 0, 0, 0, 0, 0, 0, 0, 0, 0, 0, 0, 0, 0, 0, 0, 0,\n",
       "       0, 0, 0, 0, 0, 0, 0, 0, 0, 0, 0, 0, 0, 0, 0, 0, 0, 0, 0, 0, 0, 0,\n",
       "       0, 0, 0, 0, 0, 1, 0, 0, 0, 0, 0, 0, 0, 0, 0, 0, 0, 0, 0, 0, 0, 0,\n",
       "       0, 0, 0, 0, 0, 0, 0, 0, 0, 0, 0, 0, 0, 0, 0, 0, 0, 0, 0, 0, 0, 0,\n",
       "       0, 0, 0, 0, 0, 0, 0, 0, 1, 0, 0, 0, 0, 0, 0, 0, 0, 0, 0, 0, 0, 0,\n",
       "       0, 0, 0, 0, 0, 0, 0, 0, 0, 0, 0, 0, 0, 0, 0, 0, 0, 0, 0, 0, 0, 0,\n",
       "       0, 0, 0, 0, 0, 0, 0, 0, 0, 0, 0, 0, 0, 0, 0, 0, 0, 1, 0, 0, 0, 0,\n",
       "       0, 0, 0, 0, 0, 0, 0, 0, 0, 0, 0, 1, 0, 0, 0, 0, 0, 0, 0, 0, 0, 0,\n",
       "       0, 0, 0, 0, 0, 0, 0, 0, 0, 0, 0, 0, 0, 0, 0, 0, 0, 0, 0, 0, 0, 0,\n",
       "       0, 0, 0, 0, 0, 1, 0, 0, 0, 0, 0, 0, 0, 0, 0, 0, 0, 0, 0, 0, 0, 0,\n",
       "       0, 1, 0, 0, 1, 0, 0, 0, 0, 0, 0, 0, 0, 0, 0, 0, 0, 1, 0, 0, 0, 0,\n",
       "       0, 0, 0, 0, 0, 0, 0, 0, 0, 0, 1, 0, 0, 0, 0, 0, 0, 0, 0, 0, 0, 0,\n",
       "       0, 0, 0, 0, 0, 0, 0, 0, 0, 0, 0, 0, 0, 0, 0, 0, 0, 0, 0, 0, 0, 0,\n",
       "       0, 0, 0, 0, 0, 0, 0, 0, 0, 0, 0, 0, 0, 0, 0, 0, 0, 0, 0, 0, 0, 0],\n",
       "      dtype=int64)"
      ]
     },
     "execution_count": 34,
     "metadata": {},
     "output_type": "execute_result"
    }
   ],
   "source": [
    "np.argmax(preds, axis=1)"
   ]
  },
  {
   "cell_type": "code",
   "execution_count": 35,
   "id": "189fbf9f",
   "metadata": {},
   "outputs": [
    {
     "data": {
      "image/png": "[encoded data removed]",
      "text/plain": [
       "<Figure size 432x288 with 1 Axes>"
      ]
     },
     "metadata": {
      "needs_background": "light"
     },
     "output_type": "display_data"
    }
   ],
   "source": [
    "temp_true  = np.copy(y_2_test)\n",
    "#temp_true[temp_true > 0] = 5\n",
    "#preds[preds > 0] = 2\n",
    "plt.plot(preds[300:400],'r', label='Prediction')\n",
    "plt.plot(temp_true[300:400],'b', label='Ground Truth')\n",
    "plt.show()"
   ]
  },
  {
   "cell_type": "code",
   "execution_count": 36,
   "id": "6d8efd68",
   "metadata": {},
   "outputs": [],
   "source": [
    "scaler = StandardScaler().fit(X_train)\n",
    "X_train = scaler.transform(X_train)\n",
    "X_test = scaler.transform(X_test)\n"
   ]
  },
  {
   "cell_type": "code",
   "execution_count": 37,
   "id": "21ef3930",
   "metadata": {},
   "outputs": [
    {
     "name": "stdout",
     "output_type": "stream",
     "text": [
      "Epoch 1/115\n",
      "20/20 [==============================] - 1s 15ms/step - loss: 7.7568 - mse: 7.7568 - val_loss: 5.0503 - val_mse: 5.0503\n",
      "Epoch 2/115\n",
      "20/20 [==============================] - 0s 4ms/step - loss: 7.7286 - mse: 7.7286 - val_loss: 5.0225 - val_mse: 5.0225\n",
      "Epoch 3/115\n",
      "20/20 [==============================] - 0s 5ms/step - loss: 7.6876 - mse: 7.6876 - val_loss: 4.9752 - val_mse: 4.9752\n",
      "Epoch 4/115\n",
      "20/20 [==============================] - 0s 5ms/step - loss: 7.6206 - mse: 7.6206 - val_loss: 4.9110 - val_mse: 4.9110\n",
      "Epoch 5/115\n",
      "20/20 [==============================] - 0s 6ms/step - loss: 7.5334 - mse: 7.5334 - val_loss: 4.8542 - val_mse: 4.8542\n",
      "Epoch 6/115\n",
      "20/20 [==============================] - 0s 5ms/step - loss: 7.4625 - mse: 7.4625 - val_loss: 4.8246 - val_mse: 4.8246\n",
      "Epoch 7/115\n",
      "20/20 [==============================] - 0s 5ms/step - loss: 7.4139 - mse: 7.4139 - val_loss: 4.7991 - val_mse: 4.7991\n",
      "Epoch 8/115\n",
      "20/20 [==============================] - 0s 4ms/step - loss: 7.3563 - mse: 7.3563 - val_loss: 4.7733 - val_mse: 4.7733\n",
      "Epoch 9/115\n",
      "20/20 [==============================] - 0s 4ms/step - loss: 7.3111 - mse: 7.3111 - val_loss: 4.7503 - val_mse: 4.7503\n",
      "Epoch 10/115\n",
      "20/20 [==============================] - 0s 6ms/step - loss: 7.2639 - mse: 7.2639 - val_loss: 4.7332 - val_mse: 4.7332\n",
      "Epoch 11/115\n",
      "20/20 [==============================] - 0s 5ms/step - loss: 7.2320 - mse: 7.2320 - val_loss: 4.7231 - val_mse: 4.7231\n",
      "Epoch 12/115\n",
      "20/20 [==============================] - 0s 6ms/step - loss: 7.2019 - mse: 7.2019 - val_loss: 4.7124 - val_mse: 4.7124\n",
      "Epoch 13/115\n",
      "20/20 [==============================] - 0s 5ms/step - loss: 7.1819 - mse: 7.1819 - val_loss: 4.7070 - val_mse: 4.7070\n",
      "Epoch 14/115\n",
      "20/20 [==============================] - 0s 5ms/step - loss: 7.1694 - mse: 7.1694 - val_loss: 4.7133 - val_mse: 4.7133\n",
      "Epoch 15/115\n",
      "20/20 [==============================] - 0s 5ms/step - loss: 7.1638 - mse: 7.1638 - val_loss: 4.7132 - val_mse: 4.7132\n",
      "Epoch 16/115\n",
      "20/20 [==============================] - 0s 5ms/step - loss: 7.1599 - mse: 7.1599 - val_loss: 4.7247 - val_mse: 4.7247\n",
      "Epoch 17/115\n",
      "20/20 [==============================] - 0s 5ms/step - loss: 7.1569 - mse: 7.1569 - val_loss: 4.7163 - val_mse: 4.7163\n",
      "Epoch 18/115\n",
      "20/20 [==============================] - 0s 5ms/step - loss: 7.1511 - mse: 7.1511 - val_loss: 4.7131 - val_mse: 4.7131\n",
      "Epoch 19/115\n",
      "20/20 [==============================] - 0s 4ms/step - loss: 7.1585 - mse: 7.1585 - val_loss: 4.7101 - val_mse: 4.7101\n",
      "Epoch 20/115\n",
      "20/20 [==============================] - 0s 4ms/step - loss: 7.1478 - mse: 7.1478 - val_loss: 4.7204 - val_mse: 4.7204\n",
      "Epoch 21/115\n",
      "20/20 [==============================] - 0s 4ms/step - loss: 7.1477 - mse: 7.1477 - val_loss: 4.7249 - val_mse: 4.7249\n",
      "Epoch 22/115\n",
      "20/20 [==============================] - 0s 5ms/step - loss: 7.1514 - mse: 7.1514 - val_loss: 4.7087 - val_mse: 4.7087\n",
      "Epoch 23/115\n",
      "20/20 [==============================] - 0s 4ms/step - loss: 7.1471 - mse: 7.1471 - val_loss: 4.7212 - val_mse: 4.7212\n",
      "Epoch 24/115\n",
      "20/20 [==============================] - 0s 4ms/step - loss: 7.1480 - mse: 7.1480 - val_loss: 4.7094 - val_mse: 4.7094\n",
      "Epoch 25/115\n",
      "20/20 [==============================] - 0s 5ms/step - loss: 7.1428 - mse: 7.1428 - val_loss: 4.7224 - val_mse: 4.7224\n",
      "Epoch 26/115\n",
      "20/20 [==============================] - 0s 6ms/step - loss: 7.1414 - mse: 7.1414 - val_loss: 4.7187 - val_mse: 4.7187\n",
      "Epoch 27/115\n",
      "20/20 [==============================] - 0s 6ms/step - loss: 7.1397 - mse: 7.1397 - val_loss: 4.7190 - val_mse: 4.7190\n",
      "Epoch 28/115\n",
      "20/20 [==============================] - 0s 7ms/step - loss: 7.1367 - mse: 7.1367 - val_loss: 4.7160 - val_mse: 4.7160\n",
      "Epoch 29/115\n",
      "20/20 [==============================] - 0s 7ms/step - loss: 7.1369 - mse: 7.1369 - val_loss: 4.7099 - val_mse: 4.7099\n",
      "Epoch 30/115\n",
      "20/20 [==============================] - 0s 7ms/step - loss: 7.1396 - mse: 7.1396 - val_loss: 4.7078 - val_mse: 4.7078\n",
      "Epoch 31/115\n",
      "20/20 [==============================] - 0s 6ms/step - loss: 7.1376 - mse: 7.1376 - val_loss: 4.7143 - val_mse: 4.7143\n",
      "Epoch 32/115\n",
      "20/20 [==============================] - 0s 6ms/step - loss: 7.1401 - mse: 7.1401 - val_loss: 4.7070 - val_mse: 4.7070\n",
      "Epoch 33/115\n",
      "20/20 [==============================] - 0s 6ms/step - loss: 7.1358 - mse: 7.1358 - val_loss: 4.7176 - val_mse: 4.7176\n",
      "Epoch 34/115\n",
      "20/20 [==============================] - 0s 6ms/step - loss: 7.1389 - mse: 7.1389 - val_loss: 4.7089 - val_mse: 4.7089\n",
      "Epoch 35/115\n",
      "20/20 [==============================] - 0s 6ms/step - loss: 7.1403 - mse: 7.1403 - val_loss: 4.7177 - val_mse: 4.7177\n",
      "Epoch 36/115\n",
      "20/20 [==============================] - 0s 5ms/step - loss: 7.1358 - mse: 7.1358 - val_loss: 4.7213 - val_mse: 4.7213\n",
      "Epoch 37/115\n",
      "20/20 [==============================] - 0s 5ms/step - loss: 7.1342 - mse: 7.1342 - val_loss: 4.7039 - val_mse: 4.7039\n",
      "Epoch 38/115\n",
      "20/20 [==============================] - 0s 5ms/step - loss: 7.1362 - mse: 7.1362 - val_loss: 4.7060 - val_mse: 4.7060\n",
      "Epoch 39/115\n",
      "20/20 [==============================] - 0s 6ms/step - loss: 7.1352 - mse: 7.1352 - val_loss: 4.7209 - val_mse: 4.7209\n",
      "Epoch 40/115\n",
      "20/20 [==============================] - 0s 4ms/step - loss: 7.1296 - mse: 7.1296 - val_loss: 4.7048 - val_mse: 4.7048\n",
      "Epoch 41/115\n",
      "20/20 [==============================] - 0s 6ms/step - loss: 7.1325 - mse: 7.1325 - val_loss: 4.7083 - val_mse: 4.7083\n",
      "Epoch 42/115\n",
      "20/20 [==============================] - 0s 5ms/step - loss: 7.1307 - mse: 7.1307 - val_loss: 4.7096 - val_mse: 4.7096\n",
      "Epoch 43/115\n",
      "20/20 [==============================] - 0s 8ms/step - loss: 7.1310 - mse: 7.1310 - val_loss: 4.7106 - val_mse: 4.7106\n",
      "Epoch 44/115\n",
      "20/20 [==============================] - 0s 7ms/step - loss: 7.1289 - mse: 7.1289 - val_loss: 4.7112 - val_mse: 4.7112\n",
      "Epoch 45/115\n",
      "20/20 [==============================] - 0s 6ms/step - loss: 7.1290 - mse: 7.1290 - val_loss: 4.7088 - val_mse: 4.7088\n",
      "Epoch 46/115\n",
      "20/20 [==============================] - 0s 6ms/step - loss: 7.1301 - mse: 7.1301 - val_loss: 4.7132 - val_mse: 4.7132\n",
      "Epoch 47/115\n",
      "20/20 [==============================] - 0s 6ms/step - loss: 7.1262 - mse: 7.1262 - val_loss: 4.7072 - val_mse: 4.7072\n",
      "Epoch 48/115\n",
      "20/20 [==============================] - 0s 6ms/step - loss: 7.1315 - mse: 7.1315 - val_loss: 4.6967 - val_mse: 4.6967\n",
      "Epoch 49/115\n",
      "20/20 [==============================] - 0s 7ms/step - loss: 7.1297 - mse: 7.1297 - val_loss: 4.7141 - val_mse: 4.7141\n",
      "Epoch 50/115\n",
      "20/20 [==============================] - 0s 6ms/step - loss: 7.1296 - mse: 7.1296 - val_loss: 4.7125 - val_mse: 4.7125\n",
      "Epoch 51/115\n",
      "20/20 [==============================] - 0s 6ms/step - loss: 7.1283 - mse: 7.1283 - val_loss: 4.7057 - val_mse: 4.7057\n",
      "Epoch 52/115\n",
      "20/20 [==============================] - 0s 6ms/step - loss: 7.1246 - mse: 7.1246 - val_loss: 4.7026 - val_mse: 4.7026\n",
      "Epoch 53/115\n",
      "20/20 [==============================] - 0s 5ms/step - loss: 7.1247 - mse: 7.1247 - val_loss: 4.7070 - val_mse: 4.7070\n",
      "Epoch 54/115\n",
      "20/20 [==============================] - 0s 5ms/step - loss: 7.1253 - mse: 7.1253 - val_loss: 4.7080 - val_mse: 4.7080\n",
      "Epoch 55/115\n",
      "20/20 [==============================] - 0s 4ms/step - loss: 7.1239 - mse: 7.1239 - val_loss: 4.7083 - val_mse: 4.7083\n",
      "Epoch 56/115\n",
      "20/20 [==============================] - 0s 4ms/step - loss: 7.1287 - mse: 7.1287 - val_loss: 4.7100 - val_mse: 4.7100\n",
      "Epoch 57/115\n",
      "20/20 [==============================] - 0s 5ms/step - loss: 7.1234 - mse: 7.1234 - val_loss: 4.7043 - val_mse: 4.7043\n",
      "Epoch 58/115\n",
      "20/20 [==============================] - 0s 6ms/step - loss: 7.1242 - mse: 7.1242 - val_loss: 4.7134 - val_mse: 4.7134\n",
      "Epoch 59/115\n",
      "20/20 [==============================] - 0s 6ms/step - loss: 7.1236 - mse: 7.1236 - val_loss: 4.7045 - val_mse: 4.7045\n",
      "Epoch 60/115\n",
      "20/20 [==============================] - 0s 5ms/step - loss: 7.1245 - mse: 7.1245 - val_loss: 4.7011 - val_mse: 4.7011\n",
      "Epoch 61/115\n",
      "20/20 [==============================] - 0s 6ms/step - loss: 7.1237 - mse: 7.1237 - val_loss: 4.7135 - val_mse: 4.7135\n",
      "Epoch 62/115\n",
      "20/20 [==============================] - 0s 5ms/step - loss: 7.1221 - mse: 7.1221 - val_loss: 4.7064 - val_mse: 4.7064\n",
      "Epoch 63/115\n"
     ]
    },
    {
     "name": "stdout",
     "output_type": "stream",
     "text": [
      "20/20 [==============================] - 0s 5ms/step - loss: 7.1266 - mse: 7.1266 - val_loss: 4.7014 - val_mse: 4.7014\n",
      "Epoch 64/115\n",
      "20/20 [==============================] - 0s 5ms/step - loss: 7.1223 - mse: 7.1223 - val_loss: 4.7019 - val_mse: 4.7019\n",
      "Epoch 65/115\n",
      "20/20 [==============================] - 0s 5ms/step - loss: 7.1257 - mse: 7.1257 - val_loss: 4.7094 - val_mse: 4.7094\n",
      "Epoch 66/115\n",
      "20/20 [==============================] - 0s 5ms/step - loss: 7.1295 - mse: 7.1295 - val_loss: 4.7093 - val_mse: 4.7093\n",
      "Epoch 67/115\n",
      "20/20 [==============================] - 0s 5ms/step - loss: 7.1289 - mse: 7.1289 - val_loss: 4.6991 - val_mse: 4.6991\n",
      "Epoch 68/115\n",
      "20/20 [==============================] - 0s 5ms/step - loss: 7.1199 - mse: 7.1199 - val_loss: 4.7037 - val_mse: 4.7037\n",
      "Epoch 69/115\n",
      "20/20 [==============================] - 0s 4ms/step - loss: 7.1217 - mse: 7.1217 - val_loss: 4.6982 - val_mse: 4.6982\n",
      "Epoch 70/115\n",
      "20/20 [==============================] - 0s 6ms/step - loss: 7.1253 - mse: 7.1253 - val_loss: 4.7028 - val_mse: 4.7028\n",
      "Epoch 71/115\n",
      "20/20 [==============================] - 0s 5ms/step - loss: 7.1198 - mse: 7.1198 - val_loss: 4.7041 - val_mse: 4.7041\n",
      "Epoch 72/115\n",
      "20/20 [==============================] - 0s 4ms/step - loss: 7.1200 - mse: 7.1200 - val_loss: 4.7054 - val_mse: 4.7054\n",
      "Epoch 73/115\n",
      "20/20 [==============================] - 0s 4ms/step - loss: 7.1215 - mse: 7.1215 - val_loss: 4.7004 - val_mse: 4.7004\n",
      "Epoch 74/115\n",
      "20/20 [==============================] - 0s 4ms/step - loss: 7.1224 - mse: 7.1224 - val_loss: 4.7100 - val_mse: 4.7100\n",
      "Epoch 75/115\n",
      "20/20 [==============================] - 0s 4ms/step - loss: 7.1207 - mse: 7.1207 - val_loss: 4.7089 - val_mse: 4.7089\n",
      "Epoch 76/115\n",
      "20/20 [==============================] - 0s 4ms/step - loss: 7.1226 - mse: 7.1226 - val_loss: 4.6951 - val_mse: 4.6951\n",
      "Epoch 77/115\n",
      "20/20 [==============================] - 0s 4ms/step - loss: 7.1188 - mse: 7.1188 - val_loss: 4.6958 - val_mse: 4.6958\n",
      "Epoch 78/115\n",
      "20/20 [==============================] - 0s 4ms/step - loss: 7.1187 - mse: 7.1187 - val_loss: 4.7018 - val_mse: 4.7018\n",
      "Epoch 79/115\n",
      "20/20 [==============================] - 0s 4ms/step - loss: 7.1275 - mse: 7.1275 - val_loss: 4.7105 - val_mse: 4.7105\n",
      "Epoch 80/115\n",
      "20/20 [==============================] - 0s 4ms/step - loss: 7.1210 - mse: 7.1210 - val_loss: 4.6986 - val_mse: 4.6986\n",
      "Epoch 81/115\n",
      "20/20 [==============================] - 0s 5ms/step - loss: 7.1182 - mse: 7.1182 - val_loss: 4.6995 - val_mse: 4.6995\n",
      "Epoch 82/115\n",
      "20/20 [==============================] - 0s 7ms/step - loss: 7.1222 - mse: 7.1222 - val_loss: 4.7043 - val_mse: 4.7043\n",
      "Epoch 83/115\n",
      "20/20 [==============================] - 0s 7ms/step - loss: 7.1163 - mse: 7.1163 - val_loss: 4.7012 - val_mse: 4.7012\n",
      "Epoch 84/115\n",
      "20/20 [==============================] - 0s 5ms/step - loss: 7.1202 - mse: 7.1202 - val_loss: 4.7070 - val_mse: 4.7070\n",
      "Epoch 85/115\n",
      "20/20 [==============================] - 0s 6ms/step - loss: 7.1158 - mse: 7.1158 - val_loss: 4.6997 - val_mse: 4.6997\n",
      "Epoch 86/115\n",
      "20/20 [==============================] - 0s 6ms/step - loss: 7.1165 - mse: 7.1165 - val_loss: 4.6965 - val_mse: 4.6965\n",
      "Epoch 87/115\n",
      "20/20 [==============================] - 0s 6ms/step - loss: 7.1159 - mse: 7.1159 - val_loss: 4.6977 - val_mse: 4.6977\n",
      "Epoch 88/115\n",
      "20/20 [==============================] - 0s 7ms/step - loss: 7.1163 - mse: 7.1163 - val_loss: 4.7058 - val_mse: 4.7058\n",
      "Epoch 89/115\n",
      "20/20 [==============================] - 0s 6ms/step - loss: 7.1195 - mse: 7.1195 - val_loss: 4.6896 - val_mse: 4.6896\n",
      "Epoch 90/115\n",
      "20/20 [==============================] - 0s 6ms/step - loss: 7.1164 - mse: 7.1164 - val_loss: 4.6988 - val_mse: 4.6988\n",
      "Epoch 91/115\n",
      "20/20 [==============================] - 0s 6ms/step - loss: 7.1156 - mse: 7.1156 - val_loss: 4.7016 - val_mse: 4.7016\n",
      "Epoch 92/115\n",
      "20/20 [==============================] - 0s 6ms/step - loss: 7.1202 - mse: 7.1202 - val_loss: 4.6975 - val_mse: 4.6975\n",
      "Epoch 93/115\n",
      "20/20 [==============================] - 0s 6ms/step - loss: 7.1183 - mse: 7.1183 - val_loss: 4.7005 - val_mse: 4.7005\n",
      "Epoch 94/115\n",
      "20/20 [==============================] - 0s 4ms/step - loss: 7.1195 - mse: 7.1195 - val_loss: 4.6996 - val_mse: 4.6996\n",
      "Epoch 95/115\n",
      "20/20 [==============================] - 0s 4ms/step - loss: 7.1153 - mse: 7.1153 - val_loss: 4.7027 - val_mse: 4.7027\n",
      "Epoch 96/115\n",
      "20/20 [==============================] - 0s 4ms/step - loss: 7.1157 - mse: 7.1157 - val_loss: 4.7019 - val_mse: 4.7019\n",
      "Epoch 97/115\n",
      "20/20 [==============================] - 0s 5ms/step - loss: 7.1168 - mse: 7.1168 - val_loss: 4.6956 - val_mse: 4.6956\n",
      "Epoch 98/115\n",
      "20/20 [==============================] - 0s 5ms/step - loss: 7.1156 - mse: 7.1156 - val_loss: 4.7053 - val_mse: 4.7053\n",
      "Epoch 99/115\n",
      "20/20 [==============================] - 0s 5ms/step - loss: 7.1172 - mse: 7.1172 - val_loss: 4.7011 - val_mse: 4.7011\n",
      "Epoch 100/115\n",
      "20/20 [==============================] - 0s 5ms/step - loss: 7.1114 - mse: 7.1114 - val_loss: 4.6971 - val_mse: 4.6971\n",
      "Epoch 101/115\n",
      "20/20 [==============================] - 0s 5ms/step - loss: 7.1145 - mse: 7.1145 - val_loss: 4.7052 - val_mse: 4.7052\n",
      "Epoch 102/115\n",
      "20/20 [==============================] - 0s 4ms/step - loss: 7.1150 - mse: 7.1150 - val_loss: 4.7067 - val_mse: 4.7067\n",
      "Epoch 103/115\n",
      "20/20 [==============================] - 0s 4ms/step - loss: 7.1174 - mse: 7.1174 - val_loss: 4.6957 - val_mse: 4.6957\n",
      "Epoch 104/115\n",
      "20/20 [==============================] - 0s 3ms/step - loss: 7.1137 - mse: 7.1137 - val_loss: 4.7043 - val_mse: 4.7043\n",
      "Epoch 105/115\n",
      "20/20 [==============================] - 0s 5ms/step - loss: 7.1150 - mse: 7.1150 - val_loss: 4.6950 - val_mse: 4.6950\n",
      "Epoch 106/115\n",
      "20/20 [==============================] - 0s 5ms/step - loss: 7.1140 - mse: 7.1140 - val_loss: 4.7023 - val_mse: 4.7023\n",
      "Epoch 107/115\n",
      "20/20 [==============================] - 0s 5ms/step - loss: 7.1131 - mse: 7.1131 - val_loss: 4.7002 - val_mse: 4.7002\n",
      "Epoch 108/115\n",
      "20/20 [==============================] - 0s 4ms/step - loss: 7.1131 - mse: 7.1131 - val_loss: 4.6930 - val_mse: 4.6930\n",
      "Epoch 109/115\n",
      "20/20 [==============================] - 0s 4ms/step - loss: 7.1113 - mse: 7.1113 - val_loss: 4.6994 - val_mse: 4.6994\n",
      "Epoch 110/115\n",
      "20/20 [==============================] - 0s 3ms/step - loss: 7.1116 - mse: 7.1116 - val_loss: 4.7025 - val_mse: 4.7025\n",
      "Epoch 111/115\n",
      "20/20 [==============================] - 0s 5ms/step - loss: 7.1161 - mse: 7.1161 - val_loss: 4.7107 - val_mse: 4.7107\n",
      "Epoch 112/115\n",
      "20/20 [==============================] - 0s 6ms/step - loss: 7.1088 - mse: 7.1088 - val_loss: 4.6959 - val_mse: 4.6959\n",
      "Epoch 113/115\n",
      "20/20 [==============================] - 0s 4ms/step - loss: 7.1119 - mse: 7.1119 - val_loss: 4.6951 - val_mse: 4.6951\n",
      "Epoch 114/115\n",
      "20/20 [==============================] - 0s 4ms/step - loss: 7.1132 - mse: 7.1132 - val_loss: 4.6894 - val_mse: 4.6894\n",
      "Epoch 115/115\n",
      "20/20 [==============================] - 0s 4ms/step - loss: 7.1103 - mse: 7.1103 - val_loss: 4.6945 - val_mse: 4.6945\n",
      "20/20 [==============================] - 0s 2ms/step\n"
     ]
    }
   ],
   "source": [
    "import keras\n",
    "from keras.layers import Dense\n",
    "model = keras.Sequential()\n",
    "#model.add(Dense(69, kernel_initializer='normal', activation='relu', input_shape=(23,)))\n",
    "model.add(Dense(12, kernel_initializer='normal', activation='relu', input_shape=(22,)))\n",
    "model.add(Dense(5, kernel_initializer='normal', activation='relu'))\n",
    "model.add(Dense(1, kernel_initializer='normal', activation='relu'))\n",
    "model.compile(loss='mse', optimizer='Adam', metrics='mse', )\n",
    "model.fit(X_train, y_2_train, validation_data=(X_test, y_2_test), verbose=1, epochs=115, batch_size=128, shuffle=True)\n",
    "\n",
    "from sklearn.metrics import mean_squared_error\n",
    "from sklearn.metrics import mean_absolute_error\n",
    "\n",
    "preds = model.predict(X_test)\n"
   ]
  },
  {
   "cell_type": "code",
   "execution_count": 38,
   "id": "2a5b8b4f",
   "metadata": {},
   "outputs": [
    {
     "data": {
      "text/plain": [
       "4.694543133377557"
      ]
     },
     "execution_count": 38,
     "metadata": {},
     "output_type": "execute_result"
    }
   ],
   "source": [
    "mean_squared_error(y_2_test, preds)"
   ]
  },
  {
   "cell_type": "code",
   "execution_count": 39,
   "id": "05c0493b",
   "metadata": {},
   "outputs": [
    {
     "data": {
      "text/plain": [
       "0.7671286722032068"
      ]
     },
     "execution_count": 39,
     "metadata": {},
     "output_type": "execute_result"
    }
   ],
   "source": [
    "mean_absolute_error(y_2_test, preds)"
   ]
  },
  {
   "cell_type": "code",
   "execution_count": 40,
   "id": "59b760f9",
   "metadata": {},
   "outputs": [
    {
     "data": {
      "text/plain": [
       "0.03724231839894543"
      ]
     },
     "execution_count": 40,
     "metadata": {},
     "output_type": "execute_result"
    }
   ],
   "source": [
    "r2_score(y_2_test, preds)"
   ]
  },
  {
   "cell_type": "code",
   "execution_count": 41,
   "id": "5da38453",
   "metadata": {},
   "outputs": [
    {
     "data": {
      "image/png": "[encoded data removed]",
      "text/plain": [
       "<Figure size 1200x480 with 2 Axes>"
      ]
     },
     "metadata": {
      "needs_background": "light"
     },
     "output_type": "display_data"
    }
   ],
   "source": [
    "# Create Figure and Subplots\n",
    "fig, (ax1, ax2) = plt.subplots(1,2, figsize=(10,4), sharey=True, dpi=120)\n",
    "\n",
    "# Plot\n",
    "ax1.plot(preds, 'g')  # greendots\n",
    "ax2.plot(y_2_test, 'b')  # bluestart\n",
    "\n",
    "# Title, X and Y labels, X and Y Lim\n",
    "ax1.set_title('Predictions'); ax2.set_title('Ground Truth')\n",
    "\n",
    "  # y axis limits\n",
    "\n",
    "# ax2.yaxis.set_ticks_position('none') \n",
    "plt.tight_layout()\n",
    "plt.show()"
   ]
  },
  {
   "cell_type": "code",
   "execution_count": 42,
   "id": "7e092587",
   "metadata": {},
   "outputs": [
    {
     "data": {
      "text/plain": [
       "array([ 18,  16,  13,  10,  16, 370,  66,  43,  26,  44,  51,  14,  14,\n",
       "         5,   0,   7,  31,  54,  24,  33,  45])"
      ]
     },
     "execution_count": 42,
     "metadata": {},
     "output_type": "execute_result"
    }
   ],
   "source": [
    "classifier.feature_importances_"
   ]
  },
  {
   "cell_type": "code",
   "execution_count": 43,
   "id": "da999a7b",
   "metadata": {},
   "outputs": [],
   "source": [
    "features = ['HR-1', 'HR-2', 'HR-3', 'HR-4', 'HR-5', 'PB-1', 'PB-2', 'PB-3', 'PB-4','PB-5', 'T-1', 'T-2', 'T-3', 'T-4', 'T-5', 'VV-1', 'VV-2', 'VV-3','VV-4', 'VV-5', 'vol', 'intensity']"
   ]
  },
  {
   "cell_type": "code",
   "execution_count": 44,
   "id": "c9d253e7",
   "metadata": {},
   "outputs": [
    {
     "data": {
      "image/png": "[encoded data removed]",
      "text/plain": [
       "<Figure size 432x288 with 1 Axes>"
      ]
     },
     "metadata": {
      "needs_background": "light"
     },
     "output_type": "display_data"
    }
   ],
   "source": [
    "temp_true  = np.copy(y_2_test)\n",
    "#temp_true[temp_true > 0] = 5\n",
    "#preds[preds > 0] = 2\n",
    "plt.plot(preds[0:100],'r', label='Prediction')\n",
    "plt.plot(temp_true[0:100],'b', label='Ground Truth')\n",
    "plt.show()"
   ]
  },
  {
   "cell_type": "code",
   "execution_count": 45,
   "id": "dfc9d5c4",
   "metadata": {},
   "outputs": [
    {
     "data": {
      "image/png": "[encoded data removed]",
      "text/plain": [
       "<Figure size 504x360 with 1 Axes>"
      ]
     },
     "metadata": {
      "needs_background": "light"
     },
     "output_type": "display_data"
    }
   ],
   "source": [
    "data = [0.11, 0.198, 0.89]\n",
    "\n",
    "f = plt.figure()\n",
    "f.set_figwidth(7)\n",
    "f.set_figheight(5)\n",
    "\n",
    "x = ['Basic Measurements', 'Precipitation Prediction', 'True Precipitation']\n",
    "plt.xticks(range(len(data)), x)\n",
    "\n",
    "plt.bar(range(len(x)), data, color='royalblue', alpha=0.7)\n",
    "plt.grid(color='#95a5a6', linestyle='--', linewidth=2, axis='y', alpha=0.7)\n",
    "plt.title(\"F1 score\")\n",
    "plt.show()"
   ]
  },
  {
   "cell_type": "code",
   "execution_count": 46,
   "id": "e82101e0",
   "metadata": {},
   "outputs": [
    {
     "data": {
      "text/plain": [
       "<AxesSubplot:xlabel='importance', ylabel='features'>"
      ]
     },
     "execution_count": 46,
     "metadata": {},
     "output_type": "execute_result"
    },
    {
     "data": {
      "image/png": "[encoded data removed]",
      "text/plain": [
       "<Figure size 216x576 with 1 Axes>"
      ]
     },
     "metadata": {
      "needs_background": "light"
     },
     "output_type": "display_data"
    }
   ],
   "source": [
    "# plot feature importance\n",
    "import seaborn as sns\n",
    "features = ['HR-1', 'HR-2', 'HR-3', 'HR-4', 'HR-5', 'Precipitation', 'PB-1', 'PB-2', 'PB-3', 'PB-4','PB-5', 'T-1', 'T-2', 'T-3', 'T-4', 'T-5', 'VV-1', 'VV-2', 'VV-3','VV-4', 'VV-5']\n",
    "fi_df = pd.DataFrame(features, columns=['features'])\n",
    "fi_df['importance'] = classifier.booster_.feature_importance(importance_type=\"gain\") / 15000\n",
    "fig, ax = plt.subplots(1, 1, figsize=(3, 8))\n",
    "sns.barplot(\n",
    "    x='importance'\n",
    "    , y='features'\n",
    "    , data=fi_df.sort_values(by=['importance'], ascending=False)\n",
    "    , ax=ax\n",
    ")"
   ]
  },
  {
   "cell_type": "code",
   "execution_count": 47,
   "id": "80db9915",
   "metadata": {},
   "outputs": [],
   "source": [
    "fig.savefig(\"feature_importance_one_hour_precipitation.pdf\",bbox_inches='tight')"
   ]
  },
  {
   "cell_type": "code",
   "execution_count": null,
   "id": "40bb5397",
   "metadata": {},
   "outputs": [],
   "source": [
    "predicted_value = preds\n",
    "true_value = y_2_test\n",
    "fig = plt.figure(figsize=(10,10))\n",
    "plt.scatter(true_value, predicted_value, c='crimson')\n",
    "plt.yscale('linear')\n",
    "plt.xscale('linear')\n",
    "\n",
    "p1 = max(max(predicted_value), max(true_value))\n",
    "p2 = min(min(predicted_value), min(true_value))\n",
    "plt.plot([p1, p2], [p1, p2], 'b-')\n",
    "plt.xlabel('True Values', fontsize=15)\n",
    "plt.ylabel('Predictions', fontsize=15)\n",
    "#plt.axis('equal')\n",
    "plt.xlim([-2, 25])\n",
    "plt.ylim([-2, 25])\n",
    "plt.show()\n",
    "fig.savefig('predictions_vs_true_onehour_percipitation_lgbm.pdf')"
   ]
  }
 ],
 "metadata": {
  "kernelspec": {
   "display_name": "Python 3",
   "language": "python",
   "name": "python3"
  },
  "language_info": {
   "codemirror_mode": {
    "name": "ipython",
    "version": 3
   },
   "file_extension": ".py",
   "mimetype": "text/x-python",
   "name": "python",
   "nbconvert_exporter": "python",
   "pygments_lexer": "ipython3",
   "version": "3.8.8"
  }
 },
 "nbformat": 4,
 "nbformat_minor": 5
}

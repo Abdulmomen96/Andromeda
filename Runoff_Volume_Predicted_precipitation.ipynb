{
 "cells": [
  {
   "cell_type": "code",
   "execution_count": 1,
   "id": "35ccd132",
   "metadata": {},
   "outputs": [],
   "source": [
    "import pandas as pd\n",
    "import numpy as np\n",
    "import smogn\n",
    "from sklearn.metrics import confusion_matrix,accuracy_score,r2_score,roc_auc_score,precision_score,recall_score,f1_score"
   ]
  },
  {
   "cell_type": "code",
   "execution_count": 2,
   "id": "3fe7502a",
   "metadata": {},
   "outputs": [
    {
     "name": "stderr",
     "output_type": "stream",
     "text": [
      "C:\\ProgramData\\Anaconda3\\lib\\site-packages\\dask\\dataframe\\utils.py:369: FutureWarning: pandas.Int64Index is deprecated and will be removed from pandas in a future version. Use pandas.Index with the appropriate dtype instead.\n",
      "  _numeric_index_types = (pd.Int64Index, pd.Float64Index, pd.UInt64Index)\n",
      "C:\\ProgramData\\Anaconda3\\lib\\site-packages\\dask\\dataframe\\utils.py:369: FutureWarning: pandas.Float64Index is deprecated and will be removed from pandas in a future version. Use pandas.Index with the appropriate dtype instead.\n",
      "  _numeric_index_types = (pd.Int64Index, pd.Float64Index, pd.UInt64Index)\n",
      "C:\\ProgramData\\Anaconda3\\lib\\site-packages\\dask\\dataframe\\utils.py:369: FutureWarning: pandas.UInt64Index is deprecated and will be removed from pandas in a future version. Use pandas.Index with the appropriate dtype instead.\n",
      "  _numeric_index_types = (pd.Int64Index, pd.Float64Index, pd.UInt64Index)\n"
     ]
    }
   ],
   "source": [
    "import lightgbm as lgb\n",
    "import matplotlib.pyplot as plt"
   ]
  },
  {
   "cell_type": "code",
   "execution_count": 3,
   "id": "98ee9d9f",
   "metadata": {},
   "outputs": [],
   "source": [
    "from sklearn.preprocessing import StandardScaler\n",
    "\n",
    "\n",
    "X_train = np.load('x_train.npy')\n",
    "y_train = np.load('y_train.npy')\n",
    "X_test = np.load('x_test.npy')\n",
    "y_test = np.load('y_test.npy')"
   ]
  },
  {
   "cell_type": "code",
   "execution_count": 4,
   "id": "3953ed3e",
   "metadata": {},
   "outputs": [],
   "source": [
    "y_2_train = np.load('y_2_train.npy')\n",
    "y_2_test = np.load('y_2_test.npy')\n",
    "y_3_train = np.load('y_3_train.npy')\n",
    "y_3_test = np.load('y_3_test.npy')\n",
    "\n",
    "X_train_class = np.copy(X_train)\n",
    "y_train_class = np.copy(y_train)\n",
    "X_test_class = np.copy(X_test)\n",
    "y_test_class = np.copy(y_test)\n",
    "\n",
    "scaler = StandardScaler().fit(X_train_class)\n",
    "X_train_class = scaler.transform(X_train_class)\n",
    "X_test_class = scaler.transform(X_test_class)\n"
   ]
  },
  {
   "cell_type": "code",
   "execution_count": 5,
   "id": "536b2da0",
   "metadata": {},
   "outputs": [],
   "source": [
    "volume_train = np.load('volume_train.npy') #np.load('volume_train.npy')\n",
    "volume_test = np.load('volume_test.npy') #np.load('volume_test.npy')\n",
    "intensity_train = np.load('intensity_train.npy') #np.load('intensity_train.npy')\n",
    "intensity_test = np.load('intensity_test.npy') #np.load('intensity_test.npy')"
   ]
  },
  {
   "cell_type": "code",
   "execution_count": 6,
   "id": "1d4d047e",
   "metadata": {},
   "outputs": [],
   "source": [
    "# RRegression Values modeifications\n",
    "#y_2_train[y_2_train > 10] = 10.0\n",
    "#y_2_test[y_2_test > 10] = 10.0\n",
    "\n"
   ]
  },
  {
   "cell_type": "code",
   "execution_count": 7,
   "id": "cfcab482",
   "metadata": {},
   "outputs": [],
   "source": [
    "X_train = np.concatenate((X_train, volume_train.reshape(-1, 1), intensity_train.reshape(-1, 1)), axis=1)\n",
    "X_test = np.concatenate((X_test,  volume_test.reshape(-1, 1), intensity_test.reshape(-1, 1)), axis=1)"
   ]
  },
  {
   "cell_type": "code",
   "execution_count": 8,
   "id": "92581670",
   "metadata": {},
   "outputs": [
    {
     "name": "stdout",
     "output_type": "stream",
     "text": [
      "(2552, 22) (639, 22)\n"
     ]
    }
   ],
   "source": [
    "print(X_train.shape, X_test.shape)"
   ]
  },
  {
   "cell_type": "code",
   "execution_count": 9,
   "id": "9859f078",
   "metadata": {},
   "outputs": [],
   "source": [
    "scaler = StandardScaler().fit(X_train)\n",
    "X_train = scaler.transform(X_train)\n",
    "X_test = scaler.transform(X_test)"
   ]
  },
  {
   "cell_type": "code",
   "execution_count": 10,
   "id": "27a2f352",
   "metadata": {},
   "outputs": [],
   "source": [
    "#lgb_train = lgb.Dataset(X_train, y_2_train)\n"
   ]
  },
  {
   "cell_type": "code",
   "execution_count": 11,
   "id": "cb7ba8eb",
   "metadata": {},
   "outputs": [
    {
     "name": "stdout",
     "output_type": "stream",
     "text": [
      "[[-0.45880693 -0.16513392 -0.03903187 ... -0.39361402  0.72248281\n",
      "  -0.33515448]\n",
      " [ 1.24676524  1.33336874  1.42359704 ... -0.62218796  0.69704086\n",
      "  -0.60659235]\n",
      " [ 1.63051898  1.41899747  1.46661554 ... -0.49299399 -0.49728291\n",
      "  -0.37044298]\n",
      " ...\n",
      " [ 0.69245428  0.64833895  0.69228259 ... -0.00603212  0.44179379\n",
      "  -0.74580612]\n",
      " [-0.92783928 -0.97860679 -1.07147581 ...  2.40890126 -0.10509445\n",
      "  -0.74996961]\n",
      " [-1.48215024 -1.83489403 -2.23297523 ...  0.04365787  0.51758002\n",
      "  -0.01529658]]\n"
     ]
    }
   ],
   "source": [
    "print(X_train)"
   ]
  },
  {
   "cell_type": "code",
   "execution_count": 12,
   "id": "c5c4e443",
   "metadata": {},
   "outputs": [
    {
     "data": {
      "text/plain": [
       "'\\npolynom_fit_SMOTE_bus,\\npolynom_fit_SMOTE_star,\\nROSE,\\nGazzah,\\nSPY,\\nMSMOTE,\\nAHC,\\nRWO_sampling,\\npolynom_fit_SMOTE_mesh,\\npolynom_fit_SMOTE_poly\\n'"
      ]
     },
     "execution_count": 12,
     "metadata": {},
     "output_type": "execute_result"
    }
   ],
   "source": [
    "'''\n",
    "polynom_fit_SMOTE_bus,\n",
    "polynom_fit_SMOTE_star,\n",
    "ROSE,\n",
    "Gazzah,\n",
    "SPY,\n",
    "MSMOTE,\n",
    "AHC,\n",
    "RWO_sampling,\n",
    "polynom_fit_SMOTE_mesh,\n",
    "polynom_fit_SMOTE_poly\n",
    "'''"
   ]
  },
  {
   "cell_type": "code",
   "execution_count": 13,
   "id": "a231316f",
   "metadata": {},
   "outputs": [
    {
     "name": "stderr",
     "output_type": "stream",
     "text": [
      "2022-12-21 14:45:17,854:INFO:MSMOTE: Running sampling via ('MSMOTE', \"{'proportion': 2.5, 'n_neighbors': 5, 'nn_params': {}, 'n_jobs': 1, 'random_state': None, 'class_name': 'MSMOTE'}\")\n",
      "2022-12-21 14:45:17,856:INFO:NearestNeighborsWithMetricTensor: NN fitting with metric minkowski\n",
      "2022-12-21 14:45:17,857:INFO:NearestNeighborsWithMetricTensor: kneighbors query minkowski\n"
     ]
    },
    {
     "name": "stdout",
     "output_type": "stream",
     "text": [
      "[LightGBM] [Warning] feature_fraction is set=0.5, colsample_bytree=1.0 will be ignored. Current value: feature_fraction=0.5\n",
      "[LightGBM] [Warning] bagging_fraction is set=0.8, subsample=1.0 will be ignored. Current value: bagging_fraction=0.8\n",
      "[LightGBM] [Warning] bagging_freq is set=15, subsample_freq=0 will be ignored. Current value: bagging_freq=15\n",
      "[[ 0.22342193  0.04893789 -0.12506886 ... -1.03958385 -0.19804197\n",
      "  -0.96079723]\n",
      " [-1.1410358  -1.10704988 -1.2005313  ... -0.82094791 -1.57775805\n",
      "  -0.54009695]\n",
      " [-0.84256067 -1.06423552 -1.1575128  ... -0.10541209 -0.51220138\n",
      "   0.54673979]\n",
      " ...\n",
      " [ 0.05286472  0.22019534  0.26209761 ...  0.98776763  0.27417072\n",
      "  -0.95555988]\n",
      " [-0.0750532  -0.16513392 -0.16808736 ... -0.30417204 -0.60346257\n",
      "   1.27008316]\n",
      " [ 0.60717567 -0.03669083 -0.85638332 ...  1.1169616   3.29114424\n",
      "   0.4053465 ]]\n",
      "Acc Score:  0.6791862284820032\n",
      "Roc Auc Score:  0.500070905893698\n",
      "Precision Score:  0.09550561797752809\n",
      "Recall Score:  0.2786885245901639\n",
      "f1 score:  0.1422594142259414\n"
     ]
    }
   ],
   "source": [
    "from sklearn.neighbors import KNeighborsClassifier\n",
    "from sklearn.tree import DecisionTreeClassifier\n",
    "import lightgbm as lgb\n",
    "import smote_variants as sv\n",
    "from sklearn.ensemble import RandomForestRegressor,RandomForestClassifier,GradientBoostingRegressor,GradientBoostingClassifier\n",
    "from sklearn.svm import SVC\n",
    "from lightgbm import LGBMClassifier\n",
    "import sklearn.datasets as datasets\n",
    "from sklearn.neural_network import MLPClassifier\n",
    "\n",
    "dataset= {'data': X_train,\n",
    "          'target': y_train,\n",
    "          'name': 'Andromeda'}\n",
    "\n",
    "classifier = LGBMClassifier(boosting_type=\"gbdt\",is_unbalance=True, random_state=5, \n",
    "                  n_estimators=300,num_leaves=30, max_depth=2,feature_fraction=0.5, \n",
    "                  bagging_fraction=0.8, bagging_freq=15, learning_rate=0.01)\n",
    "\n",
    "\n",
    "\n",
    "\n",
    "# Classifier Testing\n",
    "\n",
    "# training the best techniques using the entire dataset\n",
    "X_samp, y_samp= sv.MSMOTE(proportion=2.5).sample(X_train, y_train)\n",
    "classifier.fit(X_samp, y_samp)\n",
    "preds2 = classifier.predict(X_test)\n",
    "print(X_test)\n",
    "print('Acc Score: ',accuracy_score(y_test, preds2))\n",
    "print('Roc Auc Score: ',roc_auc_score(y_test, preds2))\n",
    "print('Precision Score: ',precision_score(y_test, preds2))\n",
    "print('Recall Score: ',recall_score(y_test, preds2))\n",
    "print('f1 score: ',f1_score(y_test, preds2))\n",
    "preds_train = classifier.predict(X_train)\n",
    "\n"
   ]
  },
  {
   "cell_type": "code",
   "execution_count": null,
   "id": "347d20d5",
   "metadata": {},
   "outputs": [],
   "source": [
    "from sklearn.metrics import confusion_matrix\n",
    "\n",
    "confusion_matrix(y_test, preds2)"
   ]
  },
  {
   "cell_type": "code",
   "execution_count": 14,
   "id": "3c81d455",
   "metadata": {},
   "outputs": [],
   "source": [
    "# Preparing prediction out\n",
    "X_test = np.concatenate((X_test, preds2.reshape(-1, 1)), axis=1)\n",
    "X_train = np.concatenate((X_train, preds_train.reshape(-1, 1)), axis=1)\n",
    "#scaler = StandardScaler().fit(X_train)\n",
    "#X_train = scaler.transform(X_train)\n",
    "#X_test = scaler.transform(X_test)\n",
    "\n",
    "lgb_eval = lgb.Dataset(X_test, y_2_test)\n",
    "\n",
    "lgb_train = lgb.Dataset(X_train, y_2_train)\n",
    "\n"
   ]
  },
  {
   "cell_type": "code",
   "execution_count": 15,
   "id": "3baa3c3c",
   "metadata": {},
   "outputs": [
    {
     "name": "stdout",
     "output_type": "stream",
     "text": [
      "(2552, 23)\n"
     ]
    }
   ],
   "source": [
    "print(X_train.shape)"
   ]
  },
  {
   "cell_type": "code",
   "execution_count": 16,
   "id": "c38dd09c",
   "metadata": {},
   "outputs": [
    {
     "name": "stdout",
     "output_type": "stream",
     "text": [
      "[1]\tvalid_0's l2: 4.07277\tvalid_0's l1: 0.79942\n",
      "Training until validation scores don't improve for 200 rounds\n",
      "[2]\tvalid_0's l2: 4.06959\tvalid_0's l1: 0.799568\n",
      "[3]\tvalid_0's l2: 4.0752\tvalid_0's l1: 0.799131\n",
      "[4]\tvalid_0's l2: 4.08406\tvalid_0's l1: 0.800842\n",
      "[5]\tvalid_0's l2: 4.0955\tvalid_0's l1: 0.801681\n",
      "[6]\tvalid_0's l2: 4.09494\tvalid_0's l1: 0.801009\n",
      "[7]\tvalid_0's l2: 4.10917\tvalid_0's l1: 0.801362\n",
      "[8]\tvalid_0's l2: 4.12881\tvalid_0's l1: 0.803915\n",
      "[9]\tvalid_0's l2: 4.13895\tvalid_0's l1: 0.803036\n",
      "[10]\tvalid_0's l2: 4.14727\tvalid_0's l1: 0.802744\n",
      "[11]\tvalid_0's l2: 4.167\tvalid_0's l1: 0.803285\n",
      "[12]\tvalid_0's l2: 4.18903\tvalid_0's l1: 0.805891\n",
      "[13]\tvalid_0's l2: 4.20274\tvalid_0's l1: 0.804588\n",
      "[14]\tvalid_0's l2: 4.22673\tvalid_0's l1: 0.805768\n",
      "[15]\tvalid_0's l2: 4.24566\tvalid_0's l1: 0.807074\n",
      "[16]\tvalid_0's l2: 4.26351\tvalid_0's l1: 0.807583\n",
      "[17]\tvalid_0's l2: 4.28175\tvalid_0's l1: 0.80913\n",
      "[18]\tvalid_0's l2: 4.29956\tvalid_0's l1: 0.810486\n",
      "[19]\tvalid_0's l2: 4.32\tvalid_0's l1: 0.81352\n",
      "[20]\tvalid_0's l2: 4.33759\tvalid_0's l1: 0.814667\n",
      "[21]\tvalid_0's l2: 4.34438\tvalid_0's l1: 0.815154\n",
      "[22]\tvalid_0's l2: 4.36863\tvalid_0's l1: 0.817019\n",
      "[23]\tvalid_0's l2: 4.38466\tvalid_0's l1: 0.819434\n",
      "[24]\tvalid_0's l2: 4.40204\tvalid_0's l1: 0.82023\n",
      "[25]\tvalid_0's l2: 4.40863\tvalid_0's l1: 0.820321\n",
      "[26]\tvalid_0's l2: 4.41945\tvalid_0's l1: 0.821142\n",
      "[27]\tvalid_0's l2: 4.42784\tvalid_0's l1: 0.822634\n",
      "[28]\tvalid_0's l2: 4.44314\tvalid_0's l1: 0.822795\n",
      "[29]\tvalid_0's l2: 4.4576\tvalid_0's l1: 0.82326\n",
      "[30]\tvalid_0's l2: 4.46929\tvalid_0's l1: 0.82559\n",
      "[31]\tvalid_0's l2: 4.48716\tvalid_0's l1: 0.828075\n",
      "[32]\tvalid_0's l2: 4.50407\tvalid_0's l1: 0.828664\n",
      "[33]\tvalid_0's l2: 4.51503\tvalid_0's l1: 0.828084\n",
      "[34]\tvalid_0's l2: 4.53394\tvalid_0's l1: 0.829052\n",
      "[35]\tvalid_0's l2: 4.54381\tvalid_0's l1: 0.829968\n",
      "[36]\tvalid_0's l2: 4.55251\tvalid_0's l1: 0.829423\n",
      "[37]\tvalid_0's l2: 4.56294\tvalid_0's l1: 0.82935\n",
      "[38]\tvalid_0's l2: 4.57499\tvalid_0's l1: 0.829849\n",
      "[39]\tvalid_0's l2: 4.584\tvalid_0's l1: 0.831064\n"
     ]
    },
    {
     "name": "stderr",
     "output_type": "stream",
     "text": [
      "C:\\ProgramData\\Anaconda3\\lib\\site-packages\\lightgbm\\engine.py:181: UserWarning: 'early_stopping_rounds' argument is deprecated and will be removed in a future release of LightGBM. Pass 'early_stopping()' callback via 'callbacks' argument instead.\n",
      "  _log_warning(\"'early_stopping_rounds' argument is deprecated and will be removed in a future release of LightGBM. \"\n"
     ]
    },
    {
     "name": "stdout",
     "output_type": "stream",
     "text": [
      "[40]\tvalid_0's l2: 4.58472\tvalid_0's l1: 0.831063\n",
      "[41]\tvalid_0's l2: 4.58971\tvalid_0's l1: 0.833501\n",
      "[42]\tvalid_0's l2: 4.60278\tvalid_0's l1: 0.835996\n",
      "[43]\tvalid_0's l2: 4.62579\tvalid_0's l1: 0.839219\n",
      "[44]\tvalid_0's l2: 4.61935\tvalid_0's l1: 0.837326\n",
      "[45]\tvalid_0's l2: 4.62789\tvalid_0's l1: 0.838729\n",
      "[46]\tvalid_0's l2: 4.63783\tvalid_0's l1: 0.840506\n",
      "[47]\tvalid_0's l2: 4.65498\tvalid_0's l1: 0.843498\n",
      "[48]\tvalid_0's l2: 4.65366\tvalid_0's l1: 0.842866\n",
      "[49]\tvalid_0's l2: 4.6645\tvalid_0's l1: 0.842901\n",
      "[50]\tvalid_0's l2: 4.67088\tvalid_0's l1: 0.844251\n",
      "[51]\tvalid_0's l2: 4.67911\tvalid_0's l1: 0.845799\n",
      "[52]\tvalid_0's l2: 4.6874\tvalid_0's l1: 0.847474\n",
      "[53]\tvalid_0's l2: 4.69389\tvalid_0's l1: 0.8484\n",
      "[54]\tvalid_0's l2: 4.7078\tvalid_0's l1: 0.851149\n",
      "[55]\tvalid_0's l2: 4.71558\tvalid_0's l1: 0.852757\n",
      "[56]\tvalid_0's l2: 4.71048\tvalid_0's l1: 0.850683\n",
      "[57]\tvalid_0's l2: 4.7089\tvalid_0's l1: 0.849227\n",
      "[58]\tvalid_0's l2: 4.71841\tvalid_0's l1: 0.849791\n",
      "[59]\tvalid_0's l2: 4.71529\tvalid_0's l1: 0.850168\n",
      "[60]\tvalid_0's l2: 4.7249\tvalid_0's l1: 0.852024\n",
      "[61]\tvalid_0's l2: 4.73543\tvalid_0's l1: 0.854418\n",
      "[62]\tvalid_0's l2: 4.73822\tvalid_0's l1: 0.855196\n",
      "[63]\tvalid_0's l2: 4.75233\tvalid_0's l1: 0.858201\n",
      "[64]\tvalid_0's l2: 4.75711\tvalid_0's l1: 0.859685\n",
      "[65]\tvalid_0's l2: 4.77473\tvalid_0's l1: 0.863007\n",
      "[66]\tvalid_0's l2: 4.77577\tvalid_0's l1: 0.864401\n",
      "[67]\tvalid_0's l2: 4.78182\tvalid_0's l1: 0.86558\n",
      "[68]\tvalid_0's l2: 4.79599\tvalid_0's l1: 0.867506\n",
      "[69]\tvalid_0's l2: 4.79968\tvalid_0's l1: 0.868033\n",
      "[70]\tvalid_0's l2: 4.80602\tvalid_0's l1: 0.869839\n",
      "[71]\tvalid_0's l2: 4.806\tvalid_0's l1: 0.872139\n",
      "[72]\tvalid_0's l2: 4.81076\tvalid_0's l1: 0.873428\n",
      "[73]\tvalid_0's l2: 4.81121\tvalid_0's l1: 0.873846\n",
      "[74]\tvalid_0's l2: 4.8213\tvalid_0's l1: 0.876029\n",
      "[75]\tvalid_0's l2: 4.82202\tvalid_0's l1: 0.875631\n",
      "[76]\tvalid_0's l2: 4.82837\tvalid_0's l1: 0.875964\n",
      "[77]\tvalid_0's l2: 4.8246\tvalid_0's l1: 0.875546\n",
      "[78]\tvalid_0's l2: 4.82878\tvalid_0's l1: 0.876467\n",
      "[79]\tvalid_0's l2: 4.83401\tvalid_0's l1: 0.877842\n",
      "[80]\tvalid_0's l2: 4.83746\tvalid_0's l1: 0.878546\n",
      "[81]\tvalid_0's l2: 4.8419\tvalid_0's l1: 0.881082\n",
      "[82]\tvalid_0's l2: 4.84387\tvalid_0's l1: 0.882339\n",
      "[83]\tvalid_0's l2: 4.85113\tvalid_0's l1: 0.885907\n",
      "[84]\tvalid_0's l2: 4.86522\tvalid_0's l1: 0.889025\n",
      "[85]\tvalid_0's l2: 4.86461\tvalid_0's l1: 0.889349\n",
      "[86]\tvalid_0's l2: 4.87089\tvalid_0's l1: 0.891615\n",
      "[87]\tvalid_0's l2: 4.87371\tvalid_0's l1: 0.892635\n",
      "[88]\tvalid_0's l2: 4.87633\tvalid_0's l1: 0.893782\n",
      "[89]\tvalid_0's l2: 4.87867\tvalid_0's l1: 0.895253\n",
      "[90]\tvalid_0's l2: 4.88854\tvalid_0's l1: 0.89778\n",
      "[91]\tvalid_0's l2: 4.88637\tvalid_0's l1: 0.898349\n",
      "[92]\tvalid_0's l2: 4.88766\tvalid_0's l1: 0.900215\n",
      "[93]\tvalid_0's l2: 4.90176\tvalid_0's l1: 0.902106\n",
      "[94]\tvalid_0's l2: 4.91431\tvalid_0's l1: 0.905497\n",
      "[95]\tvalid_0's l2: 4.92112\tvalid_0's l1: 0.90512\n",
      "[96]\tvalid_0's l2: 4.93259\tvalid_0's l1: 0.90739\n",
      "[97]\tvalid_0's l2: 4.93296\tvalid_0's l1: 0.908378\n",
      "[98]\tvalid_0's l2: 4.93642\tvalid_0's l1: 0.910571\n",
      "[99]\tvalid_0's l2: 4.94184\tvalid_0's l1: 0.911941\n",
      "[100]\tvalid_0's l2: 4.94471\tvalid_0's l1: 0.91222\n",
      "Did not meet early stopping. Best iteration is:\n",
      "[2]\tvalid_0's l2: 4.06959\tvalid_0's l1: 0.799568\n"
     ]
    }
   ],
   "source": [
    "# defining parameters \n",
    "# defining parameters \n",
    "params = {\n",
    "    'task': 'train', \n",
    "    'boosting': 'gbdt',\n",
    "    'objective': 'regression',\n",
    "    'num_leaves': 50,\n",
    "    'learning_rate': 0.05,\n",
    "    'metric': {'l2','l1'},\n",
    "    'verbose': -1\n",
    "}\n",
    "model = lgb.train(params,\n",
    "                 train_set=lgb_train,\n",
    "                 valid_sets=lgb_eval,\n",
    "                 early_stopping_rounds=200)"
   ]
  },
  {
   "cell_type": "code",
   "execution_count": null,
   "id": "f9b4c9f4",
   "metadata": {},
   "outputs": [],
   "source": []
  },
  {
   "cell_type": "code",
   "execution_count": 17,
   "id": "69c26012",
   "metadata": {},
   "outputs": [],
   "source": [
    "preds = model.predict(X_test)"
   ]
  },
  {
   "cell_type": "code",
   "execution_count": 18,
   "id": "5b2636c5",
   "metadata": {},
   "outputs": [],
   "source": [
    "from sklearn.metrics import mean_squared_error\n",
    "from sklearn.metrics import mean_absolute_error"
   ]
  },
  {
   "cell_type": "code",
   "execution_count": 19,
   "id": "5b94603a",
   "metadata": {
    "scrolled": true
   },
   "outputs": [
    {
     "data": {
      "text/plain": [
       "4.069587490209562"
      ]
     },
     "execution_count": 19,
     "metadata": {},
     "output_type": "execute_result"
    }
   ],
   "source": [
    "mean_squared_error(y_2_test, preds)"
   ]
  },
  {
   "cell_type": "code",
   "execution_count": 20,
   "id": "9f0455cd",
   "metadata": {},
   "outputs": [
    {
     "data": {
      "text/plain": [
       "0.7995683781844604"
      ]
     },
     "execution_count": 20,
     "metadata": {},
     "output_type": "execute_result"
    }
   ],
   "source": [
    "mean_absolute_error(y_2_test, preds)"
   ]
  },
  {
   "cell_type": "code",
   "execution_count": 21,
   "id": "1aeb80df",
   "metadata": {},
   "outputs": [
    {
     "data": {
      "text/plain": [
       "[<matplotlib.lines.Line2D at 0x28011250fa0>]"
      ]
     },
     "execution_count": 21,
     "metadata": {},
     "output_type": "execute_result"
    },
    {
     "data": {
      "image/png": "[encoded data removed]",
      "text/plain": [
       "<Figure size 432x288 with 1 Axes>"
      ]
     },
     "metadata": {
      "needs_background": "light"
     },
     "output_type": "display_data"
    }
   ],
   "source": [
    "plt.plot(preds)"
   ]
  },
  {
   "cell_type": "code",
   "execution_count": 22,
   "id": "c78b0ed7",
   "metadata": {},
   "outputs": [
    {
     "data": {
      "image/png": "[encoded data removed]",
      "text/plain": [
       "<Figure size 1200x480 with 2 Axes>"
      ]
     },
     "metadata": {
      "needs_background": "light"
     },
     "output_type": "display_data"
    }
   ],
   "source": [
    "# Create Figure and Subplots\n",
    "fig, (ax1, ax2) = plt.subplots(1,2, figsize=(10,4), sharey=True, dpi=120)\n",
    "\n",
    "# Plot\n",
    "ax1.plot(preds, 'g')  # greendots\n",
    "ax2.plot(y_2_test, 'b')  # bluestart\n",
    "\n",
    "# Title, X and Y labels, X and Y Lim\n",
    "ax1.set_title('Predictions'); ax2.set_title('Ground Truth')\n",
    "\n",
    "  # y axis limits\n",
    "\n",
    "# ax2.yaxis.set_ticks_position('none') \n",
    "plt.tight_layout()\n",
    "plt.show()"
   ]
  },
  {
   "cell_type": "code",
   "execution_count": 23,
   "id": "aab0fe4b",
   "metadata": {},
   "outputs": [
    {
     "data": {
      "image/png": "[encoded data removed]",
      "text/plain": [
       "<Figure size 720x720 with 1 Axes>"
      ]
     },
     "metadata": {
      "needs_background": "light"
     },
     "output_type": "display_data"
    }
   ],
   "source": [
    "predicted_value = preds\n",
    "true_value = y_2_test\n",
    "fig = plt.figure(figsize=(10,10))\n",
    "plt.scatter(true_value, predicted_value, c='crimson')\n",
    "plt.yscale('linear')\n",
    "plt.xscale('linear')\n",
    "\n",
    "p1 = max(max(predicted_value), max(true_value))\n",
    "p2 = min(min(predicted_value), min(true_value))\n",
    "plt.plot([p1, p2], [p1, p2], 'b-')\n",
    "plt.xlabel('True Values', fontsize=15)\n",
    "plt.ylabel('Predictions', fontsize=15)\n",
    "#plt.axis('equal')\n",
    "plt.xlim([-2, 25])\n",
    "plt.ylim([-2, 25])\n",
    "plt.show()\n",
    "fig.savefig('predictions_vs_true_predicted_precipitation_testing.pdf')"
   ]
  },
  {
   "cell_type": "code",
   "execution_count": 24,
   "id": "3b9b9608",
   "metadata": {},
   "outputs": [
    {
     "data": {
      "image/png": "[encoded data removed]",
      "text/plain": [
       "<Figure size 720x720 with 1 Axes>"
      ]
     },
     "metadata": {
      "needs_background": "light"
     },
     "output_type": "display_data"
    }
   ],
   "source": [
    "\n",
    "predicted_value = model.predict(X_train)\n",
    "true_value = y_2_train\n",
    "fig = plt.figure(figsize=(10,10))\n",
    "\n",
    "plt.scatter(true_value, predicted_value, c='crimson')\n",
    "plt.yscale('linear')\n",
    "plt.xscale('linear')\n",
    "\n",
    "p1 = max(max(predicted_value), max(true_value))\n",
    "p2 = min(min(predicted_value), min(true_value))\n",
    "plt.plot([p1, p2], [p1, p2], 'b-')\n",
    "plt.xlabel('True Values', fontsize=15)\n",
    "plt.ylabel('Predictions', fontsize=15)\n",
    "#plt.axis('equal')\n",
    "plt.xlim([-2, 30])\n",
    "plt.ylim([-2, 30])\n",
    "plt.show()\n",
    "\n",
    "fig.savefig('predictions_vs_true_predicted_precipitation_training.pdf')"
   ]
  },
  {
   "cell_type": "code",
   "execution_count": 25,
   "id": "189fbf9f",
   "metadata": {},
   "outputs": [
    {
     "data": {
      "image/png": "[encoded data removed]",
      "text/plain": [
       "<Figure size 432x288 with 1 Axes>"
      ]
     },
     "metadata": {
      "needs_background": "light"
     },
     "output_type": "display_data"
    }
   ],
   "source": [
    "temp_true  = np.copy(y_2_test)\n",
    "#temp_true[temp_true > 0] = 5\n",
    "#preds[preds > 0] = 2\n",
    "plt.plot(preds[300:400],'r', label='Prediction')\n",
    "plt.plot(temp_true[300:400],'b', label='Ground Truth')\n",
    "plt.show()"
   ]
  },
  {
   "cell_type": "code",
   "execution_count": 26,
   "id": "6d8efd68",
   "metadata": {},
   "outputs": [],
   "source": [
    "scaler = StandardScaler().fit(X_train)\n",
    "X_train = scaler.transform(X_train)\n",
    "X_test = scaler.transform(X_test)\n"
   ]
  },
  {
   "cell_type": "code",
   "execution_count": 27,
   "id": "21ef3930",
   "metadata": {},
   "outputs": [
    {
     "name": "stdout",
     "output_type": "stream",
     "text": [
      "Epoch 1/300\n",
      "40/40 [==============================] - 1s 7ms/step - loss: 7.9694 - mse: 7.9694 - val_loss: 4.1715 - val_mse: 4.1715\n",
      "Epoch 2/300\n",
      "40/40 [==============================] - 0s 3ms/step - loss: 7.9229 - mse: 7.9229 - val_loss: 4.1352 - val_mse: 4.1352\n",
      "Epoch 3/300\n",
      "40/40 [==============================] - 0s 3ms/step - loss: 7.8440 - mse: 7.8440 - val_loss: 4.0940 - val_mse: 4.0940\n",
      "Epoch 4/300\n",
      "40/40 [==============================] - 0s 3ms/step - loss: 7.7485 - mse: 7.7485 - val_loss: 4.0755 - val_mse: 4.0755\n",
      "Epoch 5/300\n",
      "40/40 [==============================] - 0s 5ms/step - loss: 7.6669 - mse: 7.6669 - val_loss: 4.0881 - val_mse: 4.0881\n",
      "Epoch 6/300\n",
      "40/40 [==============================] - 0s 7ms/step - loss: 7.5998 - mse: 7.5998 - val_loss: 4.1187 - val_mse: 4.1187\n",
      "Epoch 7/300\n",
      "40/40 [==============================] - 0s 6ms/step - loss: 7.5652 - mse: 7.5652 - val_loss: 4.1619 - val_mse: 4.1619\n",
      "Epoch 8/300\n",
      "40/40 [==============================] - 0s 4ms/step - loss: 7.5389 - mse: 7.5389 - val_loss: 4.1864 - val_mse: 4.1864\n",
      "Epoch 9/300\n",
      "40/40 [==============================] - 0s 5ms/step - loss: 7.5278 - mse: 7.5278 - val_loss: 4.2200 - val_mse: 4.2200\n",
      "Epoch 10/300\n",
      "40/40 [==============================] - 0s 5ms/step - loss: 7.5143 - mse: 7.5143 - val_loss: 4.2382 - val_mse: 4.2382\n",
      "Epoch 11/300\n",
      "40/40 [==============================] - 0s 6ms/step - loss: 7.5099 - mse: 7.5099 - val_loss: 4.2512 - val_mse: 4.2512\n",
      "Epoch 12/300\n",
      "40/40 [==============================] - 0s 7ms/step - loss: 7.5004 - mse: 7.5004 - val_loss: 4.2499 - val_mse: 4.2499\n",
      "Epoch 13/300\n",
      "40/40 [==============================] - 0s 9ms/step - loss: 7.4981 - mse: 7.4981 - val_loss: 4.2628 - val_mse: 4.2628\n",
      "Epoch 14/300\n",
      "40/40 [==============================] - 0s 6ms/step - loss: 7.4972 - mse: 7.4972 - val_loss: 4.2809 - val_mse: 4.2809\n",
      "Epoch 15/300\n",
      "40/40 [==============================] - 0s 5ms/step - loss: 7.4946 - mse: 7.4946 - val_loss: 4.2851 - val_mse: 4.2851\n",
      "Epoch 16/300\n",
      "40/40 [==============================] - 0s 5ms/step - loss: 7.4929 - mse: 7.4929 - val_loss: 4.2842 - val_mse: 4.2842\n",
      "Epoch 17/300\n",
      "40/40 [==============================] - 0s 5ms/step - loss: 7.4848 - mse: 7.4848 - val_loss: 4.2845 - val_mse: 4.2845\n",
      "Epoch 18/300\n",
      "40/40 [==============================] - 0s 4ms/step - loss: 7.4812 - mse: 7.4812 - val_loss: 4.3034 - val_mse: 4.3034\n",
      "Epoch 19/300\n",
      "40/40 [==============================] - 0s 6ms/step - loss: 7.4822 - mse: 7.4822 - val_loss: 4.3001 - val_mse: 4.3001\n",
      "Epoch 20/300\n",
      "40/40 [==============================] - 0s 4ms/step - loss: 7.4790 - mse: 7.4790 - val_loss: 4.3141 - val_mse: 4.3141\n",
      "Epoch 21/300\n",
      "40/40 [==============================] - 0s 5ms/step - loss: 7.4764 - mse: 7.4764 - val_loss: 4.2923 - val_mse: 4.2923\n",
      "Epoch 22/300\n",
      "40/40 [==============================] - 0s 6ms/step - loss: 7.4710 - mse: 7.4710 - val_loss: 4.2998 - val_mse: 4.2998\n",
      "Epoch 23/300\n",
      "40/40 [==============================] - 0s 5ms/step - loss: 7.4731 - mse: 7.4731 - val_loss: 4.3184 - val_mse: 4.3184\n",
      "Epoch 24/300\n",
      "40/40 [==============================] - 0s 4ms/step - loss: 7.4722 - mse: 7.4722 - val_loss: 4.3204 - val_mse: 4.3204\n",
      "Epoch 25/300\n",
      "40/40 [==============================] - 0s 4ms/step - loss: 7.4715 - mse: 7.4715 - val_loss: 4.3141 - val_mse: 4.3141\n",
      "Epoch 26/300\n",
      "40/40 [==============================] - 0s 4ms/step - loss: 7.4670 - mse: 7.4670 - val_loss: 4.3072 - val_mse: 4.3072\n",
      "Epoch 27/300\n",
      "40/40 [==============================] - 0s 3ms/step - loss: 7.4684 - mse: 7.4684 - val_loss: 4.3052 - val_mse: 4.3052\n",
      "Epoch 28/300\n",
      "40/40 [==============================] - 0s 4ms/step - loss: 7.4653 - mse: 7.4653 - val_loss: 4.3338 - val_mse: 4.3338\n",
      "Epoch 29/300\n",
      "40/40 [==============================] - 0s 4ms/step - loss: 7.4664 - mse: 7.4664 - val_loss: 4.3306 - val_mse: 4.3306\n",
      "Epoch 30/300\n",
      "40/40 [==============================] - 0s 5ms/step - loss: 7.4602 - mse: 7.4602 - val_loss: 4.3304 - val_mse: 4.3304\n",
      "Epoch 31/300\n",
      "40/40 [==============================] - 0s 4ms/step - loss: 7.4594 - mse: 7.4594 - val_loss: 4.3250 - val_mse: 4.3250\n",
      "Epoch 32/300\n",
      "40/40 [==============================] - 0s 4ms/step - loss: 7.4593 - mse: 7.4593 - val_loss: 4.3298 - val_mse: 4.3298\n",
      "Epoch 33/300\n",
      "40/40 [==============================] - 0s 5ms/step - loss: 7.4555 - mse: 7.4555 - val_loss: 4.3146 - val_mse: 4.3146\n",
      "Epoch 34/300\n",
      "40/40 [==============================] - 0s 5ms/step - loss: 7.4554 - mse: 7.4554 - val_loss: 4.3158 - val_mse: 4.3158\n",
      "Epoch 35/300\n",
      "40/40 [==============================] - 0s 5ms/step - loss: 7.4510 - mse: 7.4510 - val_loss: 4.3334 - val_mse: 4.3334\n",
      "Epoch 36/300\n",
      "40/40 [==============================] - 0s 5ms/step - loss: 7.4536 - mse: 7.4536 - val_loss: 4.3335 - val_mse: 4.3335\n",
      "Epoch 37/300\n",
      "40/40 [==============================] - 0s 5ms/step - loss: 7.4602 - mse: 7.4602 - val_loss: 4.3436 - val_mse: 4.3436\n",
      "Epoch 38/300\n",
      "40/40 [==============================] - 0s 4ms/step - loss: 7.4481 - mse: 7.4481 - val_loss: 4.3298 - val_mse: 4.3298\n",
      "Epoch 39/300\n",
      "40/40 [==============================] - 0s 4ms/step - loss: 7.4501 - mse: 7.4501 - val_loss: 4.3236 - val_mse: 4.3236\n",
      "Epoch 40/300\n",
      "40/40 [==============================] - 0s 5ms/step - loss: 7.4499 - mse: 7.4499 - val_loss: 4.3140 - val_mse: 4.3140\n",
      "Epoch 41/300\n",
      "40/40 [==============================] - 0s 4ms/step - loss: 7.4441 - mse: 7.4441 - val_loss: 4.3448 - val_mse: 4.3448\n",
      "Epoch 42/300\n",
      "40/40 [==============================] - 0s 4ms/step - loss: 7.4495 - mse: 7.4495 - val_loss: 4.3544 - val_mse: 4.3544\n",
      "Epoch 43/300\n",
      "40/40 [==============================] - 0s 4ms/step - loss: 7.4440 - mse: 7.4440 - val_loss: 4.3380 - val_mse: 4.3380\n",
      "Epoch 44/300\n",
      "40/40 [==============================] - 0s 4ms/step - loss: 7.4418 - mse: 7.4418 - val_loss: 4.3513 - val_mse: 4.3513\n",
      "Epoch 45/300\n",
      "40/40 [==============================] - 0s 4ms/step - loss: 7.4513 - mse: 7.4513 - val_loss: 4.3443 - val_mse: 4.3443\n",
      "Epoch 46/300\n",
      "40/40 [==============================] - 0s 4ms/step - loss: 7.4413 - mse: 7.4413 - val_loss: 4.3122 - val_mse: 4.3122\n",
      "Epoch 47/300\n",
      "40/40 [==============================] - 0s 4ms/step - loss: 7.4419 - mse: 7.4419 - val_loss: 4.3350 - val_mse: 4.3350\n",
      "Epoch 48/300\n",
      "40/40 [==============================] - 0s 5ms/step - loss: 7.4380 - mse: 7.4380 - val_loss: 4.3389 - val_mse: 4.3389\n",
      "Epoch 49/300\n",
      "40/40 [==============================] - 0s 4ms/step - loss: 7.4429 - mse: 7.4429 - val_loss: 4.3536 - val_mse: 4.3536\n",
      "Epoch 50/300\n",
      "40/40 [==============================] - 0s 6ms/step - loss: 7.4398 - mse: 7.4398 - val_loss: 4.3200 - val_mse: 4.3200\n",
      "Epoch 51/300\n",
      "40/40 [==============================] - 0s 6ms/step - loss: 7.4319 - mse: 7.4319 - val_loss: 4.3480 - val_mse: 4.3480\n",
      "Epoch 52/300\n",
      "40/40 [==============================] - 0s 5ms/step - loss: 7.4326 - mse: 7.4326 - val_loss: 4.3329 - val_mse: 4.3329\n",
      "Epoch 53/300\n",
      "40/40 [==============================] - 0s 6ms/step - loss: 7.4326 - mse: 7.4326 - val_loss: 4.3409 - val_mse: 4.3409\n",
      "Epoch 54/300\n",
      "40/40 [==============================] - 0s 5ms/step - loss: 7.4284 - mse: 7.4284 - val_loss: 4.3406 - val_mse: 4.3406\n",
      "Epoch 55/300\n",
      "40/40 [==============================] - 0s 5ms/step - loss: 7.4279 - mse: 7.4279 - val_loss: 4.3434 - val_mse: 4.3434\n",
      "Epoch 56/300\n",
      "40/40 [==============================] - 0s 5ms/step - loss: 7.4277 - mse: 7.4277 - val_loss: 4.3510 - val_mse: 4.3510\n",
      "Epoch 57/300\n",
      "40/40 [==============================] - 0s 4ms/step - loss: 7.4257 - mse: 7.4257 - val_loss: 4.3201 - val_mse: 4.3201\n",
      "Epoch 58/300\n",
      "40/40 [==============================] - 0s 4ms/step - loss: 7.4224 - mse: 7.4224 - val_loss: 4.3274 - val_mse: 4.3274\n",
      "Epoch 59/300\n",
      "40/40 [==============================] - 0s 4ms/step - loss: 7.4278 - mse: 7.4278 - val_loss: 4.3392 - val_mse: 4.3392\n",
      "Epoch 60/300\n",
      "40/40 [==============================] - 0s 6ms/step - loss: 7.4158 - mse: 7.4158 - val_loss: 4.3417 - val_mse: 4.3417\n",
      "Epoch 61/300\n",
      "40/40 [==============================] - 0s 5ms/step - loss: 7.4164 - mse: 7.4164 - val_loss: 4.3447 - val_mse: 4.3447\n",
      "Epoch 62/300\n",
      "40/40 [==============================] - 0s 5ms/step - loss: 7.4132 - mse: 7.4132 - val_loss: 4.3374 - val_mse: 4.3374\n",
      "Epoch 63/300\n",
      "40/40 [==============================] - 0s 5ms/step - loss: 7.4147 - mse: 7.4147 - val_loss: 4.3380 - val_mse: 4.3380\n",
      "Epoch 64/300\n",
      "40/40 [==============================] - 0s 4ms/step - loss: 7.4253 - mse: 7.4253 - val_loss: 4.3627 - val_mse: 4.3627\n",
      "Epoch 65/300\n",
      "40/40 [==============================] - 0s 4ms/step - loss: 7.4085 - mse: 7.4085 - val_loss: 4.3346 - val_mse: 4.3346\n",
      "Epoch 66/300\n",
      "40/40 [==============================] - 0s 3ms/step - loss: 7.4087 - mse: 7.4087 - val_loss: 4.3438 - val_mse: 4.3438\n",
      "Epoch 67/300\n",
      "40/40 [==============================] - 0s 3ms/step - loss: 7.4046 - mse: 7.4046 - val_loss: 4.3313 - val_mse: 4.3313\n",
      "Epoch 68/300\n",
      "40/40 [==============================] - 0s 3ms/step - loss: 7.4063 - mse: 7.4063 - val_loss: 4.3514 - val_mse: 4.3514\n",
      "Epoch 69/300\n",
      "40/40 [==============================] - 0s 3ms/step - loss: 7.4064 - mse: 7.4064 - val_loss: 4.3416 - val_mse: 4.3416\n",
      "Epoch 70/300\n",
      "40/40 [==============================] - 0s 3ms/step - loss: 7.4046 - mse: 7.4046 - val_loss: 4.3562 - val_mse: 4.3562\n",
      "Epoch 71/300\n",
      "40/40 [==============================] - 0s 4ms/step - loss: 7.3974 - mse: 7.3974 - val_loss: 4.3350 - val_mse: 4.3350\n",
      "Epoch 72/300\n",
      "40/40 [==============================] - 0s 3ms/step - loss: 7.4026 - mse: 7.4026 - val_loss: 4.3454 - val_mse: 4.3454\n",
      "Epoch 73/300\n",
      "40/40 [==============================] - 0s 3ms/step - loss: 7.3980 - mse: 7.3980 - val_loss: 4.3513 - val_mse: 4.3513\n",
      "Epoch 74/300\n",
      "40/40 [==============================] - 0s 3ms/step - loss: 7.3901 - mse: 7.3901 - val_loss: 4.3607 - val_mse: 4.3607\n",
      "Epoch 75/300\n",
      "40/40 [==============================] - 0s 5ms/step - loss: 7.3881 - mse: 7.3881 - val_loss: 4.3453 - val_mse: 4.3453\n",
      "Epoch 76/300\n",
      "40/40 [==============================] - 0s 3ms/step - loss: 7.3884 - mse: 7.3884 - val_loss: 4.3523 - val_mse: 4.3523\n",
      "Epoch 77/300\n",
      "40/40 [==============================] - 0s 3ms/step - loss: 7.3883 - mse: 7.3883 - val_loss: 4.3789 - val_mse: 4.3789\n",
      "Epoch 78/300\n",
      "40/40 [==============================] - 0s 7ms/step - loss: 7.3866 - mse: 7.3866 - val_loss: 4.3538 - val_mse: 4.3538\n",
      "Epoch 79/300\n",
      "40/40 [==============================] - 0s 3ms/step - loss: 7.3842 - mse: 7.3842 - val_loss: 4.3552 - val_mse: 4.3552\n",
      "Epoch 80/300\n",
      "40/40 [==============================] - 0s 3ms/step - loss: 7.3985 - mse: 7.3985 - val_loss: 4.3786 - val_mse: 4.3786\n",
      "Epoch 81/300\n",
      "40/40 [==============================] - 0s 3ms/step - loss: 7.3808 - mse: 7.3808 - val_loss: 4.3590 - val_mse: 4.3590\n",
      "Epoch 82/300\n",
      "40/40 [==============================] - 0s 3ms/step - loss: 7.3873 - mse: 7.3873 - val_loss: 4.3712 - val_mse: 4.3712\n",
      "Epoch 83/300\n",
      "40/40 [==============================] - 0s 4ms/step - loss: 7.3862 - mse: 7.3862 - val_loss: 4.3514 - val_mse: 4.3514\n",
      "Epoch 84/300\n",
      "40/40 [==============================] - 0s 3ms/step - loss: 7.3742 - mse: 7.3742 - val_loss: 4.3711 - val_mse: 4.3711\n",
      "Epoch 85/300\n",
      "40/40 [==============================] - 0s 3ms/step - loss: 7.3744 - mse: 7.3744 - val_loss: 4.3591 - val_mse: 4.3591\n",
      "Epoch 86/300\n",
      "40/40 [==============================] - 0s 3ms/step - loss: 7.3672 - mse: 7.3672 - val_loss: 4.3786 - val_mse: 4.3786\n",
      "Epoch 87/300\n",
      "40/40 [==============================] - 0s 4ms/step - loss: 7.3694 - mse: 7.3694 - val_loss: 4.3536 - val_mse: 4.3536\n",
      "Epoch 88/300\n",
      "40/40 [==============================] - 0s 3ms/step - loss: 7.3648 - mse: 7.3648 - val_loss: 4.3830 - val_mse: 4.3830\n",
      "Epoch 89/300\n",
      "40/40 [==============================] - 0s 3ms/step - loss: 7.3687 - mse: 7.3687 - val_loss: 4.3772 - val_mse: 4.3772\n",
      "Epoch 90/300\n",
      "40/40 [==============================] - 0s 3ms/step - loss: 7.3693 - mse: 7.3693 - val_loss: 4.3677 - val_mse: 4.3677\n",
      "Epoch 91/300\n",
      "40/40 [==============================] - 0s 3ms/step - loss: 7.3607 - mse: 7.3607 - val_loss: 4.3872 - val_mse: 4.3872\n",
      "Epoch 92/300\n",
      "40/40 [==============================] - 0s 3ms/step - loss: 7.3590 - mse: 7.3590 - val_loss: 4.3841 - val_mse: 4.3841\n",
      "Epoch 93/300\n",
      "40/40 [==============================] - 0s 3ms/step - loss: 7.3560 - mse: 7.3560 - val_loss: 4.3550 - val_mse: 4.3550\n",
      "Epoch 94/300\n",
      "40/40 [==============================] - 0s 3ms/step - loss: 7.3682 - mse: 7.3682 - val_loss: 4.4172 - val_mse: 4.4172\n",
      "Epoch 95/300\n",
      "40/40 [==============================] - 0s 3ms/step - loss: 7.3539 - mse: 7.3539 - val_loss: 4.3817 - val_mse: 4.3817\n",
      "Epoch 96/300\n",
      "40/40 [==============================] - 0s 3ms/step - loss: 7.3491 - mse: 7.3491 - val_loss: 4.3801 - val_mse: 4.3801\n",
      "Epoch 97/300\n",
      "40/40 [==============================] - 0s 3ms/step - loss: 7.3506 - mse: 7.3506 - val_loss: 4.3717 - val_mse: 4.3717\n",
      "Epoch 98/300\n",
      "40/40 [==============================] - 0s 3ms/step - loss: 7.3478 - mse: 7.3478 - val_loss: 4.3597 - val_mse: 4.3597\n",
      "Epoch 99/300\n",
      "40/40 [==============================] - 0s 3ms/step - loss: 7.3368 - mse: 7.3368 - val_loss: 4.3890 - val_mse: 4.3890\n",
      "Epoch 100/300\n",
      "40/40 [==============================] - 0s 3ms/step - loss: 7.3361 - mse: 7.3361 - val_loss: 4.3679 - val_mse: 4.3679\n",
      "Epoch 101/300\n",
      "40/40 [==============================] - 0s 3ms/step - loss: 7.3371 - mse: 7.3371 - val_loss: 4.4099 - val_mse: 4.4099\n",
      "Epoch 102/300\n",
      "40/40 [==============================] - 0s 3ms/step - loss: 7.3336 - mse: 7.3336 - val_loss: 4.3724 - val_mse: 4.3724\n",
      "Epoch 103/300\n",
      "40/40 [==============================] - 0s 3ms/step - loss: 7.3300 - mse: 7.3300 - val_loss: 4.3941 - val_mse: 4.3941\n",
      "Epoch 104/300\n",
      "40/40 [==============================] - 0s 2ms/step - loss: 7.3301 - mse: 7.3301 - val_loss: 4.3854 - val_mse: 4.3854\n",
      "Epoch 105/300\n",
      "40/40 [==============================] - 0s 3ms/step - loss: 7.3318 - mse: 7.3318 - val_loss: 4.3759 - val_mse: 4.3759\n",
      "Epoch 106/300\n",
      "40/40 [==============================] - 0s 3ms/step - loss: 7.3191 - mse: 7.3191 - val_loss: 4.4024 - val_mse: 4.4024\n",
      "Epoch 107/300\n",
      "40/40 [==============================] - 0s 2ms/step - loss: 7.3194 - mse: 7.3194 - val_loss: 4.3956 - val_mse: 4.3956\n",
      "Epoch 108/300\n",
      "40/40 [==============================] - 0s 2ms/step - loss: 7.3171 - mse: 7.3171 - val_loss: 4.3986 - val_mse: 4.3986\n",
      "Epoch 109/300\n",
      "40/40 [==============================] - 0s 3ms/step - loss: 7.3096 - mse: 7.3096 - val_loss: 4.3872 - val_mse: 4.3872\n",
      "Epoch 110/300\n",
      "40/40 [==============================] - 0s 2ms/step - loss: 7.3104 - mse: 7.3104 - val_loss: 4.3988 - val_mse: 4.3988\n",
      "Epoch 111/300\n",
      "40/40 [==============================] - 0s 2ms/step - loss: 7.3100 - mse: 7.3100 - val_loss: 4.3709 - val_mse: 4.3709\n",
      "Epoch 112/300\n",
      "40/40 [==============================] - 0s 3ms/step - loss: 7.3112 - mse: 7.3112 - val_loss: 4.3798 - val_mse: 4.3798\n",
      "Epoch 113/300\n",
      "40/40 [==============================] - 0s 2ms/step - loss: 7.3001 - mse: 7.3001 - val_loss: 4.3768 - val_mse: 4.3768\n",
      "Epoch 114/300\n",
      "40/40 [==============================] - 0s 2ms/step - loss: 7.2998 - mse: 7.2998 - val_loss: 4.3931 - val_mse: 4.3931\n",
      "Epoch 115/300\n",
      "40/40 [==============================] - 0s 2ms/step - loss: 7.3007 - mse: 7.3007 - val_loss: 4.3893 - val_mse: 4.3893\n",
      "Epoch 116/300\n",
      "40/40 [==============================] - 0s 2ms/step - loss: 7.2893 - mse: 7.2893 - val_loss: 4.3844 - val_mse: 4.3844\n",
      "Epoch 117/300\n",
      "40/40 [==============================] - 0s 2ms/step - loss: 7.3064 - mse: 7.3064 - val_loss: 4.4103 - val_mse: 4.4103\n",
      "Epoch 118/300\n",
      "40/40 [==============================] - 0s 2ms/step - loss: 7.2871 - mse: 7.2871 - val_loss: 4.4104 - val_mse: 4.4104\n",
      "Epoch 119/300\n",
      "40/40 [==============================] - 0s 3ms/step - loss: 7.2850 - mse: 7.2850 - val_loss: 4.4138 - val_mse: 4.4138\n",
      "Epoch 120/300\n",
      "40/40 [==============================] - 0s 3ms/step - loss: 7.2767 - mse: 7.2767 - val_loss: 4.3902 - val_mse: 4.3902\n",
      "Epoch 121/300\n",
      "40/40 [==============================] - 0s 3ms/step - loss: 7.2786 - mse: 7.2786 - val_loss: 4.4222 - val_mse: 4.4222\n",
      "Epoch 122/300\n",
      "40/40 [==============================] - 0s 2ms/step - loss: 7.2751 - mse: 7.2751 - val_loss: 4.4432 - val_mse: 4.4432\n",
      "Epoch 123/300\n",
      "40/40 [==============================] - 0s 2ms/step - loss: 7.2701 - mse: 7.2701 - val_loss: 4.4023 - val_mse: 4.4023\n",
      "Epoch 124/300\n",
      "40/40 [==============================] - 0s 3ms/step - loss: 7.2693 - mse: 7.2693 - val_loss: 4.4011 - val_mse: 4.4011\n"
     ]
    },
    {
     "name": "stdout",
     "output_type": "stream",
     "text": [
      "Epoch 125/300\n",
      "40/40 [==============================] - 0s 2ms/step - loss: 7.2717 - mse: 7.2717 - val_loss: 4.4139 - val_mse: 4.4139\n",
      "Epoch 126/300\n",
      "40/40 [==============================] - 0s 3ms/step - loss: 7.2601 - mse: 7.2601 - val_loss: 4.4239 - val_mse: 4.4239\n",
      "Epoch 127/300\n",
      "40/40 [==============================] - 0s 3ms/step - loss: 7.2748 - mse: 7.2748 - val_loss: 4.3877 - val_mse: 4.3877\n",
      "Epoch 128/300\n",
      "40/40 [==============================] - 0s 3ms/step - loss: 7.2626 - mse: 7.2626 - val_loss: 4.4152 - val_mse: 4.4152\n",
      "Epoch 129/300\n",
      "40/40 [==============================] - 0s 3ms/step - loss: 7.2499 - mse: 7.2499 - val_loss: 4.4009 - val_mse: 4.4009\n",
      "Epoch 130/300\n",
      "40/40 [==============================] - 0s 3ms/step - loss: 7.2526 - mse: 7.2526 - val_loss: 4.4216 - val_mse: 4.4216\n",
      "Epoch 131/300\n",
      "40/40 [==============================] - 0s 3ms/step - loss: 7.2587 - mse: 7.2587 - val_loss: 4.4198 - val_mse: 4.4198\n",
      "Epoch 132/300\n",
      "40/40 [==============================] - 0s 3ms/step - loss: 7.2415 - mse: 7.2415 - val_loss: 4.4022 - val_mse: 4.4022\n",
      "Epoch 133/300\n",
      "40/40 [==============================] - 0s 2ms/step - loss: 7.2355 - mse: 7.2355 - val_loss: 4.4062 - val_mse: 4.4062\n",
      "Epoch 134/300\n",
      "40/40 [==============================] - 0s 2ms/step - loss: 7.2443 - mse: 7.2443 - val_loss: 4.4395 - val_mse: 4.4395\n",
      "Epoch 135/300\n",
      "40/40 [==============================] - 0s 2ms/step - loss: 7.2483 - mse: 7.2483 - val_loss: 4.3853 - val_mse: 4.3853\n",
      "Epoch 136/300\n",
      "40/40 [==============================] - 0s 2ms/step - loss: 7.2350 - mse: 7.2350 - val_loss: 4.4242 - val_mse: 4.4242\n",
      "Epoch 137/300\n",
      "40/40 [==============================] - 0s 3ms/step - loss: 7.2421 - mse: 7.2421 - val_loss: 4.4444 - val_mse: 4.4444\n",
      "Epoch 138/300\n",
      "40/40 [==============================] - 0s 3ms/step - loss: 7.2377 - mse: 7.2377 - val_loss: 4.4131 - val_mse: 4.4131\n",
      "Epoch 139/300\n",
      "40/40 [==============================] - 0s 3ms/step - loss: 7.2320 - mse: 7.2320 - val_loss: 4.4435 - val_mse: 4.4435\n",
      "Epoch 140/300\n",
      "40/40 [==============================] - 0s 3ms/step - loss: 7.2189 - mse: 7.2189 - val_loss: 4.4464 - val_mse: 4.4464\n",
      "Epoch 141/300\n",
      "40/40 [==============================] - 0s 2ms/step - loss: 7.2099 - mse: 7.2099 - val_loss: 4.4451 - val_mse: 4.4451\n",
      "Epoch 142/300\n",
      "40/40 [==============================] - 0s 2ms/step - loss: 7.2144 - mse: 7.2144 - val_loss: 4.4432 - val_mse: 4.4432\n",
      "Epoch 143/300\n",
      "40/40 [==============================] - 0s 2ms/step - loss: 7.2137 - mse: 7.2137 - val_loss: 4.4388 - val_mse: 4.4388\n",
      "Epoch 144/300\n",
      "40/40 [==============================] - 0s 2ms/step - loss: 7.2046 - mse: 7.2046 - val_loss: 4.4320 - val_mse: 4.4320\n",
      "Epoch 145/300\n",
      "40/40 [==============================] - 0s 2ms/step - loss: 7.2112 - mse: 7.2112 - val_loss: 4.4064 - val_mse: 4.4064\n",
      "Epoch 146/300\n",
      "40/40 [==============================] - 0s 2ms/step - loss: 7.1965 - mse: 7.1965 - val_loss: 4.4429 - val_mse: 4.4429\n",
      "Epoch 147/300\n",
      "40/40 [==============================] - 0s 2ms/step - loss: 7.2009 - mse: 7.2009 - val_loss: 4.4391 - val_mse: 4.4391\n",
      "Epoch 148/300\n",
      "40/40 [==============================] - 0s 2ms/step - loss: 7.1982 - mse: 7.1982 - val_loss: 4.4271 - val_mse: 4.4271\n",
      "Epoch 149/300\n",
      "40/40 [==============================] - 0s 2ms/step - loss: 7.1972 - mse: 7.1972 - val_loss: 4.4552 - val_mse: 4.4552\n",
      "Epoch 150/300\n",
      "40/40 [==============================] - 0s 2ms/step - loss: 7.1848 - mse: 7.1848 - val_loss: 4.4460 - val_mse: 4.4460\n",
      "Epoch 151/300\n",
      "40/40 [==============================] - 0s 2ms/step - loss: 7.1732 - mse: 7.1732 - val_loss: 4.4653 - val_mse: 4.4653\n",
      "Epoch 152/300\n",
      "40/40 [==============================] - 0s 2ms/step - loss: 7.1748 - mse: 7.1748 - val_loss: 4.4206 - val_mse: 4.4206\n",
      "Epoch 153/300\n",
      "40/40 [==============================] - 0s 2ms/step - loss: 7.1770 - mse: 7.1770 - val_loss: 4.4655 - val_mse: 4.4655\n",
      "Epoch 154/300\n",
      "40/40 [==============================] - 0s 2ms/step - loss: 7.1605 - mse: 7.1605 - val_loss: 4.4314 - val_mse: 4.4314\n",
      "Epoch 155/300\n",
      "40/40 [==============================] - 0s 2ms/step - loss: 7.1647 - mse: 7.1647 - val_loss: 4.4522 - val_mse: 4.4522\n",
      "Epoch 156/300\n",
      "40/40 [==============================] - 0s 2ms/step - loss: 7.1576 - mse: 7.1576 - val_loss: 4.4542 - val_mse: 4.4542\n",
      "Epoch 157/300\n",
      "40/40 [==============================] - 0s 2ms/step - loss: 7.1643 - mse: 7.1643 - val_loss: 4.4876 - val_mse: 4.4876\n",
      "Epoch 158/300\n",
      "40/40 [==============================] - 0s 2ms/step - loss: 7.1532 - mse: 7.1532 - val_loss: 4.4631 - val_mse: 4.4631\n",
      "Epoch 159/300\n",
      "40/40 [==============================] - 0s 2ms/step - loss: 7.1529 - mse: 7.1529 - val_loss: 4.4838 - val_mse: 4.4838\n",
      "Epoch 160/300\n",
      "40/40 [==============================] - 0s 2ms/step - loss: 7.1465 - mse: 7.1465 - val_loss: 4.4852 - val_mse: 4.4852\n",
      "Epoch 161/300\n",
      "40/40 [==============================] - 0s 2ms/step - loss: 7.1382 - mse: 7.1382 - val_loss: 4.4590 - val_mse: 4.4590\n",
      "Epoch 162/300\n",
      "40/40 [==============================] - 0s 2ms/step - loss: 7.1333 - mse: 7.1333 - val_loss: 4.4591 - val_mse: 4.4591\n",
      "Epoch 163/300\n",
      "40/40 [==============================] - 0s 2ms/step - loss: 7.1237 - mse: 7.1237 - val_loss: 4.4679 - val_mse: 4.4679\n",
      "Epoch 164/300\n",
      "40/40 [==============================] - 0s 2ms/step - loss: 7.1435 - mse: 7.1435 - val_loss: 4.4685 - val_mse: 4.4685\n",
      "Epoch 165/300\n",
      "40/40 [==============================] - 0s 2ms/step - loss: 7.1301 - mse: 7.1301 - val_loss: 4.4724 - val_mse: 4.4724\n",
      "Epoch 166/300\n",
      "40/40 [==============================] - 0s 2ms/step - loss: 7.1324 - mse: 7.1324 - val_loss: 4.4978 - val_mse: 4.4978\n",
      "Epoch 167/300\n",
      "40/40 [==============================] - 0s 3ms/step - loss: 7.1183 - mse: 7.1183 - val_loss: 4.4838 - val_mse: 4.4838\n",
      "Epoch 168/300\n",
      "40/40 [==============================] - 0s 3ms/step - loss: 7.1194 - mse: 7.1194 - val_loss: 4.4946 - val_mse: 4.4946\n",
      "Epoch 169/300\n",
      "40/40 [==============================] - 0s 2ms/step - loss: 7.1006 - mse: 7.1006 - val_loss: 4.4612 - val_mse: 4.4612\n",
      "Epoch 170/300\n",
      "40/40 [==============================] - 0s 3ms/step - loss: 7.1088 - mse: 7.1088 - val_loss: 4.4863 - val_mse: 4.4863\n",
      "Epoch 171/300\n",
      "40/40 [==============================] - 0s 3ms/step - loss: 7.0950 - mse: 7.0950 - val_loss: 4.4992 - val_mse: 4.4992\n",
      "Epoch 172/300\n",
      "40/40 [==============================] - 0s 3ms/step - loss: 7.1137 - mse: 7.1137 - val_loss: 4.4890 - val_mse: 4.4890\n",
      "Epoch 173/300\n",
      "40/40 [==============================] - 0s 3ms/step - loss: 7.0918 - mse: 7.0918 - val_loss: 4.4838 - val_mse: 4.4838\n",
      "Epoch 174/300\n",
      "40/40 [==============================] - 0s 2ms/step - loss: 7.1053 - mse: 7.1053 - val_loss: 4.4818 - val_mse: 4.4818\n",
      "Epoch 175/300\n",
      "40/40 [==============================] - 0s 3ms/step - loss: 7.0816 - mse: 7.0816 - val_loss: 4.5120 - val_mse: 4.5120\n",
      "Epoch 176/300\n",
      "40/40 [==============================] - 0s 3ms/step - loss: 7.0957 - mse: 7.0957 - val_loss: 4.4880 - val_mse: 4.4880\n",
      "Epoch 177/300\n",
      "40/40 [==============================] - 0s 3ms/step - loss: 7.0852 - mse: 7.0852 - val_loss: 4.4900 - val_mse: 4.4900\n",
      "Epoch 178/300\n",
      "40/40 [==============================] - 0s 2ms/step - loss: 7.0750 - mse: 7.0750 - val_loss: 4.4748 - val_mse: 4.4748\n",
      "Epoch 179/300\n",
      "40/40 [==============================] - 0s 2ms/step - loss: 7.0831 - mse: 7.0831 - val_loss: 4.5434 - val_mse: 4.5434\n",
      "Epoch 180/300\n",
      "40/40 [==============================] - 0s 2ms/step - loss: 7.0782 - mse: 7.0782 - val_loss: 4.4829 - val_mse: 4.4829\n",
      "Epoch 181/300\n",
      "40/40 [==============================] - 0s 3ms/step - loss: 7.0675 - mse: 7.0675 - val_loss: 4.5083 - val_mse: 4.5083\n",
      "Epoch 182/300\n",
      "40/40 [==============================] - 0s 2ms/step - loss: 7.0709 - mse: 7.0709 - val_loss: 4.5670 - val_mse: 4.5670\n",
      "Epoch 183/300\n",
      "40/40 [==============================] - 0s 2ms/step - loss: 7.0768 - mse: 7.0768 - val_loss: 4.5298 - val_mse: 4.5298\n",
      "Epoch 184/300\n",
      "40/40 [==============================] - 0s 2ms/step - loss: 7.0608 - mse: 7.0608 - val_loss: 4.4962 - val_mse: 4.4962\n",
      "Epoch 185/300\n",
      "40/40 [==============================] - 0s 3ms/step - loss: 7.0723 - mse: 7.0723 - val_loss: 4.5520 - val_mse: 4.5520\n",
      "Epoch 186/300\n",
      "40/40 [==============================] - 0s 3ms/step - loss: 7.0585 - mse: 7.0585 - val_loss: 4.4976 - val_mse: 4.4976\n",
      "Epoch 187/300\n",
      "40/40 [==============================] - 0s 3ms/step - loss: 7.0445 - mse: 7.0445 - val_loss: 4.5250 - val_mse: 4.5250\n",
      "Epoch 188/300\n",
      "40/40 [==============================] - 0s 3ms/step - loss: 7.0528 - mse: 7.0528 - val_loss: 4.4786 - val_mse: 4.4786\n",
      "Epoch 189/300\n",
      "40/40 [==============================] - 0s 3ms/step - loss: 7.0479 - mse: 7.0479 - val_loss: 4.5135 - val_mse: 4.5135\n",
      "Epoch 190/300\n",
      "40/40 [==============================] - 0s 3ms/step - loss: 7.0370 - mse: 7.0370 - val_loss: 4.5218 - val_mse: 4.5218\n",
      "Epoch 191/300\n",
      "40/40 [==============================] - 0s 3ms/step - loss: 7.0506 - mse: 7.0506 - val_loss: 4.5339 - val_mse: 4.5339\n",
      "Epoch 192/300\n",
      "40/40 [==============================] - 0s 3ms/step - loss: 7.0367 - mse: 7.0367 - val_loss: 4.5395 - val_mse: 4.5395\n",
      "Epoch 193/300\n",
      "40/40 [==============================] - 0s 3ms/step - loss: 7.0211 - mse: 7.0211 - val_loss: 4.5433 - val_mse: 4.5433\n",
      "Epoch 194/300\n",
      "40/40 [==============================] - 0s 3ms/step - loss: 7.0358 - mse: 7.0358 - val_loss: 4.5792 - val_mse: 4.5792\n",
      "Epoch 195/300\n",
      "40/40 [==============================] - 0s 3ms/step - loss: 7.0136 - mse: 7.0136 - val_loss: 4.4772 - val_mse: 4.4772\n",
      "Epoch 196/300\n",
      "40/40 [==============================] - 0s 3ms/step - loss: 7.0327 - mse: 7.0327 - val_loss: 4.5407 - val_mse: 4.5407\n",
      "Epoch 197/300\n",
      "40/40 [==============================] - 0s 3ms/step - loss: 7.0257 - mse: 7.0257 - val_loss: 4.5673 - val_mse: 4.5673\n",
      "Epoch 198/300\n",
      "40/40 [==============================] - 0s 3ms/step - loss: 7.0142 - mse: 7.0142 - val_loss: 4.5295 - val_mse: 4.5295\n",
      "Epoch 199/300\n",
      "40/40 [==============================] - 0s 3ms/step - loss: 7.0104 - mse: 7.0104 - val_loss: 4.5183 - val_mse: 4.5183\n",
      "Epoch 200/300\n",
      "40/40 [==============================] - 0s 3ms/step - loss: 6.9888 - mse: 6.9888 - val_loss: 4.5805 - val_mse: 4.5805\n",
      "Epoch 201/300\n",
      "40/40 [==============================] - 0s 3ms/step - loss: 6.9948 - mse: 6.9948 - val_loss: 4.5505 - val_mse: 4.5505\n",
      "Epoch 202/300\n",
      "40/40 [==============================] - 0s 3ms/step - loss: 7.0114 - mse: 7.0114 - val_loss: 4.5868 - val_mse: 4.5868\n",
      "Epoch 203/300\n",
      "40/40 [==============================] - 0s 3ms/step - loss: 6.9902 - mse: 6.9902 - val_loss: 4.4797 - val_mse: 4.4797\n",
      "Epoch 204/300\n",
      "40/40 [==============================] - 0s 2ms/step - loss: 7.0098 - mse: 7.0098 - val_loss: 4.5925 - val_mse: 4.5925\n",
      "Epoch 205/300\n",
      "40/40 [==============================] - 0s 3ms/step - loss: 6.9900 - mse: 6.9900 - val_loss: 4.5759 - val_mse: 4.5759\n",
      "Epoch 206/300\n",
      "40/40 [==============================] - 0s 2ms/step - loss: 6.9801 - mse: 6.9801 - val_loss: 4.5695 - val_mse: 4.5695\n",
      "Epoch 207/300\n",
      "40/40 [==============================] - 0s 3ms/step - loss: 6.9799 - mse: 6.9799 - val_loss: 4.5781 - val_mse: 4.5781\n",
      "Epoch 208/300\n",
      "40/40 [==============================] - 0s 2ms/step - loss: 6.9797 - mse: 6.9797 - val_loss: 4.5231 - val_mse: 4.5231\n",
      "Epoch 209/300\n",
      "40/40 [==============================] - 0s 2ms/step - loss: 6.9659 - mse: 6.9659 - val_loss: 4.5739 - val_mse: 4.5739\n",
      "Epoch 210/300\n",
      "40/40 [==============================] - 0s 2ms/step - loss: 6.9715 - mse: 6.9715 - val_loss: 4.5040 - val_mse: 4.5040\n",
      "Epoch 211/300\n",
      "40/40 [==============================] - 0s 2ms/step - loss: 6.9640 - mse: 6.9640 - val_loss: 4.6189 - val_mse: 4.6189\n",
      "Epoch 212/300\n",
      "40/40 [==============================] - 0s 3ms/step - loss: 6.9762 - mse: 6.9762 - val_loss: 4.6160 - val_mse: 4.6160\n",
      "Epoch 213/300\n",
      "40/40 [==============================] - 0s 3ms/step - loss: 6.9618 - mse: 6.9618 - val_loss: 4.5533 - val_mse: 4.5533\n",
      "Epoch 214/300\n",
      "40/40 [==============================] - 0s 2ms/step - loss: 6.9524 - mse: 6.9524 - val_loss: 4.6094 - val_mse: 4.6094\n",
      "Epoch 215/300\n",
      "40/40 [==============================] - 0s 2ms/step - loss: 6.9614 - mse: 6.9614 - val_loss: 4.5492 - val_mse: 4.5492\n",
      "Epoch 216/300\n",
      "40/40 [==============================] - 0s 2ms/step - loss: 6.9382 - mse: 6.9382 - val_loss: 4.6196 - val_mse: 4.6196\n",
      "Epoch 217/300\n",
      "40/40 [==============================] - 0s 2ms/step - loss: 6.9593 - mse: 6.9593 - val_loss: 4.6411 - val_mse: 4.6411\n",
      "Epoch 218/300\n",
      "40/40 [==============================] - 0s 2ms/step - loss: 6.9167 - mse: 6.9167 - val_loss: 4.5805 - val_mse: 4.5805\n",
      "Epoch 219/300\n",
      "40/40 [==============================] - 0s 4ms/step - loss: 6.9408 - mse: 6.9408 - val_loss: 4.6405 - val_mse: 4.6405\n",
      "Epoch 220/300\n",
      "40/40 [==============================] - 0s 3ms/step - loss: 6.9334 - mse: 6.9334 - val_loss: 4.5932 - val_mse: 4.5932\n",
      "Epoch 221/300\n",
      "40/40 [==============================] - 0s 3ms/step - loss: 6.9215 - mse: 6.9215 - val_loss: 4.5613 - val_mse: 4.5613\n",
      "Epoch 222/300\n",
      "40/40 [==============================] - 0s 3ms/step - loss: 6.9210 - mse: 6.9210 - val_loss: 4.6166 - val_mse: 4.6166\n",
      "Epoch 223/300\n",
      "40/40 [==============================] - 0s 3ms/step - loss: 6.9172 - mse: 6.9172 - val_loss: 4.6106 - val_mse: 4.6106\n",
      "Epoch 224/300\n",
      "40/40 [==============================] - 0s 3ms/step - loss: 6.9102 - mse: 6.9102 - val_loss: 4.6234 - val_mse: 4.6234\n",
      "Epoch 225/300\n",
      "40/40 [==============================] - 0s 3ms/step - loss: 6.9279 - mse: 6.9279 - val_loss: 4.6155 - val_mse: 4.6155\n",
      "Epoch 226/300\n",
      "40/40 [==============================] - 0s 3ms/step - loss: 6.9159 - mse: 6.9159 - val_loss: 4.5787 - val_mse: 4.5787\n",
      "Epoch 227/300\n",
      "40/40 [==============================] - 0s 3ms/step - loss: 6.9144 - mse: 6.9144 - val_loss: 4.6691 - val_mse: 4.6691\n",
      "Epoch 228/300\n",
      "40/40 [==============================] - 0s 3ms/step - loss: 6.9231 - mse: 6.9231 - val_loss: 4.6519 - val_mse: 4.6519\n",
      "Epoch 229/300\n",
      "40/40 [==============================] - 0s 3ms/step - loss: 6.9052 - mse: 6.9052 - val_loss: 4.5836 - val_mse: 4.5836\n",
      "Epoch 230/300\n",
      "40/40 [==============================] - 0s 3ms/step - loss: 6.9040 - mse: 6.9040 - val_loss: 4.5653 - val_mse: 4.5653\n",
      "Epoch 231/300\n",
      "40/40 [==============================] - 0s 3ms/step - loss: 6.8873 - mse: 6.8873 - val_loss: 4.6274 - val_mse: 4.6274\n",
      "Epoch 232/300\n",
      "40/40 [==============================] - 0s 3ms/step - loss: 6.8851 - mse: 6.8851 - val_loss: 4.6356 - val_mse: 4.6356\n",
      "Epoch 233/300\n",
      "40/40 [==============================] - 0s 3ms/step - loss: 6.8911 - mse: 6.8911 - val_loss: 4.6023 - val_mse: 4.6023\n",
      "Epoch 234/300\n",
      "40/40 [==============================] - 0s 3ms/step - loss: 6.8738 - mse: 6.8738 - val_loss: 4.6633 - val_mse: 4.6633\n",
      "Epoch 235/300\n",
      "40/40 [==============================] - 0s 3ms/step - loss: 6.8920 - mse: 6.8920 - val_loss: 4.7028 - val_mse: 4.7028\n",
      "Epoch 236/300\n",
      "40/40 [==============================] - 0s 2ms/step - loss: 6.8861 - mse: 6.8861 - val_loss: 4.7091 - val_mse: 4.7091\n",
      "Epoch 237/300\n",
      "40/40 [==============================] - 0s 2ms/step - loss: 6.8753 - mse: 6.8753 - val_loss: 4.6382 - val_mse: 4.6382\n",
      "Epoch 238/300\n",
      "40/40 [==============================] - 0s 3ms/step - loss: 6.8531 - mse: 6.8531 - val_loss: 4.6696 - val_mse: 4.6696\n",
      "Epoch 239/300\n",
      "40/40 [==============================] - 0s 3ms/step - loss: 6.8983 - mse: 6.8983 - val_loss: 4.6499 - val_mse: 4.6499\n",
      "Epoch 240/300\n",
      "40/40 [==============================] - 0s 3ms/step - loss: 6.8774 - mse: 6.8774 - val_loss: 4.6825 - val_mse: 4.6825\n",
      "Epoch 241/300\n",
      "40/40 [==============================] - 0s 3ms/step - loss: 6.8443 - mse: 6.8443 - val_loss: 4.6916 - val_mse: 4.6916\n",
      "Epoch 242/300\n",
      "40/40 [==============================] - 0s 3ms/step - loss: 6.8499 - mse: 6.8499 - val_loss: 4.7077 - val_mse: 4.7077\n",
      "Epoch 243/300\n",
      "40/40 [==============================] - 0s 3ms/step - loss: 6.8579 - mse: 6.8579 - val_loss: 4.6439 - val_mse: 4.6439\n",
      "Epoch 244/300\n",
      "40/40 [==============================] - 0s 3ms/step - loss: 6.8412 - mse: 6.8412 - val_loss: 4.7559 - val_mse: 4.7559\n",
      "Epoch 245/300\n",
      "40/40 [==============================] - 0s 3ms/step - loss: 6.8364 - mse: 6.8364 - val_loss: 4.6245 - val_mse: 4.6245\n",
      "Epoch 246/300\n",
      "40/40 [==============================] - 0s 3ms/step - loss: 6.8859 - mse: 6.8859 - val_loss: 4.7843 - val_mse: 4.7843\n",
      "Epoch 247/300\n",
      "40/40 [==============================] - 0s 3ms/step - loss: 6.8950 - mse: 6.8950 - val_loss: 4.6460 - val_mse: 4.6460\n"
     ]
    },
    {
     "name": "stdout",
     "output_type": "stream",
     "text": [
      "Epoch 248/300\n",
      "40/40 [==============================] - 0s 3ms/step - loss: 6.8310 - mse: 6.8310 - val_loss: 4.7413 - val_mse: 4.7413\n",
      "Epoch 249/300\n",
      "40/40 [==============================] - 0s 3ms/step - loss: 6.8418 - mse: 6.8418 - val_loss: 4.6695 - val_mse: 4.6695\n",
      "Epoch 250/300\n",
      "40/40 [==============================] - 0s 4ms/step - loss: 6.8213 - mse: 6.8213 - val_loss: 4.6275 - val_mse: 4.6275\n",
      "Epoch 251/300\n",
      "40/40 [==============================] - 0s 3ms/step - loss: 6.8200 - mse: 6.8200 - val_loss: 4.7889 - val_mse: 4.7889\n",
      "Epoch 252/300\n",
      "40/40 [==============================] - 0s 4ms/step - loss: 6.8183 - mse: 6.8183 - val_loss: 4.7008 - val_mse: 4.7008\n",
      "Epoch 253/300\n",
      "40/40 [==============================] - 0s 4ms/step - loss: 6.8174 - mse: 6.8174 - val_loss: 4.6865 - val_mse: 4.6865\n",
      "Epoch 254/300\n",
      "40/40 [==============================] - 0s 3ms/step - loss: 6.8134 - mse: 6.8134 - val_loss: 4.7141 - val_mse: 4.7141\n",
      "Epoch 255/300\n",
      "40/40 [==============================] - 0s 3ms/step - loss: 6.8124 - mse: 6.8124 - val_loss: 4.7628 - val_mse: 4.7628\n",
      "Epoch 256/300\n",
      "40/40 [==============================] - 0s 3ms/step - loss: 6.8005 - mse: 6.8005 - val_loss: 4.7176 - val_mse: 4.7176\n",
      "Epoch 257/300\n",
      "40/40 [==============================] - 0s 3ms/step - loss: 6.8153 - mse: 6.8153 - val_loss: 4.7582 - val_mse: 4.7582\n",
      "Epoch 258/300\n",
      "40/40 [==============================] - 0s 3ms/step - loss: 6.7969 - mse: 6.7969 - val_loss: 4.7227 - val_mse: 4.7227\n",
      "Epoch 259/300\n",
      "40/40 [==============================] - 0s 3ms/step - loss: 6.8319 - mse: 6.8319 - val_loss: 4.8419 - val_mse: 4.8419\n",
      "Epoch 260/300\n",
      "40/40 [==============================] - 0s 3ms/step - loss: 6.7866 - mse: 6.7866 - val_loss: 4.6841 - val_mse: 4.6841\n",
      "Epoch 261/300\n",
      "40/40 [==============================] - 0s 4ms/step - loss: 6.8141 - mse: 6.8141 - val_loss: 4.8524 - val_mse: 4.8524\n",
      "Epoch 262/300\n",
      "40/40 [==============================] - 0s 3ms/step - loss: 6.8145 - mse: 6.8145 - val_loss: 4.7255 - val_mse: 4.7255\n",
      "Epoch 263/300\n",
      "40/40 [==============================] - 0s 3ms/step - loss: 6.7894 - mse: 6.7894 - val_loss: 4.8061 - val_mse: 4.8061\n",
      "Epoch 264/300\n",
      "40/40 [==============================] - 0s 3ms/step - loss: 6.7934 - mse: 6.7934 - val_loss: 4.7616 - val_mse: 4.7616\n",
      "Epoch 265/300\n",
      "40/40 [==============================] - 0s 3ms/step - loss: 6.8030 - mse: 6.8030 - val_loss: 4.8787 - val_mse: 4.8787\n",
      "Epoch 266/300\n",
      "40/40 [==============================] - 0s 3ms/step - loss: 6.7761 - mse: 6.7761 - val_loss: 4.7559 - val_mse: 4.7559\n",
      "Epoch 267/300\n",
      "40/40 [==============================] - 0s 3ms/step - loss: 6.7796 - mse: 6.7796 - val_loss: 4.7442 - val_mse: 4.7442\n",
      "Epoch 268/300\n",
      "40/40 [==============================] - 0s 3ms/step - loss: 6.7790 - mse: 6.7790 - val_loss: 4.7752 - val_mse: 4.7752\n",
      "Epoch 269/300\n",
      "40/40 [==============================] - 0s 3ms/step - loss: 6.7858 - mse: 6.7858 - val_loss: 4.8421 - val_mse: 4.8421\n",
      "Epoch 270/300\n",
      "40/40 [==============================] - 0s 3ms/step - loss: 6.7720 - mse: 6.7720 - val_loss: 4.7962 - val_mse: 4.7962\n",
      "Epoch 271/300\n",
      "40/40 [==============================] - 0s 3ms/step - loss: 6.7696 - mse: 6.7696 - val_loss: 4.8303 - val_mse: 4.8303\n",
      "Epoch 272/300\n",
      "40/40 [==============================] - 0s 3ms/step - loss: 6.7473 - mse: 6.7473 - val_loss: 4.7988 - val_mse: 4.7988\n",
      "Epoch 273/300\n",
      "40/40 [==============================] - 0s 3ms/step - loss: 6.7756 - mse: 6.7756 - val_loss: 4.7803 - val_mse: 4.7803\n",
      "Epoch 274/300\n",
      "40/40 [==============================] - 0s 3ms/step - loss: 6.7467 - mse: 6.7467 - val_loss: 4.7808 - val_mse: 4.7808\n",
      "Epoch 275/300\n",
      "40/40 [==============================] - 0s 3ms/step - loss: 6.7406 - mse: 6.7406 - val_loss: 4.8215 - val_mse: 4.8215\n",
      "Epoch 276/300\n",
      "40/40 [==============================] - 0s 3ms/step - loss: 6.7452 - mse: 6.7452 - val_loss: 4.7746 - val_mse: 4.7746\n",
      "Epoch 277/300\n",
      "40/40 [==============================] - 0s 3ms/step - loss: 6.7601 - mse: 6.7601 - val_loss: 4.8782 - val_mse: 4.8782\n",
      "Epoch 278/300\n",
      "40/40 [==============================] - 0s 3ms/step - loss: 6.7373 - mse: 6.7373 - val_loss: 4.8536 - val_mse: 4.8536\n",
      "Epoch 279/300\n",
      "40/40 [==============================] - 0s 3ms/step - loss: 6.7341 - mse: 6.7341 - val_loss: 4.8254 - val_mse: 4.8254\n",
      "Epoch 280/300\n",
      "40/40 [==============================] - 0s 2ms/step - loss: 6.7395 - mse: 6.7395 - val_loss: 4.8202 - val_mse: 4.8202\n",
      "Epoch 281/300\n",
      "40/40 [==============================] - 0s 3ms/step - loss: 6.7242 - mse: 6.7242 - val_loss: 4.8158 - val_mse: 4.8158\n",
      "Epoch 282/300\n",
      "40/40 [==============================] - 0s 3ms/step - loss: 6.7112 - mse: 6.7112 - val_loss: 4.8720 - val_mse: 4.8720\n",
      "Epoch 283/300\n",
      "40/40 [==============================] - 0s 3ms/step - loss: 6.7205 - mse: 6.7205 - val_loss: 4.7917 - val_mse: 4.7917\n",
      "Epoch 284/300\n",
      "40/40 [==============================] - 0s 3ms/step - loss: 6.7122 - mse: 6.7122 - val_loss: 4.8156 - val_mse: 4.8156\n",
      "Epoch 285/300\n",
      "40/40 [==============================] - 0s 3ms/step - loss: 6.7335 - mse: 6.7335 - val_loss: 4.7517 - val_mse: 4.7517\n",
      "Epoch 286/300\n",
      "40/40 [==============================] - 0s 3ms/step - loss: 6.7110 - mse: 6.7110 - val_loss: 4.8857 - val_mse: 4.8857\n",
      "Epoch 287/300\n",
      "40/40 [==============================] - 0s 3ms/step - loss: 6.7176 - mse: 6.7176 - val_loss: 4.8358 - val_mse: 4.8358\n",
      "Epoch 288/300\n",
      "40/40 [==============================] - 0s 3ms/step - loss: 6.6764 - mse: 6.6764 - val_loss: 4.8257 - val_mse: 4.8257\n",
      "Epoch 289/300\n",
      "40/40 [==============================] - 0s 3ms/step - loss: 6.6984 - mse: 6.6984 - val_loss: 4.8151 - val_mse: 4.8151\n",
      "Epoch 290/300\n",
      "40/40 [==============================] - 0s 3ms/step - loss: 6.7106 - mse: 6.7106 - val_loss: 4.9103 - val_mse: 4.9103\n",
      "Epoch 291/300\n",
      "40/40 [==============================] - 0s 2ms/step - loss: 6.7104 - mse: 6.7104 - val_loss: 4.8819 - val_mse: 4.8819\n",
      "Epoch 292/300\n",
      "40/40 [==============================] - 0s 3ms/step - loss: 6.7045 - mse: 6.7045 - val_loss: 4.8427 - val_mse: 4.8427\n",
      "Epoch 293/300\n",
      "40/40 [==============================] - 0s 3ms/step - loss: 6.6799 - mse: 6.6799 - val_loss: 4.7967 - val_mse: 4.7967\n",
      "Epoch 294/300\n",
      "40/40 [==============================] - 0s 3ms/step - loss: 6.6690 - mse: 6.6690 - val_loss: 4.8319 - val_mse: 4.8319\n",
      "Epoch 295/300\n",
      "40/40 [==============================] - 0s 3ms/step - loss: 6.6641 - mse: 6.6641 - val_loss: 4.9293 - val_mse: 4.9293\n",
      "Epoch 296/300\n",
      "40/40 [==============================] - 0s 3ms/step - loss: 6.7026 - mse: 6.7026 - val_loss: 4.8626 - val_mse: 4.8626\n",
      "Epoch 297/300\n",
      "40/40 [==============================] - 0s 3ms/step - loss: 6.6525 - mse: 6.6525 - val_loss: 4.8422 - val_mse: 4.8422\n",
      "Epoch 298/300\n",
      "40/40 [==============================] - 0s 3ms/step - loss: 6.6625 - mse: 6.6625 - val_loss: 4.8685 - val_mse: 4.8685\n",
      "Epoch 299/300\n",
      "40/40 [==============================] - 0s 3ms/step - loss: 6.6780 - mse: 6.6780 - val_loss: 4.9722 - val_mse: 4.9722\n",
      "Epoch 300/300\n",
      "40/40 [==============================] - 0s 3ms/step - loss: 6.6593 - mse: 6.6593 - val_loss: 4.9231 - val_mse: 4.9231\n",
      "20/20 [==============================] - 0s 1ms/step\n"
     ]
    }
   ],
   "source": [
    "import keras\n",
    "from keras.layers import Dense\n",
    "model = keras.Sequential()\n",
    "#model.add(Dense(69, kernel_initializer='normal', activation='relu', input_shape=(23,)))\n",
    "model.add(Dense(12, kernel_initializer='normal', activation='relu', input_shape=(23,)))\n",
    "model.add(Dense(5, kernel_initializer='normal', activation='relu'))\n",
    "model.add(Dense(1, kernel_initializer='normal', activation='relu'))\n",
    "model.compile(loss='mse', optimizer='Adam', metrics='mse', )\n",
    "model.fit(X_train, y_2_train, validation_data=(X_test, y_2_test), verbose=1, epochs=300, batch_size=64, shuffle=True)\n",
    "\n",
    "from sklearn.metrics import mean_squared_error\n",
    "from sklearn.metrics import mean_absolute_error\n",
    "\n",
    "preds = model.predict(X_test)\n"
   ]
  },
  {
   "cell_type": "code",
   "execution_count": 28,
   "id": "2a5b8b4f",
   "metadata": {},
   "outputs": [
    {
     "data": {
      "text/plain": [
       "4.923093554775385"
      ]
     },
     "execution_count": 28,
     "metadata": {},
     "output_type": "execute_result"
    }
   ],
   "source": [
    "mean_squared_error(y_2_test, preds)"
   ]
  },
  {
   "cell_type": "code",
   "execution_count": 29,
   "id": "05c0493b",
   "metadata": {},
   "outputs": [
    {
     "data": {
      "text/plain": [
       "0.7754346468592287"
      ]
     },
     "execution_count": 29,
     "metadata": {},
     "output_type": "execute_result"
    }
   ],
   "source": [
    "mean_absolute_error(y_2_test, preds)"
   ]
  },
  {
   "cell_type": "code",
   "execution_count": 30,
   "id": "5da38453",
   "metadata": {},
   "outputs": [
    {
     "data": {
      "image/png": "[encoded data removed]",
      "text/plain": [
       "<Figure size 1200x480 with 2 Axes>"
      ]
     },
     "metadata": {
      "needs_background": "light"
     },
     "output_type": "display_data"
    }
   ],
   "source": [
    "# Create Figure and Subplots\n",
    "fig, (ax1, ax2) = plt.subplots(1,2, figsize=(10,4), sharey=True, dpi=120)\n",
    "\n",
    "# Plot\n",
    "ax1.plot(preds, 'g')  # greendots\n",
    "ax2.plot(y_2_test, 'b')  # bluestart\n",
    "\n",
    "# Title, X and Y labels, X and Y Lim\n",
    "ax1.set_title('Predictions'); ax2.set_title('Ground Truth')\n",
    "\n",
    "  # y axis limits\n",
    "\n",
    "# ax2.yaxis.set_ticks_position('none') \n",
    "plt.tight_layout()\n",
    "plt.show()"
   ]
  },
  {
   "cell_type": "code",
   "execution_count": 31,
   "id": "7e092587",
   "metadata": {},
   "outputs": [
    {
     "data": {
      "text/plain": [
       "array([ 23,  16,  27,  10,  11,  46,  21,  36,  16,  35,  47,  21,  41,\n",
       "        29,  54,  24,  53,  19,  21,  55, 168, 127])"
      ]
     },
     "execution_count": 31,
     "metadata": {},
     "output_type": "execute_result"
    }
   ],
   "source": [
    "classifier.feature_importances_"
   ]
  },
  {
   "cell_type": "code",
   "execution_count": 32,
   "id": "da999a7b",
   "metadata": {},
   "outputs": [],
   "source": [
    "features = ['HR-1', 'HR-2', 'HR-3', 'HR-4', 'HR-5', 'PB-1', 'PB-2', 'PB-3', 'PB-4','PB-5', 'T-1', 'T-2', 'T-3', 'T-4', 'T-5', 'VV-1', 'VV-2', 'VV-3','VV-4', 'VV-5', 'vol', 'intensity']"
   ]
  },
  {
   "cell_type": "code",
   "execution_count": 33,
   "id": "44626ec9",
   "metadata": {},
   "outputs": [
    {
     "data": {
      "text/plain": [
       "<BarContainer object of 22 artists>"
      ]
     },
     "execution_count": 33,
     "metadata": {},
     "output_type": "execute_result"
    },
    {
     "data": {
      "image/png": "[encoded data removed]",
      "text/plain": [
       "<Figure size 1200x400 with 1 Axes>"
      ]
     },
     "metadata": {
      "needs_background": "light"
     },
     "output_type": "display_data"
    }
   ],
   "source": [
    "plt.figure(figsize=(15, 5), dpi=80)\n",
    "\n",
    "plt.bar(features, classifier.feature_importances_ / np.sum(classifier.feature_importances_))"
   ]
  },
  {
   "cell_type": "code",
   "execution_count": 34,
   "id": "c9d253e7",
   "metadata": {},
   "outputs": [
    {
     "data": {
      "image/png": "[encoded data removed]",
      "text/plain": [
       "<Figure size 432x288 with 1 Axes>"
      ]
     },
     "metadata": {
      "needs_background": "light"
     },
     "output_type": "display_data"
    }
   ],
   "source": [
    "temp_true  = np.copy(y_2_test)\n",
    "#temp_true[temp_true > 0] = 5\n",
    "#preds[preds > 0] = 2\n",
    "plt.plot(preds[0:100],'r', label='Prediction')\n",
    "plt.plot(temp_true[0:100],'b', label='Ground Truth')\n",
    "plt.show()"
   ]
  },
  {
   "cell_type": "code",
   "execution_count": 35,
   "id": "dfc9d5c4",
   "metadata": {},
   "outputs": [
    {
     "data": {
      "image/png": "[encoded data removed]",
      "text/plain": [
       "<Figure size 504x360 with 1 Axes>"
      ]
     },
     "metadata": {
      "needs_background": "light"
     },
     "output_type": "display_data"
    }
   ],
   "source": [
    "data = [0.11, 0.198, 0.89]\n",
    "\n",
    "f = plt.figure()\n",
    "f.set_figwidth(7)\n",
    "f.set_figheight(5)\n",
    "\n",
    "x = ['Basic Measurements', 'Precipitation Prediction', 'True Precipitation']\n",
    "plt.xticks(range(len(data)), x)\n",
    "\n",
    "plt.bar(range(len(x)), data, color='royalblue', alpha=0.7)\n",
    "plt.grid(color='#95a5a6', linestyle='--', linewidth=2, axis='y', alpha=0.7)\n",
    "plt.title(\"F1 score\")\n",
    "plt.show()"
   ]
  },
  {
   "cell_type": "code",
   "execution_count": 36,
   "id": "e82101e0",
   "metadata": {},
   "outputs": [
    {
     "data": {
      "text/plain": [
       "<AxesSubplot:xlabel='importance', ylabel='features'>"
      ]
     },
     "execution_count": 36,
     "metadata": {},
     "output_type": "execute_result"
    },
    {
     "data": {
      "image/png": "[encoded data removed]",
      "text/plain": [
       "<Figure size 216x576 with 1 Axes>"
      ]
     },
     "metadata": {
      "needs_background": "light"
     },
     "output_type": "display_data"
    }
   ],
   "source": [
    "# plot feature importance\n",
    "import seaborn as sns\n",
    "features = ['HR-1', 'HR-2', 'HR-3', 'HR-4', 'HR-5', 'PB-1', 'PB-2', 'PB-3', 'PB-4','PB-5', 'T-1', 'T-2', 'T-3', 'T-4', 'T-5', 'VV-1', 'VV-2', 'VV-3','VV-4', 'VV-5', 'vol', 'intensity']\n",
    "fi_df = pd.DataFrame(features, columns=['features'])\n",
    "fi_df['importance'] = classifier.booster_.feature_importance(importance_type=\"gain\") / 15000\n",
    "fig, ax = plt.subplots(1, 1, figsize=(3, 8))\n",
    "sns.barplot(\n",
    "    x='importance'\n",
    "    , y='features'\n",
    "    , data=fi_df.sort_values(by=['importance'], ascending=False)\n",
    "    , ax=ax\n",
    ")"
   ]
  },
  {
   "cell_type": "code",
   "execution_count": 39,
   "id": "80db9915",
   "metadata": {},
   "outputs": [],
   "source": [
    "fig.savefig(\"feature_importance_predicted_precipitation.pdf\",bbox_inches='tight')"
   ]
  },
  {
   "cell_type": "code",
   "execution_count": null,
   "id": "9ec94508",
   "metadata": {},
   "outputs": [],
   "source": []
  }
 ],
 "metadata": {
  "kernelspec": {
   "display_name": "Python 3",
   "language": "python",
   "name": "python3"
  },
  "language_info": {
   "codemirror_mode": {
    "name": "ipython",
    "version": 3
   },
   "file_extension": ".py",
   "mimetype": "text/x-python",
   "name": "python",
   "nbconvert_exporter": "python",
   "pygments_lexer": "ipython3",
   "version": "3.8.8"
  }
 },
 "nbformat": 4,
 "nbformat_minor": 5
}

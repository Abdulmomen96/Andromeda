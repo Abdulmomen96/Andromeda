{
 "cells": [
  {
   "cell_type": "code",
   "execution_count": 1387,
   "id": "35ccd132",
   "metadata": {},
   "outputs": [],
   "source": [
    "import pandas as pd\n",
    "import numpy as np\n",
    "import smogn\n",
    "from sklearn.metrics import confusion_matrix,accuracy_score,r2_score,roc_auc_score,precision_score,recall_score,f1_score"
   ]
  },
  {
   "cell_type": "code",
   "execution_count": 1388,
   "id": "3fe7502a",
   "metadata": {},
   "outputs": [],
   "source": [
    "import lightgbm as lgb\n",
    "import matplotlib.pyplot as plt"
   ]
  },
  {
   "cell_type": "code",
   "execution_count": 1553,
   "id": "98ee9d9f",
   "metadata": {},
   "outputs": [],
   "source": [
    "from sklearn.preprocessing import StandardScaler\n",
    "\n",
    "\n",
    "X_train = np.load('x_train.npy')\n",
    "y_train = np.load('y_train.npy')\n",
    "X_test = np.load('x_test.npy')\n",
    "y_test = np.load('y_test.npy')"
   ]
  },
  {
   "cell_type": "code",
   "execution_count": 1554,
   "id": "3953ed3e",
   "metadata": {},
   "outputs": [],
   "source": [
    "y_2_train = np.load('y_2_train.npy')\n",
    "y_2_test = np.load('y_2_test.npy')\n",
    "y_3_train = np.load('y_3_train.npy')\n",
    "y_3_test = np.load('y_3_test.npy')\n",
    "\n",
    "X_train_class = np.copy(X_train)\n",
    "y_train_class = np.copy(y_train)\n",
    "X_test_class = np.copy(X_test)\n",
    "y_test_class = np.copy(y_test)\n",
    "\n",
    "scaler = StandardScaler().fit(X_train_class)\n",
    "X_train_class = scaler.transform(X_train_class)\n",
    "X_test_class = scaler.transform(X_test_class)\n"
   ]
  },
  {
   "cell_type": "code",
   "execution_count": 1555,
   "id": "536b2da0",
   "metadata": {},
   "outputs": [],
   "source": [
    "volume_train = np.load('y_4_train.npy') #np.load('volume_train.npy')\n",
    "volume_test = np.load('y_4_test.npy') #np.load('volume_test.npy')\n",
    "intensity_train = np.load('y_5_train.npy') #np.load('intensity_train.npy')\n",
    "intensity_test = np.load('y_5_test.npy') #np.load('intensity_test.npy')"
   ]
  },
  {
   "cell_type": "code",
   "execution_count": 1556,
   "id": "1d4d047e",
   "metadata": {},
   "outputs": [],
   "source": [
    "# RRegression Values modeifications\n",
    "#y_2_train[y_2_train > 10] = 10.0\n",
    "#y_2_test[y_2_test > 10] = 10.0\n",
    "\n"
   ]
  },
  {
   "cell_type": "code",
   "execution_count": 1557,
   "id": "cfcab482",
   "metadata": {},
   "outputs": [],
   "source": [
    "X_train = np.concatenate((X_train, volume_train.reshape(-1, 1), intensity_train.reshape(-1, 1)), axis=1)\n",
    "X_test = np.concatenate((X_test,  volume_test.reshape(-1, 1), intensity_test.reshape(-1, 1)), axis=1)"
   ]
  },
  {
   "cell_type": "code",
   "execution_count": 1558,
   "id": "92581670",
   "metadata": {},
   "outputs": [
    {
     "name": "stdout",
     "output_type": "stream",
     "text": [
      "(2552, 22) (639, 22)\n"
     ]
    }
   ],
   "source": [
    "print(X_train.shape, X_test.shape)"
   ]
  },
  {
   "cell_type": "code",
   "execution_count": 1559,
   "id": "9859f078",
   "metadata": {},
   "outputs": [],
   "source": [
    "#scaler = StandardScaler().fit(X_train)\n",
    "#X_train = scaler.transform(X_train)\n",
    "#X_test = scaler.transform(X_test)"
   ]
  },
  {
   "cell_type": "code",
   "execution_count": 1560,
   "id": "27a2f352",
   "metadata": {},
   "outputs": [],
   "source": [
    "#lgb_train = lgb.Dataset(X_train, y_2_train)\n"
   ]
  },
  {
   "cell_type": "code",
   "execution_count": 1561,
   "id": "cb7ba8eb",
   "metadata": {},
   "outputs": [
    {
     "name": "stdout",
     "output_type": "stream",
     "text": [
      "(2552, 22)\n"
     ]
    }
   ],
   "source": [
    "print(X_train.shape)"
   ]
  },
  {
   "cell_type": "code",
   "execution_count": null,
   "id": "c5c4e443",
   "metadata": {},
   "outputs": [],
   "source": [
    "polynom_fit_SMOTE_bus,\n",
    "polynom_fit_SMOTE_star,\n",
    "ROSE,\n",
    "Gazzah,\n",
    "SPY,\n",
    "MSMOTE,\n",
    "AHC,\n",
    "RWO_sampling,\n",
    "polynom_fit_SMOTE_mesh,\n",
    "polynom_fit_SMOTE_poly"
   ]
  },
  {
   "cell_type": "code",
   "execution_count": 1562,
   "id": "a231316f",
   "metadata": {},
   "outputs": [
    {
     "name": "stderr",
     "output_type": "stream",
     "text": [
      "2022-11-30 01:17:50,881:INFO:Gazzah: Running sampling via ('Gazzah', \"{'proportion': 2.5, 'n_components': 2, 'n_jobs': 1, 'random_state': None, 'class_name': 'Gazzah'}\")\n",
      "2022-11-30 01:17:50,883:INFO:polynom_fit_SMOTE_star: Running sampling via ('polynom_fit_SMOTE_star', \"{'proportion': 2.5, 'topology': 'star', 'random_state': None, 'class_name': 'polynom_fit_SMOTE_star'}\")\n",
      "2022-11-30 01:17:50,885:INFO:polynom_fit_SMOTE: Running sampling via ('polynom_fit_SMOTE', \"{'proportion': 2.5, 'topology': 'star', 'random_state': None, 'class_name': 'polynom_fit_SMOTE'}\")\n",
      "2022-11-30 01:17:50,910:INFO:Gazzah: Removing 822 majority samples\n"
     ]
    },
    {
     "name": "stdout",
     "output_type": "stream",
     "text": [
      "[LightGBM] [Warning] feature_fraction is set=0.5, colsample_bytree=1.0 will be ignored. Current value: feature_fraction=0.5\n",
      "[LightGBM] [Warning] bagging_fraction is set=0.8, subsample=1.0 will be ignored. Current value: bagging_fraction=0.8\n",
      "[LightGBM] [Warning] bagging_freq is set=15, subsample_freq=0 will be ignored. Current value: bagging_freq=15\n",
      "[[60.   56.   52.   ...  0.28  0.1   0.1 ]\n",
      " [28.   29.   27.   ...  0.5   4.    2.  ]\n",
      " [35.   30.   28.   ...  1.22  0.1   0.1 ]\n",
      " ...\n",
      " [56.   60.   61.   ...  2.32  0.3   0.1 ]\n",
      " [53.   51.   51.   ...  1.02  0.2   0.1 ]\n",
      " [69.   54.   35.   ...  2.45 13.2   9.7 ]]\n",
      "Acc Score:  0.9702660406885759\n",
      "Roc Auc Score:  0.939573997390663\n",
      "Precision Score:  0.8088235294117647\n",
      "Recall Score:  0.9016393442622951\n",
      "f1 score:  0.8527131782945736\n"
     ]
    }
   ],
   "source": [
    "from sklearn.neighbors import KNeighborsClassifier\n",
    "from sklearn.tree import DecisionTreeClassifier\n",
    "import lightgbm as lgb\n",
    "import smote_variants as sv\n",
    "from sklearn.ensemble import RandomForestRegressor,RandomForestClassifier,GradientBoostingRegressor,GradientBoostingClassifier\n",
    "from sklearn.svm import SVC\n",
    "from lightgbm import LGBMClassifier\n",
    "import sklearn.datasets as datasets\n",
    "from sklearn.neural_network import MLPClassifier\n",
    "\n",
    "dataset= {'data': X_train,\n",
    "          'target': y_train,\n",
    "          'name': 'Andromeda'}\n",
    "\n",
    "classifier = LGBMClassifier(boosting_type=\"gbdt\",is_unbalance=True, random_state=5, \n",
    "                  n_estimators=300,num_leaves=30, max_depth=2,feature_fraction=0.5, \n",
    "                  bagging_fraction=0.8, bagging_freq=15, learning_rate=0.01)\n",
    "\n",
    "\n",
    "\n",
    "\n",
    "# Classifier Testing\n",
    "\n",
    "# training the best techniques using the entire dataset\n",
    "X_samp, y_samp= sv.Gazzah(proportion=2.5).sample(X_train, y_train)\n",
    "classifier.fit(X_samp, y_samp)\n",
    "preds2 = classifier.predict(X_test)\n",
    "print(X_test)\n",
    "print('Acc Score: ',accuracy_score(y_test, preds2))\n",
    "print('Roc Auc Score: ',roc_auc_score(y_test, preds2))\n",
    "print('Precision Score: ',precision_score(y_test, preds2))\n",
    "print('Recall Score: ',recall_score(y_test, preds2))\n",
    "print('f1 score: ',f1_score(y_test, preds2))\n",
    "preds_train = classifier.predict(X_train)\n",
    "\n"
   ]
  },
  {
   "cell_type": "code",
   "execution_count": 1563,
   "id": "3c81d455",
   "metadata": {},
   "outputs": [],
   "source": [
    "# Preparing prediction out\n",
    "X_test = np.concatenate((X_test, preds2.reshape(-1, 1)), axis=1)\n",
    "X_train = np.concatenate((X_train, preds_train.reshape(-1, 1)), axis=1)\n",
    "#scaler = StandardScaler().fit(X_train)\n",
    "#X_train = scaler.transform(X_train)\n",
    "#X_test = scaler.transform(X_test)\n",
    "\n",
    "lgb_eval = lgb.Dataset(X_test, y_2_test)\n",
    "\n",
    "lgb_train = lgb.Dataset(X_train, y_2_train)\n",
    "\n"
   ]
  },
  {
   "cell_type": "code",
   "execution_count": 1564,
   "id": "3baa3c3c",
   "metadata": {},
   "outputs": [
    {
     "name": "stdout",
     "output_type": "stream",
     "text": [
      "(2552, 23)\n"
     ]
    }
   ],
   "source": [
    "print(X_train.shape)"
   ]
  },
  {
   "cell_type": "code",
   "execution_count": 1565,
   "id": "c38dd09c",
   "metadata": {},
   "outputs": [
    {
     "name": "stdout",
     "output_type": "stream",
     "text": [
      "[1]\tvalid_0's l1: 0.765941\tvalid_0's l2: 3.77049\n",
      "Training until validation scores don't improve for 200 rounds\n",
      "[2]\tvalid_0's l1: 0.731817\tvalid_0's l2: 3.47106\n",
      "[3]\tvalid_0's l1: 0.700431\tvalid_0's l2: 3.2271\n",
      "[4]\tvalid_0's l1: 0.669961\tvalid_0's l2: 2.98501\n",
      "[5]\tvalid_0's l1: 0.642781\tvalid_0's l2: 2.79905\n",
      "[6]\tvalid_0's l1: 0.617082\tvalid_0's l2: 2.63012\n",
      "[7]\tvalid_0's l1: 0.593025\tvalid_0's l2: 2.47682\n",
      "[8]\tvalid_0's l1: 0.569533\tvalid_0's l2: 2.31147\n",
      "[9]\tvalid_0's l1: 0.5486\tvalid_0's l2: 2.18636\n",
      "[10]\tvalid_0's l1: 0.528251\tvalid_0's l2: 2.06706\n",
      "[11]\tvalid_0's l1: 0.509756\tvalid_0's l2: 1.97265\n",
      "[12]\tvalid_0's l1: 0.492212\tvalid_0's l2: 1.88193\n",
      "[13]\tvalid_0's l1: 0.475414\tvalid_0's l2: 1.79911\n",
      "[14]\tvalid_0's l1: 0.459329\tvalid_0's l2: 1.72833\n",
      "[15]\tvalid_0's l1: 0.443641\tvalid_0's l2: 1.64944\n",
      "[16]\tvalid_0's l1: 0.429431\tvalid_0's l2: 1.58403\n",
      "[17]\tvalid_0's l1: 0.416591\tvalid_0's l2: 1.53105\n",
      "[18]\tvalid_0's l1: 0.404328\tvalid_0's l2: 1.47998\n",
      "[19]\tvalid_0's l1: 0.39163\tvalid_0's l2: 1.42371\n",
      "[20]\tvalid_0's l1: 0.379352\tvalid_0's l2: 1.37729\n",
      "[21]\tvalid_0's l1: 0.36865\tvalid_0's l2: 1.33974\n",
      "[22]\tvalid_0's l1: 0.359439\tvalid_0's l2: 1.3113\n",
      "[23]\tvalid_0's l1: 0.349509\tvalid_0's l2: 1.27053\n",
      "[24]\tvalid_0's l1: 0.340488\tvalid_0's l2: 1.23562\n",
      "[25]\tvalid_0's l1: 0.332157\tvalid_0's l2: 1.20849\n",
      "[26]\tvalid_0's l1: 0.32498\tvalid_0's l2: 1.18157\n",
      "[27]\tvalid_0's l1: 0.317625\tvalid_0's l2: 1.1554\n",
      "[28]\tvalid_0's l1: 0.310231\tvalid_0's l2: 1.1298\n",
      "[29]\tvalid_0's l1: 0.303574\tvalid_0's l2: 1.10756\n",
      "[30]\tvalid_0's l1: 0.296756\tvalid_0's l2: 1.08494\n",
      "[31]\tvalid_0's l1: 0.291166\tvalid_0's l2: 1.06377\n",
      "[32]\tvalid_0's l1: 0.285444\tvalid_0's l2: 1.04616\n",
      "[33]\tvalid_0's l1: 0.279774\tvalid_0's l2: 1.02913\n",
      "[34]\tvalid_0's l1: 0.274444\tvalid_0's l2: 1.01421\n",
      "[35]\tvalid_0's l1: 0.269594\tvalid_0's l2: 1.00027\n",
      "[36]\tvalid_0's l1: 0.264716\tvalid_0's l2: 0.974724\n",
      "[37]\tvalid_0's l1: 0.259642\tvalid_0's l2: 0.959558\n",
      "[38]\tvalid_0's l1: 0.255212\tvalid_0's l2: 0.937405\n",
      "[39]\tvalid_0's l1: 0.250897\tvalid_0's l2: 0.925178\n",
      "[40]\tvalid_0's l1: 0.24687\tvalid_0's l2: 0.905916\n",
      "[41]\tvalid_0's l1: 0.243789\tvalid_0's l2: 0.904744\n",
      "[42]\tvalid_0's l1: 0.24053\tvalid_0's l2: 0.888792\n",
      "[43]\tvalid_0's l1: 0.237238\tvalid_0's l2: 0.881284\n",
      "[44]\tvalid_0's l1: 0.234076\tvalid_0's l2: 0.867167\n",
      "[45]\tvalid_0's l1: 0.231067\tvalid_0's l2: 0.863557\n",
      "[46]\tvalid_0's l1: 0.228245\tvalid_0's l2: 0.851418\n",
      "[47]\tvalid_0's l1: 0.225247\tvalid_0's l2: 0.844149\n",
      "[48]\tvalid_0's l1: 0.222604\tvalid_0's l2: 0.833583\n",
      "[49]\tvalid_0's l1: 0.219829\tvalid_0's l2: 0.822948\n",
      "[50]\tvalid_0's l1: 0.217599\tvalid_0's l2: 0.819653\n",
      "[51]\tvalid_0's l1: 0.215356\tvalid_0's l2: 0.810575\n",
      "[52]\tvalid_0's l1: 0.212948\tvalid_0's l2: 0.806186\n",
      "[53]\tvalid_0's l1: 0.210986\tvalid_0's l2: 0.798153\n",
      "[54]\tvalid_0's l1: 0.208868\tvalid_0's l2: 0.794312\n",
      "[55]\tvalid_0's l1: 0.207297\tvalid_0's l2: 0.787358\n",
      "[56]\tvalid_0's l1: 0.205476\tvalid_0's l2: 0.787514\n",
      "[57]\tvalid_0's l1: 0.204012\tvalid_0's l2: 0.781016\n",
      "[58]\tvalid_0's l1: 0.202222\tvalid_0's l2: 0.77776\n",
      "[59]\tvalid_0's l1: 0.200931\tvalid_0's l2: 0.771927\n",
      "[60]\tvalid_0's l1: 0.199191\tvalid_0's l2: 0.768523\n",
      "[61]\tvalid_0's l1: 0.198582\tvalid_0's l2: 0.76541\n",
      "[62]\tvalid_0's l1: 0.197841\tvalid_0's l2: 0.762238\n",
      "[63]\tvalid_0's l1: 0.196489\tvalid_0's l2: 0.75975\n",
      "[64]\tvalid_0's l1: 0.195856\tvalid_0's l2: 0.757798\n",
      "[65]\tvalid_0's l1: 0.194589\tvalid_0's l2: 0.755577\n",
      "[66]\tvalid_0's l1: 0.193947\tvalid_0's l2: 0.753453\n",
      "[67]\tvalid_0's l1: 0.192754\tvalid_0's l2: 0.751399\n",
      "[68]\tvalid_0's l1: 0.191871\tvalid_0's l2: 0.747469\n",
      "[69]\tvalid_0's l1: 0.190936\tvalid_0's l2: 0.748356\n",
      "[70]\tvalid_0's l1: 0.189909\tvalid_0's l2: 0.745525\n",
      "[71]\tvalid_0's l1: 0.188882\tvalid_0's l2: 0.742879\n",
      "[72]\tvalid_0's l1: 0.187991\tvalid_0's l2: 0.742096\n",
      "[73]\tvalid_0's l1: 0.187023\tvalid_0's l2: 0.739285\n",
      "[74]\tvalid_0's l1: 0.186118\tvalid_0's l2: 0.738576\n",
      "[75]\tvalid_0's l1: 0.185755\tvalid_0's l2: 0.737863\n",
      "[76]\tvalid_0's l1: 0.185396\tvalid_0's l2: 0.736508\n",
      "[77]\tvalid_0's l1: 0.184499\tvalid_0's l2: 0.734809\n",
      "[78]\tvalid_0's l1: 0.184277\tvalid_0's l2: 0.734561\n",
      "[79]\tvalid_0's l1: 0.183597\tvalid_0's l2: 0.733606\n",
      "[80]\tvalid_0's l1: 0.183352\tvalid_0's l2: 0.733341\n",
      "[81]\tvalid_0's l1: 0.182355\tvalid_0's l2: 0.732282\n",
      "[82]\tvalid_0's l1: 0.181822\tvalid_0's l2: 0.730345\n",
      "[83]\tvalid_0's l1: 0.181509\tvalid_0's l2: 0.729633\n",
      "[84]\tvalid_0's l1: 0.180999\tvalid_0's l2: 0.728853\n",
      "[85]\tvalid_0's l1: 0.18068\tvalid_0's l2: 0.728314\n",
      "[86]\tvalid_0's l1: 0.179947\tvalid_0's l2: 0.727497\n",
      "[87]\tvalid_0's l1: 0.179795\tvalid_0's l2: 0.726961\n",
      "[88]\tvalid_0's l1: 0.179242\tvalid_0's l2: 0.726137\n",
      "[89]\tvalid_0's l1: 0.179014\tvalid_0's l2: 0.72566\n",
      "[90]\tvalid_0's l1: 0.178233\tvalid_0's l2: 0.724762\n",
      "[91]\tvalid_0's l1: 0.178124\tvalid_0's l2: 0.724438\n",
      "[92]\tvalid_0's l1: 0.177494\tvalid_0's l2: 0.723848\n",
      "[93]\tvalid_0's l1: 0.177409\tvalid_0's l2: 0.723572\n",
      "[94]\tvalid_0's l1: 0.177227\tvalid_0's l2: 0.721968\n",
      "[95]\tvalid_0's l1: 0.176962\tvalid_0's l2: 0.721305\n",
      "[96]\tvalid_0's l1: 0.176884\tvalid_0's l2: 0.721062\n",
      "[97]\tvalid_0's l1: 0.176317\tvalid_0's l2: 0.72059\n",
      "[98]\tvalid_0's l1: 0.176267\tvalid_0's l2: 0.720384\n",
      "[99]\tvalid_0's l1: 0.176487\tvalid_0's l2: 0.717914\n",
      "[100]\tvalid_0's l1: 0.176095\tvalid_0's l2: 0.717494\n",
      "Did not meet early stopping. Best iteration is:\n",
      "[100]\tvalid_0's l1: 0.176095\tvalid_0's l2: 0.717494\n"
     ]
    },
    {
     "name": "stderr",
     "output_type": "stream",
     "text": [
      "C:\\ProgramData\\Anaconda3\\lib\\site-packages\\lightgbm\\engine.py:181: UserWarning: 'early_stopping_rounds' argument is deprecated and will be removed in a future release of LightGBM. Pass 'early_stopping()' callback via 'callbacks' argument instead.\n",
      "  _log_warning(\"'early_stopping_rounds' argument is deprecated and will be removed in a future release of LightGBM. \"\n"
     ]
    }
   ],
   "source": [
    "# defining parameters \n",
    "# defining parameters \n",
    "params = {\n",
    "    'task': 'train', \n",
    "    'boosting': 'gbdt',\n",
    "    'objective': 'regression',\n",
    "    'num_leaves': 50,\n",
    "    'learning_rate': 0.05,\n",
    "    'metric': {'l2','l1'},\n",
    "    'verbose': -1\n",
    "}\n",
    "model = lgb.train(params,\n",
    "                 train_set=lgb_train,\n",
    "                 valid_sets=lgb_eval,\n",
    "                 early_stopping_rounds=200)"
   ]
  },
  {
   "cell_type": "code",
   "execution_count": null,
   "id": "f9b4c9f4",
   "metadata": {},
   "outputs": [],
   "source": []
  },
  {
   "cell_type": "code",
   "execution_count": 1566,
   "id": "69c26012",
   "metadata": {},
   "outputs": [],
   "source": [
    "preds = model.predict(X_test)"
   ]
  },
  {
   "cell_type": "code",
   "execution_count": 1567,
   "id": "5b2636c5",
   "metadata": {},
   "outputs": [],
   "source": [
    "from sklearn.metrics import mean_squared_error\n",
    "from sklearn.metrics import mean_absolute_error"
   ]
  },
  {
   "cell_type": "code",
   "execution_count": 1568,
   "id": "5b94603a",
   "metadata": {
    "scrolled": true
   },
   "outputs": [
    {
     "data": {
      "text/plain": [
       "0.7174942827361663"
      ]
     },
     "execution_count": 1568,
     "metadata": {},
     "output_type": "execute_result"
    }
   ],
   "source": [
    "mean_squared_error(y_2_test, preds)"
   ]
  },
  {
   "cell_type": "code",
   "execution_count": 1569,
   "id": "9f0455cd",
   "metadata": {},
   "outputs": [
    {
     "data": {
      "text/plain": [
       "0.1760947399389599"
      ]
     },
     "execution_count": 1569,
     "metadata": {},
     "output_type": "execute_result"
    }
   ],
   "source": [
    "mean_absolute_error(y_2_test, preds)"
   ]
  },
  {
   "cell_type": "code",
   "execution_count": 1570,
   "id": "1aeb80df",
   "metadata": {},
   "outputs": [
    {
     "data": {
      "text/plain": [
       "[<matplotlib.lines.Line2D at 0x215c859c8e0>]"
      ]
     },
     "execution_count": 1570,
     "metadata": {},
     "output_type": "execute_result"
    },
    {
     "data": {
      "image/png": "[encoded data removed]",
      "text/plain": [
       "<Figure size 432x288 with 1 Axes>"
      ]
     },
     "metadata": {
      "needs_background": "light"
     },
     "output_type": "display_data"
    }
   ],
   "source": [
    "plt.plot(preds)"
   ]
  },
  {
   "cell_type": "code",
   "execution_count": 1571,
   "id": "c78b0ed7",
   "metadata": {},
   "outputs": [
    {
     "data": {
      "image/png": "[encoded data removed]",
      "text/plain": [
       "<Figure size 1200x480 with 2 Axes>"
      ]
     },
     "metadata": {
      "needs_background": "light"
     },
     "output_type": "display_data"
    }
   ],
   "source": [
    "# Create Figure and Subplots\n",
    "fig, (ax1, ax2) = plt.subplots(1,2, figsize=(10,4), sharey=True, dpi=120)\n",
    "\n",
    "# Plot\n",
    "ax1.plot(preds, 'g')  # greendots\n",
    "ax2.plot(y_2_test, 'b')  # bluestart\n",
    "\n",
    "# Title, X and Y labels, X and Y Lim\n",
    "ax1.set_title('Predictions'); ax2.set_title('Ground Truth')\n",
    "\n",
    "  # y axis limits\n",
    "\n",
    "# ax2.yaxis.set_ticks_position('none') \n",
    "plt.tight_layout()\n",
    "plt.show()"
   ]
  },
  {
   "cell_type": "code",
   "execution_count": 1572,
   "id": "189fbf9f",
   "metadata": {},
   "outputs": [
    {
     "data": {
      "image/png": "[encoded data removed]",
      "text/plain": [
       "<Figure size 432x288 with 1 Axes>"
      ]
     },
     "metadata": {
      "needs_background": "light"
     },
     "output_type": "display_data"
    }
   ],
   "source": [
    "temp_true  = np.copy(y_2_test)\n",
    "#temp_true[temp_true > 0] = 5\n",
    "#preds[preds > 0] = 2\n",
    "plt.plot(preds[300:400] * 5,'r', label='Prediction')\n",
    "plt.plot(temp_true[300:400],'b', label='Ground Truth')\n",
    "plt.show()"
   ]
  },
  {
   "cell_type": "code",
   "execution_count": 1573,
   "id": "6d8efd68",
   "metadata": {},
   "outputs": [],
   "source": [
    "scaler = StandardScaler().fit(X_train)\n",
    "X_train = scaler.transform(X_train)\n",
    "X_test = scaler.transform(X_test)\n"
   ]
  },
  {
   "cell_type": "code",
   "execution_count": 1574,
   "id": "a817d2da",
   "metadata": {},
   "outputs": [
    {
     "ename": "IndexError",
     "evalue": "boolean index did not match indexed array along dimension 0; dimension is 639 but corresponding boolean dimension is 2552",
     "output_type": "error",
     "traceback": [
      "\u001b[1;31m---------------------------------------------------------------------------\u001b[0m",
      "\u001b[1;31mIndexError\u001b[0m                                Traceback (most recent call last)",
      "\u001b[1;32m<ipython-input-1574-6a29822710d6>\u001b[0m in \u001b[0;36m<module>\u001b[1;34m\u001b[0m\n\u001b[0;32m      2\u001b[0m \u001b[0mtemp_y_test\u001b[0m \u001b[1;33m=\u001b[0m \u001b[0mnp\u001b[0m\u001b[1;33m.\u001b[0m\u001b[0mcopy\u001b[0m\u001b[1;33m(\u001b[0m\u001b[0my_2_test\u001b[0m\u001b[1;33m)\u001b[0m\u001b[1;33m\u001b[0m\u001b[1;33m\u001b[0m\u001b[0m\n\u001b[0;32m      3\u001b[0m \u001b[0mtemp_y_train\u001b[0m\u001b[1;33m[\u001b[0m\u001b[0mtemp_y_train\u001b[0m \u001b[1;33m>\u001b[0m \u001b[1;36m5\u001b[0m\u001b[1;33m]\u001b[0m \u001b[1;33m=\u001b[0m \u001b[1;36m5.0\u001b[0m\u001b[1;33m\u001b[0m\u001b[1;33m\u001b[0m\u001b[0m\n\u001b[1;32m----> 4\u001b[1;33m \u001b[0mtemp_y_test\u001b[0m\u001b[1;33m[\u001b[0m\u001b[0mtemp_y_train\u001b[0m \u001b[1;33m>\u001b[0m \u001b[1;36m5\u001b[0m\u001b[1;33m]\u001b[0m \u001b[1;33m=\u001b[0m \u001b[1;36m5.0\u001b[0m\u001b[1;33m\u001b[0m\u001b[1;33m\u001b[0m\u001b[0m\n\u001b[0m",
      "\u001b[1;31mIndexError\u001b[0m: boolean index did not match indexed array along dimension 0; dimension is 639 but corresponding boolean dimension is 2552"
     ]
    }
   ],
   "source": [
    "temp_y_train = np.copy(y_2_train)\n",
    "temp_y_test = np.copy(y_2_test)\n",
    "temp_y_train[temp_y_train > 5] = 5.0\n",
    "temp_y_test[temp_y_train > 5] = 5.0\n"
   ]
  },
  {
   "cell_type": "code",
   "execution_count": 1575,
   "id": "21ef3930",
   "metadata": {},
   "outputs": [
    {
     "name": "stdout",
     "output_type": "stream",
     "text": [
      "Epoch 1/300\n",
      "40/40 [==============================] - 1s 5ms/step - loss: 7.9190 - mse: 7.9190 - val_loss: 4.0857 - val_mse: 4.0857\n",
      "Epoch 2/300\n",
      "40/40 [==============================] - 0s 2ms/step - loss: 7.6264 - mse: 7.6264 - val_loss: 3.7303 - val_mse: 3.7303\n",
      "Epoch 3/300\n",
      "40/40 [==============================] - 0s 2ms/step - loss: 6.8431 - mse: 6.8431 - val_loss: 3.0595 - val_mse: 3.0595\n",
      "Epoch 4/300\n",
      "40/40 [==============================] - 0s 2ms/step - loss: 5.5469 - mse: 5.5469 - val_loss: 2.2172 - val_mse: 2.2172\n",
      "Epoch 5/300\n",
      "40/40 [==============================] - 0s 2ms/step - loss: 4.1351 - mse: 4.1351 - val_loss: 1.8859 - val_mse: 1.8859\n",
      "Epoch 6/300\n",
      "40/40 [==============================] - 0s 2ms/step - loss: 3.3558 - mse: 3.3558 - val_loss: 1.8782 - val_mse: 1.8782\n",
      "Epoch 7/300\n",
      "40/40 [==============================] - 0s 2ms/step - loss: 2.9922 - mse: 2.9922 - val_loss: 1.7619 - val_mse: 1.7619\n",
      "Epoch 8/300\n",
      "40/40 [==============================] - 0s 2ms/step - loss: 2.6966 - mse: 2.6966 - val_loss: 1.5787 - val_mse: 1.5787\n",
      "Epoch 9/300\n",
      "40/40 [==============================] - 0s 3ms/step - loss: 2.4892 - mse: 2.4892 - val_loss: 1.5087 - val_mse: 1.5087\n",
      "Epoch 10/300\n",
      "40/40 [==============================] - 0s 2ms/step - loss: 2.2392 - mse: 2.2392 - val_loss: 1.4094 - val_mse: 1.4094\n",
      "Epoch 11/300\n",
      "40/40 [==============================] - 0s 2ms/step - loss: 2.0269 - mse: 2.0269 - val_loss: 1.2718 - val_mse: 1.2718\n",
      "Epoch 12/300\n",
      "40/40 [==============================] - 0s 3ms/step - loss: 1.8680 - mse: 1.8680 - val_loss: 1.2114 - val_mse: 1.2114\n",
      "Epoch 13/300\n",
      "40/40 [==============================] - 0s 3ms/step - loss: 1.6978 - mse: 1.6978 - val_loss: 1.0973 - val_mse: 1.0973\n",
      "Epoch 14/300\n",
      "40/40 [==============================] - 0s 2ms/step - loss: 1.5609 - mse: 1.5609 - val_loss: 1.0155 - val_mse: 1.0155\n",
      "Epoch 15/300\n",
      "40/40 [==============================] - 0s 2ms/step - loss: 1.4344 - mse: 1.4344 - val_loss: 0.9572 - val_mse: 0.9572\n",
      "Epoch 16/300\n",
      "40/40 [==============================] - 0s 3ms/step - loss: 1.3440 - mse: 1.3440 - val_loss: 0.8594 - val_mse: 0.8594\n",
      "Epoch 17/300\n",
      "40/40 [==============================] - 0s 3ms/step - loss: 1.2408 - mse: 1.2408 - val_loss: 0.7966 - val_mse: 0.7966\n",
      "Epoch 18/300\n",
      "40/40 [==============================] - 0s 2ms/step - loss: 1.1784 - mse: 1.1784 - val_loss: 0.8004 - val_mse: 0.8004\n",
      "Epoch 19/300\n",
      "40/40 [==============================] - 0s 3ms/step - loss: 1.1015 - mse: 1.1015 - val_loss: 0.7574 - val_mse: 0.7574\n",
      "Epoch 20/300\n",
      "40/40 [==============================] - 0s 3ms/step - loss: 1.0620 - mse: 1.0620 - val_loss: 0.7200 - val_mse: 0.7200\n",
      "Epoch 21/300\n",
      "40/40 [==============================] - 0s 3ms/step - loss: 1.0022 - mse: 1.0022 - val_loss: 0.7065 - val_mse: 0.7065\n",
      "Epoch 22/300\n",
      "40/40 [==============================] - 0s 3ms/step - loss: 0.9620 - mse: 0.9620 - val_loss: 0.6807 - val_mse: 0.6807\n",
      "Epoch 23/300\n",
      "40/40 [==============================] - 0s 3ms/step - loss: 0.9431 - mse: 0.9431 - val_loss: 0.6659 - val_mse: 0.6659\n",
      "Epoch 24/300\n",
      "40/40 [==============================] - 0s 3ms/step - loss: 0.9097 - mse: 0.9097 - val_loss: 0.6722 - val_mse: 0.6722\n",
      "Epoch 25/300\n",
      "40/40 [==============================] - 0s 3ms/step - loss: 0.8928 - mse: 0.8928 - val_loss: 0.6455 - val_mse: 0.6455\n",
      "Epoch 26/300\n",
      "40/40 [==============================] - 0s 4ms/step - loss: 0.8900 - mse: 0.8900 - val_loss: 0.6547 - val_mse: 0.6547\n",
      "Epoch 27/300\n",
      "40/40 [==============================] - 0s 4ms/step - loss: 0.8721 - mse: 0.8721 - val_loss: 0.6529 - val_mse: 0.6529\n",
      "Epoch 28/300\n",
      "40/40 [==============================] - 0s 3ms/step - loss: 0.8574 - mse: 0.8574 - val_loss: 0.6549 - val_mse: 0.6549\n",
      "Epoch 29/300\n",
      "40/40 [==============================] - 0s 3ms/step - loss: 0.8541 - mse: 0.8541 - val_loss: 0.6494 - val_mse: 0.6494\n",
      "Epoch 30/300\n",
      "40/40 [==============================] - 0s 2ms/step - loss: 0.8424 - mse: 0.8424 - val_loss: 0.6480 - val_mse: 0.6480\n",
      "Epoch 31/300\n",
      "40/40 [==============================] - 0s 2ms/step - loss: 0.8316 - mse: 0.8316 - val_loss: 0.6424 - val_mse: 0.6424\n",
      "Epoch 32/300\n",
      "40/40 [==============================] - 0s 3ms/step - loss: 0.8252 - mse: 0.8252 - val_loss: 0.6438 - val_mse: 0.6438\n",
      "Epoch 33/300\n",
      "40/40 [==============================] - 0s 3ms/step - loss: 0.8213 - mse: 0.8213 - val_loss: 0.6525 - val_mse: 0.6525\n",
      "Epoch 34/300\n",
      "40/40 [==============================] - 0s 3ms/step - loss: 0.8106 - mse: 0.8106 - val_loss: 0.6454 - val_mse: 0.6454\n",
      "Epoch 35/300\n",
      "40/40 [==============================] - 0s 3ms/step - loss: 0.8190 - mse: 0.8190 - val_loss: 0.6576 - val_mse: 0.6576\n",
      "Epoch 36/300\n",
      "40/40 [==============================] - 0s 3ms/step - loss: 0.8207 - mse: 0.8207 - val_loss: 0.6299 - val_mse: 0.6299\n",
      "Epoch 37/300\n",
      "40/40 [==============================] - 0s 3ms/step - loss: 0.8083 - mse: 0.8083 - val_loss: 0.6579 - val_mse: 0.6579\n",
      "Epoch 38/300\n",
      "40/40 [==============================] - 0s 3ms/step - loss: 0.8032 - mse: 0.8032 - val_loss: 0.6431 - val_mse: 0.6431\n",
      "Epoch 39/300\n",
      "40/40 [==============================] - 0s 3ms/step - loss: 0.7969 - mse: 0.7969 - val_loss: 0.6582 - val_mse: 0.6582\n",
      "Epoch 40/300\n",
      "40/40 [==============================] - 0s 3ms/step - loss: 0.7893 - mse: 0.7893 - val_loss: 0.6562 - val_mse: 0.6562\n",
      "Epoch 41/300\n",
      "40/40 [==============================] - 0s 3ms/step - loss: 0.7902 - mse: 0.7902 - val_loss: 0.6515 - val_mse: 0.6515\n",
      "Epoch 42/300\n",
      "40/40 [==============================] - 0s 3ms/step - loss: 0.7956 - mse: 0.7956 - val_loss: 0.6413 - val_mse: 0.6413\n",
      "Epoch 43/300\n",
      "40/40 [==============================] - 0s 3ms/step - loss: 0.8032 - mse: 0.8032 - val_loss: 0.6634 - val_mse: 0.6634\n",
      "Epoch 44/300\n",
      "40/40 [==============================] - 0s 2ms/step - loss: 0.7889 - mse: 0.7889 - val_loss: 0.6338 - val_mse: 0.6338\n",
      "Epoch 45/300\n",
      "40/40 [==============================] - 0s 3ms/step - loss: 0.7696 - mse: 0.7696 - val_loss: 0.6520 - val_mse: 0.6520\n",
      "Epoch 46/300\n",
      "40/40 [==============================] - 0s 3ms/step - loss: 0.7992 - mse: 0.7992 - val_loss: 0.6513 - val_mse: 0.6513\n",
      "Epoch 47/300\n",
      "40/40 [==============================] - 0s 3ms/step - loss: 0.7778 - mse: 0.7778 - val_loss: 0.6496 - val_mse: 0.6496\n",
      "Epoch 48/300\n",
      "40/40 [==============================] - 0s 3ms/step - loss: 0.7824 - mse: 0.7824 - val_loss: 0.6581 - val_mse: 0.6581\n",
      "Epoch 49/300\n",
      "40/40 [==============================] - 0s 2ms/step - loss: 0.7821 - mse: 0.7821 - val_loss: 0.6454 - val_mse: 0.6454\n",
      "Epoch 50/300\n",
      "40/40 [==============================] - 0s 4ms/step - loss: 0.7708 - mse: 0.7708 - val_loss: 0.6597 - val_mse: 0.6597\n",
      "Epoch 51/300\n",
      "40/40 [==============================] - 0s 3ms/step - loss: 0.7887 - mse: 0.7887 - val_loss: 0.6586 - val_mse: 0.6586\n",
      "Epoch 52/300\n",
      "40/40 [==============================] - 0s 3ms/step - loss: 0.7781 - mse: 0.7781 - val_loss: 0.6416 - val_mse: 0.6416\n",
      "Epoch 53/300\n",
      "40/40 [==============================] - 0s 3ms/step - loss: 0.7633 - mse: 0.7633 - val_loss: 0.6257 - val_mse: 0.6257\n",
      "Epoch 54/300\n",
      "40/40 [==============================] - 0s 2ms/step - loss: 0.7634 - mse: 0.7634 - val_loss: 0.6526 - val_mse: 0.6526\n",
      "Epoch 55/300\n",
      "40/40 [==============================] - 0s 2ms/step - loss: 0.7662 - mse: 0.7662 - val_loss: 0.6573 - val_mse: 0.6573\n",
      "Epoch 56/300\n",
      "40/40 [==============================] - 0s 2ms/step - loss: 0.7513 - mse: 0.7513 - val_loss: 0.6424 - val_mse: 0.6424\n",
      "Epoch 57/300\n",
      "40/40 [==============================] - 0s 3ms/step - loss: 0.7510 - mse: 0.7510 - val_loss: 0.6350 - val_mse: 0.6350\n",
      "Epoch 58/300\n",
      "40/40 [==============================] - 0s 3ms/step - loss: 0.7514 - mse: 0.7514 - val_loss: 0.6383 - val_mse: 0.6383\n",
      "Epoch 59/300\n",
      "40/40 [==============================] - 0s 2ms/step - loss: 0.7536 - mse: 0.7536 - val_loss: 0.6433 - val_mse: 0.6433\n",
      "Epoch 60/300\n",
      "40/40 [==============================] - 0s 2ms/step - loss: 0.7460 - mse: 0.7460 - val_loss: 0.6498 - val_mse: 0.6498\n",
      "Epoch 61/300\n",
      "40/40 [==============================] - 0s 2ms/step - loss: 0.7490 - mse: 0.7490 - val_loss: 0.6435 - val_mse: 0.6435\n",
      "Epoch 62/300\n",
      "40/40 [==============================] - 0s 2ms/step - loss: 0.7712 - mse: 0.7712 - val_loss: 0.6556 - val_mse: 0.6556\n",
      "Epoch 63/300\n"
     ]
    },
    {
     "name": "stdout",
     "output_type": "stream",
     "text": [
      "40/40 [==============================] - 0s 2ms/step - loss: 0.7480 - mse: 0.7480 - val_loss: 0.6365 - val_mse: 0.6365\n",
      "Epoch 64/300\n",
      "40/40 [==============================] - 0s 2ms/step - loss: 0.7357 - mse: 0.7357 - val_loss: 0.6363 - val_mse: 0.6363\n",
      "Epoch 65/300\n",
      "40/40 [==============================] - 0s 2ms/step - loss: 0.7619 - mse: 0.7619 - val_loss: 0.6547 - val_mse: 0.6547\n",
      "Epoch 66/300\n",
      "40/40 [==============================] - 0s 2ms/step - loss: 0.7564 - mse: 0.7564 - val_loss: 0.6291 - val_mse: 0.6291\n",
      "Epoch 67/300\n",
      "40/40 [==============================] - 0s 2ms/step - loss: 0.7403 - mse: 0.7403 - val_loss: 0.6354 - val_mse: 0.6354\n",
      "Epoch 68/300\n",
      "40/40 [==============================] - 0s 2ms/step - loss: 0.7365 - mse: 0.7365 - val_loss: 0.6438 - val_mse: 0.6438\n",
      "Epoch 69/300\n",
      "40/40 [==============================] - 0s 2ms/step - loss: 0.7263 - mse: 0.7263 - val_loss: 0.6333 - val_mse: 0.6333\n",
      "Epoch 70/300\n",
      "40/40 [==============================] - 0s 2ms/step - loss: 0.7356 - mse: 0.7356 - val_loss: 0.6619 - val_mse: 0.6619\n",
      "Epoch 71/300\n",
      "40/40 [==============================] - 0s 2ms/step - loss: 0.7420 - mse: 0.7420 - val_loss: 0.6266 - val_mse: 0.6266\n",
      "Epoch 72/300\n",
      "40/40 [==============================] - 0s 2ms/step - loss: 0.7596 - mse: 0.7596 - val_loss: 0.6497 - val_mse: 0.6497\n",
      "Epoch 73/300\n",
      "40/40 [==============================] - 0s 3ms/step - loss: 0.7387 - mse: 0.7387 - val_loss: 0.6292 - val_mse: 0.6292\n",
      "Epoch 74/300\n",
      "40/40 [==============================] - 0s 2ms/step - loss: 0.7179 - mse: 0.7179 - val_loss: 0.6292 - val_mse: 0.6292\n",
      "Epoch 75/300\n",
      "40/40 [==============================] - 0s 2ms/step - loss: 0.7118 - mse: 0.7118 - val_loss: 0.6441 - val_mse: 0.6441\n",
      "Epoch 76/300\n",
      "40/40 [==============================] - 0s 2ms/step - loss: 0.7213 - mse: 0.7213 - val_loss: 0.6464 - val_mse: 0.6464\n",
      "Epoch 77/300\n",
      "40/40 [==============================] - 0s 3ms/step - loss: 0.7190 - mse: 0.7190 - val_loss: 0.6478 - val_mse: 0.6478\n",
      "Epoch 78/300\n",
      "40/40 [==============================] - 0s 2ms/step - loss: 0.7117 - mse: 0.7117 - val_loss: 0.6508 - val_mse: 0.6508\n",
      "Epoch 79/300\n",
      "40/40 [==============================] - 0s 2ms/step - loss: 0.7074 - mse: 0.7074 - val_loss: 0.6405 - val_mse: 0.6405\n",
      "Epoch 80/300\n",
      "40/40 [==============================] - 0s 2ms/step - loss: 0.7051 - mse: 0.7051 - val_loss: 0.6436 - val_mse: 0.6436\n",
      "Epoch 81/300\n",
      "40/40 [==============================] - 0s 2ms/step - loss: 0.7133 - mse: 0.7133 - val_loss: 0.6376 - val_mse: 0.6376\n",
      "Epoch 82/300\n",
      "40/40 [==============================] - 0s 2ms/step - loss: 0.7306 - mse: 0.7306 - val_loss: 0.6314 - val_mse: 0.6314\n",
      "Epoch 83/300\n",
      "40/40 [==============================] - 0s 2ms/step - loss: 0.7011 - mse: 0.7011 - val_loss: 0.6282 - val_mse: 0.6282\n",
      "Epoch 84/300\n",
      "40/40 [==============================] - 0s 2ms/step - loss: 0.6981 - mse: 0.6981 - val_loss: 0.6405 - val_mse: 0.6405\n",
      "Epoch 85/300\n",
      "40/40 [==============================] - 0s 2ms/step - loss: 0.6968 - mse: 0.6968 - val_loss: 0.6386 - val_mse: 0.6386\n",
      "Epoch 86/300\n",
      "40/40 [==============================] - 0s 2ms/step - loss: 0.7111 - mse: 0.7111 - val_loss: 0.6541 - val_mse: 0.6541\n",
      "Epoch 87/300\n",
      "40/40 [==============================] - 0s 2ms/step - loss: 0.7144 - mse: 0.7144 - val_loss: 0.6217 - val_mse: 0.6217\n",
      "Epoch 88/300\n",
      "40/40 [==============================] - 0s 2ms/step - loss: 0.6944 - mse: 0.6944 - val_loss: 0.6350 - val_mse: 0.6350\n",
      "Epoch 89/300\n",
      "40/40 [==============================] - 0s 2ms/step - loss: 0.6909 - mse: 0.6909 - val_loss: 0.6440 - val_mse: 0.6440\n",
      "Epoch 90/300\n",
      "40/40 [==============================] - 0s 2ms/step - loss: 0.6838 - mse: 0.6838 - val_loss: 0.6443 - val_mse: 0.6443\n",
      "Epoch 91/300\n",
      "40/40 [==============================] - 0s 3ms/step - loss: 0.6957 - mse: 0.6957 - val_loss: 0.6321 - val_mse: 0.6321\n",
      "Epoch 92/300\n",
      "40/40 [==============================] - 0s 3ms/step - loss: 0.7075 - mse: 0.7075 - val_loss: 0.6362 - val_mse: 0.6362\n",
      "Epoch 93/300\n",
      "40/40 [==============================] - 0s 2ms/step - loss: 0.6880 - mse: 0.6880 - val_loss: 0.6396 - val_mse: 0.6396\n",
      "Epoch 94/300\n",
      "40/40 [==============================] - 0s 2ms/step - loss: 0.6898 - mse: 0.6898 - val_loss: 0.6211 - val_mse: 0.6211\n",
      "Epoch 95/300\n",
      "40/40 [==============================] - 0s 2ms/step - loss: 0.6807 - mse: 0.6807 - val_loss: 0.6462 - val_mse: 0.6462\n",
      "Epoch 96/300\n",
      "40/40 [==============================] - 0s 2ms/step - loss: 0.6752 - mse: 0.6752 - val_loss: 0.6315 - val_mse: 0.6315\n",
      "Epoch 97/300\n",
      "40/40 [==============================] - 0s 2ms/step - loss: 0.6789 - mse: 0.6789 - val_loss: 0.6578 - val_mse: 0.6578\n",
      "Epoch 98/300\n",
      "40/40 [==============================] - 0s 2ms/step - loss: 0.6937 - mse: 0.6937 - val_loss: 0.6336 - val_mse: 0.6336\n",
      "Epoch 99/300\n",
      "40/40 [==============================] - 0s 2ms/step - loss: 0.6659 - mse: 0.6659 - val_loss: 0.6463 - val_mse: 0.6463\n",
      "Epoch 100/300\n",
      "40/40 [==============================] - 0s 2ms/step - loss: 0.6660 - mse: 0.6660 - val_loss: 0.6554 - val_mse: 0.6554\n",
      "Epoch 101/300\n",
      "40/40 [==============================] - 0s 2ms/step - loss: 0.6653 - mse: 0.6653 - val_loss: 0.6355 - val_mse: 0.6355\n",
      "Epoch 102/300\n",
      "40/40 [==============================] - 0s 2ms/step - loss: 0.6654 - mse: 0.6654 - val_loss: 0.6594 - val_mse: 0.6594\n",
      "Epoch 103/300\n",
      "40/40 [==============================] - 0s 2ms/step - loss: 0.6597 - mse: 0.6597 - val_loss: 0.6466 - val_mse: 0.6466\n",
      "Epoch 104/300\n",
      "40/40 [==============================] - 0s 2ms/step - loss: 0.6663 - mse: 0.6663 - val_loss: 0.6547 - val_mse: 0.6547\n",
      "Epoch 105/300\n",
      "40/40 [==============================] - 0s 2ms/step - loss: 0.6617 - mse: 0.6617 - val_loss: 0.6467 - val_mse: 0.6467\n",
      "Epoch 106/300\n",
      "40/40 [==============================] - 0s 2ms/step - loss: 0.6536 - mse: 0.6536 - val_loss: 0.6461 - val_mse: 0.6461\n",
      "Epoch 107/300\n",
      "40/40 [==============================] - 0s 2ms/step - loss: 0.6603 - mse: 0.6603 - val_loss: 0.6443 - val_mse: 0.6443\n",
      "Epoch 108/300\n",
      "40/40 [==============================] - 0s 3ms/step - loss: 0.6533 - mse: 0.6533 - val_loss: 0.6542 - val_mse: 0.6542\n",
      "Epoch 109/300\n",
      "40/40 [==============================] - 0s 2ms/step - loss: 0.6505 - mse: 0.6505 - val_loss: 0.6138 - val_mse: 0.6138\n",
      "Epoch 110/300\n",
      "40/40 [==============================] - 0s 3ms/step - loss: 0.6568 - mse: 0.6568 - val_loss: 0.6694 - val_mse: 0.6694\n",
      "Epoch 111/300\n",
      "40/40 [==============================] - 0s 2ms/step - loss: 0.6476 - mse: 0.6476 - val_loss: 0.6270 - val_mse: 0.6270\n",
      "Epoch 112/300\n",
      "40/40 [==============================] - 0s 3ms/step - loss: 0.6558 - mse: 0.6558 - val_loss: 0.6386 - val_mse: 0.6386\n",
      "Epoch 113/300\n",
      "40/40 [==============================] - 0s 3ms/step - loss: 0.6449 - mse: 0.6449 - val_loss: 0.6278 - val_mse: 0.6278\n",
      "Epoch 114/300\n",
      "40/40 [==============================] - 0s 2ms/step - loss: 0.6512 - mse: 0.6512 - val_loss: 0.6540 - val_mse: 0.6540\n",
      "Epoch 115/300\n",
      "40/40 [==============================] - 0s 3ms/step - loss: 0.6483 - mse: 0.6483 - val_loss: 0.6510 - val_mse: 0.6510\n",
      "Epoch 116/300\n",
      "40/40 [==============================] - 0s 3ms/step - loss: 0.6451 - mse: 0.6451 - val_loss: 0.6314 - val_mse: 0.6314\n",
      "Epoch 117/300\n",
      "40/40 [==============================] - 0s 2ms/step - loss: 0.6486 - mse: 0.6486 - val_loss: 0.6257 - val_mse: 0.6257\n",
      "Epoch 118/300\n",
      "40/40 [==============================] - 0s 3ms/step - loss: 0.6401 - mse: 0.6401 - val_loss: 0.6524 - val_mse: 0.6524\n",
      "Epoch 119/300\n",
      "40/40 [==============================] - 0s 2ms/step - loss: 0.6377 - mse: 0.6377 - val_loss: 0.6524 - val_mse: 0.6524\n",
      "Epoch 120/300\n",
      "40/40 [==============================] - 0s 2ms/step - loss: 0.6436 - mse: 0.6436 - val_loss: 0.6379 - val_mse: 0.6379\n",
      "Epoch 121/300\n",
      "40/40 [==============================] - 0s 2ms/step - loss: 0.6447 - mse: 0.6447 - val_loss: 0.6741 - val_mse: 0.6741\n",
      "Epoch 122/300\n",
      "40/40 [==============================] - 0s 2ms/step - loss: 0.6276 - mse: 0.6276 - val_loss: 0.6327 - val_mse: 0.6327\n",
      "Epoch 123/300\n",
      "40/40 [==============================] - 0s 2ms/step - loss: 0.6406 - mse: 0.6406 - val_loss: 0.6510 - val_mse: 0.6510\n",
      "Epoch 124/300\n",
      "40/40 [==============================] - 0s 2ms/step - loss: 0.6367 - mse: 0.6367 - val_loss: 0.6872 - val_mse: 0.6872\n"
     ]
    },
    {
     "name": "stdout",
     "output_type": "stream",
     "text": [
      "Epoch 125/300\n",
      "40/40 [==============================] - 0s 2ms/step - loss: 0.6358 - mse: 0.6358 - val_loss: 0.6785 - val_mse: 0.6785\n",
      "Epoch 126/300\n",
      "40/40 [==============================] - 0s 2ms/step - loss: 0.6306 - mse: 0.6306 - val_loss: 0.6468 - val_mse: 0.6468\n",
      "Epoch 127/300\n",
      "40/40 [==============================] - 0s 2ms/step - loss: 0.6336 - mse: 0.6336 - val_loss: 0.6625 - val_mse: 0.6625\n",
      "Epoch 128/300\n",
      "40/40 [==============================] - 0s 2ms/step - loss: 0.6319 - mse: 0.6319 - val_loss: 0.6674 - val_mse: 0.6674\n",
      "Epoch 129/300\n",
      "40/40 [==============================] - 0s 2ms/step - loss: 0.6300 - mse: 0.6300 - val_loss: 0.6835 - val_mse: 0.6835\n",
      "Epoch 130/300\n",
      "40/40 [==============================] - 0s 2ms/step - loss: 0.6221 - mse: 0.6221 - val_loss: 0.6526 - val_mse: 0.6526\n",
      "Epoch 131/300\n",
      "40/40 [==============================] - 0s 2ms/step - loss: 0.6233 - mse: 0.6233 - val_loss: 0.7121 - val_mse: 0.7121\n",
      "Epoch 132/300\n",
      "40/40 [==============================] - 0s 2ms/step - loss: 0.6264 - mse: 0.6264 - val_loss: 0.6839 - val_mse: 0.6839\n",
      "Epoch 133/300\n",
      "40/40 [==============================] - 0s 2ms/step - loss: 0.6152 - mse: 0.6152 - val_loss: 0.6623 - val_mse: 0.6623\n",
      "Epoch 134/300\n",
      "40/40 [==============================] - 0s 2ms/step - loss: 0.6279 - mse: 0.6279 - val_loss: 0.6551 - val_mse: 0.6551\n",
      "Epoch 135/300\n",
      "40/40 [==============================] - 0s 2ms/step - loss: 0.6224 - mse: 0.6224 - val_loss: 0.7062 - val_mse: 0.7062\n",
      "Epoch 136/300\n",
      "40/40 [==============================] - 0s 2ms/step - loss: 0.6127 - mse: 0.6127 - val_loss: 0.6675 - val_mse: 0.6675\n",
      "Epoch 137/300\n",
      "40/40 [==============================] - 0s 2ms/step - loss: 0.6162 - mse: 0.6162 - val_loss: 0.6537 - val_mse: 0.6537\n",
      "Epoch 138/300\n",
      "40/40 [==============================] - 0s 2ms/step - loss: 0.6130 - mse: 0.6130 - val_loss: 0.6677 - val_mse: 0.6677\n",
      "Epoch 139/300\n",
      "40/40 [==============================] - 0s 2ms/step - loss: 0.6075 - mse: 0.6075 - val_loss: 0.6526 - val_mse: 0.6526\n",
      "Epoch 140/300\n",
      "40/40 [==============================] - 0s 2ms/step - loss: 0.6160 - mse: 0.6160 - val_loss: 0.6828 - val_mse: 0.6828\n",
      "Epoch 141/300\n",
      "40/40 [==============================] - 0s 2ms/step - loss: 0.6057 - mse: 0.6057 - val_loss: 0.6569 - val_mse: 0.6569\n",
      "Epoch 142/300\n",
      "40/40 [==============================] - 0s 2ms/step - loss: 0.6125 - mse: 0.6125 - val_loss: 0.6319 - val_mse: 0.6319\n",
      "Epoch 143/300\n",
      "40/40 [==============================] - 0s 2ms/step - loss: 0.6026 - mse: 0.6026 - val_loss: 0.6666 - val_mse: 0.6666\n",
      "Epoch 144/300\n",
      "40/40 [==============================] - 0s 2ms/step - loss: 0.6118 - mse: 0.6118 - val_loss: 0.6490 - val_mse: 0.6490\n",
      "Epoch 145/300\n",
      "40/40 [==============================] - 0s 2ms/step - loss: 0.6080 - mse: 0.6080 - val_loss: 0.6737 - val_mse: 0.6737\n",
      "Epoch 146/300\n",
      "40/40 [==============================] - 0s 2ms/step - loss: 0.6008 - mse: 0.6008 - val_loss: 0.6424 - val_mse: 0.6424\n",
      "Epoch 147/300\n",
      "40/40 [==============================] - 0s 2ms/step - loss: 0.6157 - mse: 0.6157 - val_loss: 0.6492 - val_mse: 0.6492\n",
      "Epoch 148/300\n",
      "40/40 [==============================] - 0s 2ms/step - loss: 0.5958 - mse: 0.5958 - val_loss: 0.6901 - val_mse: 0.6901\n",
      "Epoch 149/300\n",
      "40/40 [==============================] - 0s 2ms/step - loss: 0.5959 - mse: 0.5959 - val_loss: 0.7128 - val_mse: 0.7128\n",
      "Epoch 150/300\n",
      "40/40 [==============================] - 0s 2ms/step - loss: 0.6106 - mse: 0.6106 - val_loss: 0.6785 - val_mse: 0.6785\n",
      "Epoch 151/300\n",
      "40/40 [==============================] - 0s 2ms/step - loss: 0.5954 - mse: 0.5954 - val_loss: 0.6293 - val_mse: 0.6293\n",
      "Epoch 152/300\n",
      "40/40 [==============================] - 0s 2ms/step - loss: 0.5896 - mse: 0.5896 - val_loss: 0.6673 - val_mse: 0.6673\n",
      "Epoch 153/300\n",
      "40/40 [==============================] - 0s 2ms/step - loss: 0.5962 - mse: 0.5962 - val_loss: 0.6844 - val_mse: 0.6844\n",
      "Epoch 154/300\n",
      "40/40 [==============================] - 0s 2ms/step - loss: 0.5929 - mse: 0.5929 - val_loss: 0.7023 - val_mse: 0.7023\n",
      "Epoch 155/300\n",
      "40/40 [==============================] - 0s 2ms/step - loss: 0.5917 - mse: 0.5917 - val_loss: 0.6770 - val_mse: 0.6770\n",
      "Epoch 156/300\n",
      "40/40 [==============================] - 0s 2ms/step - loss: 0.5855 - mse: 0.5855 - val_loss: 0.7036 - val_mse: 0.7036\n",
      "Epoch 157/300\n",
      "40/40 [==============================] - 0s 2ms/step - loss: 0.5875 - mse: 0.5875 - val_loss: 0.6654 - val_mse: 0.6654\n",
      "Epoch 158/300\n",
      "40/40 [==============================] - 0s 2ms/step - loss: 0.5888 - mse: 0.5888 - val_loss: 0.6898 - val_mse: 0.6898\n",
      "Epoch 159/300\n",
      "40/40 [==============================] - 0s 2ms/step - loss: 0.5865 - mse: 0.5865 - val_loss: 0.6795 - val_mse: 0.6795\n",
      "Epoch 160/300\n",
      "40/40 [==============================] - 0s 2ms/step - loss: 0.5798 - mse: 0.5798 - val_loss: 0.6819 - val_mse: 0.6819\n",
      "Epoch 161/300\n",
      "40/40 [==============================] - 0s 2ms/step - loss: 0.5808 - mse: 0.5808 - val_loss: 0.6768 - val_mse: 0.6768\n",
      "Epoch 162/300\n",
      "40/40 [==============================] - 0s 2ms/step - loss: 0.5929 - mse: 0.5929 - val_loss: 0.7255 - val_mse: 0.7255\n",
      "Epoch 163/300\n",
      "40/40 [==============================] - 0s 2ms/step - loss: 0.5857 - mse: 0.5857 - val_loss: 0.6679 - val_mse: 0.6679\n",
      "Epoch 164/300\n",
      "40/40 [==============================] - 0s 2ms/step - loss: 0.5924 - mse: 0.5924 - val_loss: 0.6739 - val_mse: 0.6739\n",
      "Epoch 165/300\n",
      "40/40 [==============================] - 0s 2ms/step - loss: 0.5970 - mse: 0.5970 - val_loss: 0.6617 - val_mse: 0.6617\n",
      "Epoch 166/300\n",
      "40/40 [==============================] - 0s 2ms/step - loss: 0.6040 - mse: 0.6040 - val_loss: 0.6578 - val_mse: 0.6578\n",
      "Epoch 167/300\n",
      "40/40 [==============================] - 0s 2ms/step - loss: 0.5840 - mse: 0.5840 - val_loss: 0.6982 - val_mse: 0.6982\n",
      "Epoch 168/300\n",
      "40/40 [==============================] - 0s 2ms/step - loss: 0.5747 - mse: 0.5747 - val_loss: 0.6525 - val_mse: 0.6525\n",
      "Epoch 169/300\n",
      "40/40 [==============================] - 0s 2ms/step - loss: 0.5790 - mse: 0.5790 - val_loss: 0.7123 - val_mse: 0.7123\n",
      "Epoch 170/300\n",
      "40/40 [==============================] - 0s 2ms/step - loss: 0.5774 - mse: 0.5774 - val_loss: 0.6936 - val_mse: 0.6936\n",
      "Epoch 171/300\n",
      "40/40 [==============================] - 0s 2ms/step - loss: 0.5876 - mse: 0.5876 - val_loss: 0.7028 - val_mse: 0.7028\n",
      "Epoch 172/300\n",
      "40/40 [==============================] - 0s 2ms/step - loss: 0.5861 - mse: 0.5861 - val_loss: 0.7373 - val_mse: 0.7373\n",
      "Epoch 173/300\n",
      "40/40 [==============================] - 0s 2ms/step - loss: 0.5766 - mse: 0.5766 - val_loss: 0.6924 - val_mse: 0.6924\n",
      "Epoch 174/300\n",
      "40/40 [==============================] - 0s 2ms/step - loss: 0.5791 - mse: 0.5791 - val_loss: 0.7064 - val_mse: 0.7064\n",
      "Epoch 175/300\n",
      "40/40 [==============================] - 0s 2ms/step - loss: 0.5716 - mse: 0.5716 - val_loss: 0.6980 - val_mse: 0.6980\n",
      "Epoch 176/300\n",
      "40/40 [==============================] - 0s 2ms/step - loss: 0.5709 - mse: 0.5709 - val_loss: 0.6699 - val_mse: 0.6699\n",
      "Epoch 177/300\n",
      "40/40 [==============================] - 0s 2ms/step - loss: 0.5678 - mse: 0.5678 - val_loss: 0.7142 - val_mse: 0.7142\n",
      "Epoch 178/300\n",
      "40/40 [==============================] - 0s 2ms/step - loss: 0.5708 - mse: 0.5708 - val_loss: 0.6643 - val_mse: 0.6643\n",
      "Epoch 179/300\n",
      "40/40 [==============================] - 0s 2ms/step - loss: 0.5724 - mse: 0.5724 - val_loss: 0.7093 - val_mse: 0.7093\n",
      "Epoch 180/300\n",
      "40/40 [==============================] - 0s 2ms/step - loss: 0.5670 - mse: 0.5670 - val_loss: 0.6978 - val_mse: 0.6978\n",
      "Epoch 181/300\n",
      "40/40 [==============================] - 0s 2ms/step - loss: 0.5749 - mse: 0.5749 - val_loss: 0.7154 - val_mse: 0.7154\n",
      "Epoch 182/300\n",
      "40/40 [==============================] - 0s 2ms/step - loss: 0.5664 - mse: 0.5664 - val_loss: 0.7060 - val_mse: 0.7060\n",
      "Epoch 183/300\n",
      "40/40 [==============================] - 0s 2ms/step - loss: 0.5579 - mse: 0.5579 - val_loss: 0.6491 - val_mse: 0.6491\n",
      "Epoch 184/300\n",
      "40/40 [==============================] - 0s 2ms/step - loss: 0.5661 - mse: 0.5661 - val_loss: 0.7024 - val_mse: 0.7024\n",
      "Epoch 185/300\n",
      "40/40 [==============================] - 0s 2ms/step - loss: 0.5615 - mse: 0.5615 - val_loss: 0.7056 - val_mse: 0.7056\n",
      "Epoch 186/300\n"
     ]
    },
    {
     "name": "stdout",
     "output_type": "stream",
     "text": [
      "40/40 [==============================] - 0s 3ms/step - loss: 0.5673 - mse: 0.5673 - val_loss: 0.6777 - val_mse: 0.6777\n",
      "Epoch 187/300\n",
      "40/40 [==============================] - 0s 2ms/step - loss: 0.5599 - mse: 0.5599 - val_loss: 0.7163 - val_mse: 0.7163\n",
      "Epoch 188/300\n",
      "40/40 [==============================] - 0s 2ms/step - loss: 0.5616 - mse: 0.5616 - val_loss: 0.7133 - val_mse: 0.7133\n",
      "Epoch 189/300\n",
      "40/40 [==============================] - 0s 2ms/step - loss: 0.5522 - mse: 0.5522 - val_loss: 0.6955 - val_mse: 0.6955\n",
      "Epoch 190/300\n",
      "40/40 [==============================] - 0s 2ms/step - loss: 0.5659 - mse: 0.5659 - val_loss: 0.6797 - val_mse: 0.6797\n",
      "Epoch 191/300\n",
      "40/40 [==============================] - 0s 2ms/step - loss: 0.5529 - mse: 0.5529 - val_loss: 0.6990 - val_mse: 0.6990\n",
      "Epoch 192/300\n",
      "40/40 [==============================] - 0s 2ms/step - loss: 0.5606 - mse: 0.5606 - val_loss: 0.7394 - val_mse: 0.7394\n",
      "Epoch 193/300\n",
      "40/40 [==============================] - 0s 2ms/step - loss: 0.5579 - mse: 0.5579 - val_loss: 0.6688 - val_mse: 0.6688\n",
      "Epoch 194/300\n",
      "40/40 [==============================] - 0s 2ms/step - loss: 0.5497 - mse: 0.5497 - val_loss: 0.7186 - val_mse: 0.7186\n",
      "Epoch 195/300\n",
      "40/40 [==============================] - 0s 2ms/step - loss: 0.5537 - mse: 0.5537 - val_loss: 0.6902 - val_mse: 0.6902\n",
      "Epoch 196/300\n",
      "40/40 [==============================] - 0s 2ms/step - loss: 0.5473 - mse: 0.5473 - val_loss: 0.6857 - val_mse: 0.6857\n",
      "Epoch 197/300\n",
      "40/40 [==============================] - 0s 2ms/step - loss: 0.5537 - mse: 0.5537 - val_loss: 0.6780 - val_mse: 0.6780\n",
      "Epoch 198/300\n",
      "40/40 [==============================] - 0s 2ms/step - loss: 0.5507 - mse: 0.5507 - val_loss: 0.7008 - val_mse: 0.7008\n",
      "Epoch 199/300\n",
      "40/40 [==============================] - 0s 2ms/step - loss: 0.5507 - mse: 0.5507 - val_loss: 0.7074 - val_mse: 0.7074\n",
      "Epoch 200/300\n",
      "40/40 [==============================] - 0s 2ms/step - loss: 0.5518 - mse: 0.5518 - val_loss: 0.7142 - val_mse: 0.7142\n",
      "Epoch 201/300\n",
      "40/40 [==============================] - 0s 2ms/step - loss: 0.5457 - mse: 0.5457 - val_loss: 0.7194 - val_mse: 0.7194\n",
      "Epoch 202/300\n",
      "40/40 [==============================] - 0s 2ms/step - loss: 0.5438 - mse: 0.5438 - val_loss: 0.7009 - val_mse: 0.7009\n",
      "Epoch 203/300\n",
      "40/40 [==============================] - 0s 2ms/step - loss: 0.5541 - mse: 0.5541 - val_loss: 0.7324 - val_mse: 0.7324\n",
      "Epoch 204/300\n",
      "40/40 [==============================] - 0s 2ms/step - loss: 0.5417 - mse: 0.5417 - val_loss: 0.6809 - val_mse: 0.6809\n",
      "Epoch 205/300\n",
      "40/40 [==============================] - 0s 2ms/step - loss: 0.5358 - mse: 0.5358 - val_loss: 0.7218 - val_mse: 0.7218\n",
      "Epoch 206/300\n",
      "40/40 [==============================] - 0s 2ms/step - loss: 0.5347 - mse: 0.5347 - val_loss: 0.6814 - val_mse: 0.6814\n",
      "Epoch 207/300\n",
      "40/40 [==============================] - 0s 2ms/step - loss: 0.5440 - mse: 0.5440 - val_loss: 0.7694 - val_mse: 0.7694\n",
      "Epoch 208/300\n",
      "40/40 [==============================] - 0s 2ms/step - loss: 0.5343 - mse: 0.5343 - val_loss: 0.6964 - val_mse: 0.6964\n",
      "Epoch 209/300\n",
      "40/40 [==============================] - 0s 2ms/step - loss: 0.5448 - mse: 0.5448 - val_loss: 0.6975 - val_mse: 0.6975\n",
      "Epoch 210/300\n",
      "40/40 [==============================] - 0s 2ms/step - loss: 0.5436 - mse: 0.5436 - val_loss: 0.7532 - val_mse: 0.7532\n",
      "Epoch 211/300\n",
      "40/40 [==============================] - 0s 2ms/step - loss: 0.5288 - mse: 0.5288 - val_loss: 0.7142 - val_mse: 0.7142\n",
      "Epoch 212/300\n",
      "40/40 [==============================] - 0s 2ms/step - loss: 0.5346 - mse: 0.5346 - val_loss: 0.7346 - val_mse: 0.7346\n",
      "Epoch 213/300\n",
      "40/40 [==============================] - 0s 2ms/step - loss: 0.5475 - mse: 0.5475 - val_loss: 0.7594 - val_mse: 0.7594\n",
      "Epoch 214/300\n",
      "40/40 [==============================] - 0s 2ms/step - loss: 0.5354 - mse: 0.5354 - val_loss: 0.7556 - val_mse: 0.7556\n",
      "Epoch 215/300\n",
      "40/40 [==============================] - 0s 2ms/step - loss: 0.5380 - mse: 0.5380 - val_loss: 0.7600 - val_mse: 0.7600\n",
      "Epoch 216/300\n",
      "40/40 [==============================] - 0s 2ms/step - loss: 0.5372 - mse: 0.5372 - val_loss: 0.7241 - val_mse: 0.7241\n",
      "Epoch 217/300\n",
      "40/40 [==============================] - 0s 2ms/step - loss: 0.5296 - mse: 0.5296 - val_loss: 0.7839 - val_mse: 0.7839\n",
      "Epoch 218/300\n",
      "40/40 [==============================] - 0s 2ms/step - loss: 0.5381 - mse: 0.5381 - val_loss: 0.7307 - val_mse: 0.7307\n",
      "Epoch 219/300\n",
      "40/40 [==============================] - 0s 2ms/step - loss: 0.5317 - mse: 0.5317 - val_loss: 0.7612 - val_mse: 0.7612\n",
      "Epoch 220/300\n",
      "40/40 [==============================] - 0s 2ms/step - loss: 0.5284 - mse: 0.5284 - val_loss: 0.7372 - val_mse: 0.7372\n",
      "Epoch 221/300\n",
      "40/40 [==============================] - 0s 2ms/step - loss: 0.5178 - mse: 0.5178 - val_loss: 0.6986 - val_mse: 0.6986\n",
      "Epoch 222/300\n",
      "40/40 [==============================] - 0s 2ms/step - loss: 0.5220 - mse: 0.5220 - val_loss: 0.7404 - val_mse: 0.7404\n",
      "Epoch 223/300\n",
      "40/40 [==============================] - 0s 2ms/step - loss: 0.5213 - mse: 0.5213 - val_loss: 0.6798 - val_mse: 0.6798\n",
      "Epoch 224/300\n",
      "40/40 [==============================] - 0s 2ms/step - loss: 0.5300 - mse: 0.5300 - val_loss: 0.7293 - val_mse: 0.7293\n",
      "Epoch 225/300\n",
      "40/40 [==============================] - 0s 2ms/step - loss: 0.5256 - mse: 0.5256 - val_loss: 0.7176 - val_mse: 0.7176\n",
      "Epoch 226/300\n",
      "40/40 [==============================] - 0s 2ms/step - loss: 0.5234 - mse: 0.5234 - val_loss: 0.7405 - val_mse: 0.7405\n",
      "Epoch 227/300\n",
      "40/40 [==============================] - 0s 2ms/step - loss: 0.5148 - mse: 0.5148 - val_loss: 0.7415 - val_mse: 0.7415\n",
      "Epoch 228/300\n",
      "40/40 [==============================] - 0s 2ms/step - loss: 0.5099 - mse: 0.5099 - val_loss: 0.7259 - val_mse: 0.7259\n",
      "Epoch 229/300\n",
      "40/40 [==============================] - 0s 2ms/step - loss: 0.5202 - mse: 0.5202 - val_loss: 0.7977 - val_mse: 0.7977\n",
      "Epoch 230/300\n",
      "40/40 [==============================] - 0s 2ms/step - loss: 0.5173 - mse: 0.5173 - val_loss: 0.7425 - val_mse: 0.7425\n",
      "Epoch 231/300\n",
      "40/40 [==============================] - 0s 2ms/step - loss: 0.5235 - mse: 0.5235 - val_loss: 0.7612 - val_mse: 0.7612\n",
      "Epoch 232/300\n",
      "40/40 [==============================] - 0s 2ms/step - loss: 0.5144 - mse: 0.5144 - val_loss: 0.7465 - val_mse: 0.7465\n",
      "Epoch 233/300\n",
      "40/40 [==============================] - 0s 2ms/step - loss: 0.5140 - mse: 0.5140 - val_loss: 0.6911 - val_mse: 0.6911\n",
      "Epoch 234/300\n",
      "40/40 [==============================] - 0s 2ms/step - loss: 0.5235 - mse: 0.5235 - val_loss: 0.7275 - val_mse: 0.7275\n",
      "Epoch 235/300\n",
      "40/40 [==============================] - 0s 2ms/step - loss: 0.5148 - mse: 0.5148 - val_loss: 0.7977 - val_mse: 0.7977\n",
      "Epoch 236/300\n",
      "40/40 [==============================] - 0s 2ms/step - loss: 0.5132 - mse: 0.5132 - val_loss: 0.7437 - val_mse: 0.7437\n",
      "Epoch 237/300\n",
      "40/40 [==============================] - 0s 2ms/step - loss: 0.5134 - mse: 0.5134 - val_loss: 0.7886 - val_mse: 0.7886\n",
      "Epoch 238/300\n",
      "40/40 [==============================] - 0s 2ms/step - loss: 0.5194 - mse: 0.5194 - val_loss: 0.7275 - val_mse: 0.7275\n",
      "Epoch 239/300\n",
      "40/40 [==============================] - 0s 2ms/step - loss: 0.5073 - mse: 0.5073 - val_loss: 0.8116 - val_mse: 0.8116\n",
      "Epoch 240/300\n",
      "40/40 [==============================] - 0s 2ms/step - loss: 0.5259 - mse: 0.5259 - val_loss: 0.7872 - val_mse: 0.7872\n",
      "Epoch 241/300\n",
      "40/40 [==============================] - 0s 2ms/step - loss: 0.5037 - mse: 0.5037 - val_loss: 0.7363 - val_mse: 0.7363\n",
      "Epoch 242/300\n",
      "40/40 [==============================] - 0s 2ms/step - loss: 0.5254 - mse: 0.5254 - val_loss: 0.8514 - val_mse: 0.8514\n",
      "Epoch 243/300\n",
      "40/40 [==============================] - 0s 2ms/step - loss: 0.5126 - mse: 0.5126 - val_loss: 0.7408 - val_mse: 0.7408\n",
      "Epoch 244/300\n",
      "40/40 [==============================] - 0s 2ms/step - loss: 0.5033 - mse: 0.5033 - val_loss: 0.7490 - val_mse: 0.7490\n",
      "Epoch 245/300\n",
      "40/40 [==============================] - 0s 2ms/step - loss: 0.5060 - mse: 0.5060 - val_loss: 0.7546 - val_mse: 0.7546\n",
      "Epoch 246/300\n",
      "40/40 [==============================] - 0s 2ms/step - loss: 0.5102 - mse: 0.5102 - val_loss: 0.7757 - val_mse: 0.7757\n",
      "Epoch 247/300\n",
      "40/40 [==============================] - 0s 2ms/step - loss: 0.5111 - mse: 0.5111 - val_loss: 0.7973 - val_mse: 0.7973\n"
     ]
    },
    {
     "name": "stdout",
     "output_type": "stream",
     "text": [
      "Epoch 248/300\n",
      "40/40 [==============================] - 0s 2ms/step - loss: 0.5044 - mse: 0.5044 - val_loss: 0.7340 - val_mse: 0.7340\n",
      "Epoch 249/300\n",
      "40/40 [==============================] - 0s 2ms/step - loss: 0.5051 - mse: 0.5051 - val_loss: 0.7553 - val_mse: 0.7553\n",
      "Epoch 250/300\n",
      "40/40 [==============================] - 0s 2ms/step - loss: 0.5064 - mse: 0.5064 - val_loss: 0.7409 - val_mse: 0.7409\n",
      "Epoch 251/300\n",
      "40/40 [==============================] - 0s 2ms/step - loss: 0.5086 - mse: 0.5086 - val_loss: 0.7319 - val_mse: 0.7319\n",
      "Epoch 252/300\n",
      "40/40 [==============================] - 0s 2ms/step - loss: 0.5032 - mse: 0.5032 - val_loss: 0.7487 - val_mse: 0.7487\n",
      "Epoch 253/300\n",
      "40/40 [==============================] - 0s 2ms/step - loss: 0.5005 - mse: 0.5005 - val_loss: 0.7599 - val_mse: 0.7599\n",
      "Epoch 254/300\n",
      "40/40 [==============================] - 0s 4ms/step - loss: 0.5037 - mse: 0.5037 - val_loss: 0.7619 - val_mse: 0.7619\n",
      "Epoch 255/300\n",
      "40/40 [==============================] - 0s 4ms/step - loss: 0.5053 - mse: 0.5053 - val_loss: 0.7549 - val_mse: 0.7549\n",
      "Epoch 256/300\n",
      "40/40 [==============================] - 0s 4ms/step - loss: 0.5138 - mse: 0.5138 - val_loss: 0.7123 - val_mse: 0.7123\n",
      "Epoch 257/300\n",
      "40/40 [==============================] - 0s 4ms/step - loss: 0.5091 - mse: 0.5091 - val_loss: 0.7672 - val_mse: 0.7672\n",
      "Epoch 258/300\n",
      "40/40 [==============================] - 0s 3ms/step - loss: 0.4992 - mse: 0.4992 - val_loss: 0.7912 - val_mse: 0.7912\n",
      "Epoch 259/300\n",
      "40/40 [==============================] - 0s 2ms/step - loss: 0.5113 - mse: 0.5113 - val_loss: 0.8151 - val_mse: 0.8151\n",
      "Epoch 260/300\n",
      "40/40 [==============================] - 0s 2ms/step - loss: 0.5012 - mse: 0.5012 - val_loss: 0.7608 - val_mse: 0.7608\n",
      "Epoch 261/300\n",
      "40/40 [==============================] - 0s 2ms/step - loss: 0.5072 - mse: 0.5072 - val_loss: 0.7898 - val_mse: 0.7898\n",
      "Epoch 262/300\n",
      "40/40 [==============================] - 0s 2ms/step - loss: 0.4942 - mse: 0.4942 - val_loss: 0.7607 - val_mse: 0.7607\n",
      "Epoch 263/300\n",
      "40/40 [==============================] - 0s 2ms/step - loss: 0.4939 - mse: 0.4939 - val_loss: 0.7813 - val_mse: 0.7813\n",
      "Epoch 264/300\n",
      "40/40 [==============================] - 0s 2ms/step - loss: 0.5055 - mse: 0.5055 - val_loss: 0.7427 - val_mse: 0.7427\n",
      "Epoch 265/300\n",
      "40/40 [==============================] - 0s 2ms/step - loss: 0.5064 - mse: 0.5064 - val_loss: 0.7510 - val_mse: 0.7510\n",
      "Epoch 266/300\n",
      "40/40 [==============================] - 0s 2ms/step - loss: 0.5038 - mse: 0.5038 - val_loss: 0.7818 - val_mse: 0.7818\n",
      "Epoch 267/300\n",
      "40/40 [==============================] - 0s 2ms/step - loss: 0.4904 - mse: 0.4904 - val_loss: 0.7623 - val_mse: 0.7623\n",
      "Epoch 268/300\n",
      "40/40 [==============================] - 0s 2ms/step - loss: 0.5250 - mse: 0.5250 - val_loss: 0.8507 - val_mse: 0.8507\n",
      "Epoch 269/300\n",
      "40/40 [==============================] - 0s 2ms/step - loss: 0.5081 - mse: 0.5081 - val_loss: 0.7515 - val_mse: 0.7515\n",
      "Epoch 270/300\n",
      "40/40 [==============================] - 0s 2ms/step - loss: 0.4890 - mse: 0.4890 - val_loss: 0.7536 - val_mse: 0.7536\n",
      "Epoch 271/300\n",
      "40/40 [==============================] - 0s 2ms/step - loss: 0.4900 - mse: 0.4900 - val_loss: 0.7906 - val_mse: 0.7906\n",
      "Epoch 272/300\n",
      "40/40 [==============================] - 0s 2ms/step - loss: 0.4928 - mse: 0.4928 - val_loss: 0.7006 - val_mse: 0.7006\n",
      "Epoch 273/300\n",
      "40/40 [==============================] - 0s 2ms/step - loss: 0.5099 - mse: 0.5099 - val_loss: 0.7780 - val_mse: 0.7780\n",
      "Epoch 274/300\n",
      "40/40 [==============================] - 0s 2ms/step - loss: 0.4888 - mse: 0.4888 - val_loss: 0.8025 - val_mse: 0.8025\n",
      "Epoch 275/300\n",
      "40/40 [==============================] - 0s 2ms/step - loss: 0.4890 - mse: 0.4890 - val_loss: 0.7482 - val_mse: 0.7482\n",
      "Epoch 276/300\n",
      "40/40 [==============================] - 0s 2ms/step - loss: 0.5088 - mse: 0.5088 - val_loss: 0.7871 - val_mse: 0.7871\n",
      "Epoch 277/300\n",
      "40/40 [==============================] - 0s 2ms/step - loss: 0.4896 - mse: 0.4896 - val_loss: 0.8260 - val_mse: 0.8260\n",
      "Epoch 278/300\n",
      "40/40 [==============================] - 0s 2ms/step - loss: 0.5041 - mse: 0.5041 - val_loss: 0.7687 - val_mse: 0.7687\n",
      "Epoch 279/300\n",
      "40/40 [==============================] - 0s 2ms/step - loss: 0.4849 - mse: 0.4849 - val_loss: 0.7788 - val_mse: 0.7788\n",
      "Epoch 280/300\n",
      "40/40 [==============================] - 0s 2ms/step - loss: 0.4874 - mse: 0.4874 - val_loss: 0.7549 - val_mse: 0.7549\n",
      "Epoch 281/300\n",
      "40/40 [==============================] - 0s 2ms/step - loss: 0.5039 - mse: 0.5039 - val_loss: 0.8056 - val_mse: 0.8056\n",
      "Epoch 282/300\n",
      "40/40 [==============================] - 0s 2ms/step - loss: 0.4883 - mse: 0.4883 - val_loss: 0.8034 - val_mse: 0.8034\n",
      "Epoch 283/300\n",
      "40/40 [==============================] - 0s 2ms/step - loss: 0.4867 - mse: 0.4867 - val_loss: 0.7877 - val_mse: 0.7877\n",
      "Epoch 284/300\n",
      "40/40 [==============================] - 0s 2ms/step - loss: 0.4795 - mse: 0.4795 - val_loss: 0.7225 - val_mse: 0.7225\n",
      "Epoch 285/300\n",
      "40/40 [==============================] - 0s 2ms/step - loss: 0.5080 - mse: 0.5080 - val_loss: 0.7879 - val_mse: 0.7879\n",
      "Epoch 286/300\n",
      "40/40 [==============================] - 0s 2ms/step - loss: 0.4887 - mse: 0.4887 - val_loss: 0.8219 - val_mse: 0.8219\n",
      "Epoch 287/300\n",
      "40/40 [==============================] - 0s 2ms/step - loss: 0.4991 - mse: 0.4991 - val_loss: 0.7318 - val_mse: 0.7318\n",
      "Epoch 288/300\n",
      "40/40 [==============================] - 0s 2ms/step - loss: 0.4760 - mse: 0.4760 - val_loss: 0.8119 - val_mse: 0.8119\n",
      "Epoch 289/300\n",
      "40/40 [==============================] - 0s 2ms/step - loss: 0.4931 - mse: 0.4931 - val_loss: 0.7669 - val_mse: 0.7669\n",
      "Epoch 290/300\n",
      "40/40 [==============================] - 0s 2ms/step - loss: 0.4882 - mse: 0.4882 - val_loss: 0.8270 - val_mse: 0.8270\n",
      "Epoch 291/300\n",
      "40/40 [==============================] - 0s 2ms/step - loss: 0.4889 - mse: 0.4889 - val_loss: 0.7862 - val_mse: 0.7862\n",
      "Epoch 292/300\n",
      "40/40 [==============================] - 0s 2ms/step - loss: 0.4827 - mse: 0.4827 - val_loss: 0.7971 - val_mse: 0.7971\n",
      "Epoch 293/300\n",
      "40/40 [==============================] - 0s 2ms/step - loss: 0.4844 - mse: 0.4844 - val_loss: 0.7837 - val_mse: 0.7837\n",
      "Epoch 294/300\n",
      "40/40 [==============================] - 0s 2ms/step - loss: 0.4834 - mse: 0.4834 - val_loss: 0.8214 - val_mse: 0.8214\n",
      "Epoch 295/300\n",
      "40/40 [==============================] - 0s 2ms/step - loss: 0.4925 - mse: 0.4925 - val_loss: 0.7524 - val_mse: 0.7524\n",
      "Epoch 296/300\n",
      "40/40 [==============================] - 0s 2ms/step - loss: 0.4858 - mse: 0.4858 - val_loss: 0.8000 - val_mse: 0.8000\n",
      "Epoch 297/300\n",
      "40/40 [==============================] - 0s 2ms/step - loss: 0.4905 - mse: 0.4905 - val_loss: 0.8282 - val_mse: 0.8282\n",
      "Epoch 298/300\n",
      "40/40 [==============================] - 0s 2ms/step - loss: 0.4767 - mse: 0.4767 - val_loss: 0.7703 - val_mse: 0.7703\n",
      "Epoch 299/300\n",
      "40/40 [==============================] - 0s 2ms/step - loss: 0.4771 - mse: 0.4771 - val_loss: 0.7904 - val_mse: 0.7904\n",
      "Epoch 300/300\n",
      "40/40 [==============================] - 0s 2ms/step - loss: 0.4792 - mse: 0.4792 - val_loss: 0.7963 - val_mse: 0.7963\n",
      "20/20 [==============================] - 0s 971us/step\n"
     ]
    }
   ],
   "source": [
    "import keras\n",
    "from keras.layers import Dense\n",
    "model = keras.Sequential()\n",
    "#model.add(Dense(69, kernel_initializer='normal', activation='relu', input_shape=(23,)))\n",
    "model.add(Dense(12, kernel_initializer='normal', activation='relu', input_shape=(23,)))\n",
    "model.add(Dense(5, kernel_initializer='normal', activation='relu'))\n",
    "model.add(Dense(1, kernel_initializer='normal', activation='relu'))\n",
    "model.compile(loss='mse', optimizer='Adam', metrics='mse', )\n",
    "model.fit(X_train, y_2_train, validation_data=(X_test, y_2_test), verbose=1, epochs=300, batch_size=64, shuffle=True)\n",
    "\n",
    "from sklearn.metrics import mean_squared_error\n",
    "from sklearn.metrics import mean_absolute_error\n",
    "\n",
    "preds = model.predict(X_test)\n"
   ]
  },
  {
   "cell_type": "code",
   "execution_count": 1578,
   "id": "2a5b8b4f",
   "metadata": {},
   "outputs": [
    {
     "data": {
      "text/plain": [
       "0.7962904662708908"
      ]
     },
     "execution_count": 1578,
     "metadata": {},
     "output_type": "execute_result"
    }
   ],
   "source": [
    "mean_squared_error(y_2_test, preds)"
   ]
  },
  {
   "cell_type": "code",
   "execution_count": 1579,
   "id": "05c0493b",
   "metadata": {},
   "outputs": [
    {
     "data": {
      "text/plain": [
       "0.21334749822160853"
      ]
     },
     "execution_count": 1579,
     "metadata": {},
     "output_type": "execute_result"
    }
   ],
   "source": [
    "mean_absolute_error(y_2_test, preds)"
   ]
  },
  {
   "cell_type": "code",
   "execution_count": 1581,
   "id": "5da38453",
   "metadata": {},
   "outputs": [
    {
     "data": {
      "image/png": "[encoded data removed]",
      "text/plain": [
       "<Figure size 1200x480 with 2 Axes>"
      ]
     },
     "metadata": {
      "needs_background": "light"
     },
     "output_type": "display_data"
    }
   ],
   "source": [
    "# Create Figure and Subplots\n",
    "fig, (ax1, ax2) = plt.subplots(1,2, figsize=(10,4), sharey=True, dpi=120)\n",
    "\n",
    "# Plot\n",
    "ax1.plot(preds, 'g')  # greendots\n",
    "ax2.plot(y_2_test, 'b')  # bluestart\n",
    "\n",
    "# Title, X and Y labels, X and Y Lim\n",
    "ax1.set_title('Predictions'); ax2.set_title('Ground Truth')\n",
    "\n",
    "  # y axis limits\n",
    "\n",
    "# ax2.yaxis.set_ticks_position('none') \n",
    "plt.tight_layout()\n",
    "plt.show()"
   ]
  },
  {
   "cell_type": "code",
   "execution_count": 1542,
   "id": "7e092587",
   "metadata": {},
   "outputs": [
    {
     "data": {
      "text/plain": [
       "array([  1,   5,  19,   4,   1,   1,   0,   4,   4,   0,   0,   0,   0,\n",
       "         0,   0,   1,  22,   8,  39,  27, 272, 164, 328])"
      ]
     },
     "execution_count": 1542,
     "metadata": {},
     "output_type": "execute_result"
    }
   ],
   "source": [
    "classifier.feature_importances_"
   ]
  },
  {
   "cell_type": "code",
   "execution_count": 1543,
   "id": "da999a7b",
   "metadata": {},
   "outputs": [],
   "source": [
    "features = ['HR-1', 'HR-2', 'HR-3', 'HR-4', 'HR-5', 'PB-1', 'PB-2', 'PB-3', 'PB-4','PB-5', 'T-1', 'T-2', 'T-3', 'T-4', 'T-5', 'VV-1', 'VV-2', 'VV-3','VV-4', 'VV-5', 'vol', 'intensity']"
   ]
  },
  {
   "cell_type": "code",
   "execution_count": 1544,
   "id": "44626ec9",
   "metadata": {},
   "outputs": [
    {
     "ename": "ValueError",
     "evalue": "shape mismatch: objects cannot be broadcast to a single shape",
     "output_type": "error",
     "traceback": [
      "\u001b[1;31m---------------------------------------------------------------------------\u001b[0m",
      "\u001b[1;31mValueError\u001b[0m                                Traceback (most recent call last)",
      "\u001b[1;32m<ipython-input-1544-14e6ed5fe79e>\u001b[0m in \u001b[0;36m<module>\u001b[1;34m\u001b[0m\n\u001b[0;32m      1\u001b[0m \u001b[0mplt\u001b[0m\u001b[1;33m.\u001b[0m\u001b[0mfigure\u001b[0m\u001b[1;33m(\u001b[0m\u001b[0mfigsize\u001b[0m\u001b[1;33m=\u001b[0m\u001b[1;33m(\u001b[0m\u001b[1;36m15\u001b[0m\u001b[1;33m,\u001b[0m \u001b[1;36m5\u001b[0m\u001b[1;33m)\u001b[0m\u001b[1;33m,\u001b[0m \u001b[0mdpi\u001b[0m\u001b[1;33m=\u001b[0m\u001b[1;36m80\u001b[0m\u001b[1;33m)\u001b[0m\u001b[1;33m\u001b[0m\u001b[1;33m\u001b[0m\u001b[0m\n\u001b[0;32m      2\u001b[0m \u001b[1;33m\u001b[0m\u001b[0m\n\u001b[1;32m----> 3\u001b[1;33m \u001b[0mplt\u001b[0m\u001b[1;33m.\u001b[0m\u001b[0mbar\u001b[0m\u001b[1;33m(\u001b[0m\u001b[0mfeatures\u001b[0m\u001b[1;33m,\u001b[0m \u001b[0mclassifier\u001b[0m\u001b[1;33m.\u001b[0m\u001b[0mfeature_importances_\u001b[0m \u001b[1;33m/\u001b[0m \u001b[0mnp\u001b[0m\u001b[1;33m.\u001b[0m\u001b[0msum\u001b[0m\u001b[1;33m(\u001b[0m\u001b[0mclassifier\u001b[0m\u001b[1;33m.\u001b[0m\u001b[0mfeature_importances_\u001b[0m\u001b[1;33m)\u001b[0m\u001b[1;33m)\u001b[0m\u001b[1;33m\u001b[0m\u001b[1;33m\u001b[0m\u001b[0m\n\u001b[0m",
      "\u001b[1;32mC:\\ProgramData\\Anaconda3\\lib\\site-packages\\matplotlib\\pyplot.py\u001b[0m in \u001b[0;36mbar\u001b[1;34m(x, height, width, bottom, align, data, **kwargs)\u001b[0m\n\u001b[0;32m   2485\u001b[0m         \u001b[0mx\u001b[0m\u001b[1;33m,\u001b[0m \u001b[0mheight\u001b[0m\u001b[1;33m,\u001b[0m \u001b[0mwidth\u001b[0m\u001b[1;33m=\u001b[0m\u001b[1;36m0.8\u001b[0m\u001b[1;33m,\u001b[0m \u001b[0mbottom\u001b[0m\u001b[1;33m=\u001b[0m\u001b[1;32mNone\u001b[0m\u001b[1;33m,\u001b[0m \u001b[1;33m*\u001b[0m\u001b[1;33m,\u001b[0m \u001b[0malign\u001b[0m\u001b[1;33m=\u001b[0m\u001b[1;34m'center'\u001b[0m\u001b[1;33m,\u001b[0m\u001b[1;33m\u001b[0m\u001b[1;33m\u001b[0m\u001b[0m\n\u001b[0;32m   2486\u001b[0m         data=None, **kwargs):\n\u001b[1;32m-> 2487\u001b[1;33m     return gca().bar(\n\u001b[0m\u001b[0;32m   2488\u001b[0m         \u001b[0mx\u001b[0m\u001b[1;33m,\u001b[0m \u001b[0mheight\u001b[0m\u001b[1;33m,\u001b[0m \u001b[0mwidth\u001b[0m\u001b[1;33m=\u001b[0m\u001b[0mwidth\u001b[0m\u001b[1;33m,\u001b[0m \u001b[0mbottom\u001b[0m\u001b[1;33m=\u001b[0m\u001b[0mbottom\u001b[0m\u001b[1;33m,\u001b[0m \u001b[0malign\u001b[0m\u001b[1;33m=\u001b[0m\u001b[0malign\u001b[0m\u001b[1;33m,\u001b[0m\u001b[1;33m\u001b[0m\u001b[1;33m\u001b[0m\u001b[0m\n\u001b[0;32m   2489\u001b[0m         **({\"data\": data} if data is not None else {}), **kwargs)\n",
      "\u001b[1;32mC:\\ProgramData\\Anaconda3\\lib\\site-packages\\matplotlib\\__init__.py\u001b[0m in \u001b[0;36minner\u001b[1;34m(ax, data, *args, **kwargs)\u001b[0m\n\u001b[0;32m   1445\u001b[0m     \u001b[1;32mdef\u001b[0m \u001b[0minner\u001b[0m\u001b[1;33m(\u001b[0m\u001b[0max\u001b[0m\u001b[1;33m,\u001b[0m \u001b[1;33m*\u001b[0m\u001b[0margs\u001b[0m\u001b[1;33m,\u001b[0m \u001b[0mdata\u001b[0m\u001b[1;33m=\u001b[0m\u001b[1;32mNone\u001b[0m\u001b[1;33m,\u001b[0m \u001b[1;33m**\u001b[0m\u001b[0mkwargs\u001b[0m\u001b[1;33m)\u001b[0m\u001b[1;33m:\u001b[0m\u001b[1;33m\u001b[0m\u001b[1;33m\u001b[0m\u001b[0m\n\u001b[0;32m   1446\u001b[0m         \u001b[1;32mif\u001b[0m \u001b[0mdata\u001b[0m \u001b[1;32mis\u001b[0m \u001b[1;32mNone\u001b[0m\u001b[1;33m:\u001b[0m\u001b[1;33m\u001b[0m\u001b[1;33m\u001b[0m\u001b[0m\n\u001b[1;32m-> 1447\u001b[1;33m             \u001b[1;32mreturn\u001b[0m \u001b[0mfunc\u001b[0m\u001b[1;33m(\u001b[0m\u001b[0max\u001b[0m\u001b[1;33m,\u001b[0m \u001b[1;33m*\u001b[0m\u001b[0mmap\u001b[0m\u001b[1;33m(\u001b[0m\u001b[0msanitize_sequence\u001b[0m\u001b[1;33m,\u001b[0m \u001b[0margs\u001b[0m\u001b[1;33m)\u001b[0m\u001b[1;33m,\u001b[0m \u001b[1;33m**\u001b[0m\u001b[0mkwargs\u001b[0m\u001b[1;33m)\u001b[0m\u001b[1;33m\u001b[0m\u001b[1;33m\u001b[0m\u001b[0m\n\u001b[0m\u001b[0;32m   1448\u001b[0m \u001b[1;33m\u001b[0m\u001b[0m\n\u001b[0;32m   1449\u001b[0m         \u001b[0mbound\u001b[0m \u001b[1;33m=\u001b[0m \u001b[0mnew_sig\u001b[0m\u001b[1;33m.\u001b[0m\u001b[0mbind\u001b[0m\u001b[1;33m(\u001b[0m\u001b[0max\u001b[0m\u001b[1;33m,\u001b[0m \u001b[1;33m*\u001b[0m\u001b[0margs\u001b[0m\u001b[1;33m,\u001b[0m \u001b[1;33m**\u001b[0m\u001b[0mkwargs\u001b[0m\u001b[1;33m)\u001b[0m\u001b[1;33m\u001b[0m\u001b[1;33m\u001b[0m\u001b[0m\n",
      "\u001b[1;32mC:\\ProgramData\\Anaconda3\\lib\\site-packages\\matplotlib\\axes\\_axes.py\u001b[0m in \u001b[0;36mbar\u001b[1;34m(self, x, height, width, bottom, align, **kwargs)\u001b[0m\n\u001b[0;32m   2428\u001b[0m                 \u001b[0myerr\u001b[0m \u001b[1;33m=\u001b[0m \u001b[0mself\u001b[0m\u001b[1;33m.\u001b[0m\u001b[0m_convert_dx\u001b[0m\u001b[1;33m(\u001b[0m\u001b[0myerr\u001b[0m\u001b[1;33m,\u001b[0m \u001b[0my0\u001b[0m\u001b[1;33m,\u001b[0m \u001b[0my\u001b[0m\u001b[1;33m,\u001b[0m \u001b[0mself\u001b[0m\u001b[1;33m.\u001b[0m\u001b[0mconvert_yunits\u001b[0m\u001b[1;33m)\u001b[0m\u001b[1;33m\u001b[0m\u001b[1;33m\u001b[0m\u001b[0m\n\u001b[0;32m   2429\u001b[0m \u001b[1;33m\u001b[0m\u001b[0m\n\u001b[1;32m-> 2430\u001b[1;33m         x, height, width, y, linewidth = np.broadcast_arrays(\n\u001b[0m\u001b[0;32m   2431\u001b[0m             \u001b[1;31m# Make args iterable too.\u001b[0m\u001b[1;33m\u001b[0m\u001b[1;33m\u001b[0m\u001b[1;33m\u001b[0m\u001b[0m\n\u001b[0;32m   2432\u001b[0m             np.atleast_1d(x), height, width, y, linewidth)\n",
      "\u001b[1;32m<__array_function__ internals>\u001b[0m in \u001b[0;36mbroadcast_arrays\u001b[1;34m(*args, **kwargs)\u001b[0m\n",
      "\u001b[1;32mC:\\ProgramData\\Anaconda3\\lib\\site-packages\\numpy\\lib\\stride_tricks.py\u001b[0m in \u001b[0;36mbroadcast_arrays\u001b[1;34m(subok, *args)\u001b[0m\n\u001b[0;32m    536\u001b[0m     \u001b[0margs\u001b[0m \u001b[1;33m=\u001b[0m \u001b[1;33m[\u001b[0m\u001b[0mnp\u001b[0m\u001b[1;33m.\u001b[0m\u001b[0marray\u001b[0m\u001b[1;33m(\u001b[0m\u001b[0m_m\u001b[0m\u001b[1;33m,\u001b[0m \u001b[0mcopy\u001b[0m\u001b[1;33m=\u001b[0m\u001b[1;32mFalse\u001b[0m\u001b[1;33m,\u001b[0m \u001b[0msubok\u001b[0m\u001b[1;33m=\u001b[0m\u001b[0msubok\u001b[0m\u001b[1;33m)\u001b[0m \u001b[1;32mfor\u001b[0m \u001b[0m_m\u001b[0m \u001b[1;32min\u001b[0m \u001b[0margs\u001b[0m\u001b[1;33m]\u001b[0m\u001b[1;33m\u001b[0m\u001b[1;33m\u001b[0m\u001b[0m\n\u001b[0;32m    537\u001b[0m \u001b[1;33m\u001b[0m\u001b[0m\n\u001b[1;32m--> 538\u001b[1;33m     \u001b[0mshape\u001b[0m \u001b[1;33m=\u001b[0m \u001b[0m_broadcast_shape\u001b[0m\u001b[1;33m(\u001b[0m\u001b[1;33m*\u001b[0m\u001b[0margs\u001b[0m\u001b[1;33m)\u001b[0m\u001b[1;33m\u001b[0m\u001b[1;33m\u001b[0m\u001b[0m\n\u001b[0m\u001b[0;32m    539\u001b[0m \u001b[1;33m\u001b[0m\u001b[0m\n\u001b[0;32m    540\u001b[0m     \u001b[1;32mif\u001b[0m \u001b[0mall\u001b[0m\u001b[1;33m(\u001b[0m\u001b[0marray\u001b[0m\u001b[1;33m.\u001b[0m\u001b[0mshape\u001b[0m \u001b[1;33m==\u001b[0m \u001b[0mshape\u001b[0m \u001b[1;32mfor\u001b[0m \u001b[0marray\u001b[0m \u001b[1;32min\u001b[0m \u001b[0margs\u001b[0m\u001b[1;33m)\u001b[0m\u001b[1;33m:\u001b[0m\u001b[1;33m\u001b[0m\u001b[1;33m\u001b[0m\u001b[0m\n",
      "\u001b[1;32mC:\\ProgramData\\Anaconda3\\lib\\site-packages\\numpy\\lib\\stride_tricks.py\u001b[0m in \u001b[0;36m_broadcast_shape\u001b[1;34m(*args)\u001b[0m\n\u001b[0;32m    418\u001b[0m     \u001b[1;31m# use the old-iterator because np.nditer does not handle size 0 arrays\u001b[0m\u001b[1;33m\u001b[0m\u001b[1;33m\u001b[0m\u001b[1;33m\u001b[0m\u001b[0m\n\u001b[0;32m    419\u001b[0m     \u001b[1;31m# consistently\u001b[0m\u001b[1;33m\u001b[0m\u001b[1;33m\u001b[0m\u001b[1;33m\u001b[0m\u001b[0m\n\u001b[1;32m--> 420\u001b[1;33m     \u001b[0mb\u001b[0m \u001b[1;33m=\u001b[0m \u001b[0mnp\u001b[0m\u001b[1;33m.\u001b[0m\u001b[0mbroadcast\u001b[0m\u001b[1;33m(\u001b[0m\u001b[1;33m*\u001b[0m\u001b[0margs\u001b[0m\u001b[1;33m[\u001b[0m\u001b[1;33m:\u001b[0m\u001b[1;36m32\u001b[0m\u001b[1;33m]\u001b[0m\u001b[1;33m)\u001b[0m\u001b[1;33m\u001b[0m\u001b[1;33m\u001b[0m\u001b[0m\n\u001b[0m\u001b[0;32m    421\u001b[0m     \u001b[1;31m# unfortunately, it cannot handle 32 or more arguments directly\u001b[0m\u001b[1;33m\u001b[0m\u001b[1;33m\u001b[0m\u001b[1;33m\u001b[0m\u001b[0m\n\u001b[0;32m    422\u001b[0m     \u001b[1;32mfor\u001b[0m \u001b[0mpos\u001b[0m \u001b[1;32min\u001b[0m \u001b[0mrange\u001b[0m\u001b[1;33m(\u001b[0m\u001b[1;36m32\u001b[0m\u001b[1;33m,\u001b[0m \u001b[0mlen\u001b[0m\u001b[1;33m(\u001b[0m\u001b[0margs\u001b[0m\u001b[1;33m)\u001b[0m\u001b[1;33m,\u001b[0m \u001b[1;36m31\u001b[0m\u001b[1;33m)\u001b[0m\u001b[1;33m:\u001b[0m\u001b[1;33m\u001b[0m\u001b[1;33m\u001b[0m\u001b[0m\n",
      "\u001b[1;31mValueError\u001b[0m: shape mismatch: objects cannot be broadcast to a single shape"
     ]
    },
    {
     "data": {
      "image/png": "[encoded data removed]",
      "text/plain": [
       "<Figure size 1200x400 with 1 Axes>"
      ]
     },
     "metadata": {
      "needs_background": "light"
     },
     "output_type": "display_data"
    }
   ],
   "source": [
    "plt.figure(figsize=(15, 5), dpi=80)\n",
    "\n",
    "plt.bar(features, classifier.feature_importances_ / np.sum(classifier.feature_importances_))"
   ]
  },
  {
   "cell_type": "code",
   "execution_count": 1545,
   "id": "c9d253e7",
   "metadata": {},
   "outputs": [
    {
     "data": {
      "image/png": "[encoded data removed]",
      "text/plain": [
       "<Figure size 432x288 with 1 Axes>"
      ]
     },
     "metadata": {
      "needs_background": "light"
     },
     "output_type": "display_data"
    }
   ],
   "source": [
    "temp_true  = np.copy(y_2_test)\n",
    "#temp_true[temp_true > 0] = 5\n",
    "#preds[preds > 0] = 2\n",
    "plt.plot(preds[0:100],'r', label='Prediction')\n",
    "plt.plot(temp_true[0:100],'b', label='Ground Truth')\n",
    "plt.show()"
   ]
  },
  {
   "cell_type": "code",
   "execution_count": 1590,
   "id": "dfc9d5c4",
   "metadata": {},
   "outputs": [
    {
     "data": {
      "image/png": "[encoded data removed]",
      "text/plain": [
       "<Figure size 504x360 with 1 Axes>"
      ]
     },
     "metadata": {
      "needs_background": "light"
     },
     "output_type": "display_data"
    }
   ],
   "source": [
    "data = [0.11, 0.198, 0.89]\n",
    "\n",
    "f = plt.figure()\n",
    "f.set_figwidth(7)\n",
    "f.set_figheight(5)\n",
    "\n",
    "x = ['Basic Measurements', 'Precipitation Prediction', 'True Precipitation']\n",
    "plt.xticks(range(len(data)), x)\n",
    "\n",
    "plt.bar(range(len(x)), data, color='royalblue', alpha=0.7)\n",
    "plt.grid(color='#95a5a6', linestyle='--', linewidth=2, axis='y', alpha=0.7)\n",
    "plt.title(\"F1 score\")\n",
    "plt.show()"
   ]
  },
  {
   "cell_type": "code",
   "execution_count": null,
   "id": "e82101e0",
   "metadata": {},
   "outputs": [],
   "source": []
  }
 ],
 "metadata": {
  "kernelspec": {
   "display_name": "Python 3",
   "language": "python",
   "name": "python3"
  },
  "language_info": {
   "codemirror_mode": {
    "name": "ipython",
    "version": 3
   },
   "file_extension": ".py",
   "mimetype": "text/x-python",
   "name": "python",
   "nbconvert_exporter": "python",
   "pygments_lexer": "ipython3",
   "version": "3.8.8"
  }
 },
 "nbformat": 4,
 "nbformat_minor": 5
}
